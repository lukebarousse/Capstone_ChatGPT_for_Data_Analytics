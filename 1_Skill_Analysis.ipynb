{
  "nbformat": 4,
  "nbformat_minor": 5,
  "metadata": {
    "noteable-chatgpt": {
      "create_notebook": {
        "openai_conversation_id": "6585fb4c-b902-5b8e-bdd2-ac90b332ab7d",
        "openai_ephemeral_user_id": "7dc454ae-8607-50ae-b301-b42cd63ee36d",
        "openai_subdivision1_iso_code": "US-AR"
      }
    },
    "kernel_info": {
      "name": "python3"
    },
    "kernelspec": {
      "display_name": "Python 3.9",
      "identifier": "legacy",
      "language": "python",
      "language_version": "3.9",
      "name": "python3"
    },
    "selected_hardware_size": "small"
  },
  "cells": [
    {
      "id": "dab33df9-68e0-474f-a811-3dba7b041367",
      "cell_type": "markdown",
      "source": "## List Tables in Data Connection\nExploring tables in the data connection 'Data Nerd Jobs' using the command '\\list'.",
      "metadata": {
        "noteable": {
          "cell_type": "markdown"
        }
      }
    },
    {
      "id": "95d1dafa-67ac-4ca7-8a26-a13149b5fb9c",
      "cell_type": "code",
      "metadata": {
        "noteable": {
          "assign_results_to": "sql_df_ovzq",
          "cell_type": "sql",
          "db_connection": "@5a5b9a444479436dbc1def18003d36d0",
          "output_collection_id": "a8359513-2d0f-4563-ba40-d6dbafc8c31d"
        },
        "ExecuteTime": {
          "end_time": "2023-11-07T16:18:02.123185+00:00",
          "start_time": "2023-11-07T16:18:00.334904+00:00"
        },
        "datalink": {
          "2e3b2964-80db-461c-89e7-5678fbd5dd58": {
            "applied_filters": [],
            "dataframe_info": {
              "default_index_used": true,
              "orig_num_cols": 3,
              "orig_num_rows": 1,
              "orig_size_bytes": 32,
              "truncated_num_cols": 3,
              "truncated_num_rows": 1,
              "truncated_size_bytes": 32,
              "truncated_string_columns": []
            },
            "display_id": "2e3b2964-80db-461c-89e7-5678fbd5dd58",
            "dx_settings": {
              "ALLOW_NOTEABLE_ATTRS": true,
              "COLUMN_SAMPLING_METHOD": "outer",
              "DB_LOCATION": ":memory:",
              "DEV_MODE": false,
              "DISPLAY_MAX_COLUMNS": 100,
              "DISPLAY_MAX_ROWS": 50000,
              "DISPLAY_MODE": "simple",
              "ENABLE_ASSIGNMENT": true,
              "ENABLE_DATALINK": true,
              "FLATTEN_COLUMN_VALUES": true,
              "FLATTEN_INDEX_VALUES": false,
              "GENERATE_DEX_METADATA": false,
              "HTML_TABLE_SCHEMA": false,
              "LOG_LEVEL": 30,
              "MAX_RENDER_SIZE_BYTES": 104857600,
              "MAX_STRING_LENGTH": 250,
              "NUM_PAST_SAMPLES_TRACKED": 3,
              "RANDOM_STATE": 12648430,
              "RESET_INDEX_VALUES": false,
              "ROW_SAMPLING_METHOD": "random",
              "SAMPLING_FACTOR": 0.1,
              "SAMPLING_METHOD": "random",
              "STRINGIFY_COLUMN_VALUES": true,
              "STRINGIFY_INDEX_VALUES": false
            },
            "sample_history": [],
            "sampling_time": "2023-10-31T21:12:24.940423",
            "user_variable_name": null,
            "variable_name": "unk_dataframe_a3a813f0a179438eb3f87a488f30c0b4"
          },
          "578fe284-7f58-4afb-a4b4-b3d69fff7e4c": {
            "applied_filters": [],
            "dataframe_info": {
              "default_index_used": true,
              "orig_num_cols": 3,
              "orig_num_rows": 1,
              "orig_size_bytes": 32,
              "truncated_num_cols": 3,
              "truncated_num_rows": 1,
              "truncated_size_bytes": 32,
              "truncated_string_columns": []
            },
            "display_id": "578fe284-7f58-4afb-a4b4-b3d69fff7e4c",
            "dx_settings": {
              "ALLOW_NOTEABLE_ATTRS": true,
              "COLUMN_SAMPLING_METHOD": "outer",
              "DB_LOCATION": ":memory:",
              "DEV_MODE": false,
              "DISPLAY_MAX_COLUMNS": 100,
              "DISPLAY_MAX_ROWS": 50000,
              "DISPLAY_MODE": "simple",
              "ENABLE_ASSIGNMENT": true,
              "ENABLE_DATALINK": true,
              "FLATTEN_COLUMN_VALUES": true,
              "FLATTEN_INDEX_VALUES": false,
              "GENERATE_DEX_METADATA": false,
              "HTML_TABLE_SCHEMA": false,
              "LOG_LEVEL": 30,
              "MAX_RENDER_SIZE_BYTES": 104857600,
              "MAX_STRING_LENGTH": 250,
              "NUM_PAST_SAMPLES_TRACKED": 3,
              "RANDOM_STATE": 12648430,
              "RESET_INDEX_VALUES": false,
              "ROW_SAMPLING_METHOD": "random",
              "SAMPLING_FACTOR": 0.1,
              "SAMPLING_METHOD": "random",
              "STRINGIFY_COLUMN_VALUES": true,
              "STRINGIFY_INDEX_VALUES": false
            },
            "sample_history": [],
            "sampling_time": "2023-11-01T21:14:13.555311",
            "user_variable_name": null,
            "variable_name": "unk_dataframe_43898d2647b24d8185d3fe3137f809c6"
          },
          "b2ab3216-e737-4588-9cbb-e63b6146353d": {
            "applied_filters": [],
            "dataframe_info": {
              "default_index_used": true,
              "orig_num_cols": 3,
              "orig_num_rows": 1,
              "orig_size_bytes": 32,
              "truncated_num_cols": 3,
              "truncated_num_rows": 1,
              "truncated_size_bytes": 32,
              "truncated_string_columns": []
            },
            "display_id": "b2ab3216-e737-4588-9cbb-e63b6146353d",
            "dx_settings": {
              "ALLOW_NOTEABLE_ATTRS": true,
              "COLUMN_SAMPLING_METHOD": "outer",
              "DB_LOCATION": ":memory:",
              "DEV_MODE": false,
              "DISPLAY_MAX_COLUMNS": 100,
              "DISPLAY_MAX_ROWS": 50000,
              "DISPLAY_MODE": "simple",
              "ENABLE_ASSIGNMENT": true,
              "ENABLE_DATALINK": true,
              "FLATTEN_COLUMN_VALUES": true,
              "FLATTEN_INDEX_VALUES": false,
              "GENERATE_DEX_METADATA": false,
              "HTML_TABLE_SCHEMA": false,
              "LOG_LEVEL": 30,
              "MAX_RENDER_SIZE_BYTES": 104857600,
              "MAX_STRING_LENGTH": 250,
              "NUM_PAST_SAMPLES_TRACKED": 3,
              "RANDOM_STATE": 12648430,
              "RESET_INDEX_VALUES": false,
              "ROW_SAMPLING_METHOD": "random",
              "SAMPLING_FACTOR": 0.1,
              "SAMPLING_METHOD": "random",
              "STRINGIFY_COLUMN_VALUES": true,
              "STRINGIFY_INDEX_VALUES": false
            },
            "sample_history": [],
            "sampling_time": "2023-11-02T01:26:16.076800",
            "user_variable_name": null,
            "variable_name": "unk_dataframe_67b684aa7ed446328bdc280255988f37"
          },
          "782b7f67-1085-4407-ab25-a24c4187eb68": {
            "applied_filters": [],
            "dataframe_info": {
              "default_index_used": true,
              "orig_num_cols": 3,
              "orig_num_rows": 1,
              "orig_size_bytes": 32,
              "truncated_num_cols": 3,
              "truncated_num_rows": 1,
              "truncated_size_bytes": 32,
              "truncated_string_columns": []
            },
            "display_id": "782b7f67-1085-4407-ab25-a24c4187eb68",
            "dx_settings": {
              "ALLOW_NOTEABLE_ATTRS": true,
              "COLUMN_SAMPLING_METHOD": "outer",
              "DB_LOCATION": ":memory:",
              "DEV_MODE": false,
              "DISPLAY_MAX_COLUMNS": 100,
              "DISPLAY_MAX_ROWS": 50000,
              "DISPLAY_MODE": "simple",
              "ENABLE_ASSIGNMENT": true,
              "ENABLE_DATALINK": true,
              "FLATTEN_COLUMN_VALUES": true,
              "FLATTEN_INDEX_VALUES": false,
              "GENERATE_DEX_METADATA": false,
              "HTML_TABLE_SCHEMA": false,
              "LOG_LEVEL": 30,
              "MAX_RENDER_SIZE_BYTES": 104857600,
              "MAX_STRING_LENGTH": 250,
              "NUM_PAST_SAMPLES_TRACKED": 3,
              "RANDOM_STATE": 12648430,
              "RESET_INDEX_VALUES": false,
              "ROW_SAMPLING_METHOD": "random",
              "SAMPLING_FACTOR": 0.1,
              "SAMPLING_METHOD": "random",
              "STRINGIFY_COLUMN_VALUES": true,
              "STRINGIFY_INDEX_VALUES": false
            },
            "sample_history": [],
            "sampling_time": "2023-11-07T16:18:01.962076",
            "user_variable_name": null,
            "variable_name": "unk_dataframe_2b000f83508d42c7b4426be9f7e2fd3f"
          }
        }
      },
      "execution_count": null,
      "source": "\\list",
      "outputs": []
    },
    {
      "id": "b9ed8795-a79a-4c02-98d2-bbd8063bbda2",
      "cell_type": "code",
      "metadata": {
        "noteable": {
          "assign_results_to": "sql_df_tnpe",
          "cell_type": "sql",
          "db_connection": "@5a5b9a444479436dbc1def18003d36d0",
          "output_collection_id": "7b9af4ee-a66e-4d1f-8d2f-1be25fb414dd"
        },
        "ExecuteTime": {
          "end_time": "2023-11-07T16:18:04.182265+00:00",
          "start_time": "2023-11-07T16:18:02.682064+00:00"
        },
        "datalink": {
          "0e07ad0b-b356-4402-81d8-494d381a719e": {
            "applied_filters": [],
            "dataframe_info": {
              "default_index_used": true,
              "orig_num_cols": 1,
              "orig_num_rows": 5,
              "orig_size_bytes": 80,
              "truncated_num_cols": 1,
              "truncated_num_rows": 5,
              "truncated_size_bytes": 80,
              "truncated_string_columns": []
            },
            "display_id": "0e07ad0b-b356-4402-81d8-494d381a719e",
            "dx_settings": {
              "ALLOW_NOTEABLE_ATTRS": true,
              "COLUMN_SAMPLING_METHOD": "outer",
              "DB_LOCATION": ":memory:",
              "DEV_MODE": false,
              "DISPLAY_MAX_COLUMNS": 100,
              "DISPLAY_MAX_ROWS": 50000,
              "DISPLAY_MODE": "simple",
              "ENABLE_ASSIGNMENT": true,
              "ENABLE_DATALINK": true,
              "FLATTEN_COLUMN_VALUES": true,
              "FLATTEN_INDEX_VALUES": false,
              "GENERATE_DEX_METADATA": false,
              "HTML_TABLE_SCHEMA": false,
              "LOG_LEVEL": 30,
              "MAX_RENDER_SIZE_BYTES": 104857600,
              "MAX_STRING_LENGTH": 250,
              "NUM_PAST_SAMPLES_TRACKED": 3,
              "RANDOM_STATE": 12648430,
              "RESET_INDEX_VALUES": false,
              "ROW_SAMPLING_METHOD": "random",
              "SAMPLING_FACTOR": 0.1,
              "SAMPLING_METHOD": "random",
              "STRINGIFY_COLUMN_VALUES": true,
              "STRINGIFY_INDEX_VALUES": false
            },
            "sample_history": [],
            "sampling_time": "2023-10-31T21:14:21.244724",
            "user_variable_name": "sql_df_tnpe",
            "variable_name": "sql_df_tnpe"
          },
          "0da4288f-4647-4581-91a4-ccb1469a0406": {
            "applied_filters": [],
            "dataframe_info": {
              "default_index_used": true,
              "orig_num_cols": 1,
              "orig_num_rows": 5,
              "orig_size_bytes": 80,
              "truncated_num_cols": 1,
              "truncated_num_rows": 5,
              "truncated_size_bytes": 80,
              "truncated_string_columns": [
                "keywords_all"
              ]
            },
            "display_id": "0da4288f-4647-4581-91a4-ccb1469a0406",
            "dx_settings": {
              "ALLOW_NOTEABLE_ATTRS": true,
              "COLUMN_SAMPLING_METHOD": "outer",
              "DB_LOCATION": ":memory:",
              "DEV_MODE": false,
              "DISPLAY_MAX_COLUMNS": 100,
              "DISPLAY_MAX_ROWS": 50000,
              "DISPLAY_MODE": "simple",
              "ENABLE_ASSIGNMENT": true,
              "ENABLE_DATALINK": true,
              "FLATTEN_COLUMN_VALUES": true,
              "FLATTEN_INDEX_VALUES": false,
              "GENERATE_DEX_METADATA": false,
              "HTML_TABLE_SCHEMA": false,
              "LOG_LEVEL": 30,
              "MAX_RENDER_SIZE_BYTES": 104857600,
              "MAX_STRING_LENGTH": 250,
              "NUM_PAST_SAMPLES_TRACKED": 3,
              "RANDOM_STATE": 12648430,
              "RESET_INDEX_VALUES": false,
              "ROW_SAMPLING_METHOD": "random",
              "SAMPLING_FACTOR": 0.1,
              "SAMPLING_METHOD": "random",
              "STRINGIFY_COLUMN_VALUES": true,
              "STRINGIFY_INDEX_VALUES": false
            },
            "sample_history": [],
            "sampling_time": "2023-11-01T21:14:16.622893",
            "user_variable_name": "sql_df_tnpe",
            "variable_name": "sql_df_tnpe"
          },
          "5ac05350-206a-4862-8c38-85c5d5fabea4": {
            "applied_filters": [],
            "dataframe_info": {
              "default_index_used": true,
              "orig_num_cols": 1,
              "orig_num_rows": 5,
              "orig_size_bytes": 80,
              "truncated_num_cols": 1,
              "truncated_num_rows": 5,
              "truncated_size_bytes": 80,
              "truncated_string_columns": [
                "keywords_all"
              ]
            },
            "display_id": "5ac05350-206a-4862-8c38-85c5d5fabea4",
            "dx_settings": {
              "ALLOW_NOTEABLE_ATTRS": true,
              "COLUMN_SAMPLING_METHOD": "outer",
              "DB_LOCATION": ":memory:",
              "DEV_MODE": false,
              "DISPLAY_MAX_COLUMNS": 100,
              "DISPLAY_MAX_ROWS": 50000,
              "DISPLAY_MODE": "simple",
              "ENABLE_ASSIGNMENT": true,
              "ENABLE_DATALINK": true,
              "FLATTEN_COLUMN_VALUES": true,
              "FLATTEN_INDEX_VALUES": false,
              "GENERATE_DEX_METADATA": false,
              "HTML_TABLE_SCHEMA": false,
              "LOG_LEVEL": 30,
              "MAX_RENDER_SIZE_BYTES": 104857600,
              "MAX_STRING_LENGTH": 250,
              "NUM_PAST_SAMPLES_TRACKED": 3,
              "RANDOM_STATE": 12648430,
              "RESET_INDEX_VALUES": false,
              "ROW_SAMPLING_METHOD": "random",
              "SAMPLING_FACTOR": 0.1,
              "SAMPLING_METHOD": "random",
              "STRINGIFY_COLUMN_VALUES": true,
              "STRINGIFY_INDEX_VALUES": false
            },
            "sample_history": [],
            "sampling_time": "2023-11-02T01:26:17.636481",
            "user_variable_name": "sql_df_tnpe",
            "variable_name": "sql_df_tnpe"
          },
          "0fe46776-00a0-4a71-893e-bdddac8ba3ec": {
            "applied_filters": [],
            "dataframe_info": {
              "default_index_used": true,
              "orig_num_cols": 1,
              "orig_num_rows": 5,
              "orig_size_bytes": 80,
              "truncated_num_cols": 1,
              "truncated_num_rows": 5,
              "truncated_size_bytes": 80,
              "truncated_string_columns": []
            },
            "display_id": "0fe46776-00a0-4a71-893e-bdddac8ba3ec",
            "dx_settings": {
              "ALLOW_NOTEABLE_ATTRS": true,
              "COLUMN_SAMPLING_METHOD": "outer",
              "DB_LOCATION": ":memory:",
              "DEV_MODE": false,
              "DISPLAY_MAX_COLUMNS": 100,
              "DISPLAY_MAX_ROWS": 50000,
              "DISPLAY_MODE": "simple",
              "ENABLE_ASSIGNMENT": true,
              "ENABLE_DATALINK": true,
              "FLATTEN_COLUMN_VALUES": true,
              "FLATTEN_INDEX_VALUES": false,
              "GENERATE_DEX_METADATA": false,
              "HTML_TABLE_SCHEMA": false,
              "LOG_LEVEL": 30,
              "MAX_RENDER_SIZE_BYTES": 104857600,
              "MAX_STRING_LENGTH": 250,
              "NUM_PAST_SAMPLES_TRACKED": 3,
              "RANDOM_STATE": 12648430,
              "RESET_INDEX_VALUES": false,
              "ROW_SAMPLING_METHOD": "random",
              "SAMPLING_FACTOR": 0.1,
              "SAMPLING_METHOD": "random",
              "STRINGIFY_COLUMN_VALUES": true,
              "STRINGIFY_INDEX_VALUES": false
            },
            "sample_history": [],
            "sampling_time": "2023-11-07T16:18:04.023630",
            "user_variable_name": "sql_df_tnpe",
            "variable_name": "sql_df_tnpe"
          }
        },
        "dx": {
          "dashboard": {
            "multiViews": []
          },
          "fieldMetadata": {
            "index": {
              "columnPosition": 1
            },
            "keywords_all": {
              "columnPosition": 2,
              "width": 700.53125
            }
          },
          "updated": 1699373920538,
          "views": [
            {
              "annotationRules": [],
              "chart": {},
              "chartMode": "grid",
              "confoRules": [],
              "decoration": {
                "footer": "",
                "subtitle": "",
                "title": "Table"
              },
              "facets": [],
              "filterSettings": {
                "SHOW_FILTER_PANEL": true,
                "filters": []
              },
              "id": "first-view",
              "isDefault": true,
              "type": "public",
              "userID": ""
            },
            {
              "annotationRules": [],
              "chart": {},
              "chartMode": "grid",
              "confoRules": [],
              "decoration": {
                "footer": "",
                "subtitle": "",
                "title": "Table"
              },
              "facets": [],
              "filterSettings": {
                "SHOW_FILTER_PANEL": true,
                "filters": []
              },
              "id": "first-view",
              "isDefault": true,
              "isTransitory": true,
              "type": "public",
              "userID": ""
            }
          ]
        }
      },
      "execution_count": null,
      "source": "SELECT keywords_all FROM public_job_listings.data_nerd_jobs LIMIT 5;",
      "outputs": []
    },
    {
      "id": "c48c1980-ca8a-4266-95bb-00bcfb5373bc",
      "cell_type": "code",
      "metadata": {
        "noteable": {
          "assign_results_to": "sql_df_xiqc",
          "cell_type": "sql",
          "db_connection": "@5a5b9a444479436dbc1def18003d36d0",
          "output_collection_id": "8fe9847c-e1cf-423d-8398-3ee0370bab94"
        },
        "ExecuteTime": {
          "end_time": "2023-11-07T16:18:16.761873+00:00",
          "start_time": "2023-11-07T16:18:15.199305+00:00"
        },
        "datalink": {
          "0c54321d-2235-4325-bc12-d6007848dedd": {
            "applied_filters": [],
            "dataframe_info": {
              "default_index_used": true,
              "orig_num_cols": 1,
              "orig_num_rows": 5,
              "orig_size_bytes": 80,
              "truncated_num_cols": 1,
              "truncated_num_rows": 5,
              "truncated_size_bytes": 80,
              "truncated_string_columns": []
            },
            "display_id": "0c54321d-2235-4325-bc12-d6007848dedd",
            "dx_settings": {
              "ALLOW_NOTEABLE_ATTRS": true,
              "COLUMN_SAMPLING_METHOD": "outer",
              "DB_LOCATION": ":memory:",
              "DEV_MODE": false,
              "DISPLAY_MAX_COLUMNS": 100,
              "DISPLAY_MAX_ROWS": 50000,
              "DISPLAY_MODE": "simple",
              "ENABLE_ASSIGNMENT": true,
              "ENABLE_DATALINK": true,
              "FLATTEN_COLUMN_VALUES": true,
              "FLATTEN_INDEX_VALUES": false,
              "GENERATE_DEX_METADATA": false,
              "HTML_TABLE_SCHEMA": false,
              "LOG_LEVEL": 30,
              "MAX_RENDER_SIZE_BYTES": 104857600,
              "MAX_STRING_LENGTH": 250,
              "NUM_PAST_SAMPLES_TRACKED": 3,
              "RANDOM_STATE": 12648430,
              "RESET_INDEX_VALUES": false,
              "ROW_SAMPLING_METHOD": "random",
              "SAMPLING_FACTOR": 0.1,
              "SAMPLING_METHOD": "random",
              "STRINGIFY_COLUMN_VALUES": true,
              "STRINGIFY_INDEX_VALUES": false
            },
            "sample_history": [],
            "sampling_time": "2023-10-31T21:33:17.383375",
            "user_variable_name": "sql_df_xiqc",
            "variable_name": "sql_df_xiqc"
          },
          "d560a2dd-8bce-4c55-bc10-ab31ea7e7e10": {
            "applied_filters": [],
            "dataframe_info": {
              "default_index_used": true,
              "orig_num_cols": 1,
              "orig_num_rows": 5,
              "orig_size_bytes": 80,
              "truncated_num_cols": 1,
              "truncated_num_rows": 5,
              "truncated_size_bytes": 80,
              "truncated_string_columns": []
            },
            "display_id": "d560a2dd-8bce-4c55-bc10-ab31ea7e7e10",
            "dx_settings": {
              "ALLOW_NOTEABLE_ATTRS": true,
              "COLUMN_SAMPLING_METHOD": "outer",
              "DB_LOCATION": ":memory:",
              "DEV_MODE": false,
              "DISPLAY_MAX_COLUMNS": 100,
              "DISPLAY_MAX_ROWS": 50000,
              "DISPLAY_MODE": "simple",
              "ENABLE_ASSIGNMENT": true,
              "ENABLE_DATALINK": true,
              "FLATTEN_COLUMN_VALUES": true,
              "FLATTEN_INDEX_VALUES": false,
              "GENERATE_DEX_METADATA": false,
              "HTML_TABLE_SCHEMA": false,
              "LOG_LEVEL": 30,
              "MAX_RENDER_SIZE_BYTES": 104857600,
              "MAX_STRING_LENGTH": 250,
              "NUM_PAST_SAMPLES_TRACKED": 3,
              "RANDOM_STATE": 12648430,
              "RESET_INDEX_VALUES": false,
              "ROW_SAMPLING_METHOD": "random",
              "SAMPLING_FACTOR": 0.1,
              "SAMPLING_METHOD": "random",
              "STRINGIFY_COLUMN_VALUES": true,
              "STRINGIFY_INDEX_VALUES": false
            },
            "sample_history": [],
            "sampling_time": "2023-11-01T21:15:48.175252",
            "user_variable_name": "sql_df_xiqc",
            "variable_name": "sql_df_xiqc"
          },
          "7248cafe-c080-463d-8609-a1a2710d3577": {
            "applied_filters": [],
            "dataframe_info": {
              "default_index_used": true,
              "orig_num_cols": 1,
              "orig_num_rows": 5,
              "orig_size_bytes": 80,
              "truncated_num_cols": 1,
              "truncated_num_rows": 5,
              "truncated_size_bytes": 80,
              "truncated_string_columns": []
            },
            "display_id": "7248cafe-c080-463d-8609-a1a2710d3577",
            "dx_settings": {
              "ALLOW_NOTEABLE_ATTRS": true,
              "COLUMN_SAMPLING_METHOD": "outer",
              "DB_LOCATION": ":memory:",
              "DEV_MODE": false,
              "DISPLAY_MAX_COLUMNS": 100,
              "DISPLAY_MAX_ROWS": 50000,
              "DISPLAY_MODE": "simple",
              "ENABLE_ASSIGNMENT": true,
              "ENABLE_DATALINK": true,
              "FLATTEN_COLUMN_VALUES": true,
              "FLATTEN_INDEX_VALUES": false,
              "GENERATE_DEX_METADATA": false,
              "HTML_TABLE_SCHEMA": false,
              "LOG_LEVEL": 30,
              "MAX_RENDER_SIZE_BYTES": 104857600,
              "MAX_STRING_LENGTH": 250,
              "NUM_PAST_SAMPLES_TRACKED": 3,
              "RANDOM_STATE": 12648430,
              "RESET_INDEX_VALUES": false,
              "ROW_SAMPLING_METHOD": "random",
              "SAMPLING_FACTOR": 0.1,
              "SAMPLING_METHOD": "random",
              "STRINGIFY_COLUMN_VALUES": true,
              "STRINGIFY_INDEX_VALUES": false
            },
            "sample_history": [],
            "sampling_time": "2023-11-01T22:34:39.766400",
            "user_variable_name": "sql_df_xiqc",
            "variable_name": "sql_df_xiqc"
          },
          "dc70814c-829f-46c9-87d1-c287a40faf11": {
            "applied_filters": [],
            "dataframe_info": {
              "default_index_used": true,
              "orig_num_cols": 1,
              "orig_num_rows": 5,
              "orig_size_bytes": 80,
              "truncated_num_cols": 1,
              "truncated_num_rows": 5,
              "truncated_size_bytes": 80,
              "truncated_string_columns": []
            },
            "display_id": "dc70814c-829f-46c9-87d1-c287a40faf11",
            "dx_settings": {
              "ALLOW_NOTEABLE_ATTRS": true,
              "COLUMN_SAMPLING_METHOD": "outer",
              "DB_LOCATION": ":memory:",
              "DEV_MODE": false,
              "DISPLAY_MAX_COLUMNS": 100,
              "DISPLAY_MAX_ROWS": 50000,
              "DISPLAY_MODE": "simple",
              "ENABLE_ASSIGNMENT": true,
              "ENABLE_DATALINK": true,
              "FLATTEN_COLUMN_VALUES": true,
              "FLATTEN_INDEX_VALUES": false,
              "GENERATE_DEX_METADATA": false,
              "HTML_TABLE_SCHEMA": false,
              "LOG_LEVEL": 30,
              "MAX_RENDER_SIZE_BYTES": 104857600,
              "MAX_STRING_LENGTH": 250,
              "NUM_PAST_SAMPLES_TRACKED": 3,
              "RANDOM_STATE": 12648430,
              "RESET_INDEX_VALUES": false,
              "ROW_SAMPLING_METHOD": "random",
              "SAMPLING_FACTOR": 0.1,
              "SAMPLING_METHOD": "random",
              "STRINGIFY_COLUMN_VALUES": true,
              "STRINGIFY_INDEX_VALUES": false
            },
            "sample_history": [],
            "sampling_time": "2023-11-07T16:18:16.604403",
            "user_variable_name": "sql_df_xiqc",
            "variable_name": "sql_df_xiqc"
          }
        }
      },
      "execution_count": null,
      "source": "SELECT list.element AS unpacked_keywords\nFROM public_job_listings.data_nerd_jobs, UNNEST(keywords_all.list) AS list\nLIMIT 5;",
      "outputs": []
    },
    {
      "id": "c3fbc55e-7d70-44d5-8b29-7c21bd8187c1",
      "cell_type": "markdown",
      "source": "## Skill Popularity Analysis\nAnalyzing the most popular skills in the `keywords_all` column.",
      "metadata": {
        "noteable": {
          "cell_type": "markdown"
        }
      }
    },
    {
      "id": "e427fc08-c25f-41f3-930b-1eb2c6a53baa",
      "cell_type": "code",
      "metadata": {
        "noteable": {
          "assign_results_to": "sql_df_cvvi",
          "cell_type": "sql",
          "db_connection": "@5a5b9a444479436dbc1def18003d36d0",
          "output_collection_id": "2d78fe85-4ccf-4234-b4a9-5a7052bce431"
        },
        "ExecuteTime": {
          "end_time": "2023-11-07T16:18:21.939566+00:00",
          "start_time": "2023-11-07T16:18:20.048127+00:00"
        },
        "datalink": {
          "6fa5d843-5ef2-4e38-9e73-2fd55ed92449": {
            "applied_filters": [],
            "dataframe_info": {
              "default_index_used": true,
              "orig_num_cols": 2,
              "orig_num_rows": 10,
              "orig_size_bytes": 240,
              "truncated_num_cols": 2,
              "truncated_num_rows": 10,
              "truncated_size_bytes": 240,
              "truncated_string_columns": []
            },
            "display_id": "6fa5d843-5ef2-4e38-9e73-2fd55ed92449",
            "dx_settings": {
              "ALLOW_NOTEABLE_ATTRS": true,
              "COLUMN_SAMPLING_METHOD": "outer",
              "DB_LOCATION": ":memory:",
              "DEV_MODE": false,
              "DISPLAY_MAX_COLUMNS": 100,
              "DISPLAY_MAX_ROWS": 50000,
              "DISPLAY_MODE": "simple",
              "ENABLE_ASSIGNMENT": true,
              "ENABLE_DATALINK": true,
              "FLATTEN_COLUMN_VALUES": true,
              "FLATTEN_INDEX_VALUES": false,
              "GENERATE_DEX_METADATA": false,
              "HTML_TABLE_SCHEMA": false,
              "LOG_LEVEL": 30,
              "MAX_RENDER_SIZE_BYTES": 104857600,
              "MAX_STRING_LENGTH": 250,
              "NUM_PAST_SAMPLES_TRACKED": 3,
              "RANDOM_STATE": 12648430,
              "RESET_INDEX_VALUES": false,
              "ROW_SAMPLING_METHOD": "random",
              "SAMPLING_FACTOR": 0.1,
              "SAMPLING_METHOD": "random",
              "STRINGIFY_COLUMN_VALUES": true,
              "STRINGIFY_INDEX_VALUES": false
            },
            "sample_history": [],
            "sampling_time": "2023-10-31T21:36:11.282216",
            "user_variable_name": "sql_df_cvvi",
            "variable_name": "sql_df_cvvi"
          },
          "bb0aa109-b1c6-4b20-a015-3a06b6eddb94": {
            "applied_filters": [],
            "dataframe_info": {
              "default_index_used": true,
              "orig_num_cols": 2,
              "orig_num_rows": 10,
              "orig_size_bytes": 240,
              "truncated_num_cols": 2,
              "truncated_num_rows": 10,
              "truncated_size_bytes": 240,
              "truncated_string_columns": []
            },
            "display_id": "bb0aa109-b1c6-4b20-a015-3a06b6eddb94",
            "dx_settings": {
              "ALLOW_NOTEABLE_ATTRS": true,
              "COLUMN_SAMPLING_METHOD": "outer",
              "DB_LOCATION": ":memory:",
              "DEV_MODE": false,
              "DISPLAY_MAX_COLUMNS": 100,
              "DISPLAY_MAX_ROWS": 50000,
              "DISPLAY_MODE": "simple",
              "ENABLE_ASSIGNMENT": true,
              "ENABLE_DATALINK": true,
              "FLATTEN_COLUMN_VALUES": true,
              "FLATTEN_INDEX_VALUES": false,
              "GENERATE_DEX_METADATA": false,
              "HTML_TABLE_SCHEMA": false,
              "LOG_LEVEL": 30,
              "MAX_RENDER_SIZE_BYTES": 104857600,
              "MAX_STRING_LENGTH": 250,
              "NUM_PAST_SAMPLES_TRACKED": 3,
              "RANDOM_STATE": 12648430,
              "RESET_INDEX_VALUES": false,
              "ROW_SAMPLING_METHOD": "random",
              "SAMPLING_FACTOR": 0.1,
              "SAMPLING_METHOD": "random",
              "STRINGIFY_COLUMN_VALUES": true,
              "STRINGIFY_INDEX_VALUES": false
            },
            "sample_history": [],
            "sampling_time": "2023-11-01T21:15:51.490279",
            "user_variable_name": "sql_df_cvvi",
            "variable_name": "sql_df_cvvi"
          },
          "786c8bc4-3d97-4680-87f9-4d975e438d9d": {
            "applied_filters": [],
            "dataframe_info": {
              "default_index_used": true,
              "orig_num_cols": 2,
              "orig_num_rows": 10,
              "orig_size_bytes": 240,
              "truncated_num_cols": 2,
              "truncated_num_rows": 10,
              "truncated_size_bytes": 240,
              "truncated_string_columns": []
            },
            "display_id": "786c8bc4-3d97-4680-87f9-4d975e438d9d",
            "dx_settings": {
              "ALLOW_NOTEABLE_ATTRS": true,
              "COLUMN_SAMPLING_METHOD": "outer",
              "DB_LOCATION": ":memory:",
              "DEV_MODE": false,
              "DISPLAY_MAX_COLUMNS": 100,
              "DISPLAY_MAX_ROWS": 50000,
              "DISPLAY_MODE": "simple",
              "ENABLE_ASSIGNMENT": true,
              "ENABLE_DATALINK": true,
              "FLATTEN_COLUMN_VALUES": true,
              "FLATTEN_INDEX_VALUES": false,
              "GENERATE_DEX_METADATA": false,
              "HTML_TABLE_SCHEMA": false,
              "LOG_LEVEL": 30,
              "MAX_RENDER_SIZE_BYTES": 104857600,
              "MAX_STRING_LENGTH": 250,
              "NUM_PAST_SAMPLES_TRACKED": 3,
              "RANDOM_STATE": 12648430,
              "RESET_INDEX_VALUES": false,
              "ROW_SAMPLING_METHOD": "random",
              "SAMPLING_FACTOR": 0.1,
              "SAMPLING_METHOD": "random",
              "STRINGIFY_COLUMN_VALUES": true,
              "STRINGIFY_INDEX_VALUES": false
            },
            "sample_history": [],
            "sampling_time": "2023-11-01T22:34:41.874881",
            "user_variable_name": "sql_df_cvvi",
            "variable_name": "sql_df_cvvi"
          },
          "2aaf7273-d2ff-4029-b8e2-a1682f4c2e24": {
            "applied_filters": [],
            "dataframe_info": {
              "default_index_used": true,
              "orig_num_cols": 2,
              "orig_num_rows": 10,
              "orig_size_bytes": 240,
              "truncated_num_cols": 2,
              "truncated_num_rows": 10,
              "truncated_size_bytes": 240,
              "truncated_string_columns": []
            },
            "display_id": "2aaf7273-d2ff-4029-b8e2-a1682f4c2e24",
            "dx_settings": {
              "ALLOW_NOTEABLE_ATTRS": true,
              "COLUMN_SAMPLING_METHOD": "outer",
              "DB_LOCATION": ":memory:",
              "DEV_MODE": false,
              "DISPLAY_MAX_COLUMNS": 100,
              "DISPLAY_MAX_ROWS": 50000,
              "DISPLAY_MODE": "simple",
              "ENABLE_ASSIGNMENT": true,
              "ENABLE_DATALINK": true,
              "FLATTEN_COLUMN_VALUES": true,
              "FLATTEN_INDEX_VALUES": false,
              "GENERATE_DEX_METADATA": false,
              "HTML_TABLE_SCHEMA": false,
              "LOG_LEVEL": 30,
              "MAX_RENDER_SIZE_BYTES": 104857600,
              "MAX_STRING_LENGTH": 250,
              "NUM_PAST_SAMPLES_TRACKED": 3,
              "RANDOM_STATE": 12648430,
              "RESET_INDEX_VALUES": false,
              "ROW_SAMPLING_METHOD": "random",
              "SAMPLING_FACTOR": 0.1,
              "SAMPLING_METHOD": "random",
              "STRINGIFY_COLUMN_VALUES": true,
              "STRINGIFY_INDEX_VALUES": false
            },
            "sample_history": [],
            "sampling_time": "2023-11-07T16:18:21.781323",
            "user_variable_name": "sql_df_cvvi",
            "variable_name": "sql_df_cvvi"
          }
        }
      },
      "execution_count": null,
      "source": "SELECT list.element AS skill, COUNT(*) AS frequency\nFROM public_job_listings.data_nerd_jobs, UNNEST(keywords_all.list) AS list\nGROUP BY skill\nORDER BY frequency DESC\nLIMIT 10;",
      "outputs": []
    },
    {
      "id": "544a9b0b-9ab5-4594-8b58-7f9fdd06b005",
      "cell_type": "code",
      "metadata": {
        "noteable": {
          "assign_results_to": "top_skills_df",
          "cell_type": "sql",
          "db_connection": "@5a5b9a444479436dbc1def18003d36d0",
          "output_collection_id": "617e5d70-a7dc-4f63-b3ab-58195f358fb2"
        },
        "ExecuteTime": {
          "end_time": "2023-11-02T01:26:46.163099+00:00",
          "start_time": "2023-11-02T01:26:44.644633+00:00"
        },
        "datalink": {
          "89bf7fc6-daae-40bc-b933-9d2ae1192d70": {
            "applied_filters": [],
            "dataframe_info": {
              "default_index_used": true,
              "orig_num_cols": 2,
              "orig_num_rows": 10,
              "orig_size_bytes": 240,
              "truncated_num_cols": 2,
              "truncated_num_rows": 10,
              "truncated_size_bytes": 240,
              "truncated_string_columns": []
            },
            "display_id": "89bf7fc6-daae-40bc-b933-9d2ae1192d70",
            "dx_settings": {
              "ALLOW_NOTEABLE_ATTRS": true,
              "COLUMN_SAMPLING_METHOD": "outer",
              "DB_LOCATION": ":memory:",
              "DEV_MODE": false,
              "DISPLAY_MAX_COLUMNS": 100,
              "DISPLAY_MAX_ROWS": 50000,
              "DISPLAY_MODE": "simple",
              "ENABLE_ASSIGNMENT": true,
              "ENABLE_DATALINK": true,
              "FLATTEN_COLUMN_VALUES": true,
              "FLATTEN_INDEX_VALUES": false,
              "GENERATE_DEX_METADATA": false,
              "HTML_TABLE_SCHEMA": false,
              "LOG_LEVEL": 30,
              "MAX_RENDER_SIZE_BYTES": 104857600,
              "MAX_STRING_LENGTH": 250,
              "NUM_PAST_SAMPLES_TRACKED": 3,
              "RANDOM_STATE": 12648430,
              "RESET_INDEX_VALUES": false,
              "ROW_SAMPLING_METHOD": "random",
              "SAMPLING_FACTOR": 0.1,
              "SAMPLING_METHOD": "random",
              "STRINGIFY_COLUMN_VALUES": true,
              "STRINGIFY_INDEX_VALUES": false
            },
            "sample_history": [],
            "sampling_time": "2023-10-31T21:38:23.965605",
            "user_variable_name": "sql_df_cvvi",
            "variable_name": "sql_df_cvvi"
          },
          "7de4c5cc-c217-4915-913b-68d8d177847b": {
            "applied_filters": [],
            "dataframe_info": {
              "default_index_used": true,
              "orig_num_cols": 2,
              "orig_num_rows": 10,
              "orig_size_bytes": 240,
              "truncated_num_cols": 2,
              "truncated_num_rows": 10,
              "truncated_size_bytes": 240,
              "truncated_string_columns": []
            },
            "display_id": "7de4c5cc-c217-4915-913b-68d8d177847b",
            "dx_settings": {
              "ALLOW_NOTEABLE_ATTRS": true,
              "COLUMN_SAMPLING_METHOD": "outer",
              "DB_LOCATION": ":memory:",
              "DEV_MODE": false,
              "DISPLAY_MAX_COLUMNS": 100,
              "DISPLAY_MAX_ROWS": 50000,
              "DISPLAY_MODE": "simple",
              "ENABLE_ASSIGNMENT": true,
              "ENABLE_DATALINK": true,
              "FLATTEN_COLUMN_VALUES": true,
              "FLATTEN_INDEX_VALUES": false,
              "GENERATE_DEX_METADATA": false,
              "HTML_TABLE_SCHEMA": false,
              "LOG_LEVEL": 30,
              "MAX_RENDER_SIZE_BYTES": 104857600,
              "MAX_STRING_LENGTH": 250,
              "NUM_PAST_SAMPLES_TRACKED": 3,
              "RANDOM_STATE": 12648430,
              "RESET_INDEX_VALUES": false,
              "ROW_SAMPLING_METHOD": "random",
              "SAMPLING_FACTOR": 0.1,
              "SAMPLING_METHOD": "random",
              "STRINGIFY_COLUMN_VALUES": true,
              "STRINGIFY_INDEX_VALUES": false
            },
            "sample_history": [],
            "sampling_time": "2023-11-01T21:15:55.759202",
            "user_variable_name": "sql_df_cvvi",
            "variable_name": "sql_df_cvvi"
          },
          "2b55a97c-1e2b-4052-9829-fcf7299d446b": {
            "applied_filters": [],
            "dataframe_info": {
              "default_index_used": true,
              "orig_num_cols": 2,
              "orig_num_rows": 10,
              "orig_size_bytes": 240,
              "truncated_num_cols": 2,
              "truncated_num_rows": 10,
              "truncated_size_bytes": 240,
              "truncated_string_columns": []
            },
            "display_id": "2b55a97c-1e2b-4052-9829-fcf7299d446b",
            "dx_settings": {
              "ALLOW_NOTEABLE_ATTRS": true,
              "COLUMN_SAMPLING_METHOD": "outer",
              "DB_LOCATION": ":memory:",
              "DEV_MODE": false,
              "DISPLAY_MAX_COLUMNS": 100,
              "DISPLAY_MAX_ROWS": 50000,
              "DISPLAY_MODE": "simple",
              "ENABLE_ASSIGNMENT": true,
              "ENABLE_DATALINK": true,
              "FLATTEN_COLUMN_VALUES": true,
              "FLATTEN_INDEX_VALUES": false,
              "GENERATE_DEX_METADATA": false,
              "HTML_TABLE_SCHEMA": false,
              "LOG_LEVEL": 30,
              "MAX_RENDER_SIZE_BYTES": 104857600,
              "MAX_STRING_LENGTH": 250,
              "NUM_PAST_SAMPLES_TRACKED": 3,
              "RANDOM_STATE": 12648430,
              "RESET_INDEX_VALUES": false,
              "ROW_SAMPLING_METHOD": "random",
              "SAMPLING_FACTOR": 0.1,
              "SAMPLING_METHOD": "random",
              "STRINGIFY_COLUMN_VALUES": true,
              "STRINGIFY_INDEX_VALUES": false
            },
            "sample_history": [],
            "sampling_time": "2023-11-01T22:34:43.931476",
            "user_variable_name": "sql_df_cvvi",
            "variable_name": "sql_df_cvvi"
          },
          "ab8b8838-2765-419b-a6a2-b2c8bd386fee": {
            "applied_filters": [],
            "dataframe_info": {
              "default_index_used": true,
              "orig_num_cols": 2,
              "orig_num_rows": 10,
              "orig_size_bytes": 240,
              "truncated_num_cols": 2,
              "truncated_num_rows": 10,
              "truncated_size_bytes": 240,
              "truncated_string_columns": []
            },
            "display_id": "ab8b8838-2765-419b-a6a2-b2c8bd386fee",
            "dx_settings": {
              "ALLOW_NOTEABLE_ATTRS": true,
              "COLUMN_SAMPLING_METHOD": "outer",
              "DB_LOCATION": ":memory:",
              "DEV_MODE": false,
              "DISPLAY_MAX_COLUMNS": 100,
              "DISPLAY_MAX_ROWS": 50000,
              "DISPLAY_MODE": "simple",
              "ENABLE_ASSIGNMENT": true,
              "ENABLE_DATALINK": true,
              "FLATTEN_COLUMN_VALUES": true,
              "FLATTEN_INDEX_VALUES": false,
              "GENERATE_DEX_METADATA": false,
              "HTML_TABLE_SCHEMA": false,
              "LOG_LEVEL": 30,
              "MAX_RENDER_SIZE_BYTES": 104857600,
              "MAX_STRING_LENGTH": 250,
              "NUM_PAST_SAMPLES_TRACKED": 3,
              "RANDOM_STATE": 12648430,
              "RESET_INDEX_VALUES": false,
              "ROW_SAMPLING_METHOD": "random",
              "SAMPLING_FACTOR": 0.1,
              "SAMPLING_METHOD": "random",
              "STRINGIFY_COLUMN_VALUES": true,
              "STRINGIFY_INDEX_VALUES": false
            },
            "sample_history": [],
            "sampling_time": "2023-11-02T01:26:46.004967",
            "user_variable_name": "top_skills_df",
            "variable_name": "top_skills_df"
          }
        }
      },
      "execution_count": null,
      "source": "SELECT list.element AS skill, COUNT(*) AS frequency\nFROM public_job_listings.data_nerd_jobs, UNNEST(keywords_all.list) AS list\nGROUP BY skill\nORDER BY frequency DESC\nLIMIT 10;",
      "outputs": []
    },
    {
      "id": "7fe2b7fe-51e8-44f1-af43-e7775145fcac",
      "cell_type": "code",
      "metadata": {
        "noteable": {
          "cell_type": "code",
          "output_collection_id": "bf6d8ba4-966c-4a07-9e33-7c6fdb0d3fd6"
        },
        "ExecuteTime": {
          "end_time": "2023-11-02T01:26:47.165156+00:00",
          "start_time": "2023-11-02T01:26:46.197426+00:00"
        }
      },
      "execution_count": null,
      "source": "import seaborn as sns\nimport matplotlib.pyplot as plt\n# Set dark theme\nsns.set(style='darkgrid')\nplt.style.use('dark_background')\n# Create the bar plot\nplt.figure(figsize=(12, 8))\nsns.barplot(x='frequency', y='skill', data=top_skills_df, palette='Blues_r')\n# Add labels and title\nplt.xlabel('Frequency')\nplt.ylabel('Skill')\nplt.title('Top 10 Most Popular Skills')\n# Show the plot\nplt.show()",
      "outputs": []
    },
    {
      "id": "7da9d4bf-c041-4fec-8e54-098a0ff7d92d",
      "cell_type": "code",
      "metadata": {
        "noteable": {
          "assign_results_to": "sql_df_ypur",
          "cell_type": "sql",
          "db_connection": "@5a5b9a444479436dbc1def18003d36d0",
          "output_collection_id": "eed01d41-be21-4209-b409-77f20ef07c43"
        },
        "ExecuteTime": {
          "end_time": "2023-11-02T01:26:48.787987+00:00",
          "start_time": "2023-11-02T01:26:47.421933+00:00"
        },
        "datalink": {
          "960c22fb-1d22-42ec-a34f-e10aaf686181": {
            "applied_filters": [],
            "dataframe_info": {
              "default_index_used": true,
              "orig_num_cols": 45,
              "orig_num_rows": 1,
              "orig_size_bytes": 354,
              "truncated_num_cols": 45,
              "truncated_num_rows": 1,
              "truncated_size_bytes": 354,
              "truncated_string_columns": [
                "job_id",
                "job_description"
              ]
            },
            "display_id": "960c22fb-1d22-42ec-a34f-e10aaf686181",
            "dx_settings": {
              "ALLOW_NOTEABLE_ATTRS": true,
              "COLUMN_SAMPLING_METHOD": "outer",
              "DB_LOCATION": ":memory:",
              "DEV_MODE": false,
              "DISPLAY_MAX_COLUMNS": 100,
              "DISPLAY_MAX_ROWS": 50000,
              "DISPLAY_MODE": "simple",
              "ENABLE_ASSIGNMENT": true,
              "ENABLE_DATALINK": true,
              "FLATTEN_COLUMN_VALUES": true,
              "FLATTEN_INDEX_VALUES": false,
              "GENERATE_DEX_METADATA": false,
              "HTML_TABLE_SCHEMA": false,
              "LOG_LEVEL": 30,
              "MAX_RENDER_SIZE_BYTES": 104857600,
              "MAX_STRING_LENGTH": 250,
              "NUM_PAST_SAMPLES_TRACKED": 3,
              "RANDOM_STATE": 12648430,
              "RESET_INDEX_VALUES": false,
              "ROW_SAMPLING_METHOD": "random",
              "SAMPLING_FACTOR": 0.1,
              "SAMPLING_METHOD": "random",
              "STRINGIFY_COLUMN_VALUES": true,
              "STRINGIFY_INDEX_VALUES": false
            },
            "sample_history": [],
            "sampling_time": "2023-10-31T22:08:48.361660",
            "user_variable_name": "sql_df_ypur",
            "variable_name": "sql_df_ypur"
          },
          "4411714d-fc69-49e0-881e-7fb7d772b2c8": {
            "applied_filters": [],
            "dataframe_info": {
              "default_index_used": true,
              "orig_num_cols": 45,
              "orig_num_rows": 1,
              "orig_size_bytes": 354,
              "truncated_num_cols": 45,
              "truncated_num_rows": 1,
              "truncated_size_bytes": 354,
              "truncated_string_columns": [
                "job_id",
                "job_description",
                "job_highlights_qualifications",
                "job_highlights_responsibilities",
                "job_highlights_benefits",
                "keywords_all"
              ]
            },
            "display_id": "4411714d-fc69-49e0-881e-7fb7d772b2c8",
            "dx_settings": {
              "ALLOW_NOTEABLE_ATTRS": true,
              "COLUMN_SAMPLING_METHOD": "outer",
              "DB_LOCATION": ":memory:",
              "DEV_MODE": false,
              "DISPLAY_MAX_COLUMNS": 100,
              "DISPLAY_MAX_ROWS": 50000,
              "DISPLAY_MODE": "simple",
              "ENABLE_ASSIGNMENT": true,
              "ENABLE_DATALINK": true,
              "FLATTEN_COLUMN_VALUES": true,
              "FLATTEN_INDEX_VALUES": false,
              "GENERATE_DEX_METADATA": false,
              "HTML_TABLE_SCHEMA": false,
              "LOG_LEVEL": 30,
              "MAX_RENDER_SIZE_BYTES": 104857600,
              "MAX_STRING_LENGTH": 250,
              "NUM_PAST_SAMPLES_TRACKED": 3,
              "RANDOM_STATE": 12648430,
              "RESET_INDEX_VALUES": false,
              "ROW_SAMPLING_METHOD": "random",
              "SAMPLING_FACTOR": 0.1,
              "SAMPLING_METHOD": "random",
              "STRINGIFY_COLUMN_VALUES": true,
              "STRINGIFY_INDEX_VALUES": false
            },
            "sample_history": [],
            "sampling_time": "2023-11-01T22:34:55.354499",
            "user_variable_name": "sql_df_ypur",
            "variable_name": "sql_df_ypur"
          },
          "e4b6bff0-65c1-44d6-aa88-c21cc1607bb6": {
            "applied_filters": [],
            "dataframe_info": {
              "default_index_used": true,
              "orig_num_cols": 45,
              "orig_num_rows": 1,
              "orig_size_bytes": 354,
              "truncated_num_cols": 45,
              "truncated_num_rows": 1,
              "truncated_size_bytes": 354,
              "truncated_string_columns": [
                "job_id",
                "job_description",
                "job_highlights_qualifications",
                "job_highlights_responsibilities",
                "job_highlights_benefits",
                "keywords_all"
              ]
            },
            "display_id": "e4b6bff0-65c1-44d6-aa88-c21cc1607bb6",
            "dx_settings": {
              "ALLOW_NOTEABLE_ATTRS": true,
              "COLUMN_SAMPLING_METHOD": "outer",
              "DB_LOCATION": ":memory:",
              "DEV_MODE": false,
              "DISPLAY_MAX_COLUMNS": 100,
              "DISPLAY_MAX_ROWS": 50000,
              "DISPLAY_MODE": "simple",
              "ENABLE_ASSIGNMENT": true,
              "ENABLE_DATALINK": true,
              "FLATTEN_COLUMN_VALUES": true,
              "FLATTEN_INDEX_VALUES": false,
              "GENERATE_DEX_METADATA": false,
              "HTML_TABLE_SCHEMA": false,
              "LOG_LEVEL": 30,
              "MAX_RENDER_SIZE_BYTES": 104857600,
              "MAX_STRING_LENGTH": 250,
              "NUM_PAST_SAMPLES_TRACKED": 3,
              "RANDOM_STATE": 12648430,
              "RESET_INDEX_VALUES": false,
              "ROW_SAMPLING_METHOD": "random",
              "SAMPLING_FACTOR": 0.1,
              "SAMPLING_METHOD": "random",
              "STRINGIFY_COLUMN_VALUES": true,
              "STRINGIFY_INDEX_VALUES": false
            },
            "sample_history": [],
            "sampling_time": "2023-11-02T01:26:48.618241",
            "user_variable_name": "sql_df_ypur",
            "variable_name": "sql_df_ypur"
          }
        }
      },
      "execution_count": null,
      "source": "SELECT * FROM public_job_listings.data_nerd_jobs LIMIT 1;",
      "outputs": []
    },
    {
      "id": "2e4dd07d-84ea-4685-be9e-f0fb4e450949",
      "cell_type": "markdown",
      "source": "## Job Title Analysis\nAnalyzing the three most popular job titles in the `job_title_clean` column.",
      "metadata": {
        "noteable": {
          "cell_type": "markdown"
        }
      }
    },
    {
      "id": "c06b1c69-4001-460b-93c8-3cb8bc284ab8",
      "cell_type": "code",
      "metadata": {
        "noteable": {
          "assign_results_to": "top_job_titles_df",
          "cell_type": "sql",
          "db_connection": "@5a5b9a444479436dbc1def18003d36d0",
          "output_collection_id": "e91091da-5db4-47bb-8ed3-9f7645874bef"
        },
        "ExecuteTime": {
          "end_time": "2023-11-02T01:26:50.253466+00:00",
          "start_time": "2023-11-02T01:26:48.829669+00:00"
        },
        "datalink": {
          "7a02583d-fc81-4166-97c0-6a83ddad117e": {
            "applied_filters": [],
            "dataframe_info": {
              "default_index_used": true,
              "orig_num_cols": 2,
              "orig_num_rows": 3,
              "orig_size_bytes": 72,
              "truncated_num_cols": 2,
              "truncated_num_rows": 3,
              "truncated_size_bytes": 72,
              "truncated_string_columns": []
            },
            "display_id": "7a02583d-fc81-4166-97c0-6a83ddad117e",
            "dx_settings": {
              "ALLOW_NOTEABLE_ATTRS": true,
              "COLUMN_SAMPLING_METHOD": "outer",
              "DB_LOCATION": ":memory:",
              "DEV_MODE": false,
              "DISPLAY_MAX_COLUMNS": 100,
              "DISPLAY_MAX_ROWS": 50000,
              "DISPLAY_MODE": "simple",
              "ENABLE_ASSIGNMENT": true,
              "ENABLE_DATALINK": true,
              "FLATTEN_COLUMN_VALUES": true,
              "FLATTEN_INDEX_VALUES": false,
              "GENERATE_DEX_METADATA": false,
              "HTML_TABLE_SCHEMA": false,
              "LOG_LEVEL": 30,
              "MAX_RENDER_SIZE_BYTES": 104857600,
              "MAX_STRING_LENGTH": 250,
              "NUM_PAST_SAMPLES_TRACKED": 3,
              "RANDOM_STATE": 12648430,
              "RESET_INDEX_VALUES": false,
              "ROW_SAMPLING_METHOD": "random",
              "SAMPLING_FACTOR": 0.1,
              "SAMPLING_METHOD": "random",
              "STRINGIFY_COLUMN_VALUES": true,
              "STRINGIFY_INDEX_VALUES": false
            },
            "sample_history": [],
            "sampling_time": "2023-11-01T21:18:37.658526",
            "user_variable_name": "top_job_titles_df",
            "variable_name": "top_job_titles_df"
          },
          "c082d3f2-62b5-4321-ab35-dbfa502522de": {
            "applied_filters": [],
            "dataframe_info": {
              "default_index_used": true,
              "orig_num_cols": 2,
              "orig_num_rows": 3,
              "orig_size_bytes": 72,
              "truncated_num_cols": 2,
              "truncated_num_rows": 3,
              "truncated_size_bytes": 72,
              "truncated_string_columns": []
            },
            "display_id": "c082d3f2-62b5-4321-ab35-dbfa502522de",
            "dx_settings": {
              "ALLOW_NOTEABLE_ATTRS": true,
              "COLUMN_SAMPLING_METHOD": "outer",
              "DB_LOCATION": ":memory:",
              "DEV_MODE": false,
              "DISPLAY_MAX_COLUMNS": 100,
              "DISPLAY_MAX_ROWS": 50000,
              "DISPLAY_MODE": "simple",
              "ENABLE_ASSIGNMENT": true,
              "ENABLE_DATALINK": true,
              "FLATTEN_COLUMN_VALUES": true,
              "FLATTEN_INDEX_VALUES": false,
              "GENERATE_DEX_METADATA": false,
              "HTML_TABLE_SCHEMA": false,
              "LOG_LEVEL": 30,
              "MAX_RENDER_SIZE_BYTES": 104857600,
              "MAX_STRING_LENGTH": 250,
              "NUM_PAST_SAMPLES_TRACKED": 3,
              "RANDOM_STATE": 12648430,
              "RESET_INDEX_VALUES": false,
              "ROW_SAMPLING_METHOD": "random",
              "SAMPLING_FACTOR": 0.1,
              "SAMPLING_METHOD": "random",
              "STRINGIFY_COLUMN_VALUES": true,
              "STRINGIFY_INDEX_VALUES": false
            },
            "sample_history": [],
            "sampling_time": "2023-11-01T22:34:57.658689",
            "user_variable_name": "top_job_titles_df",
            "variable_name": "top_job_titles_df"
          },
          "c39a81db-c267-4973-b296-23ffd04cee35": {
            "applied_filters": [],
            "dataframe_info": {
              "default_index_used": true,
              "orig_num_cols": 2,
              "orig_num_rows": 3,
              "orig_size_bytes": 72,
              "truncated_num_cols": 2,
              "truncated_num_rows": 3,
              "truncated_size_bytes": 72,
              "truncated_string_columns": []
            },
            "display_id": "c39a81db-c267-4973-b296-23ffd04cee35",
            "dx_settings": {
              "ALLOW_NOTEABLE_ATTRS": true,
              "COLUMN_SAMPLING_METHOD": "outer",
              "DB_LOCATION": ":memory:",
              "DEV_MODE": false,
              "DISPLAY_MAX_COLUMNS": 100,
              "DISPLAY_MAX_ROWS": 50000,
              "DISPLAY_MODE": "simple",
              "ENABLE_ASSIGNMENT": true,
              "ENABLE_DATALINK": true,
              "FLATTEN_COLUMN_VALUES": true,
              "FLATTEN_INDEX_VALUES": false,
              "GENERATE_DEX_METADATA": false,
              "HTML_TABLE_SCHEMA": false,
              "LOG_LEVEL": 30,
              "MAX_RENDER_SIZE_BYTES": 104857600,
              "MAX_STRING_LENGTH": 250,
              "NUM_PAST_SAMPLES_TRACKED": 3,
              "RANDOM_STATE": 12648430,
              "RESET_INDEX_VALUES": false,
              "ROW_SAMPLING_METHOD": "random",
              "SAMPLING_FACTOR": 0.1,
              "SAMPLING_METHOD": "random",
              "STRINGIFY_COLUMN_VALUES": true,
              "STRINGIFY_INDEX_VALUES": false
            },
            "sample_history": [],
            "sampling_time": "2023-11-02T01:26:50.095434",
            "user_variable_name": "top_job_titles_df",
            "variable_name": "top_job_titles_df"
          }
        }
      },
      "execution_count": null,
      "source": "SELECT job_title_final, COUNT(*) AS frequency\nFROM public_job_listings.data_nerd_jobs\nGROUP BY job_title_final\nORDER BY frequency DESC\nLIMIT 3;",
      "outputs": []
    },
    {
      "id": "94c81e7c-1aac-4426-b452-58da68abbb66",
      "cell_type": "markdown",
      "source": "## Skill Analysis by Job Title\nAnalyzing the most popular skills for the top 3 job titles.",
      "metadata": {
        "noteable": {
          "cell_type": "markdown"
        }
      }
    },
    {
      "id": "7418fcdb-1a36-4d39-852d-8a033e17e354",
      "cell_type": "code",
      "metadata": {
        "noteable": {
          "assign_results_to": "skills_by_job_title_df",
          "cell_type": "sql",
          "db_connection": "@5a5b9a444479436dbc1def18003d36d0",
          "output_collection_id": "9fc93351-9ae3-46b8-9bfa-09c1e66264a0"
        },
        "ExecuteTime": {
          "end_time": "2023-11-02T01:26:51.574003+00:00",
          "start_time": "2023-11-02T01:26:50.362575+00:00"
        },
        "datalink": {
          "e94d071d-76b7-431d-b41c-a746071211de": {
            "applied_filters": [],
            "dataframe_info": {
              "default_index_used": true,
              "orig_num_cols": 3,
              "orig_num_rows": 712,
              "orig_size_bytes": 22784,
              "truncated_num_cols": 3,
              "truncated_num_rows": 712,
              "truncated_size_bytes": 22784,
              "truncated_string_columns": []
            },
            "display_id": "e94d071d-76b7-431d-b41c-a746071211de",
            "dx_settings": {
              "ALLOW_NOTEABLE_ATTRS": true,
              "COLUMN_SAMPLING_METHOD": "outer",
              "DB_LOCATION": ":memory:",
              "DEV_MODE": false,
              "DISPLAY_MAX_COLUMNS": 100,
              "DISPLAY_MAX_ROWS": 50000,
              "DISPLAY_MODE": "simple",
              "ENABLE_ASSIGNMENT": true,
              "ENABLE_DATALINK": true,
              "FLATTEN_COLUMN_VALUES": true,
              "FLATTEN_INDEX_VALUES": false,
              "GENERATE_DEX_METADATA": false,
              "HTML_TABLE_SCHEMA": false,
              "LOG_LEVEL": 30,
              "MAX_RENDER_SIZE_BYTES": 104857600,
              "MAX_STRING_LENGTH": 250,
              "NUM_PAST_SAMPLES_TRACKED": 3,
              "RANDOM_STATE": 12648430,
              "RESET_INDEX_VALUES": false,
              "ROW_SAMPLING_METHOD": "random",
              "SAMPLING_FACTOR": 0.1,
              "SAMPLING_METHOD": "random",
              "STRINGIFY_COLUMN_VALUES": true,
              "STRINGIFY_INDEX_VALUES": false
            },
            "sample_history": [],
            "sampling_time": "2023-11-01T21:19:41.259594",
            "user_variable_name": "skills_by_job_title_df",
            "variable_name": "skills_by_job_title_df"
          },
          "0be02057-adb6-4af6-b55d-7a2fa5426928": {
            "applied_filters": [],
            "dataframe_info": {
              "default_index_used": true,
              "orig_num_cols": 3,
              "orig_num_rows": 712,
              "orig_size_bytes": 22784,
              "truncated_num_cols": 3,
              "truncated_num_rows": 712,
              "truncated_size_bytes": 22784,
              "truncated_string_columns": []
            },
            "display_id": "0be02057-adb6-4af6-b55d-7a2fa5426928",
            "dx_settings": {
              "ALLOW_NOTEABLE_ATTRS": true,
              "COLUMN_SAMPLING_METHOD": "outer",
              "DB_LOCATION": ":memory:",
              "DEV_MODE": false,
              "DISPLAY_MAX_COLUMNS": 100,
              "DISPLAY_MAX_ROWS": 50000,
              "DISPLAY_MODE": "simple",
              "ENABLE_ASSIGNMENT": true,
              "ENABLE_DATALINK": true,
              "FLATTEN_COLUMN_VALUES": true,
              "FLATTEN_INDEX_VALUES": false,
              "GENERATE_DEX_METADATA": false,
              "HTML_TABLE_SCHEMA": false,
              "LOG_LEVEL": 30,
              "MAX_RENDER_SIZE_BYTES": 104857600,
              "MAX_STRING_LENGTH": 250,
              "NUM_PAST_SAMPLES_TRACKED": 3,
              "RANDOM_STATE": 12648430,
              "RESET_INDEX_VALUES": false,
              "ROW_SAMPLING_METHOD": "random",
              "SAMPLING_FACTOR": 0.1,
              "SAMPLING_METHOD": "random",
              "STRINGIFY_COLUMN_VALUES": true,
              "STRINGIFY_INDEX_VALUES": false
            },
            "sample_history": [],
            "sampling_time": "2023-11-01T22:34:59.203526",
            "user_variable_name": "skills_by_job_title_df",
            "variable_name": "skills_by_job_title_df"
          },
          "84cdedef-5b64-43f1-b8b1-b34e13788437": {
            "applied_filters": [],
            "dataframe_info": {
              "default_index_used": true,
              "orig_num_cols": 3,
              "orig_num_rows": 712,
              "orig_size_bytes": 22784,
              "truncated_num_cols": 3,
              "truncated_num_rows": 712,
              "truncated_size_bytes": 22784,
              "truncated_string_columns": []
            },
            "display_id": "84cdedef-5b64-43f1-b8b1-b34e13788437",
            "dx_settings": {
              "ALLOW_NOTEABLE_ATTRS": true,
              "COLUMN_SAMPLING_METHOD": "outer",
              "DB_LOCATION": ":memory:",
              "DEV_MODE": false,
              "DISPLAY_MAX_COLUMNS": 100,
              "DISPLAY_MAX_ROWS": 50000,
              "DISPLAY_MODE": "simple",
              "ENABLE_ASSIGNMENT": true,
              "ENABLE_DATALINK": true,
              "FLATTEN_COLUMN_VALUES": true,
              "FLATTEN_INDEX_VALUES": false,
              "GENERATE_DEX_METADATA": false,
              "HTML_TABLE_SCHEMA": false,
              "LOG_LEVEL": 30,
              "MAX_RENDER_SIZE_BYTES": 104857600,
              "MAX_STRING_LENGTH": 250,
              "NUM_PAST_SAMPLES_TRACKED": 3,
              "RANDOM_STATE": 12648430,
              "RESET_INDEX_VALUES": false,
              "ROW_SAMPLING_METHOD": "random",
              "SAMPLING_FACTOR": 0.1,
              "SAMPLING_METHOD": "random",
              "STRINGIFY_COLUMN_VALUES": true,
              "STRINGIFY_INDEX_VALUES": false
            },
            "sample_history": [],
            "sampling_time": "2023-11-02T01:26:51.410825",
            "user_variable_name": "skills_by_job_title_df",
            "variable_name": "skills_by_job_title_df"
          }
        }
      },
      "execution_count": null,
      "source": "SELECT job_title_final, list.element AS skill, COUNT(*) AS frequency\nFROM public_job_listings.data_nerd_jobs, UNNEST(keywords_all.list) AS list\nWHERE job_title_final IN ('Data Analyst', 'Data Engineer', 'Data Scientist')\nGROUP BY job_title_final, skill\nORDER BY job_title_final, frequency DESC",
      "outputs": []
    },
    {
      "id": "ba26393c-7e40-40ea-9e0d-36b9631ecc57",
      "cell_type": "code",
      "metadata": {
        "noteable": {
          "cell_type": "code",
          "output_collection_id": "948bd998-2e83-48f3-801b-a79ab58d08af"
        },
        "ExecuteTime": {
          "end_time": "2023-11-02T01:26:52.144234+00:00",
          "start_time": "2023-11-02T01:26:51.578833+00:00"
        }
      },
      "execution_count": null,
      "source": "# Filter the top 5 skills for each job title\ntop_skills_by_job = skills_by_job_title_df.groupby('job_title_final').apply(lambda x: x.nlargest(5, 'frequency')).reset_index(drop=True)\n# Plotting\nplt.figure(figsize=(15, 10))\nsns.barplot(x='frequency', y='skill', hue='job_title_final', data=top_skills_by_job, palette='Blues_r')\n# Labels and Title\nplt.xlabel('Frequency')\nplt.ylabel('Skill')\nplt.title('Top 5 Skills by Job Title')\n# Show the plot\nplt.show()",
      "outputs": []
    },
    {
      "id": "12876d5b-d9e0-478e-a166-f64f686043b4",
      "cell_type": "markdown",
      "source": "## Revised Skill Analysis by Job Title\nAddressing the issues with the previous analysis to provide a more accurate picture.",
      "metadata": {
        "noteable": {
          "cell_type": "markdown"
        }
      }
    },
    {
      "id": "2483ebdd-77b8-494c-bf4e-96f5010809c2",
      "cell_type": "code",
      "metadata": {
        "noteable": {
          "assign_results_to": "revised_skills_by_job_title_df",
          "cell_type": "sql",
          "db_connection": "@5a5b9a444479436dbc1def18003d36d0",
          "output_collection_id": "49698ffe-1ca3-42aa-84a0-6dd46bd43d7f"
        },
        "ExecuteTime": {
          "end_time": "2023-11-02T01:26:53.716708+00:00",
          "start_time": "2023-11-02T01:26:52.420367+00:00"
        },
        "datalink": {
          "7248f228-0785-4071-a3bb-52b58a33bbdf": {
            "applied_filters": [],
            "dataframe_info": {
              "default_index_used": true,
              "orig_num_cols": 5,
              "orig_num_rows": 712,
              "orig_size_bytes": 34176,
              "truncated_num_cols": 5,
              "truncated_num_rows": 712,
              "truncated_size_bytes": 34176,
              "truncated_string_columns": []
            },
            "display_id": "7248f228-0785-4071-a3bb-52b58a33bbdf",
            "dx_settings": {
              "ALLOW_NOTEABLE_ATTRS": true,
              "COLUMN_SAMPLING_METHOD": "outer",
              "DB_LOCATION": ":memory:",
              "DEV_MODE": false,
              "DISPLAY_MAX_COLUMNS": 100,
              "DISPLAY_MAX_ROWS": 50000,
              "DISPLAY_MODE": "simple",
              "ENABLE_ASSIGNMENT": true,
              "ENABLE_DATALINK": true,
              "FLATTEN_COLUMN_VALUES": true,
              "FLATTEN_INDEX_VALUES": false,
              "GENERATE_DEX_METADATA": false,
              "HTML_TABLE_SCHEMA": false,
              "LOG_LEVEL": 30,
              "MAX_RENDER_SIZE_BYTES": 104857600,
              "MAX_STRING_LENGTH": 250,
              "NUM_PAST_SAMPLES_TRACKED": 3,
              "RANDOM_STATE": 12648430,
              "RESET_INDEX_VALUES": false,
              "ROW_SAMPLING_METHOD": "random",
              "SAMPLING_FACTOR": 0.1,
              "SAMPLING_METHOD": "random",
              "STRINGIFY_COLUMN_VALUES": true,
              "STRINGIFY_INDEX_VALUES": false
            },
            "sample_history": [],
            "sampling_time": "2023-11-01T22:12:50.223200",
            "user_variable_name": "revised_skills_by_job_title_df",
            "variable_name": "revised_skills_by_job_title_df"
          },
          "ef14852f-89f6-44f1-9531-2414f26bf1c6": {
            "applied_filters": [],
            "dataframe_info": {
              "default_index_used": true,
              "orig_num_cols": 5,
              "orig_num_rows": 712,
              "orig_size_bytes": 34176,
              "truncated_num_cols": 5,
              "truncated_num_rows": 712,
              "truncated_size_bytes": 34176,
              "truncated_string_columns": []
            },
            "display_id": "ef14852f-89f6-44f1-9531-2414f26bf1c6",
            "dx_settings": {
              "ALLOW_NOTEABLE_ATTRS": true,
              "COLUMN_SAMPLING_METHOD": "outer",
              "DB_LOCATION": ":memory:",
              "DEV_MODE": false,
              "DISPLAY_MAX_COLUMNS": 100,
              "DISPLAY_MAX_ROWS": 50000,
              "DISPLAY_MODE": "simple",
              "ENABLE_ASSIGNMENT": true,
              "ENABLE_DATALINK": true,
              "FLATTEN_COLUMN_VALUES": true,
              "FLATTEN_INDEX_VALUES": false,
              "GENERATE_DEX_METADATA": false,
              "HTML_TABLE_SCHEMA": false,
              "LOG_LEVEL": 30,
              "MAX_RENDER_SIZE_BYTES": 104857600,
              "MAX_STRING_LENGTH": 250,
              "NUM_PAST_SAMPLES_TRACKED": 3,
              "RANDOM_STATE": 12648430,
              "RESET_INDEX_VALUES": false,
              "ROW_SAMPLING_METHOD": "random",
              "SAMPLING_FACTOR": 0.1,
              "SAMPLING_METHOD": "random",
              "STRINGIFY_COLUMN_VALUES": true,
              "STRINGIFY_INDEX_VALUES": false
            },
            "sample_history": [],
            "sampling_time": "2023-11-01T22:35:17.469848",
            "user_variable_name": "revised_skills_by_job_title_df",
            "variable_name": "revised_skills_by_job_title_df"
          },
          "cf7613ac-70e0-42af-bbd1-6f1344251093": {
            "applied_filters": [],
            "dataframe_info": {
              "default_index_used": true,
              "orig_num_cols": 5,
              "orig_num_rows": 712,
              "orig_size_bytes": 34176,
              "truncated_num_cols": 5,
              "truncated_num_rows": 712,
              "truncated_size_bytes": 34176,
              "truncated_string_columns": []
            },
            "display_id": "cf7613ac-70e0-42af-bbd1-6f1344251093",
            "dx_settings": {
              "ALLOW_NOTEABLE_ATTRS": true,
              "COLUMN_SAMPLING_METHOD": "outer",
              "DB_LOCATION": ":memory:",
              "DEV_MODE": false,
              "DISPLAY_MAX_COLUMNS": 100,
              "DISPLAY_MAX_ROWS": 50000,
              "DISPLAY_MODE": "simple",
              "ENABLE_ASSIGNMENT": true,
              "ENABLE_DATALINK": true,
              "FLATTEN_COLUMN_VALUES": true,
              "FLATTEN_INDEX_VALUES": false,
              "GENERATE_DEX_METADATA": false,
              "HTML_TABLE_SCHEMA": false,
              "LOG_LEVEL": 30,
              "MAX_RENDER_SIZE_BYTES": 104857600,
              "MAX_STRING_LENGTH": 250,
              "NUM_PAST_SAMPLES_TRACKED": 3,
              "RANDOM_STATE": 12648430,
              "RESET_INDEX_VALUES": false,
              "ROW_SAMPLING_METHOD": "random",
              "SAMPLING_FACTOR": 0.1,
              "SAMPLING_METHOD": "random",
              "STRINGIFY_COLUMN_VALUES": true,
              "STRINGIFY_INDEX_VALUES": false
            },
            "sample_history": [],
            "sampling_time": "2023-11-02T01:26:53.554788",
            "user_variable_name": "revised_skills_by_job_title_df",
            "variable_name": "revised_skills_by_job_title_df"
          }
        }
      },
      "execution_count": null,
      "source": "WITH total_jobs AS (\n  SELECT job_title_final, COUNT(*) AS total_count\n  FROM public_job_listings.data_nerd_jobs\n  WHERE job_title_final IN ('Data Analyst', 'Data Engineer', 'Data Scientist')\n  GROUP BY job_title_final\n),\nskill_count AS (\n  SELECT job_title_final, list.element AS skill, COUNT(*) AS skill_count\n  FROM public_job_listings.data_nerd_jobs, UNNEST(keywords_all.list) AS list\n  WHERE job_title_final IN ('Data Analyst', 'Data Engineer', 'Data Scientist')\n  GROUP BY job_title_final, skill\n)\nSELECT s.job_title_final, s.skill, s.skill_count, t.total_count,\n       ROUND(100 * s.skill_count / t.total_count, 2) AS skill_percent\nFROM skill_count s\nJOIN total_jobs t ON s.job_title_final = t.job_title_final\nORDER BY s.job_title_final, skill_percent DESC",
      "outputs": []
    },
    {
      "id": "47068996-081b-4721-a607-3b05586b11c6",
      "cell_type": "code",
      "metadata": {
        "noteable": {
          "cell_type": "code",
          "output_collection_id": "af852938-364c-44eb-8c7d-9365e4fed443"
        },
        "ExecuteTime": {
          "end_time": "2023-11-02T01:26:54.421292+00:00",
          "start_time": "2023-11-02T01:26:53.722183+00:00"
        }
      },
      "execution_count": null,
      "source": "import seaborn as sns\nimport matplotlib.pyplot as plt\n# Set dark theme\nsns.set(style='darkgrid')\nplt.style.use('dark_background')\n# Filter the top 10 skills for each job title based on skill_percent\ntop_skills_by_job_revised = revised_skills_by_job_title_df.groupby('job_title_final').apply(lambda x: x.nlargest(10, 'skill_percent')).reset_index(drop=True)\n# Plotting\nplt.figure(figsize=(15, 10))\nsns.barplot(x='skill_percent', y='skill', hue='job_title_final', data=top_skills_by_job_revised, palette='Blues_r')\n# Labels and Title\nplt.xlabel('Skill Percent (%)')\nplt.ylabel('Skill')\nplt.title('Top 10 Skills by Job Title (Percentage)')\n# Show the plot\nplt.show()",
      "outputs": []
    },
    {
      "id": "70c5de5e-4cba-488e-841b-e69805e4ee98",
      "cell_type": "markdown",
      "source": "## Final Skill Analysis by Job Title\nAddressing the remaining issue to show all relevant skills for the top 3 job titles.",
      "metadata": {
        "noteable": {
          "cell_type": "markdown"
        }
      }
    },
    {
      "id": "7c05315c-d896-4c2a-aa8b-9b812762f1e4",
      "cell_type": "code",
      "metadata": {
        "noteable": {
          "cell_type": "code",
          "output_collection_id": "3a6b6fbb-f87c-440d-ade4-150ec52bf1cb"
        },
        "ExecuteTime": {
          "end_time": "2023-11-02T01:26:58.351977+00:00",
          "start_time": "2023-11-02T01:26:54.682096+00:00"
        }
      },
      "execution_count": null,
      "source": "# Plotting without filtering the top 10 skills\nplt.figure(figsize=(20, 15))\nsns.barplot(x='skill_percent', y='skill', hue='job_title_final', data=revised_skills_by_job_title_df, palette='Blues_r')\n# Labels and Title\nplt.xlabel('Skill Percent (%)')\nplt.ylabel('Skill')\nplt.title('All Relevant Skills by Job Title (Percentage)')\n# Show the plot\nplt.show()",
      "outputs": []
    },
    {
      "id": "daf6d34e-859d-4560-814d-befd0770a8c6",
      "cell_type": "markdown",
      "source": "## Selected Skills Analysis by Job Title\nFocusing on specific skills: Excel, SQL, Python, Tableau, Power BI, and R.",
      "metadata": {
        "noteable": {
          "cell_type": "markdown"
        }
      }
    },
    {
      "id": "1694dee7-7802-4e2a-97dc-af8b6d26a0b6",
      "cell_type": "code",
      "metadata": {
        "noteable": {
          "cell_type": "code",
          "output_collection_id": "b7021a41-ed82-456d-8ebd-933051f68fc6"
        },
        "ExecuteTime": {
          "end_time": "2023-11-02T01:26:59.061620+00:00",
          "start_time": "2023-11-02T01:26:58.583699+00:00"
        }
      },
      "execution_count": null,
      "source": "# Filter data for selected skills\nselected_skills = ['excel', 'sql', 'python', 'tableau', 'power bi', 'r']\nfiltered_skills_df = revised_skills_by_job_title_df[revised_skills_by_job_title_df['skill'].str.lower().isin(selected_skills)]\n# Plotting\nplt.figure(figsize=(15, 10))\nsns.barplot(x='skill_percent', y='skill', hue='job_title_final', data=filtered_skills_df, palette='Blues_r')\n# Labels and Title\nplt.xlabel('Skill Percent (%)')\nplt.ylabel('Skill')\nplt.title('Selected Skills by Job Title (Percentage)')\n# Show the plot\nplt.show()",
      "outputs": []
    },
    {
      "id": "498b0be1-6ce5-4a6e-bb66-fe58a6f9457d",
      "cell_type": "markdown",
      "source": "## Skill Popularity Summary\nSumming up the percentages of each skill across the top 3 job titles and ordering them from high to low.",
      "metadata": {
        "noteable": {
          "cell_type": "markdown"
        }
      }
    },
    {
      "id": "f1c05b6b-8057-4a5f-8bc9-7837b8cac5d7",
      "cell_type": "code",
      "metadata": {
        "noteable": {
          "cell_type": "code",
          "output_collection_id": "675e2870-72a0-421a-b0fc-352e8ae5b04f"
        },
        "ExecuteTime": {
          "end_time": "2023-11-02T01:26:59.540568+00:00",
          "start_time": "2023-11-02T01:26:59.350445+00:00"
        },
        "datalink": {
          "a412b59b-45da-4715-af5f-8866d56f8909": {
            "applied_filters": [],
            "dataframe_info": {
              "default_index_used": true,
              "orig_num_cols": 2,
              "orig_num_rows": 6,
              "orig_size_bytes": 144,
              "truncated_num_cols": 2,
              "truncated_num_rows": 6,
              "truncated_size_bytes": 144,
              "truncated_string_columns": []
            },
            "display_id": "a412b59b-45da-4715-af5f-8866d56f8909",
            "dx_settings": {
              "ALLOW_NOTEABLE_ATTRS": true,
              "COLUMN_SAMPLING_METHOD": "outer",
              "DB_LOCATION": ":memory:",
              "DEV_MODE": false,
              "DISPLAY_MAX_COLUMNS": 100,
              "DISPLAY_MAX_ROWS": 50000,
              "DISPLAY_MODE": "simple",
              "ENABLE_ASSIGNMENT": true,
              "ENABLE_DATALINK": true,
              "FLATTEN_COLUMN_VALUES": true,
              "FLATTEN_INDEX_VALUES": false,
              "GENERATE_DEX_METADATA": false,
              "HTML_TABLE_SCHEMA": false,
              "LOG_LEVEL": 30,
              "MAX_RENDER_SIZE_BYTES": 104857600,
              "MAX_STRING_LENGTH": 250,
              "NUM_PAST_SAMPLES_TRACKED": 3,
              "RANDOM_STATE": 12648430,
              "RESET_INDEX_VALUES": false,
              "ROW_SAMPLING_METHOD": "random",
              "SAMPLING_FACTOR": 0.1,
              "SAMPLING_METHOD": "random",
              "STRINGIFY_COLUMN_VALUES": true,
              "STRINGIFY_INDEX_VALUES": false
            },
            "sample_history": [],
            "sampling_time": "2023-11-01T22:49:36.718114",
            "user_variable_name": "sorted_skills",
            "variable_name": "sorted_skills"
          },
          "dcd7bf57-4657-4ce9-8599-c5b83a402ebf": {
            "applied_filters": [],
            "dataframe_info": {
              "default_index_used": true,
              "orig_num_cols": 2,
              "orig_num_rows": 6,
              "orig_size_bytes": 144,
              "truncated_num_cols": 2,
              "truncated_num_rows": 6,
              "truncated_size_bytes": 144,
              "truncated_string_columns": []
            },
            "display_id": "dcd7bf57-4657-4ce9-8599-c5b83a402ebf",
            "dx_settings": {
              "ALLOW_NOTEABLE_ATTRS": true,
              "COLUMN_SAMPLING_METHOD": "outer",
              "DB_LOCATION": ":memory:",
              "DEV_MODE": false,
              "DISPLAY_MAX_COLUMNS": 100,
              "DISPLAY_MAX_ROWS": 50000,
              "DISPLAY_MODE": "simple",
              "ENABLE_ASSIGNMENT": true,
              "ENABLE_DATALINK": true,
              "FLATTEN_COLUMN_VALUES": true,
              "FLATTEN_INDEX_VALUES": false,
              "GENERATE_DEX_METADATA": false,
              "HTML_TABLE_SCHEMA": false,
              "LOG_LEVEL": 30,
              "MAX_RENDER_SIZE_BYTES": 104857600,
              "MAX_STRING_LENGTH": 250,
              "NUM_PAST_SAMPLES_TRACKED": 3,
              "RANDOM_STATE": 12648430,
              "RESET_INDEX_VALUES": false,
              "ROW_SAMPLING_METHOD": "random",
              "SAMPLING_FACTOR": 0.1,
              "SAMPLING_METHOD": "random",
              "STRINGIFY_COLUMN_VALUES": true,
              "STRINGIFY_INDEX_VALUES": false
            },
            "sample_history": [],
            "sampling_time": "2023-11-02T01:26:59.382791",
            "user_variable_name": "sorted_skills",
            "variable_name": "sorted_skills"
          }
        }
      },
      "execution_count": null,
      "source": "# Summing up the percentages for each skill across job titles\nskill_sums = filtered_skills_df.groupby('skill')['skill_percent'].sum().reset_index()\n# Sorting the skills by the summed percentages, high to low\nsorted_skills = skill_sums.sort_values(by='skill_percent', ascending=False)\nsorted_skills",
      "outputs": []
    },
    {
      "id": "6197605f-f630-4f68-b7d3-44755bfb2640",
      "cell_type": "markdown",
      "source": "## Reordered Selected Skills by Job Title\nReordering the bar graph based on the summed percentages of each skill.",
      "metadata": {
        "noteable": {
          "cell_type": "markdown"
        }
      }
    },
    {
      "id": "48a6e0f8-f020-4219-93bb-5ee35b18daa6",
      "cell_type": "code",
      "metadata": {
        "noteable": {
          "cell_type": "code",
          "output_collection_id": "e1263655-7db1-48b0-b40b-c28ed970e661"
        },
        "ExecuteTime": {
          "end_time": "2023-11-02T01:27:56.733811+00:00",
          "start_time": "2023-11-02T01:27:56.202281+00:00"
        }
      },
      "execution_count": null,
      "source": "# Merge the sorted skills data with the original data to get the new order\nmerged_df = filtered_skills_df.merge(sorted_skills, on='skill', suffixes=('', '_sum'))\n# Plotting\nplt.figure(figsize=(15, 10))\nsns.barplot(x='skill_percent', y='skill', hue='job_title_final', data=merged_df, order=sorted_skills['skill'], palette='Blues_r')\n# Labels and Title\nplt.xlabel('Demand for Skill in Job Postings (%)')\nplt.ylabel('')\nplt.title('Top Requested Skills for Data Science Jobs')\n# Show the plot\nplt.show()",
      "outputs": []
    }
  ]
}