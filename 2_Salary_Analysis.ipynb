{
  "nbformat": 4,
  "nbformat_minor": 5,
  "metadata": {
    "noteable-chatgpt": {
      "create_notebook": {
        "openai_conversation_id": "aa524877-e0c8-5911-bf6f-6c0f1c5f1ef1",
        "openai_ephemeral_user_id": "8333b914-3a5e-55a2-9772-739b532e47bc",
        "openai_subdivision1_iso_code": "US-AR"
      }
    },
    "kernel_info": {
      "name": "python3"
    },
    "kernelspec": {
      "display_name": "Python 3.9",
      "identifier": "legacy",
      "language": "python",
      "language_version": "3.9",
      "name": "python3"
    },
    "selected_hardware_size": "small"
  },
  "cells": [
    {
      "id": "8003bfbb-7997-4a6b-b3f2-f2751dc9fe52",
      "cell_type": "code",
      "metadata": {
        "noteable": {
          "assign_results_to": "sql_df_wkoz",
          "cell_type": "sql",
          "db_connection": "@5a5b9a444479436dbc1def18003d36d0",
          "output_collection_id": "af5950bc-eb8e-4870-bb3b-83ecffcabd1e"
        },
        "ExecuteTime": {
          "end_time": "2023-11-02T14:49:43.535677+00:00",
          "start_time": "2023-11-02T14:49:41.849882+00:00"
        },
        "datalink": {
          "4f9537df-8cbc-4ec8-a3d4-5cf625646cd5": {
            "applied_filters": [],
            "dataframe_info": {
              "default_index_used": true,
              "orig_num_cols": 3,
              "orig_num_rows": 1,
              "orig_size_bytes": 32,
              "truncated_num_cols": 3,
              "truncated_num_rows": 1,
              "truncated_size_bytes": 32,
              "truncated_string_columns": []
            },
            "display_id": "4f9537df-8cbc-4ec8-a3d4-5cf625646cd5",
            "dx_settings": {
              "ALLOW_NOTEABLE_ATTRS": true,
              "COLUMN_SAMPLING_METHOD": "outer",
              "DB_LOCATION": ":memory:",
              "DEV_MODE": false,
              "DISPLAY_MAX_COLUMNS": 100,
              "DISPLAY_MAX_ROWS": 50000,
              "DISPLAY_MODE": "simple",
              "ENABLE_ASSIGNMENT": true,
              "ENABLE_DATALINK": true,
              "FLATTEN_COLUMN_VALUES": true,
              "FLATTEN_INDEX_VALUES": false,
              "GENERATE_DEX_METADATA": false,
              "HTML_TABLE_SCHEMA": false,
              "LOG_LEVEL": 30,
              "MAX_RENDER_SIZE_BYTES": 104857600,
              "MAX_STRING_LENGTH": 250,
              "NUM_PAST_SAMPLES_TRACKED": 3,
              "RANDOM_STATE": 12648430,
              "RESET_INDEX_VALUES": false,
              "ROW_SAMPLING_METHOD": "random",
              "SAMPLING_FACTOR": 0.1,
              "SAMPLING_METHOD": "random",
              "STRINGIFY_COLUMN_VALUES": true,
              "STRINGIFY_INDEX_VALUES": false
            },
            "sample_history": [],
            "sampling_time": "2023-11-02T14:49:43.374829",
            "user_variable_name": null,
            "variable_name": "unk_dataframe_d6258f6d1c654568a3629d19ba7896d6"
          }
        }
      },
      "execution_count": null,
      "source": "-- Listing all tables in the 'Data Nerd Jobs' data connection\n\\list",
      "outputs": []
    },
    {
      "id": "687ce271-1af7-4963-8183-8c1375c7e521",
      "cell_type": "code",
      "metadata": {
        "noteable": {
          "assign_results_to": "sql_df_lckb",
          "cell_type": "sql",
          "db_connection": "@5a5b9a444479436dbc1def18003d36d0",
          "output_collection_id": "93f1ddba-3cb2-4d2b-9572-05bba01e2c3f"
        },
        "ExecuteTime": {
          "end_time": "2023-11-02T20:08:42.864140+00:00",
          "start_time": "2023-11-02T20:08:40.542092+00:00"
        },
        "datalink": {
          "93d203ce-a01b-4a23-bc6a-ab85a45bad52": {
            "applied_filters": [],
            "dataframe_info": {
              "default_index_used": true,
              "orig_num_cols": 18,
              "orig_num_rows": 45,
              "orig_size_bytes": 6840,
              "truncated_num_cols": 18,
              "truncated_num_rows": 45,
              "truncated_size_bytes": 6840,
              "truncated_string_columns": []
            },
            "display_id": "93d203ce-a01b-4a23-bc6a-ab85a45bad52",
            "dx_settings": {
              "ALLOW_NOTEABLE_ATTRS": true,
              "COLUMN_SAMPLING_METHOD": "outer",
              "DB_LOCATION": ":memory:",
              "DEV_MODE": false,
              "DISPLAY_MAX_COLUMNS": 100,
              "DISPLAY_MAX_ROWS": 50000,
              "DISPLAY_MODE": "simple",
              "ENABLE_ASSIGNMENT": true,
              "ENABLE_DATALINK": true,
              "FLATTEN_COLUMN_VALUES": true,
              "FLATTEN_INDEX_VALUES": false,
              "GENERATE_DEX_METADATA": false,
              "HTML_TABLE_SCHEMA": false,
              "LOG_LEVEL": 30,
              "MAX_RENDER_SIZE_BYTES": 104857600,
              "MAX_STRING_LENGTH": 250,
              "NUM_PAST_SAMPLES_TRACKED": 3,
              "RANDOM_STATE": 12648430,
              "RESET_INDEX_VALUES": false,
              "ROW_SAMPLING_METHOD": "random",
              "SAMPLING_FACTOR": 0.1,
              "SAMPLING_METHOD": "random",
              "STRINGIFY_COLUMN_VALUES": true,
              "STRINGIFY_INDEX_VALUES": false
            },
            "sample_history": [],
            "sampling_time": "2023-11-02T15:14:39.099014",
            "user_variable_name": "sql_df_lckb",
            "variable_name": "sql_df_lckb"
          },
          "51994245-731c-4ca3-8eac-2667b971e028": {
            "applied_filters": [],
            "dataframe_info": {
              "default_index_used": true,
              "orig_num_cols": 18,
              "orig_num_rows": 45,
              "orig_size_bytes": 6840,
              "truncated_num_cols": 18,
              "truncated_num_rows": 45,
              "truncated_size_bytes": 6840,
              "truncated_string_columns": []
            },
            "display_id": "51994245-731c-4ca3-8eac-2667b971e028",
            "dx_settings": {
              "ALLOW_NOTEABLE_ATTRS": true,
              "COLUMN_SAMPLING_METHOD": "outer",
              "DB_LOCATION": ":memory:",
              "DEV_MODE": false,
              "DISPLAY_MAX_COLUMNS": 100,
              "DISPLAY_MAX_ROWS": 50000,
              "DISPLAY_MODE": "simple",
              "ENABLE_ASSIGNMENT": true,
              "ENABLE_DATALINK": true,
              "FLATTEN_COLUMN_VALUES": true,
              "FLATTEN_INDEX_VALUES": false,
              "GENERATE_DEX_METADATA": false,
              "HTML_TABLE_SCHEMA": false,
              "LOG_LEVEL": 30,
              "MAX_RENDER_SIZE_BYTES": 104857600,
              "MAX_STRING_LENGTH": 250,
              "NUM_PAST_SAMPLES_TRACKED": 3,
              "RANDOM_STATE": 12648430,
              "RESET_INDEX_VALUES": false,
              "ROW_SAMPLING_METHOD": "random",
              "SAMPLING_FACTOR": 0.1,
              "SAMPLING_METHOD": "random",
              "STRINGIFY_COLUMN_VALUES": true,
              "STRINGIFY_INDEX_VALUES": false
            },
            "sample_history": [],
            "sampling_time": "2023-11-02T20:08:42.698064",
            "user_variable_name": "sql_df_lckb",
            "variable_name": "sql_df_lckb"
          }
        }
      },
      "execution_count": null,
      "source": "-- Retrieving the schema of the 'data_nerd_jobs' table\nSELECT * FROM `public_job_listings.INFORMATION_SCHEMA.COLUMNS`\nWHERE table_name = 'data_nerd_jobs';",
      "outputs": []
    },
    {
      "id": "857f1ff6-f064-4e5b-9ae4-0cc4dbba263b",
      "cell_type": "code",
      "metadata": {
        "noteable": {
          "cell_type": "code",
          "output_collection_id": "9950703f-9e39-4730-855c-4071cc002ec8"
        },
        "ExecuteTime": {
          "end_time": "2023-11-02T20:09:38.068778+00:00",
          "start_time": "2023-11-02T20:09:37.888111+00:00"
        },
        "datalink": {
          "81181a99-e53b-4562-b8de-a70598dfc54f": {
            "applied_filters": [],
            "dataframe_info": {
              "default_index_used": true,
              "orig_num_cols": 2,
              "orig_num_rows": 8,
              "orig_size_bytes": 192,
              "truncated_num_cols": 2,
              "truncated_num_rows": 8,
              "truncated_size_bytes": 192,
              "truncated_string_columns": []
            },
            "display_id": "81181a99-e53b-4562-b8de-a70598dfc54f",
            "dx_settings": {
              "ALLOW_NOTEABLE_ATTRS": true,
              "COLUMN_SAMPLING_METHOD": "outer",
              "DB_LOCATION": ":memory:",
              "DEV_MODE": false,
              "DISPLAY_MAX_COLUMNS": 100,
              "DISPLAY_MAX_ROWS": 50000,
              "DISPLAY_MODE": "simple",
              "ENABLE_ASSIGNMENT": true,
              "ENABLE_DATALINK": true,
              "FLATTEN_COLUMN_VALUES": true,
              "FLATTEN_INDEX_VALUES": false,
              "GENERATE_DEX_METADATA": false,
              "HTML_TABLE_SCHEMA": false,
              "LOG_LEVEL": 30,
              "MAX_RENDER_SIZE_BYTES": 104857600,
              "MAX_STRING_LENGTH": 250,
              "NUM_PAST_SAMPLES_TRACKED": 3,
              "RANDOM_STATE": 12648430,
              "RESET_INDEX_VALUES": false,
              "ROW_SAMPLING_METHOD": "random",
              "SAMPLING_FACTOR": 0.1,
              "SAMPLING_METHOD": "random",
              "STRINGIFY_COLUMN_VALUES": true,
              "STRINGIFY_INDEX_VALUES": false
            },
            "sample_history": [],
            "sampling_time": "2023-11-02T20:09:37.910705",
            "user_variable_name": null,
            "variable_name": "unk_dataframe_38494b3c1fb64f42a132eff5dc9b6cfe"
          }
        }
      },
      "execution_count": null,
      "source": "# Filtering columns that contain the word 'salary'\nsalary_columns = sql_df_lckb[sql_df_lckb['column_name'].str.contains('salary', case=False, na=False)]\nsalary_columns[['column_name', 'data_type']]",
      "outputs": []
    },
    {
      "id": "a0a3af73-be7f-4880-8da0-42c15a30e4e2",
      "cell_type": "code",
      "metadata": {
        "noteable": {
          "assign_results_to": "sql_df_sjlc",
          "cell_type": "sql",
          "db_connection": "@5a5b9a444479436dbc1def18003d36d0",
          "output_collection_id": "ede05ee2-4839-47fd-a39c-c72b04b3a6f3"
        },
        "ExecuteTime": {
          "end_time": "2023-11-02T20:12:34.596002+00:00",
          "start_time": "2023-11-02T20:12:32.941596+00:00"
        },
        "datalink": {
          "a7c331c5-4e1e-4624-9476-8adfe4fb6748": {
            "applied_filters": [],
            "dataframe_info": {
              "default_index_used": true,
              "orig_num_cols": 6,
              "orig_num_rows": 5,
              "orig_size_bytes": 280,
              "truncated_num_cols": 6,
              "truncated_num_rows": 5,
              "truncated_size_bytes": 280,
              "truncated_string_columns": []
            },
            "display_id": "a7c331c5-4e1e-4624-9476-8adfe4fb6748",
            "dx_settings": {
              "ALLOW_NOTEABLE_ATTRS": true,
              "COLUMN_SAMPLING_METHOD": "outer",
              "DB_LOCATION": ":memory:",
              "DEV_MODE": false,
              "DISPLAY_MAX_COLUMNS": 100,
              "DISPLAY_MAX_ROWS": 50000,
              "DISPLAY_MODE": "simple",
              "ENABLE_ASSIGNMENT": true,
              "ENABLE_DATALINK": true,
              "FLATTEN_COLUMN_VALUES": true,
              "FLATTEN_INDEX_VALUES": false,
              "GENERATE_DEX_METADATA": false,
              "HTML_TABLE_SCHEMA": false,
              "LOG_LEVEL": 30,
              "MAX_RENDER_SIZE_BYTES": 104857600,
              "MAX_STRING_LENGTH": 250,
              "NUM_PAST_SAMPLES_TRACKED": 3,
              "RANDOM_STATE": 12648430,
              "RESET_INDEX_VALUES": false,
              "ROW_SAMPLING_METHOD": "random",
              "SAMPLING_FACTOR": 0.1,
              "SAMPLING_METHOD": "random",
              "STRINGIFY_COLUMN_VALUES": true,
              "STRINGIFY_INDEX_VALUES": false
            },
            "sample_history": [],
            "sampling_time": "2023-11-02T20:11:49.738230",
            "user_variable_name": "sql_df_sjlc",
            "variable_name": "sql_df_sjlc"
          },
          "45aea2cc-3fee-4911-9e9b-de82ee3dd9f7": {
            "applied_filters": [],
            "dataframe_info": {
              "default_index_used": true,
              "orig_num_cols": 8,
              "orig_num_rows": 10,
              "orig_size_bytes": 720,
              "truncated_num_cols": 8,
              "truncated_num_rows": 10,
              "truncated_size_bytes": 720,
              "truncated_string_columns": []
            },
            "display_id": "45aea2cc-3fee-4911-9e9b-de82ee3dd9f7",
            "dx_settings": {
              "ALLOW_NOTEABLE_ATTRS": true,
              "COLUMN_SAMPLING_METHOD": "outer",
              "DB_LOCATION": ":memory:",
              "DEV_MODE": false,
              "DISPLAY_MAX_COLUMNS": 100,
              "DISPLAY_MAX_ROWS": 50000,
              "DISPLAY_MODE": "simple",
              "ENABLE_ASSIGNMENT": true,
              "ENABLE_DATALINK": true,
              "FLATTEN_COLUMN_VALUES": true,
              "FLATTEN_INDEX_VALUES": false,
              "GENERATE_DEX_METADATA": false,
              "HTML_TABLE_SCHEMA": false,
              "LOG_LEVEL": 30,
              "MAX_RENDER_SIZE_BYTES": 104857600,
              "MAX_STRING_LENGTH": 250,
              "NUM_PAST_SAMPLES_TRACKED": 3,
              "RANDOM_STATE": 12648430,
              "RESET_INDEX_VALUES": false,
              "ROW_SAMPLING_METHOD": "random",
              "SAMPLING_FACTOR": 0.1,
              "SAMPLING_METHOD": "random",
              "STRINGIFY_COLUMN_VALUES": true,
              "STRINGIFY_INDEX_VALUES": false
            },
            "sample_history": [],
            "sampling_time": "2023-11-02T20:12:34.436570",
            "user_variable_name": "sql_df_sjlc",
            "variable_name": "sql_df_sjlc"
          }
        }
      },
      "execution_count": null,
      "source": "-- Retrieving a sample of salary-related columns without blank rows\nSELECT job_salary, salary_pay, salary_rate, salary_avg, salary_max, salary_min, salary_year, salary_hour\nFROM `public_job_listings.data_nerd_jobs`\nWHERE job_salary IS NOT NULL AND salary_pay IS NOT NULL AND salary_rate IS NOT NULL AND salary_avg IS NOT NULL AND salary_max IS NOT NULL AND salary_min IS NOT NULL\nLIMIT 10;",
      "outputs": []
    }
  ]
}