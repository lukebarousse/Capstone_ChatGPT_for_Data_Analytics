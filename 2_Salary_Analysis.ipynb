{
  "nbformat": 4,
  "nbformat_minor": 5,
  "metadata": {
    "noteable-chatgpt": {
      "create_notebook": {
        "openai_conversation_id": "aa524877-e0c8-5911-bf6f-6c0f1c5f1ef1",
        "openai_ephemeral_user_id": "8333b914-3a5e-55a2-9772-739b532e47bc",
        "openai_subdivision1_iso_code": "US-AR"
      }
    },
    "kernel_info": {
      "name": "python3"
    },
    "kernelspec": {
      "display_name": "Python 3.9",
      "identifier": "legacy",
      "language": "python",
      "language_version": "3.9",
      "name": "python3"
    },
    "selected_hardware_size": "small"
  },
  "cells": [
    {
      "id": "d773e07e-93d6-448c-84ed-560e3fbb7b39",
      "cell_type": "markdown",
      "source": "### Listing Tables in Data Connection\n\nExploring the tables available in the 'Data Nerd Jobs' data connection.",
      "metadata": {
        "noteable": {
          "cell_type": "markdown"
        }
      }
    },
    {
      "id": "8003bfbb-7997-4a6b-b3f2-f2751dc9fe52",
      "cell_type": "code",
      "metadata": {
        "noteable": {
          "assign_results_to": "sql_df_wkoz",
          "cell_type": "sql",
          "db_connection": "@5a5b9a444479436dbc1def18003d36d0",
          "output_collection_id": "af5950bc-eb8e-4870-bb3b-83ecffcabd1e"
        },
        "ExecuteTime": {
          "end_time": "2023-11-02T14:49:43.535677+00:00",
          "start_time": "2023-11-02T14:49:41.849882+00:00"
        },
        "datalink": {
          "4f9537df-8cbc-4ec8-a3d4-5cf625646cd5": {
            "applied_filters": [],
            "dataframe_info": {
              "default_index_used": true,
              "orig_num_cols": 3,
              "orig_num_rows": 1,
              "orig_size_bytes": 32,
              "truncated_num_cols": 3,
              "truncated_num_rows": 1,
              "truncated_size_bytes": 32,
              "truncated_string_columns": []
            },
            "display_id": "4f9537df-8cbc-4ec8-a3d4-5cf625646cd5",
            "dx_settings": {
              "ALLOW_NOTEABLE_ATTRS": true,
              "COLUMN_SAMPLING_METHOD": "outer",
              "DB_LOCATION": ":memory:",
              "DEV_MODE": false,
              "DISPLAY_MAX_COLUMNS": 100,
              "DISPLAY_MAX_ROWS": 50000,
              "DISPLAY_MODE": "simple",
              "ENABLE_ASSIGNMENT": true,
              "ENABLE_DATALINK": true,
              "FLATTEN_COLUMN_VALUES": true,
              "FLATTEN_INDEX_VALUES": false,
              "GENERATE_DEX_METADATA": false,
              "HTML_TABLE_SCHEMA": false,
              "LOG_LEVEL": 30,
              "MAX_RENDER_SIZE_BYTES": 104857600,
              "MAX_STRING_LENGTH": 250,
              "NUM_PAST_SAMPLES_TRACKED": 3,
              "RANDOM_STATE": 12648430,
              "RESET_INDEX_VALUES": false,
              "ROW_SAMPLING_METHOD": "random",
              "SAMPLING_FACTOR": 0.1,
              "SAMPLING_METHOD": "random",
              "STRINGIFY_COLUMN_VALUES": true,
              "STRINGIFY_INDEX_VALUES": false
            },
            "sample_history": [],
            "sampling_time": "2023-11-02T14:49:43.374829",
            "user_variable_name": null,
            "variable_name": "unk_dataframe_d6258f6d1c654568a3629d19ba7896d6"
          }
        }
      },
      "execution_count": null,
      "source": "-- Listing all tables in the 'Data Nerd Jobs' data connection\n\\list",
      "outputs": []
    },
    {
      "id": "687ce271-1af7-4963-8183-8c1375c7e521",
      "cell_type": "code",
      "metadata": {
        "noteable": {
          "assign_results_to": "sql_df_lckb",
          "cell_type": "sql",
          "db_connection": "@5a5b9a444479436dbc1def18003d36d0",
          "output_collection_id": "93f1ddba-3cb2-4d2b-9572-05bba01e2c3f"
        },
        "ExecuteTime": {
          "end_time": "2023-11-02T20:08:42.864140+00:00",
          "start_time": "2023-11-02T20:08:40.542092+00:00"
        },
        "datalink": {
          "93d203ce-a01b-4a23-bc6a-ab85a45bad52": {
            "applied_filters": [],
            "dataframe_info": {
              "default_index_used": true,
              "orig_num_cols": 18,
              "orig_num_rows": 45,
              "orig_size_bytes": 6840,
              "truncated_num_cols": 18,
              "truncated_num_rows": 45,
              "truncated_size_bytes": 6840,
              "truncated_string_columns": []
            },
            "display_id": "93d203ce-a01b-4a23-bc6a-ab85a45bad52",
            "dx_settings": {
              "ALLOW_NOTEABLE_ATTRS": true,
              "COLUMN_SAMPLING_METHOD": "outer",
              "DB_LOCATION": ":memory:",
              "DEV_MODE": false,
              "DISPLAY_MAX_COLUMNS": 100,
              "DISPLAY_MAX_ROWS": 50000,
              "DISPLAY_MODE": "simple",
              "ENABLE_ASSIGNMENT": true,
              "ENABLE_DATALINK": true,
              "FLATTEN_COLUMN_VALUES": true,
              "FLATTEN_INDEX_VALUES": false,
              "GENERATE_DEX_METADATA": false,
              "HTML_TABLE_SCHEMA": false,
              "LOG_LEVEL": 30,
              "MAX_RENDER_SIZE_BYTES": 104857600,
              "MAX_STRING_LENGTH": 250,
              "NUM_PAST_SAMPLES_TRACKED": 3,
              "RANDOM_STATE": 12648430,
              "RESET_INDEX_VALUES": false,
              "ROW_SAMPLING_METHOD": "random",
              "SAMPLING_FACTOR": 0.1,
              "SAMPLING_METHOD": "random",
              "STRINGIFY_COLUMN_VALUES": true,
              "STRINGIFY_INDEX_VALUES": false
            },
            "sample_history": [],
            "sampling_time": "2023-11-02T15:14:39.099014",
            "user_variable_name": "sql_df_lckb",
            "variable_name": "sql_df_lckb"
          },
          "51994245-731c-4ca3-8eac-2667b971e028": {
            "applied_filters": [],
            "dataframe_info": {
              "default_index_used": true,
              "orig_num_cols": 18,
              "orig_num_rows": 45,
              "orig_size_bytes": 6840,
              "truncated_num_cols": 18,
              "truncated_num_rows": 45,
              "truncated_size_bytes": 6840,
              "truncated_string_columns": []
            },
            "display_id": "51994245-731c-4ca3-8eac-2667b971e028",
            "dx_settings": {
              "ALLOW_NOTEABLE_ATTRS": true,
              "COLUMN_SAMPLING_METHOD": "outer",
              "DB_LOCATION": ":memory:",
              "DEV_MODE": false,
              "DISPLAY_MAX_COLUMNS": 100,
              "DISPLAY_MAX_ROWS": 50000,
              "DISPLAY_MODE": "simple",
              "ENABLE_ASSIGNMENT": true,
              "ENABLE_DATALINK": true,
              "FLATTEN_COLUMN_VALUES": true,
              "FLATTEN_INDEX_VALUES": false,
              "GENERATE_DEX_METADATA": false,
              "HTML_TABLE_SCHEMA": false,
              "LOG_LEVEL": 30,
              "MAX_RENDER_SIZE_BYTES": 104857600,
              "MAX_STRING_LENGTH": 250,
              "NUM_PAST_SAMPLES_TRACKED": 3,
              "RANDOM_STATE": 12648430,
              "RESET_INDEX_VALUES": false,
              "ROW_SAMPLING_METHOD": "random",
              "SAMPLING_FACTOR": 0.1,
              "SAMPLING_METHOD": "random",
              "STRINGIFY_COLUMN_VALUES": true,
              "STRINGIFY_INDEX_VALUES": false
            },
            "sample_history": [],
            "sampling_time": "2023-11-02T20:08:42.698064",
            "user_variable_name": "sql_df_lckb",
            "variable_name": "sql_df_lckb"
          }
        }
      },
      "execution_count": null,
      "source": "-- Retrieving the schema of the 'data_nerd_jobs' table\nSELECT * FROM `public_job_listings.INFORMATION_SCHEMA.COLUMNS`\nWHERE table_name = 'data_nerd_jobs';",
      "outputs": []
    },
    {
      "id": "7d742b8d-c511-4978-9bcd-ec1703fc9d72",
      "cell_type": "markdown",
      "source": "### Sample Data for Salary Columns\n\nDisplaying a sample of data from the columns that contain the word 'salary'.",
      "metadata": {
        "noteable": {
          "cell_type": "markdown"
        }
      }
    },
    {
      "id": "857f1ff6-f064-4e5b-9ae4-0cc4dbba263b",
      "cell_type": "code",
      "metadata": {
        "noteable": {
          "cell_type": "code",
          "output_collection_id": "9950703f-9e39-4730-855c-4071cc002ec8"
        },
        "ExecuteTime": {
          "end_time": "2023-11-02T20:09:38.068778+00:00",
          "start_time": "2023-11-02T20:09:37.888111+00:00"
        },
        "datalink": {
          "81181a99-e53b-4562-b8de-a70598dfc54f": {
            "applied_filters": [],
            "dataframe_info": {
              "default_index_used": true,
              "orig_num_cols": 2,
              "orig_num_rows": 8,
              "orig_size_bytes": 192,
              "truncated_num_cols": 2,
              "truncated_num_rows": 8,
              "truncated_size_bytes": 192,
              "truncated_string_columns": []
            },
            "display_id": "81181a99-e53b-4562-b8de-a70598dfc54f",
            "dx_settings": {
              "ALLOW_NOTEABLE_ATTRS": true,
              "COLUMN_SAMPLING_METHOD": "outer",
              "DB_LOCATION": ":memory:",
              "DEV_MODE": false,
              "DISPLAY_MAX_COLUMNS": 100,
              "DISPLAY_MAX_ROWS": 50000,
              "DISPLAY_MODE": "simple",
              "ENABLE_ASSIGNMENT": true,
              "ENABLE_DATALINK": true,
              "FLATTEN_COLUMN_VALUES": true,
              "FLATTEN_INDEX_VALUES": false,
              "GENERATE_DEX_METADATA": false,
              "HTML_TABLE_SCHEMA": false,
              "LOG_LEVEL": 30,
              "MAX_RENDER_SIZE_BYTES": 104857600,
              "MAX_STRING_LENGTH": 250,
              "NUM_PAST_SAMPLES_TRACKED": 3,
              "RANDOM_STATE": 12648430,
              "RESET_INDEX_VALUES": false,
              "ROW_SAMPLING_METHOD": "random",
              "SAMPLING_FACTOR": 0.1,
              "SAMPLING_METHOD": "random",
              "STRINGIFY_COLUMN_VALUES": true,
              "STRINGIFY_INDEX_VALUES": false
            },
            "sample_history": [],
            "sampling_time": "2023-11-02T20:09:37.910705",
            "user_variable_name": null,
            "variable_name": "unk_dataframe_38494b3c1fb64f42a132eff5dc9b6cfe"
          }
        }
      },
      "execution_count": null,
      "source": "# Filtering columns that contain the word 'salary'\nsalary_columns = sql_df_lckb[sql_df_lckb['column_name'].str.contains('salary', case=False, na=False)]\nsalary_columns[['column_name', 'data_type']]",
      "outputs": []
    },
    {
      "id": "a0a3af73-be7f-4880-8da0-42c15a30e4e2",
      "cell_type": "code",
      "metadata": {
        "noteable": {
          "assign_results_to": "sql_df_sjlc",
          "cell_type": "sql",
          "db_connection": "@5a5b9a444479436dbc1def18003d36d0",
          "output_collection_id": "ede05ee2-4839-47fd-a39c-c72b04b3a6f3"
        },
        "ExecuteTime": {
          "end_time": "2023-11-02T20:12:34.596002+00:00",
          "start_time": "2023-11-02T20:12:32.941596+00:00"
        },
        "datalink": {
          "a7c331c5-4e1e-4624-9476-8adfe4fb6748": {
            "applied_filters": [],
            "dataframe_info": {
              "default_index_used": true,
              "orig_num_cols": 6,
              "orig_num_rows": 5,
              "orig_size_bytes": 280,
              "truncated_num_cols": 6,
              "truncated_num_rows": 5,
              "truncated_size_bytes": 280,
              "truncated_string_columns": []
            },
            "display_id": "a7c331c5-4e1e-4624-9476-8adfe4fb6748",
            "dx_settings": {
              "ALLOW_NOTEABLE_ATTRS": true,
              "COLUMN_SAMPLING_METHOD": "outer",
              "DB_LOCATION": ":memory:",
              "DEV_MODE": false,
              "DISPLAY_MAX_COLUMNS": 100,
              "DISPLAY_MAX_ROWS": 50000,
              "DISPLAY_MODE": "simple",
              "ENABLE_ASSIGNMENT": true,
              "ENABLE_DATALINK": true,
              "FLATTEN_COLUMN_VALUES": true,
              "FLATTEN_INDEX_VALUES": false,
              "GENERATE_DEX_METADATA": false,
              "HTML_TABLE_SCHEMA": false,
              "LOG_LEVEL": 30,
              "MAX_RENDER_SIZE_BYTES": 104857600,
              "MAX_STRING_LENGTH": 250,
              "NUM_PAST_SAMPLES_TRACKED": 3,
              "RANDOM_STATE": 12648430,
              "RESET_INDEX_VALUES": false,
              "ROW_SAMPLING_METHOD": "random",
              "SAMPLING_FACTOR": 0.1,
              "SAMPLING_METHOD": "random",
              "STRINGIFY_COLUMN_VALUES": true,
              "STRINGIFY_INDEX_VALUES": false
            },
            "sample_history": [],
            "sampling_time": "2023-11-02T20:11:49.738230",
            "user_variable_name": "sql_df_sjlc",
            "variable_name": "sql_df_sjlc"
          },
          "45aea2cc-3fee-4911-9e9b-de82ee3dd9f7": {
            "applied_filters": [],
            "dataframe_info": {
              "default_index_used": true,
              "orig_num_cols": 8,
              "orig_num_rows": 10,
              "orig_size_bytes": 720,
              "truncated_num_cols": 8,
              "truncated_num_rows": 10,
              "truncated_size_bytes": 720,
              "truncated_string_columns": []
            },
            "display_id": "45aea2cc-3fee-4911-9e9b-de82ee3dd9f7",
            "dx_settings": {
              "ALLOW_NOTEABLE_ATTRS": true,
              "COLUMN_SAMPLING_METHOD": "outer",
              "DB_LOCATION": ":memory:",
              "DEV_MODE": false,
              "DISPLAY_MAX_COLUMNS": 100,
              "DISPLAY_MAX_ROWS": 50000,
              "DISPLAY_MODE": "simple",
              "ENABLE_ASSIGNMENT": true,
              "ENABLE_DATALINK": true,
              "FLATTEN_COLUMN_VALUES": true,
              "FLATTEN_INDEX_VALUES": false,
              "GENERATE_DEX_METADATA": false,
              "HTML_TABLE_SCHEMA": false,
              "LOG_LEVEL": 30,
              "MAX_RENDER_SIZE_BYTES": 104857600,
              "MAX_STRING_LENGTH": 250,
              "NUM_PAST_SAMPLES_TRACKED": 3,
              "RANDOM_STATE": 12648430,
              "RESET_INDEX_VALUES": false,
              "ROW_SAMPLING_METHOD": "random",
              "SAMPLING_FACTOR": 0.1,
              "SAMPLING_METHOD": "random",
              "STRINGIFY_COLUMN_VALUES": true,
              "STRINGIFY_INDEX_VALUES": false
            },
            "sample_history": [],
            "sampling_time": "2023-11-02T20:12:34.436570",
            "user_variable_name": "sql_df_sjlc",
            "variable_name": "sql_df_sjlc"
          }
        }
      },
      "execution_count": null,
      "source": "-- Retrieving a sample of salary-related columns without blank rows\nSELECT job_salary, salary_pay, salary_rate, salary_avg, salary_max, salary_min, salary_year, salary_hour\nFROM `public_job_listings.data_nerd_jobs`\nWHERE job_salary IS NOT NULL AND salary_pay IS NOT NULL AND salary_rate IS NOT NULL AND salary_avg IS NOT NULL AND salary_max IS NOT NULL AND salary_min IS NOT NULL\nLIMIT 10;",
      "outputs": []
    },
    {
      "id": "5e802729-bd26-4561-8b5a-a64b12fe1825",
      "cell_type": "code",
      "metadata": {
        "noteable": {
          "cell_type": "code"
        }
      },
      "execution_count": null,
      "source": "# Importing necessary libraries for EDA\nimport seaborn as sns\nimport matplotlib.pyplot as plt\n\n# Setting the aesthetic style of the plots\nsns.set(style='darkgrid')\nplt.style.use('dark_background')\n\n# Descriptive statistics for 'salary_year'\ndescriptive_stats_salary_year = sql_df_sjlc['salary_year'].describe()\n\n# Descriptive statistics for 'salary_hour'\ndescriptive_stats_salary_hour = sql_df_sjlc['salary_hour'].describe()\n\n# Displaying the descriptive statistics\n(descriptive_stats_salary_year, descriptive_stats_salary_hour)",
      "outputs": []
    },
    {
      "id": "daae7fb6-8c0f-4bd9-ac80-d3b13fc94484",
      "cell_type": "code",
      "metadata": {
        "noteable": {
          "assign_results_to": "sql_df_ottn",
          "cell_type": "sql",
          "db_connection": "@5a5b9a444479436dbc1def18003d36d0",
          "output_collection_id": "443957bb-2691-4344-8bb1-b0bda0a944bc"
        },
        "ExecuteTime": {
          "end_time": "2023-11-02T20:15:10.303435+00:00",
          "start_time": "2023-11-02T20:15:07.716403+00:00"
        },
        "datalink": {
          "ca94488e-dba7-4e4a-9494-f9ddb90af851": {
            "applied_filters": [],
            "dataframe_info": {
              "default_index_used": true,
              "orig_num_cols": 2,
              "orig_num_rows": 37355,
              "orig_size_bytes": 896520,
              "truncated_num_cols": 2,
              "truncated_num_rows": 37355,
              "truncated_size_bytes": 896520,
              "truncated_string_columns": []
            },
            "display_id": "ca94488e-dba7-4e4a-9494-f9ddb90af851",
            "dx_settings": {
              "ALLOW_NOTEABLE_ATTRS": true,
              "COLUMN_SAMPLING_METHOD": "outer",
              "DB_LOCATION": ":memory:",
              "DEV_MODE": false,
              "DISPLAY_MAX_COLUMNS": 100,
              "DISPLAY_MAX_ROWS": 50000,
              "DISPLAY_MODE": "simple",
              "ENABLE_ASSIGNMENT": true,
              "ENABLE_DATALINK": true,
              "FLATTEN_COLUMN_VALUES": true,
              "FLATTEN_INDEX_VALUES": false,
              "GENERATE_DEX_METADATA": false,
              "HTML_TABLE_SCHEMA": false,
              "LOG_LEVEL": 30,
              "MAX_RENDER_SIZE_BYTES": 104857600,
              "MAX_STRING_LENGTH": 250,
              "NUM_PAST_SAMPLES_TRACKED": 3,
              "RANDOM_STATE": 12648430,
              "RESET_INDEX_VALUES": false,
              "ROW_SAMPLING_METHOD": "random",
              "SAMPLING_FACTOR": 0.1,
              "SAMPLING_METHOD": "random",
              "STRINGIFY_COLUMN_VALUES": true,
              "STRINGIFY_INDEX_VALUES": false
            },
            "sample_history": [],
            "sampling_time": "2023-11-02T20:15:10.106639",
            "user_variable_name": "sql_df_ottn",
            "variable_name": "sql_df_ottn"
          }
        }
      },
      "execution_count": null,
      "source": "-- Retrieving 'salary_year' and 'salary_hour' columns\nSELECT salary_year, salary_hour\nFROM `public_job_listings.data_nerd_jobs`\nWHERE salary_year IS NOT NULL OR salary_hour IS NOT NULL;",
      "outputs": []
    },
    {
      "id": "c8243e0d-76fb-422b-ace6-ca8b20086762",
      "cell_type": "code",
      "metadata": {
        "noteable": {
          "cell_type": "code",
          "output_collection_id": "5a3cb8a7-c0a5-4cd8-97d5-8301ece62f0f"
        },
        "ExecuteTime": {
          "end_time": "2023-11-02T20:16:04.246686+00:00",
          "start_time": "2023-11-02T20:16:03.729443+00:00"
        }
      },
      "execution_count": null,
      "source": "# Importing necessary libraries for EDA\nimport seaborn as sns\nimport matplotlib.pyplot as plt\n\n# Setting the aesthetic style of the plots\nsns.set(style='darkgrid')\nplt.style.use('dark_background')\n\n# Converting the SQL results to a DataFrame\nsalary_df = sql_df_ottn.copy()\n\n# Descriptive statistics for 'salary_year'\ndescriptive_stats_salary_year = salary_df['salary_year'].describe()\n\n# Descriptive statistics for 'salary_hour'\ndescriptive_stats_salary_hour = salary_df['salary_hour'].describe()\n\n# Displaying the descriptive statistics\n(descriptive_stats_salary_year, descriptive_stats_salary_hour)",
      "outputs": []
    },
    {
      "id": "67ccbdb4-7938-4353-8392-c5e0df469686",
      "cell_type": "code",
      "metadata": {
        "noteable": {
          "cell_type": "code",
          "output_collection_id": "bbd4d3c1-68f3-4369-81c0-158c043d40d5"
        },
        "ExecuteTime": {
          "end_time": "2023-11-02T20:20:42.223968+00:00",
          "start_time": "2023-11-02T20:20:41.287489+00:00"
        }
      },
      "execution_count": null,
      "source": "# Histogram for 'salary_year' with increased number of bins\nplt.figure(figsize=(10, 6))\nsns.histplot(salary_df['salary_year'].dropna(), bins=60, kde=False, color='skyblue')\nplt.title('Distribution of Yearly Salaries')\nplt.xlabel('Yearly Salary ($)')\nplt.ylabel('Frequency')\nplt.show()\n\n# Histogram for 'salary_hour' with increased number of bins\nplt.figure(figsize=(10, 6))\nsns.histplot(salary_df['salary_hour'].dropna(), bins=60, kde=False, color='skyblue')\nplt.title('Distribution of Hourly Wages')\nplt.xlabel('Hourly Wage ($)')\nplt.ylabel('Frequency')\nplt.show()",
      "outputs": []
    },
    {
      "id": "053627b0-9594-4dd4-a1a8-6b50f382c9fd",
      "cell_type": "code",
      "metadata": {
        "noteable": {
          "cell_type": "code",
          "output_collection_id": "f325371c-0be6-48a5-a03f-9ab26cd21f90"
        },
        "ExecuteTime": {
          "end_time": "2023-11-02T20:21:11.821753+00:00",
          "start_time": "2023-11-02T20:21:11.019905+00:00"
        }
      },
      "execution_count": null,
      "source": "# Histogram for 'salary_year'\nplt.figure(figsize=(10, 6))\nsns.histplot(salary_df['salary_year'].dropna(), bins=60, kde=False, color='skyblue')\nplt.title('Distribution of Yearly Salaries')\nplt.xlabel('Yearly Salary ($)')\nplt.ylabel('Frequency')\nplt.ticklabel_format(style='plain', axis='x')  # Disable scientific notation\nplt.show()\n\n# Histogram for 'salary_hour'\nplt.figure(figsize=(10, 6))\nsns.histplot(salary_df['salary_hour'].dropna(), bins=60, kde=False, color='skyblue')\nplt.title('Distribution of Hourly Wages')\nplt.xlabel('Hourly Wage ($)')\nplt.ylabel('Frequency')\nplt.show()",
      "outputs": []
    },
    {
      "id": "6cf68e0e-4ea2-433d-bc10-f8c703dd0823",
      "cell_type": "code",
      "metadata": {
        "noteable": {
          "assign_results_to": "sql_df_obzd",
          "cell_type": "sql",
          "db_connection": "@5a5b9a444479436dbc1def18003d36d0",
          "output_collection_id": "ac36c21e-3c79-4373-9e57-8804dca85465"
        },
        "ExecuteTime": {
          "end_time": "2023-11-02T20:42:10.921258+00:00",
          "start_time": "2023-11-02T20:42:08.808632+00:00"
        },
        "datalink": {
          "4c7ef19f-7713-46df-b0b6-b93d3c83165e": {
            "applied_filters": [],
            "dataframe_info": {
              "default_index_used": true,
              "orig_num_cols": 2,
              "orig_num_rows": 161,
              "orig_size_bytes": 3864,
              "truncated_num_cols": 2,
              "truncated_num_rows": 161,
              "truncated_size_bytes": 3864,
              "truncated_string_columns": []
            },
            "display_id": "4c7ef19f-7713-46df-b0b6-b93d3c83165e",
            "dx_settings": {
              "ALLOW_NOTEABLE_ATTRS": true,
              "COLUMN_SAMPLING_METHOD": "outer",
              "DB_LOCATION": ":memory:",
              "DEV_MODE": false,
              "DISPLAY_MAX_COLUMNS": 100,
              "DISPLAY_MAX_ROWS": 50000,
              "DISPLAY_MODE": "simple",
              "ENABLE_ASSIGNMENT": true,
              "ENABLE_DATALINK": true,
              "FLATTEN_COLUMN_VALUES": true,
              "FLATTEN_INDEX_VALUES": false,
              "GENERATE_DEX_METADATA": false,
              "HTML_TABLE_SCHEMA": false,
              "LOG_LEVEL": 30,
              "MAX_RENDER_SIZE_BYTES": 104857600,
              "MAX_STRING_LENGTH": 250,
              "NUM_PAST_SAMPLES_TRACKED": 3,
              "RANDOM_STATE": 12648430,
              "RESET_INDEX_VALUES": false,
              "ROW_SAMPLING_METHOD": "random",
              "SAMPLING_FACTOR": 0.1,
              "SAMPLING_METHOD": "random",
              "STRINGIFY_COLUMN_VALUES": true,
              "STRINGIFY_INDEX_VALUES": false
            },
            "sample_history": [],
            "sampling_time": "2023-11-02T20:42:10.762655",
            "user_variable_name": "sql_df_obzd",
            "variable_name": "sql_df_obzd"
          }
        }
      },
      "execution_count": null,
      "source": "-- Calculating the percentage of non-null 'salary_year' values by 'search_country'\nSELECT search_country,\n       COUNT(salary_year) / COUNT(*) AS percent_non_null_salary_year\nFROM `public_job_listings.data_nerd_jobs`\nGROUP BY search_country\nORDER BY percent_non_null_salary_year DESC;",
      "outputs": []
    },
    {
      "id": "d16bb111-68c3-4b4f-b5db-db8e43eda62e",
      "cell_type": "code",
      "metadata": {
        "noteable": {
          "cell_type": "code",
          "output_collection_id": "1f659162-21b5-412f-801e-98146d68d727"
        },
        "ExecuteTime": {
          "end_time": "2023-11-02T20:59:47.219670+00:00",
          "start_time": "2023-11-02T20:59:46.702541+00:00"
        }
      },
      "execution_count": null,
      "source": "# Filtering the DataFrame to show only the top 20 countries\npercent_salary_year_top20 = percent_salary_year_df.head(20)\n\n# Plotting the bar chart for the top 20 countries\nplt.figure(figsize=(15, 8))\nsns.barplot(x='percent_non_null_salary_year', y='search_country', data=percent_salary_year_top20, palette='Blues_r')\nplt.title('Percent of Job Postings that Include Annual Salary')\nplt.xlabel('')  # Removing the x-axis label\nplt.ylabel('')  # Removing the y-axis label\nplt.gca().xaxis.set_major_formatter(plt.matplotlib.ticker.PercentFormatter(1))  # Formatting the x-axis as a percentage\nplt.show()",
      "outputs": []
    },
    {
      "id": "d9582ef2-94dd-4d1c-905e-f49944e97840",
      "cell_type": "markdown",
      "source": "### Median Annual Salary by Job Title\n\nCalculating the median annual salary for each job title in the dataset.",
      "metadata": {
        "noteable": {
          "cell_type": "markdown"
        }
      }
    },
    {
      "id": "c500159f-97e7-4761-af13-8b6404bec3b1",
      "cell_type": "code",
      "metadata": {
        "noteable": {
          "assign_results_to": "sql_df_jnpw",
          "cell_type": "sql",
          "db_connection": "@5a5b9a444479436dbc1def18003d36d0",
          "output_collection_id": "a3423729-2608-43ee-af38-d11022a3f95c"
        },
        "ExecuteTime": {
          "end_time": "2023-11-02T21:11:37.652339+00:00",
          "start_time": "2023-11-02T21:11:35.888776+00:00"
        },
        "datalink": {
          "76fe6dfe-243b-4d64-9765-e7268bfd9d31": {
            "applied_filters": [],
            "dataframe_info": {
              "default_index_used": true,
              "orig_num_cols": 2,
              "orig_num_rows": 10,
              "orig_size_bytes": 240,
              "truncated_num_cols": 2,
              "truncated_num_rows": 10,
              "truncated_size_bytes": 240,
              "truncated_string_columns": []
            },
            "display_id": "76fe6dfe-243b-4d64-9765-e7268bfd9d31",
            "dx_settings": {
              "ALLOW_NOTEABLE_ATTRS": true,
              "COLUMN_SAMPLING_METHOD": "outer",
              "DB_LOCATION": ":memory:",
              "DEV_MODE": false,
              "DISPLAY_MAX_COLUMNS": 100,
              "DISPLAY_MAX_ROWS": 50000,
              "DISPLAY_MODE": "simple",
              "ENABLE_ASSIGNMENT": true,
              "ENABLE_DATALINK": true,
              "FLATTEN_COLUMN_VALUES": true,
              "FLATTEN_INDEX_VALUES": false,
              "GENERATE_DEX_METADATA": false,
              "HTML_TABLE_SCHEMA": false,
              "LOG_LEVEL": 30,
              "MAX_RENDER_SIZE_BYTES": 104857600,
              "MAX_STRING_LENGTH": 250,
              "NUM_PAST_SAMPLES_TRACKED": 3,
              "RANDOM_STATE": 12648430,
              "RESET_INDEX_VALUES": false,
              "ROW_SAMPLING_METHOD": "random",
              "SAMPLING_FACTOR": 0.1,
              "SAMPLING_METHOD": "random",
              "STRINGIFY_COLUMN_VALUES": true,
              "STRINGIFY_INDEX_VALUES": false
            },
            "sample_history": [],
            "sampling_time": "2023-11-02T21:11:37.494348",
            "user_variable_name": "sql_df_jnpw",
            "variable_name": "sql_df_jnpw"
          }
        }
      },
      "execution_count": null,
      "source": "1. When writing code in the notebook, be sure to include a markdown cell with a brief title and one-line description of what you are doing-- Calculating the median annual salary based on the 'job_title_final' column\nSELECT job_title_final,\n       SAFE_DIVIDE(ARRAY_AGG(salary_year ORDER BY salary_year)[SAFE_OFFSET(DIV(COUNT(salary_year), 2) - 1)] + ARRAY_AGG(salary_year ORDER BY salary_year)[SAFE_OFFSET(DIV(COUNT(salary_year), 2))], 2) AS median_salary_year\nFROM `public_job_listings.data_nerd_jobs`\nWHERE salary_year IS NOT NULL\nGROUP BY job_title_final\nORDER BY median_salary_year DESC;",
      "outputs": []
    },
    {
      "id": "9f63dff3-a329-4594-b0c9-4a875c147b6c",
      "cell_type": "code",
      "metadata": {
        "noteable": {
          "cell_type": "code",
          "output_collection_id": "190678fa-fe94-475c-9a70-5f6b948ae5d9"
        },
        "ExecuteTime": {
          "end_time": "2023-11-02T21:13:00.658676+00:00",
          "start_time": "2023-11-02T21:13:00.237833+00:00"
        }
      },
      "execution_count": null,
      "source": "# Converting the SQL results to a DataFrame\nmedian_salary_df = sql_df_jnpw.copy()\n\n# Plotting the bar chart for median annual salary by job title\nplt.figure(figsize=(10, 6))\nsns.barplot(x='median_salary_year', y='job_title_final', data=median_salary_df, palette='Blues_r')\nplt.title('Median Annual Salary by Job Title')\nplt.xlabel('')  # Removing the x-axis label\nplt.ylabel('')  # Removing the y-axis label\nplt.show()",
      "outputs": []
    }
  ]
}