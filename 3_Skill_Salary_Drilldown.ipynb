{
  "nbformat": 4,
  "nbformat_minor": 5,
  "metadata": {
    "noteable-chatgpt": {
      "create_notebook": {
        "openai_conversation_id": "c3d381a9-9cfe-583c-aa6b-1d47a890c621",
        "openai_ephemeral_user_id": "68a6b3fd-8f9e-5ba6-b122-2b0a560afdc4",
        "openai_subdivision1_iso_code": "US-AR"
      }
    },
    "kernel_info": {
      "name": "python3"
    },
    "kernelspec": {
      "display_name": "Python 3.9",
      "identifier": "legacy",
      "language": "python",
      "language_version": "3.9",
      "name": "python3"
    },
    "selected_hardware_size": "small"
  },
  "cells": [
    {
      "id": "55f95b91-6c77-4066-b60c-6c8b95a149f1",
      "cell_type": "code",
      "metadata": {
        "noteable": {
          "assign_results_to": "sql_df_vcvp",
          "cell_type": "sql",
          "db_connection": "@5a5b9a444479436dbc1def18003d36d0",
          "output_collection_id": "fcfee736-3f90-45e0-854b-d3d36c887d46"
        },
        "ExecuteTime": {
          "end_time": "2023-11-03T02:20:25.926768+00:00",
          "start_time": "2023-11-03T02:20:24.117706+00:00"
        }
      },
      "execution_count": null,
      "source": "# Exploring the Data Nerd Jobs Data Connection\nList the tables available in the 'Data Nerd Jobs' data connection.",
      "outputs": []
    },
    {
      "id": "ced840c0-4395-4824-8c70-0efba40fb420",
      "cell_type": "code",
      "metadata": {
        "noteable": {
          "assign_results_to": "sql_df_aejq",
          "cell_type": "sql",
          "db_connection": "@5a5b9a444479436dbc1def18003d36d0",
          "output_collection_id": "14ef1280-e790-4003-970f-5be3c2a835fb"
        },
        "ExecuteTime": {
          "end_time": "2023-11-03T02:20:38.594733+00:00",
          "start_time": "2023-11-03T02:20:38.066361+00:00"
        }
      },
      "execution_count": null,
      "source": "# Listing Tables in Data Nerd Jobs Data Connection\nSELECT * FROM `Data Nerd Jobs.INFORMATION_SCHEMA.TABLES`",
      "outputs": []
    }
  ]
}