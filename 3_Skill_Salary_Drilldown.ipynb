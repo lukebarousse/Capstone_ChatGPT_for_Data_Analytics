{
  "nbformat": 4,
  "nbformat_minor": 5,
  "metadata": {
    "noteable-chatgpt": {
      "create_notebook": {
        "openai_conversation_id": "c3d381a9-9cfe-583c-aa6b-1d47a890c621",
        "openai_ephemeral_user_id": "68a6b3fd-8f9e-5ba6-b122-2b0a560afdc4",
        "openai_subdivision1_iso_code": "US-AR"
      }
    },
    "kernel_info": {
      "name": "python3"
    },
    "kernelspec": {
      "display_name": "Python 3.9",
      "identifier": "legacy",
      "language": "python",
      "language_version": "3.9",
      "name": "python3"
    },
    "selected_hardware_size": "small",
    "noteable": {
      "db_connection": "@5a5b9a444479436dbc1def18003d36d0"
    }
  },
  "cells": [
    {
      "id": "73173896-a72d-4c1a-896c-64b0177d4661",
      "cell_type": "markdown",
      "source": "## List Tables\nExploring the tables in the 'Data Nerd Jobs' data connection.",
      "metadata": {
        "noteable": {
          "cell_type": "markdown"
        }
      }
    },
    {
      "id": "a96d10d7-85ea-4340-9b9c-9c7413ab12ab",
      "cell_type": "code",
      "metadata": {
        "noteable": {
          "assign_results_to": "sql_df_xnkv",
          "cell_type": "sql",
          "db_connection": "@5a5b9a444479436dbc1def18003d36d0",
          "output_collection_id": "0bdc1e14-e044-4610-b23e-d3202a700162"
        },
        "ExecuteTime": {
          "end_time": "2023-11-07T21:43:39.460460+00:00",
          "start_time": "2023-11-07T21:43:37.602941+00:00"
        },
        "datalink": {
          "d4619350-b239-4499-9505-8eafb2aa6ddb": {
            "applied_filters": [],
            "dataframe_info": {
              "default_index_used": true,
              "orig_num_cols": 3,
              "orig_num_rows": 1,
              "orig_size_bytes": 32,
              "truncated_num_cols": 3,
              "truncated_num_rows": 1,
              "truncated_size_bytes": 32,
              "truncated_string_columns": []
            },
            "display_id": "d4619350-b239-4499-9505-8eafb2aa6ddb",
            "dx_settings": {
              "ALLOW_NOTEABLE_ATTRS": true,
              "COLUMN_SAMPLING_METHOD": "outer",
              "DB_LOCATION": ":memory:",
              "DEV_MODE": false,
              "DISPLAY_MAX_COLUMNS": 100,
              "DISPLAY_MAX_ROWS": 50000,
              "DISPLAY_MODE": "simple",
              "ENABLE_ASSIGNMENT": true,
              "ENABLE_DATALINK": true,
              "FLATTEN_COLUMN_VALUES": true,
              "FLATTEN_INDEX_VALUES": false,
              "GENERATE_DEX_METADATA": false,
              "HTML_TABLE_SCHEMA": false,
              "LOG_LEVEL": 30,
              "MAX_RENDER_SIZE_BYTES": 104857600,
              "MAX_STRING_LENGTH": 250,
              "NUM_PAST_SAMPLES_TRACKED": 3,
              "RANDOM_STATE": 12648430,
              "RESET_INDEX_VALUES": false,
              "ROW_SAMPLING_METHOD": "random",
              "SAMPLING_FACTOR": 0.1,
              "SAMPLING_METHOD": "random",
              "STRINGIFY_COLUMN_VALUES": true,
              "STRINGIFY_INDEX_VALUES": false
            },
            "sample_history": [],
            "sampling_time": "2023-11-03T02:22:20.871226",
            "user_variable_name": null,
            "variable_name": "unk_dataframe_e1999474de2d435a8a20501ddd48f228"
          },
          "d51deb14-ec85-4235-acb4-a8a4d911f928": {
            "applied_filters": [],
            "dataframe_info": {
              "default_index_used": true,
              "orig_num_cols": 3,
              "orig_num_rows": 1,
              "orig_size_bytes": 32,
              "truncated_num_cols": 3,
              "truncated_num_rows": 1,
              "truncated_size_bytes": 32,
              "truncated_string_columns": []
            },
            "display_id": "d51deb14-ec85-4235-acb4-a8a4d911f928",
            "dx_settings": {
              "ALLOW_NOTEABLE_ATTRS": true,
              "COLUMN_SAMPLING_METHOD": "outer",
              "DB_LOCATION": ":memory:",
              "DEV_MODE": false,
              "DISPLAY_MAX_COLUMNS": 100,
              "DISPLAY_MAX_ROWS": 50000,
              "DISPLAY_MODE": "simple",
              "ENABLE_ASSIGNMENT": true,
              "ENABLE_DATALINK": true,
              "FLATTEN_COLUMN_VALUES": true,
              "FLATTEN_INDEX_VALUES": false,
              "GENERATE_DEX_METADATA": false,
              "HTML_TABLE_SCHEMA": false,
              "LOG_LEVEL": 30,
              "MAX_RENDER_SIZE_BYTES": 104857600,
              "MAX_STRING_LENGTH": 250,
              "NUM_PAST_SAMPLES_TRACKED": 3,
              "RANDOM_STATE": 12648430,
              "RESET_INDEX_VALUES": false,
              "ROW_SAMPLING_METHOD": "random",
              "SAMPLING_FACTOR": 0.1,
              "SAMPLING_METHOD": "random",
              "STRINGIFY_COLUMN_VALUES": true,
              "STRINGIFY_INDEX_VALUES": false
            },
            "sample_history": [],
            "sampling_time": "2023-11-03T14:51:27.584586",
            "user_variable_name": null,
            "variable_name": "unk_dataframe_f9568a2b3dcd40118b0f002df1d61549"
          },
          "73ce24fa-afd5-4378-821d-22dd91af3e31": {
            "applied_filters": [],
            "dataframe_info": {
              "default_index_used": true,
              "orig_num_cols": 3,
              "orig_num_rows": 1,
              "orig_size_bytes": 32,
              "truncated_num_cols": 3,
              "truncated_num_rows": 1,
              "truncated_size_bytes": 32,
              "truncated_string_columns": []
            },
            "display_id": "73ce24fa-afd5-4378-821d-22dd91af3e31",
            "dx_settings": {
              "ALLOW_NOTEABLE_ATTRS": true,
              "COLUMN_SAMPLING_METHOD": "outer",
              "DB_LOCATION": ":memory:",
              "DEV_MODE": false,
              "DISPLAY_MAX_COLUMNS": 100,
              "DISPLAY_MAX_ROWS": 50000,
              "DISPLAY_MODE": "simple",
              "ENABLE_ASSIGNMENT": true,
              "ENABLE_DATALINK": true,
              "FLATTEN_COLUMN_VALUES": true,
              "FLATTEN_INDEX_VALUES": false,
              "GENERATE_DEX_METADATA": false,
              "HTML_TABLE_SCHEMA": false,
              "LOG_LEVEL": 30,
              "MAX_RENDER_SIZE_BYTES": 104857600,
              "MAX_STRING_LENGTH": 250,
              "NUM_PAST_SAMPLES_TRACKED": 3,
              "RANDOM_STATE": 12648430,
              "RESET_INDEX_VALUES": false,
              "ROW_SAMPLING_METHOD": "random",
              "SAMPLING_FACTOR": 0.1,
              "SAMPLING_METHOD": "random",
              "STRINGIFY_COLUMN_VALUES": true,
              "STRINGIFY_INDEX_VALUES": false
            },
            "sample_history": [],
            "sampling_time": "2023-11-05T21:09:46.608925",
            "user_variable_name": null,
            "variable_name": "unk_dataframe_f41c00d2486d4f89b080ae38e5a26619"
          },
          "fc75b297-a85a-4228-9945-779c76f375b0": {
            "applied_filters": [],
            "dataframe_info": {
              "default_index_used": true,
              "orig_num_cols": 3,
              "orig_num_rows": 1,
              "orig_size_bytes": 32,
              "truncated_num_cols": 3,
              "truncated_num_rows": 1,
              "truncated_size_bytes": 32,
              "truncated_string_columns": []
            },
            "display_id": "fc75b297-a85a-4228-9945-779c76f375b0",
            "dx_settings": {
              "ALLOW_NOTEABLE_ATTRS": true,
              "COLUMN_SAMPLING_METHOD": "outer",
              "DB_LOCATION": ":memory:",
              "DEV_MODE": false,
              "DISPLAY_MAX_COLUMNS": 100,
              "DISPLAY_MAX_ROWS": 50000,
              "DISPLAY_MODE": "simple",
              "ENABLE_ASSIGNMENT": true,
              "ENABLE_DATALINK": true,
              "FLATTEN_COLUMN_VALUES": true,
              "FLATTEN_INDEX_VALUES": false,
              "GENERATE_DEX_METADATA": false,
              "HTML_TABLE_SCHEMA": false,
              "LOG_LEVEL": 30,
              "MAX_RENDER_SIZE_BYTES": 104857600,
              "MAX_STRING_LENGTH": 250,
              "NUM_PAST_SAMPLES_TRACKED": 3,
              "RANDOM_STATE": 12648430,
              "RESET_INDEX_VALUES": false,
              "ROW_SAMPLING_METHOD": "random",
              "SAMPLING_FACTOR": 0.1,
              "SAMPLING_METHOD": "random",
              "STRINGIFY_COLUMN_VALUES": true,
              "STRINGIFY_INDEX_VALUES": false
            },
            "sample_history": [],
            "sampling_time": "2023-11-05T21:24:54.575633",
            "user_variable_name": null,
            "variable_name": "unk_dataframe_ec0af27a84f14b26a849afa6b232f8be"
          },
          "86a529b4-81ad-4ae4-afc5-4afc643a229c": {
            "applied_filters": [],
            "dataframe_info": {
              "default_index_used": true,
              "orig_num_cols": 3,
              "orig_num_rows": 1,
              "orig_size_bytes": 32,
              "truncated_num_cols": 3,
              "truncated_num_rows": 1,
              "truncated_size_bytes": 32,
              "truncated_string_columns": []
            },
            "display_id": "86a529b4-81ad-4ae4-afc5-4afc643a229c",
            "dx_settings": {
              "ALLOW_NOTEABLE_ATTRS": true,
              "COLUMN_SAMPLING_METHOD": "outer",
              "DB_LOCATION": ":memory:",
              "DEV_MODE": false,
              "DISPLAY_MAX_COLUMNS": 100,
              "DISPLAY_MAX_ROWS": 50000,
              "DISPLAY_MODE": "simple",
              "ENABLE_ASSIGNMENT": true,
              "ENABLE_DATALINK": true,
              "FLATTEN_COLUMN_VALUES": true,
              "FLATTEN_INDEX_VALUES": false,
              "GENERATE_DEX_METADATA": false,
              "HTML_TABLE_SCHEMA": false,
              "LOG_LEVEL": 30,
              "MAX_RENDER_SIZE_BYTES": 104857600,
              "MAX_STRING_LENGTH": 250,
              "NUM_PAST_SAMPLES_TRACKED": 3,
              "RANDOM_STATE": 12648430,
              "RESET_INDEX_VALUES": false,
              "ROW_SAMPLING_METHOD": "random",
              "SAMPLING_FACTOR": 0.1,
              "SAMPLING_METHOD": "random",
              "STRINGIFY_COLUMN_VALUES": true,
              "STRINGIFY_INDEX_VALUES": false
            },
            "sample_history": [],
            "sampling_time": "2023-11-07T21:43:39.298859",
            "user_variable_name": null,
            "variable_name": "unk_dataframe_6cf5016527304291a1e4ed49a00eb065"
          }
        }
      },
      "execution_count": null,
      "source": "\\list",
      "outputs": []
    },
    {
      "id": "c41b43d7-7905-4864-b738-bf65fa62858e",
      "cell_type": "markdown",
      "source": "## Explore 'keywords_all' Column\nAnalyzing the 'keywords_all' column in the 'data_nerd_jobs' table.",
      "metadata": {
        "noteable": {
          "cell_type": "markdown"
        }
      }
    },
    {
      "id": "afdcf449-16ea-4d5f-b0e1-1088ebe22f3c",
      "cell_type": "code",
      "metadata": {
        "noteable": {
          "assign_results_to": "sql_df_mcyv",
          "cell_type": "sql",
          "db_connection": "@5a5b9a444479436dbc1def18003d36d0",
          "output_collection_id": "6934899b-8792-4d63-9aa8-70a0fb6342b8"
        },
        "ExecuteTime": {
          "end_time": "2023-11-07T21:43:44.449614+00:00",
          "start_time": "2023-11-07T21:43:40.630897+00:00"
        },
        "datalink": {
          "031e87e2-db2c-4572-ab39-e89130ba1bf5": {
            "applied_filters": [],
            "dataframe_info": {
              "default_index_used": true,
              "orig_num_cols": 2,
              "orig_num_rows": 10,
              "orig_size_bytes": 240,
              "truncated_num_cols": 2,
              "truncated_num_rows": 10,
              "truncated_size_bytes": 240,
              "truncated_string_columns": []
            },
            "display_id": "031e87e2-db2c-4572-ab39-e89130ba1bf5",
            "dx_settings": {
              "ALLOW_NOTEABLE_ATTRS": true,
              "COLUMN_SAMPLING_METHOD": "outer",
              "DB_LOCATION": ":memory:",
              "DEV_MODE": false,
              "DISPLAY_MAX_COLUMNS": 100,
              "DISPLAY_MAX_ROWS": 50000,
              "DISPLAY_MODE": "simple",
              "ENABLE_ASSIGNMENT": true,
              "ENABLE_DATALINK": true,
              "FLATTEN_COLUMN_VALUES": true,
              "FLATTEN_INDEX_VALUES": false,
              "GENERATE_DEX_METADATA": false,
              "HTML_TABLE_SCHEMA": false,
              "LOG_LEVEL": 30,
              "MAX_RENDER_SIZE_BYTES": 104857600,
              "MAX_STRING_LENGTH": 250,
              "NUM_PAST_SAMPLES_TRACKED": 3,
              "RANDOM_STATE": 12648430,
              "RESET_INDEX_VALUES": false,
              "ROW_SAMPLING_METHOD": "random",
              "SAMPLING_FACTOR": 0.1,
              "SAMPLING_METHOD": "random",
              "STRINGIFY_COLUMN_VALUES": true,
              "STRINGIFY_INDEX_VALUES": false
            },
            "sample_history": [],
            "sampling_time": "2023-11-03T02:24:41.852415",
            "user_variable_name": "sql_df_mcyv",
            "variable_name": "sql_df_mcyv"
          },
          "9ecf4632-68cf-458b-9285-c84d8d5abb40": {
            "applied_filters": [],
            "dataframe_info": {
              "default_index_used": true,
              "orig_num_cols": 2,
              "orig_num_rows": 10,
              "orig_size_bytes": 240,
              "truncated_num_cols": 2,
              "truncated_num_rows": 10,
              "truncated_size_bytes": 240,
              "truncated_string_columns": []
            },
            "display_id": "9ecf4632-68cf-458b-9285-c84d8d5abb40",
            "dx_settings": {
              "ALLOW_NOTEABLE_ATTRS": true,
              "COLUMN_SAMPLING_METHOD": "outer",
              "DB_LOCATION": ":memory:",
              "DEV_MODE": false,
              "DISPLAY_MAX_COLUMNS": 100,
              "DISPLAY_MAX_ROWS": 50000,
              "DISPLAY_MODE": "simple",
              "ENABLE_ASSIGNMENT": true,
              "ENABLE_DATALINK": true,
              "FLATTEN_COLUMN_VALUES": true,
              "FLATTEN_INDEX_VALUES": false,
              "GENERATE_DEX_METADATA": false,
              "HTML_TABLE_SCHEMA": false,
              "LOG_LEVEL": 30,
              "MAX_RENDER_SIZE_BYTES": 104857600,
              "MAX_STRING_LENGTH": 250,
              "NUM_PAST_SAMPLES_TRACKED": 3,
              "RANDOM_STATE": 12648430,
              "RESET_INDEX_VALUES": false,
              "ROW_SAMPLING_METHOD": "random",
              "SAMPLING_FACTOR": 0.1,
              "SAMPLING_METHOD": "random",
              "STRINGIFY_COLUMN_VALUES": true,
              "STRINGIFY_INDEX_VALUES": false
            },
            "sample_history": [],
            "sampling_time": "2023-11-03T14:51:30.382237",
            "user_variable_name": "sql_df_mcyv",
            "variable_name": "sql_df_mcyv"
          },
          "454daeb7-529d-4d14-bfe2-66936ed823c6": {
            "applied_filters": [],
            "dataframe_info": {
              "default_index_used": true,
              "orig_num_cols": 2,
              "orig_num_rows": 10,
              "orig_size_bytes": 240,
              "truncated_num_cols": 2,
              "truncated_num_rows": 10,
              "truncated_size_bytes": 240,
              "truncated_string_columns": []
            },
            "display_id": "454daeb7-529d-4d14-bfe2-66936ed823c6",
            "dx_settings": {
              "ALLOW_NOTEABLE_ATTRS": true,
              "COLUMN_SAMPLING_METHOD": "outer",
              "DB_LOCATION": ":memory:",
              "DEV_MODE": false,
              "DISPLAY_MAX_COLUMNS": 100,
              "DISPLAY_MAX_ROWS": 50000,
              "DISPLAY_MODE": "simple",
              "ENABLE_ASSIGNMENT": true,
              "ENABLE_DATALINK": true,
              "FLATTEN_COLUMN_VALUES": true,
              "FLATTEN_INDEX_VALUES": false,
              "GENERATE_DEX_METADATA": false,
              "HTML_TABLE_SCHEMA": false,
              "LOG_LEVEL": 30,
              "MAX_RENDER_SIZE_BYTES": 104857600,
              "MAX_STRING_LENGTH": 250,
              "NUM_PAST_SAMPLES_TRACKED": 3,
              "RANDOM_STATE": 12648430,
              "RESET_INDEX_VALUES": false,
              "ROW_SAMPLING_METHOD": "random",
              "SAMPLING_FACTOR": 0.1,
              "SAMPLING_METHOD": "random",
              "STRINGIFY_COLUMN_VALUES": true,
              "STRINGIFY_INDEX_VALUES": false
            },
            "sample_history": [],
            "sampling_time": "2023-11-05T21:09:49.732351",
            "user_variable_name": "sql_df_mcyv",
            "variable_name": "sql_df_mcyv"
          },
          "8eb1d039-d5b0-4b75-920b-9db54e5f2331": {
            "applied_filters": [],
            "dataframe_info": {
              "default_index_used": true,
              "orig_num_cols": 2,
              "orig_num_rows": 10,
              "orig_size_bytes": 240,
              "truncated_num_cols": 2,
              "truncated_num_rows": 10,
              "truncated_size_bytes": 240,
              "truncated_string_columns": []
            },
            "display_id": "8eb1d039-d5b0-4b75-920b-9db54e5f2331",
            "dx_settings": {
              "ALLOW_NOTEABLE_ATTRS": true,
              "COLUMN_SAMPLING_METHOD": "outer",
              "DB_LOCATION": ":memory:",
              "DEV_MODE": false,
              "DISPLAY_MAX_COLUMNS": 100,
              "DISPLAY_MAX_ROWS": 50000,
              "DISPLAY_MODE": "simple",
              "ENABLE_ASSIGNMENT": true,
              "ENABLE_DATALINK": true,
              "FLATTEN_COLUMN_VALUES": true,
              "FLATTEN_INDEX_VALUES": false,
              "GENERATE_DEX_METADATA": false,
              "HTML_TABLE_SCHEMA": false,
              "LOG_LEVEL": 30,
              "MAX_RENDER_SIZE_BYTES": 104857600,
              "MAX_STRING_LENGTH": 250,
              "NUM_PAST_SAMPLES_TRACKED": 3,
              "RANDOM_STATE": 12648430,
              "RESET_INDEX_VALUES": false,
              "ROW_SAMPLING_METHOD": "random",
              "SAMPLING_FACTOR": 0.1,
              "SAMPLING_METHOD": "random",
              "STRINGIFY_COLUMN_VALUES": true,
              "STRINGIFY_INDEX_VALUES": false
            },
            "sample_history": [],
            "sampling_time": "2023-11-05T21:24:56.459308",
            "user_variable_name": "sql_df_mcyv",
            "variable_name": "sql_df_mcyv"
          },
          "9345716c-d122-4beb-b761-14c14a6b4908": {
            "applied_filters": [],
            "dataframe_info": {
              "default_index_used": true,
              "orig_num_cols": 2,
              "orig_num_rows": 10,
              "orig_size_bytes": 240,
              "truncated_num_cols": 2,
              "truncated_num_rows": 10,
              "truncated_size_bytes": 240,
              "truncated_string_columns": []
            },
            "display_id": "9345716c-d122-4beb-b761-14c14a6b4908",
            "dx_settings": {
              "ALLOW_NOTEABLE_ATTRS": true,
              "COLUMN_SAMPLING_METHOD": "outer",
              "DB_LOCATION": ":memory:",
              "DEV_MODE": false,
              "DISPLAY_MAX_COLUMNS": 100,
              "DISPLAY_MAX_ROWS": 50000,
              "DISPLAY_MODE": "simple",
              "ENABLE_ASSIGNMENT": true,
              "ENABLE_DATALINK": true,
              "FLATTEN_COLUMN_VALUES": true,
              "FLATTEN_INDEX_VALUES": false,
              "GENERATE_DEX_METADATA": false,
              "HTML_TABLE_SCHEMA": false,
              "LOG_LEVEL": 30,
              "MAX_RENDER_SIZE_BYTES": 104857600,
              "MAX_STRING_LENGTH": 250,
              "NUM_PAST_SAMPLES_TRACKED": 3,
              "RANDOM_STATE": 12648430,
              "RESET_INDEX_VALUES": false,
              "ROW_SAMPLING_METHOD": "random",
              "SAMPLING_FACTOR": 0.1,
              "SAMPLING_METHOD": "random",
              "STRINGIFY_COLUMN_VALUES": true,
              "STRINGIFY_INDEX_VALUES": false
            },
            "sample_history": [],
            "sampling_time": "2023-11-07T21:43:44.291154",
            "user_variable_name": "sql_df_mcyv",
            "variable_name": "sql_df_mcyv"
          }
        }
      },
      "execution_count": null,
      "source": "SELECT keyword.element, COUNT(*) as count\nFROM `public_job_listings.data_nerd_jobs`, UNNEST(keywords_all.list) as keyword\nGROUP BY keyword.element\nORDER BY count DESC\nLIMIT 10",
      "outputs": []
    },
    {
      "id": "edf3f9d8-1157-469c-941b-467c00d180ec",
      "cell_type": "markdown",
      "source": "## Plot Median Salary for Top 10 Skills\nVisualizing the median salary for the top 10 skills with salary data.",
      "metadata": {
        "noteable": {
          "cell_type": "markdown"
        }
      }
    },
    {
      "id": "1c1430c3-f004-4803-a2e6-ff1acda26b93",
      "cell_type": "code",
      "metadata": {
        "noteable": {
          "assign_results_to": "sql_df_fkcs",
          "cell_type": "sql",
          "db_connection": "@5a5b9a444479436dbc1def18003d36d0",
          "output_collection_id": "f43baa84-8ce1-48d3-a28f-d217cb5ab06a"
        },
        "ExecuteTime": {
          "end_time": "2023-11-07T21:43:47.917113+00:00",
          "start_time": "2023-11-07T21:43:44.454484+00:00"
        },
        "datalink": {
          "45d523d4-8d1c-424c-8238-f2122235fb4d": {
            "applied_filters": [],
            "dataframe_info": {
              "default_index_used": true,
              "orig_num_cols": 3,
              "orig_num_rows": 10,
              "orig_size_bytes": 320,
              "truncated_num_cols": 3,
              "truncated_num_rows": 10,
              "truncated_size_bytes": 320,
              "truncated_string_columns": []
            },
            "display_id": "45d523d4-8d1c-424c-8238-f2122235fb4d",
            "dx_settings": {
              "ALLOW_NOTEABLE_ATTRS": true,
              "COLUMN_SAMPLING_METHOD": "outer",
              "DB_LOCATION": ":memory:",
              "DEV_MODE": false,
              "DISPLAY_MAX_COLUMNS": 100,
              "DISPLAY_MAX_ROWS": 50000,
              "DISPLAY_MODE": "simple",
              "ENABLE_ASSIGNMENT": true,
              "ENABLE_DATALINK": true,
              "FLATTEN_COLUMN_VALUES": true,
              "FLATTEN_INDEX_VALUES": false,
              "GENERATE_DEX_METADATA": false,
              "HTML_TABLE_SCHEMA": false,
              "LOG_LEVEL": 30,
              "MAX_RENDER_SIZE_BYTES": 104857600,
              "MAX_STRING_LENGTH": 250,
              "NUM_PAST_SAMPLES_TRACKED": 3,
              "RANDOM_STATE": 12648430,
              "RESET_INDEX_VALUES": false,
              "ROW_SAMPLING_METHOD": "random",
              "SAMPLING_FACTOR": 0.1,
              "SAMPLING_METHOD": "random",
              "STRINGIFY_COLUMN_VALUES": true,
              "STRINGIFY_INDEX_VALUES": false
            },
            "sample_history": [],
            "sampling_time": "2023-11-03T03:02:55.122132",
            "user_variable_name": "sql_df_fkcs",
            "variable_name": "sql_df_fkcs"
          },
          "2ff236f8-a3b4-427a-a060-9846c9b4139e": {
            "applied_filters": [],
            "dataframe_info": {
              "default_index_used": true,
              "orig_num_cols": 3,
              "orig_num_rows": 10,
              "orig_size_bytes": 320,
              "truncated_num_cols": 3,
              "truncated_num_rows": 10,
              "truncated_size_bytes": 320,
              "truncated_string_columns": []
            },
            "display_id": "2ff236f8-a3b4-427a-a060-9846c9b4139e",
            "dx_settings": {
              "ALLOW_NOTEABLE_ATTRS": true,
              "COLUMN_SAMPLING_METHOD": "outer",
              "DB_LOCATION": ":memory:",
              "DEV_MODE": false,
              "DISPLAY_MAX_COLUMNS": 100,
              "DISPLAY_MAX_ROWS": 50000,
              "DISPLAY_MODE": "simple",
              "ENABLE_ASSIGNMENT": true,
              "ENABLE_DATALINK": true,
              "FLATTEN_COLUMN_VALUES": true,
              "FLATTEN_INDEX_VALUES": false,
              "GENERATE_DEX_METADATA": false,
              "HTML_TABLE_SCHEMA": false,
              "LOG_LEVEL": 30,
              "MAX_RENDER_SIZE_BYTES": 104857600,
              "MAX_STRING_LENGTH": 250,
              "NUM_PAST_SAMPLES_TRACKED": 3,
              "RANDOM_STATE": 12648430,
              "RESET_INDEX_VALUES": false,
              "ROW_SAMPLING_METHOD": "random",
              "SAMPLING_FACTOR": 0.1,
              "SAMPLING_METHOD": "random",
              "STRINGIFY_COLUMN_VALUES": true,
              "STRINGIFY_INDEX_VALUES": false
            },
            "sample_history": [],
            "sampling_time": "2023-11-03T14:51:32.297044",
            "user_variable_name": "sql_df_fkcs",
            "variable_name": "sql_df_fkcs"
          },
          "f1a0aec0-7c10-4b52-900b-493064dd2fae": {
            "applied_filters": [],
            "dataframe_info": {
              "default_index_used": true,
              "orig_num_cols": 2,
              "orig_num_rows": 10,
              "orig_size_bytes": 240,
              "truncated_num_cols": 2,
              "truncated_num_rows": 10,
              "truncated_size_bytes": 240,
              "truncated_string_columns": []
            },
            "display_id": "f1a0aec0-7c10-4b52-900b-493064dd2fae",
            "dx_settings": {
              "ALLOW_NOTEABLE_ATTRS": true,
              "COLUMN_SAMPLING_METHOD": "outer",
              "DB_LOCATION": ":memory:",
              "DEV_MODE": false,
              "DISPLAY_MAX_COLUMNS": 100,
              "DISPLAY_MAX_ROWS": 50000,
              "DISPLAY_MODE": "simple",
              "ENABLE_ASSIGNMENT": true,
              "ENABLE_DATALINK": true,
              "FLATTEN_COLUMN_VALUES": true,
              "FLATTEN_INDEX_VALUES": false,
              "GENERATE_DEX_METADATA": false,
              "HTML_TABLE_SCHEMA": false,
              "LOG_LEVEL": 30,
              "MAX_RENDER_SIZE_BYTES": 104857600,
              "MAX_STRING_LENGTH": 250,
              "NUM_PAST_SAMPLES_TRACKED": 3,
              "RANDOM_STATE": 12648430,
              "RESET_INDEX_VALUES": false,
              "ROW_SAMPLING_METHOD": "random",
              "SAMPLING_FACTOR": 0.1,
              "SAMPLING_METHOD": "random",
              "STRINGIFY_COLUMN_VALUES": true,
              "STRINGIFY_INDEX_VALUES": false
            },
            "sample_history": [],
            "sampling_time": "2023-11-03T15:07:02.395625",
            "user_variable_name": "sql_df_fkcs",
            "variable_name": "sql_df_fkcs"
          },
          "1fbf400d-7583-4a96-a4ec-54098bbcad1c": {
            "applied_filters": [],
            "dataframe_info": {
              "default_index_used": true,
              "orig_num_cols": 2,
              "orig_num_rows": 10,
              "orig_size_bytes": 240,
              "truncated_num_cols": 2,
              "truncated_num_rows": 10,
              "truncated_size_bytes": 240,
              "truncated_string_columns": []
            },
            "display_id": "1fbf400d-7583-4a96-a4ec-54098bbcad1c",
            "dx_settings": {
              "ALLOW_NOTEABLE_ATTRS": true,
              "COLUMN_SAMPLING_METHOD": "outer",
              "DB_LOCATION": ":memory:",
              "DEV_MODE": false,
              "DISPLAY_MAX_COLUMNS": 100,
              "DISPLAY_MAX_ROWS": 50000,
              "DISPLAY_MODE": "simple",
              "ENABLE_ASSIGNMENT": true,
              "ENABLE_DATALINK": true,
              "FLATTEN_COLUMN_VALUES": true,
              "FLATTEN_INDEX_VALUES": false,
              "GENERATE_DEX_METADATA": false,
              "HTML_TABLE_SCHEMA": false,
              "LOG_LEVEL": 30,
              "MAX_RENDER_SIZE_BYTES": 104857600,
              "MAX_STRING_LENGTH": 250,
              "NUM_PAST_SAMPLES_TRACKED": 3,
              "RANDOM_STATE": 12648430,
              "RESET_INDEX_VALUES": false,
              "ROW_SAMPLING_METHOD": "random",
              "SAMPLING_FACTOR": 0.1,
              "SAMPLING_METHOD": "random",
              "STRINGIFY_COLUMN_VALUES": true,
              "STRINGIFY_INDEX_VALUES": false
            },
            "sample_history": [],
            "sampling_time": "2023-11-03T15:07:32.748293",
            "user_variable_name": "sql_df_fkcs",
            "variable_name": "sql_df_fkcs"
          },
          "bae50f5a-2fca-4e24-acc1-98ebd5fa81bd": {
            "applied_filters": [],
            "dataframe_info": {
              "default_index_used": true,
              "orig_num_cols": 3,
              "orig_num_rows": 10,
              "orig_size_bytes": 320,
              "truncated_num_cols": 3,
              "truncated_num_rows": 10,
              "truncated_size_bytes": 320,
              "truncated_string_columns": []
            },
            "display_id": "bae50f5a-2fca-4e24-acc1-98ebd5fa81bd",
            "dx_settings": {
              "ALLOW_NOTEABLE_ATTRS": true,
              "COLUMN_SAMPLING_METHOD": "outer",
              "DB_LOCATION": ":memory:",
              "DEV_MODE": false,
              "DISPLAY_MAX_COLUMNS": 100,
              "DISPLAY_MAX_ROWS": 50000,
              "DISPLAY_MODE": "simple",
              "ENABLE_ASSIGNMENT": true,
              "ENABLE_DATALINK": true,
              "FLATTEN_COLUMN_VALUES": true,
              "FLATTEN_INDEX_VALUES": false,
              "GENERATE_DEX_METADATA": false,
              "HTML_TABLE_SCHEMA": false,
              "LOG_LEVEL": 30,
              "MAX_RENDER_SIZE_BYTES": 104857600,
              "MAX_STRING_LENGTH": 250,
              "NUM_PAST_SAMPLES_TRACKED": 3,
              "RANDOM_STATE": 12648430,
              "RESET_INDEX_VALUES": false,
              "ROW_SAMPLING_METHOD": "random",
              "SAMPLING_FACTOR": 0.1,
              "SAMPLING_METHOD": "random",
              "STRINGIFY_COLUMN_VALUES": true,
              "STRINGIFY_INDEX_VALUES": false
            },
            "sample_history": [],
            "sampling_time": "2023-11-03T15:10:25.952822",
            "user_variable_name": "sql_df_fkcs",
            "variable_name": "sql_df_fkcs"
          },
          "e8956a7b-318b-47e2-8fba-f7a3677bb07f": {
            "applied_filters": [],
            "dataframe_info": {
              "default_index_used": true,
              "orig_num_cols": 3,
              "orig_num_rows": 10,
              "orig_size_bytes": 320,
              "truncated_num_cols": 3,
              "truncated_num_rows": 10,
              "truncated_size_bytes": 320,
              "truncated_string_columns": []
            },
            "display_id": "e8956a7b-318b-47e2-8fba-f7a3677bb07f",
            "dx_settings": {
              "ALLOW_NOTEABLE_ATTRS": true,
              "COLUMN_SAMPLING_METHOD": "outer",
              "DB_LOCATION": ":memory:",
              "DEV_MODE": false,
              "DISPLAY_MAX_COLUMNS": 100,
              "DISPLAY_MAX_ROWS": 50000,
              "DISPLAY_MODE": "simple",
              "ENABLE_ASSIGNMENT": true,
              "ENABLE_DATALINK": true,
              "FLATTEN_COLUMN_VALUES": true,
              "FLATTEN_INDEX_VALUES": false,
              "GENERATE_DEX_METADATA": false,
              "HTML_TABLE_SCHEMA": false,
              "LOG_LEVEL": 30,
              "MAX_RENDER_SIZE_BYTES": 104857600,
              "MAX_STRING_LENGTH": 250,
              "NUM_PAST_SAMPLES_TRACKED": 3,
              "RANDOM_STATE": 12648430,
              "RESET_INDEX_VALUES": false,
              "ROW_SAMPLING_METHOD": "random",
              "SAMPLING_FACTOR": 0.1,
              "SAMPLING_METHOD": "random",
              "STRINGIFY_COLUMN_VALUES": true,
              "STRINGIFY_INDEX_VALUES": false
            },
            "sample_history": [],
            "sampling_time": "2023-11-05T21:09:53.356292",
            "user_variable_name": "sql_df_fkcs",
            "variable_name": "sql_df_fkcs"
          },
          "5fb4ef2e-e9dc-4d49-aa40-fb5d637c76da": {
            "applied_filters": [],
            "dataframe_info": {
              "default_index_used": true,
              "orig_num_cols": 3,
              "orig_num_rows": 10,
              "orig_size_bytes": 320,
              "truncated_num_cols": 3,
              "truncated_num_rows": 10,
              "truncated_size_bytes": 320,
              "truncated_string_columns": []
            },
            "display_id": "5fb4ef2e-e9dc-4d49-aa40-fb5d637c76da",
            "dx_settings": {
              "ALLOW_NOTEABLE_ATTRS": true,
              "COLUMN_SAMPLING_METHOD": "outer",
              "DB_LOCATION": ":memory:",
              "DEV_MODE": false,
              "DISPLAY_MAX_COLUMNS": 100,
              "DISPLAY_MAX_ROWS": 50000,
              "DISPLAY_MODE": "simple",
              "ENABLE_ASSIGNMENT": true,
              "ENABLE_DATALINK": true,
              "FLATTEN_COLUMN_VALUES": true,
              "FLATTEN_INDEX_VALUES": false,
              "GENERATE_DEX_METADATA": false,
              "HTML_TABLE_SCHEMA": false,
              "LOG_LEVEL": 30,
              "MAX_RENDER_SIZE_BYTES": 104857600,
              "MAX_STRING_LENGTH": 250,
              "NUM_PAST_SAMPLES_TRACKED": 3,
              "RANDOM_STATE": 12648430,
              "RESET_INDEX_VALUES": false,
              "ROW_SAMPLING_METHOD": "random",
              "SAMPLING_FACTOR": 0.1,
              "SAMPLING_METHOD": "random",
              "STRINGIFY_COLUMN_VALUES": true,
              "STRINGIFY_INDEX_VALUES": false
            },
            "sample_history": [],
            "sampling_time": "2023-11-05T21:24:58.610531",
            "user_variable_name": "sql_df_fkcs",
            "variable_name": "sql_df_fkcs"
          },
          "7ea32227-e9cd-4035-90a9-18a86c1d5404": {
            "applied_filters": [],
            "dataframe_info": {
              "default_index_used": true,
              "orig_num_cols": 3,
              "orig_num_rows": 10,
              "orig_size_bytes": 320,
              "truncated_num_cols": 3,
              "truncated_num_rows": 10,
              "truncated_size_bytes": 320,
              "truncated_string_columns": []
            },
            "display_id": "7ea32227-e9cd-4035-90a9-18a86c1d5404",
            "dx_settings": {
              "ALLOW_NOTEABLE_ATTRS": true,
              "COLUMN_SAMPLING_METHOD": "outer",
              "DB_LOCATION": ":memory:",
              "DEV_MODE": false,
              "DISPLAY_MAX_COLUMNS": 100,
              "DISPLAY_MAX_ROWS": 50000,
              "DISPLAY_MODE": "simple",
              "ENABLE_ASSIGNMENT": true,
              "ENABLE_DATALINK": true,
              "FLATTEN_COLUMN_VALUES": true,
              "FLATTEN_INDEX_VALUES": false,
              "GENERATE_DEX_METADATA": false,
              "HTML_TABLE_SCHEMA": false,
              "LOG_LEVEL": 30,
              "MAX_RENDER_SIZE_BYTES": 104857600,
              "MAX_STRING_LENGTH": 250,
              "NUM_PAST_SAMPLES_TRACKED": 3,
              "RANDOM_STATE": 12648430,
              "RESET_INDEX_VALUES": false,
              "ROW_SAMPLING_METHOD": "random",
              "SAMPLING_FACTOR": 0.1,
              "SAMPLING_METHOD": "random",
              "STRINGIFY_COLUMN_VALUES": true,
              "STRINGIFY_INDEX_VALUES": false
            },
            "sample_history": [],
            "sampling_time": "2023-11-07T21:43:47.754060",
            "user_variable_name": "sql_df_fkcs",
            "variable_name": "sql_df_fkcs"
          }
        },
        "dx": {
          "dashboard": {
            "multiViews": []
          },
          "fieldMetadata": {
            "index": {
              "columnPosition": 1
            },
            "job_count": {
              "columnPosition": 3,
              "width": 86.82879638671875
            },
            "median_salary": {
              "columnPosition": 4
            },
            "skill": {
              "columnPosition": 2
            }
          },
          "updated": 1699023575431,
          "views": [
            {
              "annotationRules": [],
              "chart": {},
              "chartMode": "grid",
              "confoRules": [],
              "decoration": {
                "footer": "",
                "subtitle": "",
                "title": "Table"
              },
              "facets": [],
              "filterSettings": {
                "SHOW_FILTER_PANEL": true,
                "filters": []
              },
              "id": "first-view",
              "isDefault": true,
              "type": "public",
              "userID": ""
            },
            {
              "annotationRules": [],
              "chart": {},
              "chartMode": "grid",
              "confoRules": [],
              "decoration": {
                "footer": "",
                "subtitle": "",
                "title": "Table"
              },
              "facets": [],
              "filterSettings": {
                "SHOW_FILTER_PANEL": true,
                "filters": []
              },
              "id": "first-view",
              "isDefault": true,
              "isTransitory": true,
              "type": "public",
              "userID": ""
            }
          ]
        }
      },
      "execution_count": null,
      "source": "WITH SkillSalary AS (\n  SELECT\n    keyword.element AS skill,\n    salary_year\n  FROM\n    `public_job_listings.data_nerd_jobs`,\n    UNNEST(keywords_all.list) AS keyword\n  WHERE\n    salary_year IS NOT NULL\n),\nTopSkills AS (\n  SELECT skill\n  FROM SkillSalary\n  GROUP BY skill\n  ORDER BY COUNT(*) DESC\n  LIMIT 10\n),\nMedianSalaries AS (\n  SELECT\n    skill,\n    PERCENTILE_CONT(salary_year, 0.5) OVER (PARTITION BY skill) AS median_salary,\n    COUNT(salary_year) OVER (PARTITION BY skill) AS salary_count\n  FROM\n    SkillSalary\n  WHERE\n    skill IN (SELECT skill FROM TopSkills)\n)\nSELECT\n  DISTINCT skill,\n  median_salary,\n  salary_count\nFROM\n  MedianSalaries\nORDER BY\n  median_salary DESC",
      "outputs": []
    },
    {
      "id": "17e3cedb-c7fb-4fb8-8ea8-e27b222c0710",
      "cell_type": "code",
      "metadata": {
        "noteable": {
          "cell_type": "code",
          "output_collection_id": "bfdc9694-6112-43a0-881a-2d3d7418dd50"
        },
        "ExecuteTime": {
          "end_time": "2023-11-07T21:43:48.761474+00:00",
          "start_time": "2023-11-07T21:43:47.921961+00:00"
        }
      },
      "execution_count": null,
      "source": "import seaborn as sns\nimport matplotlib.pyplot as plt\nsns.set(style='darkgrid')\nplt.style.use('dark_background')\n\n# Load the dataframe\ndf = sql_df_fkcs\n\n# Plotting the median salary for the top 10 skills\nplt.figure(figsize=(10, 8))\nsalary_plot = sns.barplot(x='median_salary', y='skill', data=df, palette='Blues_r', order=df.sort_values('median_salary', ascending=False)['skill'])\nplt.title('Median Salary by Skill')\nplt.xlabel('Median Salary')\nplt.ylabel('Skill')\nplt.show()",
      "outputs": []
    },
    {
      "id": "3b651e64-c1ad-4fd4-af5f-f76b658aebe4",
      "cell_type": "code",
      "metadata": {
        "noteable": {
          "cell_type": "code",
          "output_collection_id": "2f4eafb3-cbab-4aeb-8635-c786fbcc8784"
        },
        "ExecuteTime": {
          "end_time": "2023-11-07T21:43:49.497660+00:00",
          "start_time": "2023-11-07T21:43:49.077382+00:00"
        }
      },
      "execution_count": null,
      "source": "import seaborn as sns\nimport matplotlib.pyplot as plt\nimport matplotlib.ticker as mtick\n\nsns.set(style='darkgrid')\nplt.style.use('dark_background')\n\n# Load the dataframe\ndf = sql_df_fkcs\n\n# Plotting the median salary for the top 10 skills with modifications\nplt.figure(figsize=(10, 8))\nsalary_plot = sns.barplot(x='median_salary', y='skill', data=df, palette='Blues_r', order=df.sort_values('median_salary', ascending=False)['skill'])\n\n# Formatting the x-axis with dollar sign and comma for thousands\nfmt = '${x:,.0f}'\ntick = mtick.StrMethodFormatter(fmt)\nsalary_plot.xaxis.set_major_formatter(tick)\n\n# Setting the x-axis limits\nsalary_plot.set_xlim(85000, 155000)\n\n# Removing the axis labels\nsalary_plot.set_xlabel('')\nsalary_plot.set_ylabel('')\n\n# Setting the title and making it bigger\nsalary_plot.set_title('Median Salary by Skill', fontsize=20)\n\n# Adding the count of job postings at the end of the bars in black font and making it bigger\nfor p in salary_plot.patches:\n    width = p.get_width()\n    height = p.get_height()\n    skill = df.iloc[int(p.get_y() + 0.5)]['skill']\n    count = df[df['skill'] == skill]['salary_count'].iloc[0]\n    x_position = width - 5000 if width > 90000 else width + 5000\n    y_position = p.get_y() + height / 2\n    salary_plot.annotate(f'{count} postings',\n                   (x_position, y_position),\n                   ha = 'center', va = 'center',\n                   color = 'black',\n                   size=10)\n\nplt.show()",
      "outputs": []
    },
    {
      "id": "de6d5477-9461-408a-9f9d-f18a8744c7e6",
      "cell_type": "markdown",
      "source": "## Explore Salary vs Skills\nVisualizing the how top skills relate to salary in a scatter plot",
      "metadata": {
        "noteable": {
          "cell_type": "markdown"
        }
      }
    },
    {
      "id": "2c50dbca-1aa9-4e34-aaaf-8a242ab6a846",
      "cell_type": "code",
      "metadata": {
        "noteable": {
          "assign_results_to": "sql_df_1",
          "cell_type": "sql",
          "db_connection": "@5a5b9a444479436dbc1def18003d36d0",
          "output_collection_id": "acda33c3-b7bc-4a01-94f8-50d55db1aa55"
        },
        "ExecuteTime": null,
        "datalink": {
          "df60b38a-f4db-4ea4-a695-7241ec9516c1": {
            "applied_filters": [],
            "dataframe_info": {
              "default_index_used": true,
              "orig_num_cols": 3,
              "orig_num_rows": 219,
              "orig_size_bytes": 7008,
              "truncated_num_cols": 3,
              "truncated_num_rows": 219,
              "truncated_size_bytes": 7008,
              "truncated_string_columns": []
            },
            "display_id": "df60b38a-f4db-4ea4-a695-7241ec9516c1",
            "dx_settings": {
              "ALLOW_NOTEABLE_ATTRS": true,
              "COLUMN_SAMPLING_METHOD": "outer",
              "DB_LOCATION": ":memory:",
              "DEV_MODE": false,
              "DISPLAY_MAX_COLUMNS": 100,
              "DISPLAY_MAX_ROWS": 50000,
              "DISPLAY_MODE": "simple",
              "ENABLE_ASSIGNMENT": true,
              "ENABLE_DATALINK": true,
              "FLATTEN_COLUMN_VALUES": true,
              "FLATTEN_INDEX_VALUES": false,
              "GENERATE_DEX_METADATA": false,
              "HTML_TABLE_SCHEMA": false,
              "LOG_LEVEL": 30,
              "MAX_RENDER_SIZE_BYTES": 104857600,
              "MAX_STRING_LENGTH": 250,
              "NUM_PAST_SAMPLES_TRACKED": 3,
              "RANDOM_STATE": 12648430,
              "RESET_INDEX_VALUES": false,
              "ROW_SAMPLING_METHOD": "random",
              "SAMPLING_FACTOR": 0.1,
              "SAMPLING_METHOD": "random",
              "STRINGIFY_COLUMN_VALUES": true,
              "STRINGIFY_INDEX_VALUES": false
            },
            "sample_history": [],
            "sampling_time": "2023-11-03T15:53:14.887929",
            "user_variable_name": "sql_df_1",
            "variable_name": "sql_df_1"
          },
          "b18f1eb5-664a-4a69-b27c-0c16c0f865f0": {
            "applied_filters": [],
            "dataframe_info": {
              "default_index_used": true,
              "orig_num_cols": 3,
              "orig_num_rows": 219,
              "orig_size_bytes": 7008,
              "truncated_num_cols": 3,
              "truncated_num_rows": 219,
              "truncated_size_bytes": 7008,
              "truncated_string_columns": []
            },
            "display_id": "b18f1eb5-664a-4a69-b27c-0c16c0f865f0",
            "dx_settings": {
              "ALLOW_NOTEABLE_ATTRS": true,
              "COLUMN_SAMPLING_METHOD": "outer",
              "DB_LOCATION": ":memory:",
              "DEV_MODE": false,
              "DISPLAY_MAX_COLUMNS": 100,
              "DISPLAY_MAX_ROWS": 50000,
              "DISPLAY_MODE": "simple",
              "ENABLE_ASSIGNMENT": true,
              "ENABLE_DATALINK": true,
              "FLATTEN_COLUMN_VALUES": true,
              "FLATTEN_INDEX_VALUES": false,
              "GENERATE_DEX_METADATA": false,
              "HTML_TABLE_SCHEMA": false,
              "LOG_LEVEL": 30,
              "MAX_RENDER_SIZE_BYTES": 104857600,
              "MAX_STRING_LENGTH": 250,
              "NUM_PAST_SAMPLES_TRACKED": 3,
              "RANDOM_STATE": 12648430,
              "RESET_INDEX_VALUES": false,
              "ROW_SAMPLING_METHOD": "random",
              "SAMPLING_FACTOR": 0.1,
              "SAMPLING_METHOD": "random",
              "STRINGIFY_COLUMN_VALUES": true,
              "STRINGIFY_INDEX_VALUES": false
            },
            "sample_history": [],
            "sampling_time": "2023-11-05T21:07:50.613714",
            "user_variable_name": "sql_df_1",
            "variable_name": "sql_df_1"
          },
          "b2519af3-fab3-4ac5-b761-b3e86137fa3f": {
            "applied_filters": [],
            "dataframe_info": {
              "default_index_used": true,
              "orig_num_cols": 3,
              "orig_num_rows": 219,
              "orig_size_bytes": 7008,
              "truncated_num_cols": 3,
              "truncated_num_rows": 219,
              "truncated_size_bytes": 7008,
              "truncated_string_columns": []
            },
            "display_id": "b2519af3-fab3-4ac5-b761-b3e86137fa3f",
            "dx_settings": {
              "ALLOW_NOTEABLE_ATTRS": true,
              "COLUMN_SAMPLING_METHOD": "outer",
              "DB_LOCATION": ":memory:",
              "DEV_MODE": false,
              "DISPLAY_MAX_COLUMNS": 100,
              "DISPLAY_MAX_ROWS": 50000,
              "DISPLAY_MODE": "simple",
              "ENABLE_ASSIGNMENT": true,
              "ENABLE_DATALINK": true,
              "FLATTEN_COLUMN_VALUES": true,
              "FLATTEN_INDEX_VALUES": false,
              "GENERATE_DEX_METADATA": false,
              "HTML_TABLE_SCHEMA": false,
              "LOG_LEVEL": 30,
              "MAX_RENDER_SIZE_BYTES": 104857600,
              "MAX_STRING_LENGTH": 250,
              "NUM_PAST_SAMPLES_TRACKED": 3,
              "RANDOM_STATE": 12648430,
              "RESET_INDEX_VALUES": false,
              "ROW_SAMPLING_METHOD": "random",
              "SAMPLING_FACTOR": 0.1,
              "SAMPLING_METHOD": "random",
              "STRINGIFY_COLUMN_VALUES": true,
              "STRINGIFY_INDEX_VALUES": false
            },
            "sample_history": [],
            "sampling_time": "2023-11-05T21:08:52.515179",
            "user_variable_name": "sql_df_1",
            "variable_name": "sql_df_1"
          },
          "9cbb078e-3c53-407c-ac53-0ea480d3f737": {
            "applied_filters": [],
            "dataframe_info": {
              "default_index_used": true,
              "orig_num_cols": 3,
              "orig_num_rows": 219,
              "orig_size_bytes": 7008,
              "truncated_num_cols": 3,
              "truncated_num_rows": 219,
              "truncated_size_bytes": 7008,
              "truncated_string_columns": []
            },
            "display_id": "9cbb078e-3c53-407c-ac53-0ea480d3f737",
            "dx_settings": {
              "ALLOW_NOTEABLE_ATTRS": true,
              "COLUMN_SAMPLING_METHOD": "outer",
              "DB_LOCATION": ":memory:",
              "DEV_MODE": false,
              "DISPLAY_MAX_COLUMNS": 100,
              "DISPLAY_MAX_ROWS": 50000,
              "DISPLAY_MODE": "simple",
              "ENABLE_ASSIGNMENT": true,
              "ENABLE_DATALINK": true,
              "FLATTEN_COLUMN_VALUES": true,
              "FLATTEN_INDEX_VALUES": false,
              "GENERATE_DEX_METADATA": false,
              "HTML_TABLE_SCHEMA": false,
              "LOG_LEVEL": 30,
              "MAX_RENDER_SIZE_BYTES": 104857600,
              "MAX_STRING_LENGTH": 250,
              "NUM_PAST_SAMPLES_TRACKED": 3,
              "RANDOM_STATE": 12648430,
              "RESET_INDEX_VALUES": false,
              "ROW_SAMPLING_METHOD": "random",
              "SAMPLING_FACTOR": 0.1,
              "SAMPLING_METHOD": "random",
              "STRINGIFY_COLUMN_VALUES": true,
              "STRINGIFY_INDEX_VALUES": false
            },
            "sample_history": [],
            "sampling_time": "2023-11-05T21:10:03.779734",
            "user_variable_name": "sql_df_1",
            "variable_name": "sql_df_1"
          },
          "d1e616a4-9244-4762-8f1f-ad9eee16b370": {
            "applied_filters": [],
            "dataframe_info": {
              "default_index_used": true,
              "orig_num_cols": 3,
              "orig_num_rows": 219,
              "orig_size_bytes": 7008,
              "truncated_num_cols": 3,
              "truncated_num_rows": 219,
              "truncated_size_bytes": 7008,
              "truncated_string_columns": []
            },
            "display_id": "d1e616a4-9244-4762-8f1f-ad9eee16b370",
            "dx_settings": {
              "ALLOW_NOTEABLE_ATTRS": true,
              "COLUMN_SAMPLING_METHOD": "outer",
              "DB_LOCATION": ":memory:",
              "DEV_MODE": false,
              "DISPLAY_MAX_COLUMNS": 100,
              "DISPLAY_MAX_ROWS": 50000,
              "DISPLAY_MODE": "simple",
              "ENABLE_ASSIGNMENT": true,
              "ENABLE_DATALINK": true,
              "FLATTEN_COLUMN_VALUES": true,
              "FLATTEN_INDEX_VALUES": false,
              "GENERATE_DEX_METADATA": false,
              "HTML_TABLE_SCHEMA": false,
              "LOG_LEVEL": 30,
              "MAX_RENDER_SIZE_BYTES": 104857600,
              "MAX_STRING_LENGTH": 250,
              "NUM_PAST_SAMPLES_TRACKED": 3,
              "RANDOM_STATE": 12648430,
              "RESET_INDEX_VALUES": false,
              "ROW_SAMPLING_METHOD": "random",
              "SAMPLING_FACTOR": 0.1,
              "SAMPLING_METHOD": "random",
              "STRINGIFY_COLUMN_VALUES": true,
              "STRINGIFY_INDEX_VALUES": false
            },
            "sample_history": [],
            "sampling_time": "2023-11-05T21:25:03.688429",
            "user_variable_name": "sql_df_1",
            "variable_name": "sql_df_1"
          }
        },
        "dx": {
          "dashboard": {
            "multiViews": []
          },
          "fieldMetadata": {},
          "updated": 1699027025230,
          "views": [
            {
              "annotationRules": [],
              "chart": {},
              "chartMode": "grid",
              "confoRules": [],
              "decoration": {
                "footer": "",
                "subtitle": "",
                "title": "Table"
              },
              "facets": [],
              "filterSettings": {
                "SHOW_FILTER_PANEL": true,
                "filters": []
              },
              "id": "first-view",
              "isDefault": true,
              "type": "public",
              "userID": ""
            },
            {
              "annotationRules": [],
              "chart": {
                "facets": [],
                "metric1": "median_salary",
                "metric2": "salary_count",
                "scatterplotSize": "none"
              },
              "chartMode": "scatter",
              "confoRules": [
                {
                  "colorOpts": {
                    "color": null,
                    "cond": null,
                    "gradient": "Viridis",
                    "max": 218,
                    "min": 0,
                    "mode": "gradient",
                    "scale": "Linear",
                    "thresholdColors": "blues5",
                    "thresholdValues": [
                      43.6,
                      87.2,
                      130.79999999999998,
                      174.4
                    ]
                  },
                  "columnType": "Metric",
                  "fieldName": "index",
                  "id": "d54af840-24b3-4f42-8165-bc4a4be51896",
                  "index": 0,
                  "name": ""
                },
                {
                  "colorOpts": {
                    "color": null,
                    "cond": null,
                    "gradient": "Viridis",
                    "max": 218,
                    "min": 0,
                    "mode": "threshold",
                    "scale": "Linear",
                    "thresholdColors": "blues5",
                    "thresholdValues": [
                      43.6,
                      87.2,
                      130.79999999999998,
                      174.4
                    ]
                  },
                  "columnType": "Metric",
                  "fieldName": "index",
                  "id": "eae879dc-eaf9-461d-893c-da185de7905d",
                  "index": 0,
                  "name": ""
                },
                {
                  "colorOpts": {
                    "color": null,
                    "cond": null,
                    "gradient": "Viridis",
                    "max": 196500,
                    "min": 64400,
                    "mode": "threshold",
                    "scale": "Linear",
                    "thresholdColors": "blues5",
                    "thresholdValues": [
                      90820,
                      117240,
                      143660,
                      170080
                    ]
                  },
                  "columnType": "Metric",
                  "fieldName": "median_salary",
                  "id": "22eeccdd-411c-4df7-8e61-19d53edad083",
                  "index": 0,
                  "name": ""
                },
                {
                  "colorOpts": {
                    "color": null,
                    "cond": null,
                    "gradient": "Viridis",
                    "max": 16127,
                    "min": 1,
                    "mode": "threshold",
                    "scale": "Linear",
                    "thresholdColors": "blues5",
                    "thresholdValues": [
                      3226.2000000000003,
                      6451.400000000001,
                      9676.599999999999,
                      12901.800000000001
                    ]
                  },
                  "columnType": "Metric",
                  "fieldName": "salary_count",
                  "id": "b62135fc-d950-4c2b-9e06-e89e111688d4",
                  "index": 0,
                  "name": ""
                },
                {
                  "colorOpts": {
                    "color": null,
                    "cond": null,
                    "gradient": "Viridis",
                    "max": 16127,
                    "min": 1,
                    "mode": "gradient",
                    "scale": "Linear",
                    "thresholdColors": "blues5",
                    "thresholdValues": [
                      3226.2000000000003,
                      6451.400000000001,
                      9676.599999999999,
                      12901.800000000001
                    ]
                  },
                  "columnType": "Metric",
                  "fieldName": "salary_count",
                  "id": "68835596-a8c6-41b4-a5b6-ec4fa7697748",
                  "index": 0,
                  "name": ""
                },
                {
                  "colorOpts": {
                    "color": null,
                    "cond": null,
                    "gradient": "Viridis",
                    "max": 16127,
                    "min": 1,
                    "mode": "threshold",
                    "scale": "Linear",
                    "thresholdColors": "blues5",
                    "thresholdValues": [
                      3226.2000000000003,
                      6451.400000000001,
                      9676.599999999999,
                      12901.800000000001
                    ]
                  },
                  "columnType": "Metric",
                  "fieldName": "salary_count",
                  "id": "16326d1b-f733-43a3-80d5-82a65dfc603e",
                  "index": 0,
                  "name": ""
                }
              ],
              "decoration": {
                "footer": "",
                "subtitle": "",
                "title": "Scatterplot"
              },
              "facets": [],
              "filterSettings": {
                "SHOW_FILTER_PANEL": true,
                "filters": []
              },
              "id": "first-view",
              "isDefault": true,
              "isTransitory": true,
              "type": "public",
              "userID": ""
            },
            {
              "annotationRules": [],
              "chart": {},
              "chartMode": "empty",
              "confoRules": [],
              "decoration": {
                "footer": "",
                "subtitle": "",
                "title": "New View"
              },
              "facets": [],
              "filterSettings": {
                "SHOW_FILTER_PANEL": true,
                "filters": []
              },
              "id": "46fd661c-3b84-48b7-aaae-195f1fd96a64",
              "isDefault": false,
              "type": "public",
              "userID": ""
            },
            {
              "annotationRules": [],
              "chart": {
                "facets": []
              },
              "chartMode": "grid",
              "confoRules": [],
              "decoration": {
                "footer": "",
                "subtitle": "",
                "title": "Table"
              },
              "facets": [],
              "filterSettings": {
                "SHOW_FILTER_PANEL": true,
                "filters": []
              },
              "id": "46fd661c-3b84-48b7-aaae-195f1fd96a64",
              "isDefault": false,
              "isTransitory": true,
              "type": "public",
              "userID": ""
            }
          ]
        }
      },
      "execution_count": null,
      "source": "WITH SkillSalary AS (\n  SELECT\n    keyword.element AS skill,\n    salary_year\n  FROM\n    `public_job_listings.data_nerd_jobs`,\n    UNNEST(keywords_all.list) AS keyword\n  WHERE\n    salary_year IS NOT NULL\n),\nTopSkills AS (\n  SELECT skill\n  FROM SkillSalary\n  GROUP BY skill\n  ORDER BY COUNT(*) DESC\n--  LIMIT 10\n),\nMedianSalaries AS (\n  SELECT\n    skill,\n    PERCENTILE_CONT(salary_year, 0.5) OVER (PARTITION BY skill) AS median_salary,\n    COUNT(salary_year) OVER (PARTITION BY skill) AS salary_count\n  FROM\n    SkillSalary\n  WHERE\n    skill IN (SELECT skill FROM TopSkills)\n)\nSELECT\n  DISTINCT skill,\n  median_salary,\n  salary_count\nFROM\n  MedianSalaries\nORDER BY\n  median_salary DESC",
      "outputs": []
    },
    {
      "id": "f3b14bdb-b542-4f5d-a1df-eae3a7c27eba",
      "cell_type": "code",
      "metadata": {
        "noteable": {
          "cell_type": "code",
          "output_collection_id": "2081c1a0-0688-4102-9b33-19823b526484"
        },
        "ExecuteTime": {
          "end_time": "2023-11-05T21:25:07.871159+00:00",
          "start_time": "2023-11-05T21:25:05.015852+00:00"
        }
      },
      "execution_count": null,
      "source": "!pip install -q plotly\nimport plotly.express as px\n\n# Load the dataframe\ndf = sql_df_1\n\n# Create the scatter plot\nfig = px.scatter(df, x='median_salary', y='salary_count',\n                 hover_data=['skill'],\n                 title='Median Salary vs. Job Posting Count',\n                 labels={'median_salary': 'Median Salary', 'salary_count': 'Job Posting Count'},\n                 template='plotly_dark')\n\n# Show the plot\nfig.show()",
      "outputs": []
    },
    {
      "id": "00c2e76a-5dc6-46cd-817d-656b0337a98e",
      "cell_type": "code",
      "metadata": {
        "noteable": {
          "assign_results_to": "sql_df_zhgi",
          "cell_type": "sql",
          "db_connection": "@5a5b9a444479436dbc1def18003d36d0",
          "output_collection_id": "9c9d740b-d599-4865-9087-154378b99a07"
        },
        "ExecuteTime": {
          "end_time": "2023-11-05T21:50:09.818563+00:00",
          "start_time": "2023-11-05T21:50:08.536131+00:00"
        },
        "datalink": {
          "a4b1f8d5-88c0-4eab-a2cc-8a8b7b335ca0": {
            "applied_filters": [],
            "dataframe_info": {
              "default_index_used": true,
              "orig_num_cols": 4,
              "orig_num_rows": 100,
              "orig_size_bytes": 4000,
              "truncated_num_cols": 4,
              "truncated_num_rows": 100,
              "truncated_size_bytes": 4000,
              "truncated_string_columns": []
            },
            "display_id": "a4b1f8d5-88c0-4eab-a2cc-8a8b7b335ca0",
            "dx_settings": {
              "ALLOW_NOTEABLE_ATTRS": true,
              "COLUMN_SAMPLING_METHOD": "outer",
              "DB_LOCATION": ":memory:",
              "DEV_MODE": false,
              "DISPLAY_MAX_COLUMNS": 100,
              "DISPLAY_MAX_ROWS": 50000,
              "DISPLAY_MODE": "simple",
              "ENABLE_ASSIGNMENT": true,
              "ENABLE_DATALINK": true,
              "FLATTEN_COLUMN_VALUES": true,
              "FLATTEN_INDEX_VALUES": false,
              "GENERATE_DEX_METADATA": false,
              "HTML_TABLE_SCHEMA": false,
              "LOG_LEVEL": 30,
              "MAX_RENDER_SIZE_BYTES": 104857600,
              "MAX_STRING_LENGTH": 250,
              "NUM_PAST_SAMPLES_TRACKED": 3,
              "RANDOM_STATE": 12648430,
              "RESET_INDEX_VALUES": false,
              "ROW_SAMPLING_METHOD": "random",
              "SAMPLING_FACTOR": 0.1,
              "SAMPLING_METHOD": "random",
              "STRINGIFY_COLUMN_VALUES": true,
              "STRINGIFY_INDEX_VALUES": false
            },
            "sample_history": [],
            "sampling_time": "2023-11-05T21:44:04.125186",
            "user_variable_name": "sql_df_zhgi",
            "variable_name": "sql_df_zhgi"
          },
          "1e32c5f5-9851-4140-bf5e-4f0fa75f6a91": {
            "applied_filters": [],
            "dataframe_info": {
              "default_index_used": true,
              "orig_num_cols": 4,
              "orig_num_rows": 1497,
              "orig_size_bytes": 59880,
              "truncated_num_cols": 4,
              "truncated_num_rows": 1497,
              "truncated_size_bytes": 59880,
              "truncated_string_columns": []
            },
            "display_id": "1e32c5f5-9851-4140-bf5e-4f0fa75f6a91",
            "dx_settings": {
              "ALLOW_NOTEABLE_ATTRS": true,
              "COLUMN_SAMPLING_METHOD": "outer",
              "DB_LOCATION": ":memory:",
              "DEV_MODE": false,
              "DISPLAY_MAX_COLUMNS": 100,
              "DISPLAY_MAX_ROWS": 50000,
              "DISPLAY_MODE": "simple",
              "ENABLE_ASSIGNMENT": true,
              "ENABLE_DATALINK": true,
              "FLATTEN_COLUMN_VALUES": true,
              "FLATTEN_INDEX_VALUES": false,
              "GENERATE_DEX_METADATA": false,
              "HTML_TABLE_SCHEMA": false,
              "LOG_LEVEL": 30,
              "MAX_RENDER_SIZE_BYTES": 104857600,
              "MAX_STRING_LENGTH": 250,
              "NUM_PAST_SAMPLES_TRACKED": 3,
              "RANDOM_STATE": 12648430,
              "RESET_INDEX_VALUES": false,
              "ROW_SAMPLING_METHOD": "random",
              "SAMPLING_FACTOR": 0.1,
              "SAMPLING_METHOD": "random",
              "STRINGIFY_COLUMN_VALUES": true,
              "STRINGIFY_INDEX_VALUES": false
            },
            "sample_history": [],
            "sampling_time": "2023-11-05T21:49:26.377660",
            "user_variable_name": "sql_df_zhgi",
            "variable_name": "sql_df_zhgi"
          },
          "ee24c0c5-1482-4002-a462-238ab3f9f82c": {
            "applied_filters": [],
            "dataframe_info": {
              "default_index_used": true,
              "orig_num_cols": 4,
              "orig_num_rows": 1497,
              "orig_size_bytes": 59880,
              "truncated_num_cols": 4,
              "truncated_num_rows": 1497,
              "truncated_size_bytes": 59880,
              "truncated_string_columns": []
            },
            "display_id": "ee24c0c5-1482-4002-a462-238ab3f9f82c",
            "dx_settings": {
              "ALLOW_NOTEABLE_ATTRS": true,
              "COLUMN_SAMPLING_METHOD": "outer",
              "DB_LOCATION": ":memory:",
              "DEV_MODE": false,
              "DISPLAY_MAX_COLUMNS": 100,
              "DISPLAY_MAX_ROWS": 50000,
              "DISPLAY_MODE": "simple",
              "ENABLE_ASSIGNMENT": true,
              "ENABLE_DATALINK": true,
              "FLATTEN_COLUMN_VALUES": true,
              "FLATTEN_INDEX_VALUES": false,
              "GENERATE_DEX_METADATA": false,
              "HTML_TABLE_SCHEMA": false,
              "LOG_LEVEL": 30,
              "MAX_RENDER_SIZE_BYTES": 104857600,
              "MAX_STRING_LENGTH": 250,
              "NUM_PAST_SAMPLES_TRACKED": 3,
              "RANDOM_STATE": 12648430,
              "RESET_INDEX_VALUES": false,
              "ROW_SAMPLING_METHOD": "random",
              "SAMPLING_FACTOR": 0.1,
              "SAMPLING_METHOD": "random",
              "STRINGIFY_COLUMN_VALUES": true,
              "STRINGIFY_INDEX_VALUES": false
            },
            "sample_history": [],
            "sampling_time": "2023-11-05T21:50:09.654823",
            "user_variable_name": "sql_df_zhgi",
            "variable_name": "sql_df_zhgi"
          }
        }
      },
      "execution_count": null,
      "source": "WITH SkillSalary AS (\n  SELECT\n    keyword.element AS skill,\n    job_title_final,\n    salary_year\n  FROM\n    `public_job_listings.data_nerd_jobs`,\n    UNNEST(keywords_all.list) AS keyword\n  WHERE\n    salary_year IS NOT NULL\n),\nMedianSalaries AS (\n  SELECT\n    skill,\n    job_title_final,\n    PERCENTILE_CONT(salary_year, 0.5) OVER (PARTITION BY skill, job_title_final) AS median_salary,\n    COUNT(salary_year) OVER (PARTITION BY skill, job_title_final) AS salary_count\n  FROM\n    SkillSalary\n)\nSELECT\n  DISTINCT skill,\n  job_title_final,\n  median_salary,\n  salary_count\nFROM\n  MedianSalaries\nORDER BY\n  median_salary DESC",
      "outputs": []
    },
    {
      "id": "0f5cd381-a1ff-480a-b476-f17225970ce3",
      "cell_type": "code",
      "metadata": {
        "noteable": {
          "cell_type": "code",
          "output_collection_id": "b6449021-101a-445a-ba5c-40a3df3373b9"
        },
        "ExecuteTime": {
          "end_time": "2023-11-05T21:53:25.499550+00:00",
          "start_time": "2023-11-05T21:53:25.241144+00:00"
        }
      },
      "execution_count": null,
      "source": "import plotly.express as px\n\n# Load the dataframe\ndf = sql_df_zhgi\n\n# Create the interactive scatter plot with a slicer for 'job_title_final'\nfig = px.scatter(df, x='median_salary', y='salary_count',\n                 color='job_title_final',\n                 hover_data=['skill', 'job_title_final'],\n                 title='Skill Count vs. Median Salary by Job Title',\n                 labels={'median_salary': 'Median Salary', 'salary_count': 'Skill Count'},\n                 template='plotly_dark')\n\n# Add a dropdown to filter by job title\njob_titles = df['job_title_final'].unique()\nfig.update_layout(\n    updatemenus=[\n        dict(\n            buttons=list([\n                dict(args=[{'visible': [True] * len(df)}],\n                     label='All',\n                     method='update'),\n                *[dict(args=[{'visible': [job_title==jt for job_title in df['job_title_final']]}],\n                     label=jt,\n                     method='update') for jt in job_titles]\n            ]),\n            direction='down',\n            pad={'r': 10, 't': 10},\n            showactive=True,\n            x=0.1,\n            xanchor='left',\n            y=1.15,\n            yanchor='top'\n        ),\n    ],\n    showlegend=False\n)\n\n# Show the plot\nfig.show()",
      "outputs": []
    },
    {
      "id": "1cc8edc7-d10a-4d9b-95f9-2a62f9029dd8",
      "cell_type": "code",
      "metadata": {
        "noteable": {
          "cell_type": "code",
          "output_collection_id": "cdbec747-263d-45cf-90dd-87b18513ef5c"
        },
        "ExecuteTime": {
          "end_time": "2023-11-05T22:04:18.730736+00:00",
          "start_time": "2023-11-05T22:04:18.475748+00:00"
        },
        "datalink": {
          "92a71436-a0c0-49c3-8365-a962b9a1cc5d": {
            "applied_filters": [],
            "dataframe_info": {
              "default_index_used": true,
              "orig_num_cols": 5,
              "orig_num_rows": 1497,
              "orig_size_bytes": 71856,
              "truncated_num_cols": 5,
              "truncated_num_rows": 1497,
              "truncated_size_bytes": 71856,
              "truncated_string_columns": []
            },
            "display_id": "92a71436-a0c0-49c3-8365-a962b9a1cc5d",
            "dx_settings": {
              "ALLOW_NOTEABLE_ATTRS": true,
              "COLUMN_SAMPLING_METHOD": "outer",
              "DB_LOCATION": ":memory:",
              "DEV_MODE": false,
              "DISPLAY_MAX_COLUMNS": 100,
              "DISPLAY_MAX_ROWS": 50000,
              "DISPLAY_MODE": "simple",
              "ENABLE_ASSIGNMENT": true,
              "ENABLE_DATALINK": true,
              "FLATTEN_COLUMN_VALUES": true,
              "FLATTEN_INDEX_VALUES": false,
              "GENERATE_DEX_METADATA": false,
              "HTML_TABLE_SCHEMA": false,
              "LOG_LEVEL": 30,
              "MAX_RENDER_SIZE_BYTES": 104857600,
              "MAX_STRING_LENGTH": 250,
              "NUM_PAST_SAMPLES_TRACKED": 3,
              "RANDOM_STATE": 12648430,
              "RESET_INDEX_VALUES": false,
              "ROW_SAMPLING_METHOD": "random",
              "SAMPLING_FACTOR": 0.1,
              "SAMPLING_METHOD": "random",
              "STRINGIFY_COLUMN_VALUES": true,
              "STRINGIFY_INDEX_VALUES": false
            },
            "sample_history": [],
            "sampling_time": "2023-11-05T22:04:18.565129",
            "user_variable_name": null,
            "variable_name": "unk_dataframe_b9734de80b25450c807b21f9c553ed3a"
          }
        }
      },
      "execution_count": null,
      "source": "# Load the dataframe\ndf = sql_df_zhgi\n\n# Normalize the 'salary_count' and 'median_salary' columns\ndf['normalized_count'] = (df['salary_count'] - df['salary_count'].min()) / (df['salary_count'].max() - df['salary_count'].min())\ndf['normalized_salary'] = (df['median_salary'] - df['median_salary'].min()) / (df['median_salary'].max() - df['median_salary'].min())\n\n# Calculate the skill multiplier\ndf['skill_multiplier'] = df['normalized_count'] * df['normalized_salary']\n\n# Display the dataframe with the new 'skill_multiplier' column\ndf[['skill', 'job_title_final', 'median_salary', 'salary_count', 'skill_multiplier']]",
      "outputs": []
    },
    {
      "id": "f594ae49-55ca-463a-84e5-b6bb52501efa",
      "cell_type": "code",
      "metadata": {
        "noteable": {
          "cell_type": "code",
          "output_collection_id": "5f74a0a3-e3cf-4a07-93f7-c73095594395"
        },
        "ExecuteTime": {
          "end_time": "2023-11-05T22:31:23.419683+00:00",
          "start_time": "2023-11-05T22:31:23.096196+00:00"
        },
        "datalink": {
          "9448c318-f5c0-441f-9560-64bc8d0d5ee8": {
            "applied_filters": [],
            "dataframe_info": {
              "default_index_used": true,
              "orig_num_cols": 5,
              "orig_num_rows": 1497,
              "orig_size_bytes": 71856,
              "truncated_num_cols": 5,
              "truncated_num_rows": 1497,
              "truncated_size_bytes": 71856,
              "truncated_string_columns": []
            },
            "display_id": "9448c318-f5c0-441f-9560-64bc8d0d5ee8",
            "dx_settings": {
              "ALLOW_NOTEABLE_ATTRS": true,
              "COLUMN_SAMPLING_METHOD": "outer",
              "DB_LOCATION": ":memory:",
              "DEV_MODE": false,
              "DISPLAY_MAX_COLUMNS": 100,
              "DISPLAY_MAX_ROWS": 50000,
              "DISPLAY_MODE": "simple",
              "ENABLE_ASSIGNMENT": true,
              "ENABLE_DATALINK": true,
              "FLATTEN_COLUMN_VALUES": true,
              "FLATTEN_INDEX_VALUES": false,
              "GENERATE_DEX_METADATA": false,
              "HTML_TABLE_SCHEMA": false,
              "LOG_LEVEL": 30,
              "MAX_RENDER_SIZE_BYTES": 104857600,
              "MAX_STRING_LENGTH": 250,
              "NUM_PAST_SAMPLES_TRACKED": 3,
              "RANDOM_STATE": 12648430,
              "RESET_INDEX_VALUES": false,
              "ROW_SAMPLING_METHOD": "random",
              "SAMPLING_FACTOR": 0.1,
              "SAMPLING_METHOD": "random",
              "STRINGIFY_COLUMN_VALUES": true,
              "STRINGIFY_INDEX_VALUES": false
            },
            "sample_history": [],
            "sampling_time": "2023-11-05T22:06:38.388810",
            "user_variable_name": null,
            "variable_name": "unk_dataframe_ce6c4db6214f43338c8ee2822ca2833b"
          },
          "253dc46a-a13b-479a-8af5-f25134b7c9bf": {
            "applied_filters": [],
            "dataframe_info": {
              "default_index_used": true,
              "orig_num_cols": 7,
              "orig_num_rows": 1497,
              "orig_size_bytes": 95808,
              "truncated_num_cols": 7,
              "truncated_num_rows": 1497,
              "truncated_size_bytes": 95808,
              "truncated_string_columns": []
            },
            "display_id": "253dc46a-a13b-479a-8af5-f25134b7c9bf",
            "dx_settings": {
              "ALLOW_NOTEABLE_ATTRS": true,
              "COLUMN_SAMPLING_METHOD": "outer",
              "DB_LOCATION": ":memory:",
              "DEV_MODE": false,
              "DISPLAY_MAX_COLUMNS": 100,
              "DISPLAY_MAX_ROWS": 50000,
              "DISPLAY_MODE": "simple",
              "ENABLE_ASSIGNMENT": true,
              "ENABLE_DATALINK": true,
              "FLATTEN_COLUMN_VALUES": true,
              "FLATTEN_INDEX_VALUES": false,
              "GENERATE_DEX_METADATA": false,
              "HTML_TABLE_SCHEMA": false,
              "LOG_LEVEL": 30,
              "MAX_RENDER_SIZE_BYTES": 104857600,
              "MAX_STRING_LENGTH": 250,
              "NUM_PAST_SAMPLES_TRACKED": 3,
              "RANDOM_STATE": 12648430,
              "RESET_INDEX_VALUES": false,
              "ROW_SAMPLING_METHOD": "random",
              "SAMPLING_FACTOR": 0.1,
              "SAMPLING_METHOD": "random",
              "STRINGIFY_COLUMN_VALUES": true,
              "STRINGIFY_INDEX_VALUES": false
            },
            "sample_history": [],
            "sampling_time": "2023-11-05T22:31:23.251461",
            "user_variable_name": null,
            "variable_name": "unk_dataframe_485d1f7bef9243998a71aab7cd3eaade"
          }
        }
      },
      "execution_count": null,
      "source": "import numpy as np\n\n# Load the dataframe\ndf = sql_df_zhgi.copy()\n\n# Define a function to normalize the columns within each job title group\ndef normalize_within_group(data, key, target):\n    group_min = data.groupby(key)[target].transform('min')\n    group_max = data.groupby(key)[target].transform('max')\n    normalized = (data[target] - group_min) / (group_max - group_min)\n    return normalized\n\n# Apply the normalization function to the salary_count and median_salary columns\ndf['normalized_count'] = normalize_within_group(df, 'job_title_final', 'salary_count')\ndf['normalized_salary'] = normalize_within_group(df, 'job_title_final', 'median_salary')\n\n# Calculate the skill multiplier\ndf['skill_multiplier'] = df['normalized_count'] * df['normalized_salary']\n\n# Display the dataframe with the new skill_multiplier column\ndf[['skill', 'job_title_final', 'median_salary', 'salary_count', 'skill_multiplier', 'normalized_salary', 'normalized_count']]",
      "outputs": []
    },
    {
      "id": "1f23e651-ef77-4e18-a951-c585838af475",
      "cell_type": "code",
      "metadata": {
        "noteable": {
          "cell_type": "code",
          "output_collection_id": "e9c2d7a0-dda3-4d03-90db-b5fd2f5a6e85"
        },
        "ExecuteTime": {
          "end_time": "2023-11-05T22:24:13.063897+00:00",
          "start_time": "2023-11-05T22:24:12.813877+00:00"
        }
      },
      "execution_count": null,
      "source": "import plotly.graph_objs as go\nfrom plotly.subplots import make_subplots\n\n# Get unique job titles\njob_titles = df['job_title_final'].unique()\n\n# Determine the number of rows for subplots based on the number of job titles\nnum_rows = len(job_titles)\n\n# Create subplots for each job title with adequate spacing\nfig = make_subplots(rows=num_rows, cols=1, subplot_titles=job_titles, vertical_spacing=0.05)\n\n# Function to create a bar plot for top 10 skills for a given job title\ndef create_bar_plot(df, job_title, row):\n    # Filter and sort the dataframe\n    filtered_df = df[df['job_title_final'] == job_title].sort_values(by='skill_multiplier', ascending=False).head(10)\n    # Create the bar plot\n    fig.add_trace(\n        go.Bar(\n            x=filtered_df['skill'],\n            y=filtered_df['skill_multiplier'],\n            name=job_title,\n            hoverinfo='text',\n            hovertext=filtered_df.apply(lambda x: f\"Skill: {x['skill']}<br>Median Salary: {x['median_salary']}<br>Salary Count: {x['salary_count']}\", axis=1),\n            marker=dict(color=filtered_df['skill_multiplier'], coloraxis='coloraxis')\n        ),\n        row=row,\n        col=1\n    )\n\n# Add bar plots to the subplots\nfor i, job_title in enumerate(job_titles, start=1):\n    create_bar_plot(df, job_title, i)\n\n# Update layout for a cleaner look with more space between plots\nfig.update_layout(\n    coloraxis=dict(colorscale='Bluered_r'),\n    showlegend=False,\n    title_text='Top 10 Skills by Job Title',\n    title_x=0.5,\n    height=300 * num_rows  # Adjust the height based on the number of rows\n)\n\n# Show the plot\nfig.show()",
      "outputs": []
    }
  ]
}