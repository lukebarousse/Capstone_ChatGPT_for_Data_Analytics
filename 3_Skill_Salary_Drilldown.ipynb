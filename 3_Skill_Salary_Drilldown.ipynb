{
  "nbformat": 4,
  "nbformat_minor": 5,
  "metadata": {
    "noteable-chatgpt": {
      "create_notebook": {
        "openai_conversation_id": "c3d381a9-9cfe-583c-aa6b-1d47a890c621",
        "openai_ephemeral_user_id": "68a6b3fd-8f9e-5ba6-b122-2b0a560afdc4",
        "openai_subdivision1_iso_code": "US-AR"
      }
    },
    "kernel_info": {
      "name": "python3"
    },
    "kernelspec": {
      "display_name": "Python 3.9",
      "identifier": "legacy",
      "language": "python",
      "language_version": "3.9",
      "name": "python3"
    },
    "selected_hardware_size": "small",
    "noteable": {
      "db_connection": "@5a5b9a444479436dbc1def18003d36d0"
    }
  },
  "cells": [
    {
      "id": "73173896-a72d-4c1a-896c-64b0177d4661",
      "cell_type": "markdown",
      "source": "## List Tables\nExploring the tables in the 'Data Nerd Jobs' data connection.",
      "metadata": {
        "noteable": {
          "cell_type": "markdown"
        }
      }
    },
    {
      "id": "a96d10d7-85ea-4340-9b9c-9c7413ab12ab",
      "cell_type": "code",
      "metadata": {
        "noteable": {
          "assign_results_to": "sql_df_xnkv",
          "cell_type": "sql",
          "db_connection": "@5a5b9a444479436dbc1def18003d36d0",
          "output_collection_id": "0ddecf0a-c10d-453f-8ddd-37c5f21dfc38"
        },
        "ExecuteTime": {
          "end_time": "2023-11-05T21:09:46.770276+00:00",
          "start_time": "2023-11-05T21:09:45.508218+00:00"
        },
        "datalink": {
          "d4619350-b239-4499-9505-8eafb2aa6ddb": {
            "applied_filters": [],
            "dataframe_info": {
              "default_index_used": true,
              "orig_num_cols": 3,
              "orig_num_rows": 1,
              "orig_size_bytes": 32,
              "truncated_num_cols": 3,
              "truncated_num_rows": 1,
              "truncated_size_bytes": 32,
              "truncated_string_columns": []
            },
            "display_id": "d4619350-b239-4499-9505-8eafb2aa6ddb",
            "dx_settings": {
              "ALLOW_NOTEABLE_ATTRS": true,
              "COLUMN_SAMPLING_METHOD": "outer",
              "DB_LOCATION": ":memory:",
              "DEV_MODE": false,
              "DISPLAY_MAX_COLUMNS": 100,
              "DISPLAY_MAX_ROWS": 50000,
              "DISPLAY_MODE": "simple",
              "ENABLE_ASSIGNMENT": true,
              "ENABLE_DATALINK": true,
              "FLATTEN_COLUMN_VALUES": true,
              "FLATTEN_INDEX_VALUES": false,
              "GENERATE_DEX_METADATA": false,
              "HTML_TABLE_SCHEMA": false,
              "LOG_LEVEL": 30,
              "MAX_RENDER_SIZE_BYTES": 104857600,
              "MAX_STRING_LENGTH": 250,
              "NUM_PAST_SAMPLES_TRACKED": 3,
              "RANDOM_STATE": 12648430,
              "RESET_INDEX_VALUES": false,
              "ROW_SAMPLING_METHOD": "random",
              "SAMPLING_FACTOR": 0.1,
              "SAMPLING_METHOD": "random",
              "STRINGIFY_COLUMN_VALUES": true,
              "STRINGIFY_INDEX_VALUES": false
            },
            "sample_history": [],
            "sampling_time": "2023-11-03T02:22:20.871226",
            "user_variable_name": null,
            "variable_name": "unk_dataframe_e1999474de2d435a8a20501ddd48f228"
          },
          "d51deb14-ec85-4235-acb4-a8a4d911f928": {
            "applied_filters": [],
            "dataframe_info": {
              "default_index_used": true,
              "orig_num_cols": 3,
              "orig_num_rows": 1,
              "orig_size_bytes": 32,
              "truncated_num_cols": 3,
              "truncated_num_rows": 1,
              "truncated_size_bytes": 32,
              "truncated_string_columns": []
            },
            "display_id": "d51deb14-ec85-4235-acb4-a8a4d911f928",
            "dx_settings": {
              "ALLOW_NOTEABLE_ATTRS": true,
              "COLUMN_SAMPLING_METHOD": "outer",
              "DB_LOCATION": ":memory:",
              "DEV_MODE": false,
              "DISPLAY_MAX_COLUMNS": 100,
              "DISPLAY_MAX_ROWS": 50000,
              "DISPLAY_MODE": "simple",
              "ENABLE_ASSIGNMENT": true,
              "ENABLE_DATALINK": true,
              "FLATTEN_COLUMN_VALUES": true,
              "FLATTEN_INDEX_VALUES": false,
              "GENERATE_DEX_METADATA": false,
              "HTML_TABLE_SCHEMA": false,
              "LOG_LEVEL": 30,
              "MAX_RENDER_SIZE_BYTES": 104857600,
              "MAX_STRING_LENGTH": 250,
              "NUM_PAST_SAMPLES_TRACKED": 3,
              "RANDOM_STATE": 12648430,
              "RESET_INDEX_VALUES": false,
              "ROW_SAMPLING_METHOD": "random",
              "SAMPLING_FACTOR": 0.1,
              "SAMPLING_METHOD": "random",
              "STRINGIFY_COLUMN_VALUES": true,
              "STRINGIFY_INDEX_VALUES": false
            },
            "sample_history": [],
            "sampling_time": "2023-11-03T14:51:27.584586",
            "user_variable_name": null,
            "variable_name": "unk_dataframe_f9568a2b3dcd40118b0f002df1d61549"
          },
          "73ce24fa-afd5-4378-821d-22dd91af3e31": {
            "applied_filters": [],
            "dataframe_info": {
              "default_index_used": true,
              "orig_num_cols": 3,
              "orig_num_rows": 1,
              "orig_size_bytes": 32,
              "truncated_num_cols": 3,
              "truncated_num_rows": 1,
              "truncated_size_bytes": 32,
              "truncated_string_columns": []
            },
            "display_id": "73ce24fa-afd5-4378-821d-22dd91af3e31",
            "dx_settings": {
              "ALLOW_NOTEABLE_ATTRS": true,
              "COLUMN_SAMPLING_METHOD": "outer",
              "DB_LOCATION": ":memory:",
              "DEV_MODE": false,
              "DISPLAY_MAX_COLUMNS": 100,
              "DISPLAY_MAX_ROWS": 50000,
              "DISPLAY_MODE": "simple",
              "ENABLE_ASSIGNMENT": true,
              "ENABLE_DATALINK": true,
              "FLATTEN_COLUMN_VALUES": true,
              "FLATTEN_INDEX_VALUES": false,
              "GENERATE_DEX_METADATA": false,
              "HTML_TABLE_SCHEMA": false,
              "LOG_LEVEL": 30,
              "MAX_RENDER_SIZE_BYTES": 104857600,
              "MAX_STRING_LENGTH": 250,
              "NUM_PAST_SAMPLES_TRACKED": 3,
              "RANDOM_STATE": 12648430,
              "RESET_INDEX_VALUES": false,
              "ROW_SAMPLING_METHOD": "random",
              "SAMPLING_FACTOR": 0.1,
              "SAMPLING_METHOD": "random",
              "STRINGIFY_COLUMN_VALUES": true,
              "STRINGIFY_INDEX_VALUES": false
            },
            "sample_history": [],
            "sampling_time": "2023-11-05T21:09:46.608925",
            "user_variable_name": null,
            "variable_name": "unk_dataframe_f41c00d2486d4f89b080ae38e5a26619"
          }
        }
      },
      "execution_count": null,
      "source": "\\list",
      "outputs": []
    },
    {
      "id": "c41b43d7-7905-4864-b738-bf65fa62858e",
      "cell_type": "markdown",
      "source": "## Explore 'keywords_all' Column\nAnalyzing the 'keywords_all' column in the 'data_nerd_jobs' table.",
      "metadata": {
        "noteable": {
          "cell_type": "markdown"
        }
      }
    },
    {
      "id": "afdcf449-16ea-4d5f-b0e1-1088ebe22f3c",
      "cell_type": "code",
      "metadata": {
        "noteable": {
          "assign_results_to": "sql_df_mcyv",
          "cell_type": "sql",
          "db_connection": "@5a5b9a444479436dbc1def18003d36d0",
          "output_collection_id": "c1aff713-c2b0-4cbe-90e0-aa35a407a8e1"
        },
        "ExecuteTime": {
          "end_time": "2023-11-05T21:09:49.892603+00:00",
          "start_time": "2023-11-05T21:09:47.814906+00:00"
        },
        "datalink": {
          "031e87e2-db2c-4572-ab39-e89130ba1bf5": {
            "applied_filters": [],
            "dataframe_info": {
              "default_index_used": true,
              "orig_num_cols": 2,
              "orig_num_rows": 10,
              "orig_size_bytes": 240,
              "truncated_num_cols": 2,
              "truncated_num_rows": 10,
              "truncated_size_bytes": 240,
              "truncated_string_columns": []
            },
            "display_id": "031e87e2-db2c-4572-ab39-e89130ba1bf5",
            "dx_settings": {
              "ALLOW_NOTEABLE_ATTRS": true,
              "COLUMN_SAMPLING_METHOD": "outer",
              "DB_LOCATION": ":memory:",
              "DEV_MODE": false,
              "DISPLAY_MAX_COLUMNS": 100,
              "DISPLAY_MAX_ROWS": 50000,
              "DISPLAY_MODE": "simple",
              "ENABLE_ASSIGNMENT": true,
              "ENABLE_DATALINK": true,
              "FLATTEN_COLUMN_VALUES": true,
              "FLATTEN_INDEX_VALUES": false,
              "GENERATE_DEX_METADATA": false,
              "HTML_TABLE_SCHEMA": false,
              "LOG_LEVEL": 30,
              "MAX_RENDER_SIZE_BYTES": 104857600,
              "MAX_STRING_LENGTH": 250,
              "NUM_PAST_SAMPLES_TRACKED": 3,
              "RANDOM_STATE": 12648430,
              "RESET_INDEX_VALUES": false,
              "ROW_SAMPLING_METHOD": "random",
              "SAMPLING_FACTOR": 0.1,
              "SAMPLING_METHOD": "random",
              "STRINGIFY_COLUMN_VALUES": true,
              "STRINGIFY_INDEX_VALUES": false
            },
            "sample_history": [],
            "sampling_time": "2023-11-03T02:24:41.852415",
            "user_variable_name": "sql_df_mcyv",
            "variable_name": "sql_df_mcyv"
          },
          "9ecf4632-68cf-458b-9285-c84d8d5abb40": {
            "applied_filters": [],
            "dataframe_info": {
              "default_index_used": true,
              "orig_num_cols": 2,
              "orig_num_rows": 10,
              "orig_size_bytes": 240,
              "truncated_num_cols": 2,
              "truncated_num_rows": 10,
              "truncated_size_bytes": 240,
              "truncated_string_columns": []
            },
            "display_id": "9ecf4632-68cf-458b-9285-c84d8d5abb40",
            "dx_settings": {
              "ALLOW_NOTEABLE_ATTRS": true,
              "COLUMN_SAMPLING_METHOD": "outer",
              "DB_LOCATION": ":memory:",
              "DEV_MODE": false,
              "DISPLAY_MAX_COLUMNS": 100,
              "DISPLAY_MAX_ROWS": 50000,
              "DISPLAY_MODE": "simple",
              "ENABLE_ASSIGNMENT": true,
              "ENABLE_DATALINK": true,
              "FLATTEN_COLUMN_VALUES": true,
              "FLATTEN_INDEX_VALUES": false,
              "GENERATE_DEX_METADATA": false,
              "HTML_TABLE_SCHEMA": false,
              "LOG_LEVEL": 30,
              "MAX_RENDER_SIZE_BYTES": 104857600,
              "MAX_STRING_LENGTH": 250,
              "NUM_PAST_SAMPLES_TRACKED": 3,
              "RANDOM_STATE": 12648430,
              "RESET_INDEX_VALUES": false,
              "ROW_SAMPLING_METHOD": "random",
              "SAMPLING_FACTOR": 0.1,
              "SAMPLING_METHOD": "random",
              "STRINGIFY_COLUMN_VALUES": true,
              "STRINGIFY_INDEX_VALUES": false
            },
            "sample_history": [],
            "sampling_time": "2023-11-03T14:51:30.382237",
            "user_variable_name": "sql_df_mcyv",
            "variable_name": "sql_df_mcyv"
          },
          "454daeb7-529d-4d14-bfe2-66936ed823c6": {
            "applied_filters": [],
            "dataframe_info": {
              "default_index_used": true,
              "orig_num_cols": 2,
              "orig_num_rows": 10,
              "orig_size_bytes": 240,
              "truncated_num_cols": 2,
              "truncated_num_rows": 10,
              "truncated_size_bytes": 240,
              "truncated_string_columns": []
            },
            "display_id": "454daeb7-529d-4d14-bfe2-66936ed823c6",
            "dx_settings": {
              "ALLOW_NOTEABLE_ATTRS": true,
              "COLUMN_SAMPLING_METHOD": "outer",
              "DB_LOCATION": ":memory:",
              "DEV_MODE": false,
              "DISPLAY_MAX_COLUMNS": 100,
              "DISPLAY_MAX_ROWS": 50000,
              "DISPLAY_MODE": "simple",
              "ENABLE_ASSIGNMENT": true,
              "ENABLE_DATALINK": true,
              "FLATTEN_COLUMN_VALUES": true,
              "FLATTEN_INDEX_VALUES": false,
              "GENERATE_DEX_METADATA": false,
              "HTML_TABLE_SCHEMA": false,
              "LOG_LEVEL": 30,
              "MAX_RENDER_SIZE_BYTES": 104857600,
              "MAX_STRING_LENGTH": 250,
              "NUM_PAST_SAMPLES_TRACKED": 3,
              "RANDOM_STATE": 12648430,
              "RESET_INDEX_VALUES": false,
              "ROW_SAMPLING_METHOD": "random",
              "SAMPLING_FACTOR": 0.1,
              "SAMPLING_METHOD": "random",
              "STRINGIFY_COLUMN_VALUES": true,
              "STRINGIFY_INDEX_VALUES": false
            },
            "sample_history": [],
            "sampling_time": "2023-11-05T21:09:49.732351",
            "user_variable_name": "sql_df_mcyv",
            "variable_name": "sql_df_mcyv"
          }
        }
      },
      "execution_count": null,
      "source": "SELECT keyword.element, COUNT(*) as count\nFROM `public_job_listings.data_nerd_jobs`, UNNEST(keywords_all.list) as keyword\nGROUP BY keyword.element\nORDER BY count DESC\nLIMIT 10",
      "outputs": []
    },
    {
      "id": "edf3f9d8-1157-469c-941b-467c00d180ec",
      "cell_type": "markdown",
      "source": "## Plot Median Salary for Top 10 Skills\nVisualizing the median salary for the top 10 skills with salary data.",
      "metadata": {
        "noteable": {
          "cell_type": "markdown"
        }
      }
    },
    {
      "id": "1c1430c3-f004-4803-a2e6-ff1acda26b93",
      "cell_type": "code",
      "metadata": {
        "noteable": {
          "assign_results_to": "sql_df_fkcs",
          "cell_type": "sql",
          "db_connection": "@5a5b9a444479436dbc1def18003d36d0",
          "output_collection_id": "9dd1cca3-ae3b-4bd6-91cd-a4b61c0227cf"
        },
        "ExecuteTime": {
          "end_time": "2023-11-05T21:09:53.515290+00:00",
          "start_time": "2023-11-05T21:09:51.179527+00:00"
        },
        "datalink": {
          "45d523d4-8d1c-424c-8238-f2122235fb4d": {
            "applied_filters": [],
            "dataframe_info": {
              "default_index_used": true,
              "orig_num_cols": 3,
              "orig_num_rows": 10,
              "orig_size_bytes": 320,
              "truncated_num_cols": 3,
              "truncated_num_rows": 10,
              "truncated_size_bytes": 320,
              "truncated_string_columns": []
            },
            "display_id": "45d523d4-8d1c-424c-8238-f2122235fb4d",
            "dx_settings": {
              "ALLOW_NOTEABLE_ATTRS": true,
              "COLUMN_SAMPLING_METHOD": "outer",
              "DB_LOCATION": ":memory:",
              "DEV_MODE": false,
              "DISPLAY_MAX_COLUMNS": 100,
              "DISPLAY_MAX_ROWS": 50000,
              "DISPLAY_MODE": "simple",
              "ENABLE_ASSIGNMENT": true,
              "ENABLE_DATALINK": true,
              "FLATTEN_COLUMN_VALUES": true,
              "FLATTEN_INDEX_VALUES": false,
              "GENERATE_DEX_METADATA": false,
              "HTML_TABLE_SCHEMA": false,
              "LOG_LEVEL": 30,
              "MAX_RENDER_SIZE_BYTES": 104857600,
              "MAX_STRING_LENGTH": 250,
              "NUM_PAST_SAMPLES_TRACKED": 3,
              "RANDOM_STATE": 12648430,
              "RESET_INDEX_VALUES": false,
              "ROW_SAMPLING_METHOD": "random",
              "SAMPLING_FACTOR": 0.1,
              "SAMPLING_METHOD": "random",
              "STRINGIFY_COLUMN_VALUES": true,
              "STRINGIFY_INDEX_VALUES": false
            },
            "sample_history": [],
            "sampling_time": "2023-11-03T03:02:55.122132",
            "user_variable_name": "sql_df_fkcs",
            "variable_name": "sql_df_fkcs"
          },
          "2ff236f8-a3b4-427a-a060-9846c9b4139e": {
            "applied_filters": [],
            "dataframe_info": {
              "default_index_used": true,
              "orig_num_cols": 3,
              "orig_num_rows": 10,
              "orig_size_bytes": 320,
              "truncated_num_cols": 3,
              "truncated_num_rows": 10,
              "truncated_size_bytes": 320,
              "truncated_string_columns": []
            },
            "display_id": "2ff236f8-a3b4-427a-a060-9846c9b4139e",
            "dx_settings": {
              "ALLOW_NOTEABLE_ATTRS": true,
              "COLUMN_SAMPLING_METHOD": "outer",
              "DB_LOCATION": ":memory:",
              "DEV_MODE": false,
              "DISPLAY_MAX_COLUMNS": 100,
              "DISPLAY_MAX_ROWS": 50000,
              "DISPLAY_MODE": "simple",
              "ENABLE_ASSIGNMENT": true,
              "ENABLE_DATALINK": true,
              "FLATTEN_COLUMN_VALUES": true,
              "FLATTEN_INDEX_VALUES": false,
              "GENERATE_DEX_METADATA": false,
              "HTML_TABLE_SCHEMA": false,
              "LOG_LEVEL": 30,
              "MAX_RENDER_SIZE_BYTES": 104857600,
              "MAX_STRING_LENGTH": 250,
              "NUM_PAST_SAMPLES_TRACKED": 3,
              "RANDOM_STATE": 12648430,
              "RESET_INDEX_VALUES": false,
              "ROW_SAMPLING_METHOD": "random",
              "SAMPLING_FACTOR": 0.1,
              "SAMPLING_METHOD": "random",
              "STRINGIFY_COLUMN_VALUES": true,
              "STRINGIFY_INDEX_VALUES": false
            },
            "sample_history": [],
            "sampling_time": "2023-11-03T14:51:32.297044",
            "user_variable_name": "sql_df_fkcs",
            "variable_name": "sql_df_fkcs"
          },
          "f1a0aec0-7c10-4b52-900b-493064dd2fae": {
            "applied_filters": [],
            "dataframe_info": {
              "default_index_used": true,
              "orig_num_cols": 2,
              "orig_num_rows": 10,
              "orig_size_bytes": 240,
              "truncated_num_cols": 2,
              "truncated_num_rows": 10,
              "truncated_size_bytes": 240,
              "truncated_string_columns": []
            },
            "display_id": "f1a0aec0-7c10-4b52-900b-493064dd2fae",
            "dx_settings": {
              "ALLOW_NOTEABLE_ATTRS": true,
              "COLUMN_SAMPLING_METHOD": "outer",
              "DB_LOCATION": ":memory:",
              "DEV_MODE": false,
              "DISPLAY_MAX_COLUMNS": 100,
              "DISPLAY_MAX_ROWS": 50000,
              "DISPLAY_MODE": "simple",
              "ENABLE_ASSIGNMENT": true,
              "ENABLE_DATALINK": true,
              "FLATTEN_COLUMN_VALUES": true,
              "FLATTEN_INDEX_VALUES": false,
              "GENERATE_DEX_METADATA": false,
              "HTML_TABLE_SCHEMA": false,
              "LOG_LEVEL": 30,
              "MAX_RENDER_SIZE_BYTES": 104857600,
              "MAX_STRING_LENGTH": 250,
              "NUM_PAST_SAMPLES_TRACKED": 3,
              "RANDOM_STATE": 12648430,
              "RESET_INDEX_VALUES": false,
              "ROW_SAMPLING_METHOD": "random",
              "SAMPLING_FACTOR": 0.1,
              "SAMPLING_METHOD": "random",
              "STRINGIFY_COLUMN_VALUES": true,
              "STRINGIFY_INDEX_VALUES": false
            },
            "sample_history": [],
            "sampling_time": "2023-11-03T15:07:02.395625",
            "user_variable_name": "sql_df_fkcs",
            "variable_name": "sql_df_fkcs"
          },
          "1fbf400d-7583-4a96-a4ec-54098bbcad1c": {
            "applied_filters": [],
            "dataframe_info": {
              "default_index_used": true,
              "orig_num_cols": 2,
              "orig_num_rows": 10,
              "orig_size_bytes": 240,
              "truncated_num_cols": 2,
              "truncated_num_rows": 10,
              "truncated_size_bytes": 240,
              "truncated_string_columns": []
            },
            "display_id": "1fbf400d-7583-4a96-a4ec-54098bbcad1c",
            "dx_settings": {
              "ALLOW_NOTEABLE_ATTRS": true,
              "COLUMN_SAMPLING_METHOD": "outer",
              "DB_LOCATION": ":memory:",
              "DEV_MODE": false,
              "DISPLAY_MAX_COLUMNS": 100,
              "DISPLAY_MAX_ROWS": 50000,
              "DISPLAY_MODE": "simple",
              "ENABLE_ASSIGNMENT": true,
              "ENABLE_DATALINK": true,
              "FLATTEN_COLUMN_VALUES": true,
              "FLATTEN_INDEX_VALUES": false,
              "GENERATE_DEX_METADATA": false,
              "HTML_TABLE_SCHEMA": false,
              "LOG_LEVEL": 30,
              "MAX_RENDER_SIZE_BYTES": 104857600,
              "MAX_STRING_LENGTH": 250,
              "NUM_PAST_SAMPLES_TRACKED": 3,
              "RANDOM_STATE": 12648430,
              "RESET_INDEX_VALUES": false,
              "ROW_SAMPLING_METHOD": "random",
              "SAMPLING_FACTOR": 0.1,
              "SAMPLING_METHOD": "random",
              "STRINGIFY_COLUMN_VALUES": true,
              "STRINGIFY_INDEX_VALUES": false
            },
            "sample_history": [],
            "sampling_time": "2023-11-03T15:07:32.748293",
            "user_variable_name": "sql_df_fkcs",
            "variable_name": "sql_df_fkcs"
          },
          "bae50f5a-2fca-4e24-acc1-98ebd5fa81bd": {
            "applied_filters": [],
            "dataframe_info": {
              "default_index_used": true,
              "orig_num_cols": 3,
              "orig_num_rows": 10,
              "orig_size_bytes": 320,
              "truncated_num_cols": 3,
              "truncated_num_rows": 10,
              "truncated_size_bytes": 320,
              "truncated_string_columns": []
            },
            "display_id": "bae50f5a-2fca-4e24-acc1-98ebd5fa81bd",
            "dx_settings": {
              "ALLOW_NOTEABLE_ATTRS": true,
              "COLUMN_SAMPLING_METHOD": "outer",
              "DB_LOCATION": ":memory:",
              "DEV_MODE": false,
              "DISPLAY_MAX_COLUMNS": 100,
              "DISPLAY_MAX_ROWS": 50000,
              "DISPLAY_MODE": "simple",
              "ENABLE_ASSIGNMENT": true,
              "ENABLE_DATALINK": true,
              "FLATTEN_COLUMN_VALUES": true,
              "FLATTEN_INDEX_VALUES": false,
              "GENERATE_DEX_METADATA": false,
              "HTML_TABLE_SCHEMA": false,
              "LOG_LEVEL": 30,
              "MAX_RENDER_SIZE_BYTES": 104857600,
              "MAX_STRING_LENGTH": 250,
              "NUM_PAST_SAMPLES_TRACKED": 3,
              "RANDOM_STATE": 12648430,
              "RESET_INDEX_VALUES": false,
              "ROW_SAMPLING_METHOD": "random",
              "SAMPLING_FACTOR": 0.1,
              "SAMPLING_METHOD": "random",
              "STRINGIFY_COLUMN_VALUES": true,
              "STRINGIFY_INDEX_VALUES": false
            },
            "sample_history": [],
            "sampling_time": "2023-11-03T15:10:25.952822",
            "user_variable_name": "sql_df_fkcs",
            "variable_name": "sql_df_fkcs"
          },
          "e8956a7b-318b-47e2-8fba-f7a3677bb07f": {
            "applied_filters": [],
            "dataframe_info": {
              "default_index_used": true,
              "orig_num_cols": 3,
              "orig_num_rows": 10,
              "orig_size_bytes": 320,
              "truncated_num_cols": 3,
              "truncated_num_rows": 10,
              "truncated_size_bytes": 320,
              "truncated_string_columns": []
            },
            "display_id": "e8956a7b-318b-47e2-8fba-f7a3677bb07f",
            "dx_settings": {
              "ALLOW_NOTEABLE_ATTRS": true,
              "COLUMN_SAMPLING_METHOD": "outer",
              "DB_LOCATION": ":memory:",
              "DEV_MODE": false,
              "DISPLAY_MAX_COLUMNS": 100,
              "DISPLAY_MAX_ROWS": 50000,
              "DISPLAY_MODE": "simple",
              "ENABLE_ASSIGNMENT": true,
              "ENABLE_DATALINK": true,
              "FLATTEN_COLUMN_VALUES": true,
              "FLATTEN_INDEX_VALUES": false,
              "GENERATE_DEX_METADATA": false,
              "HTML_TABLE_SCHEMA": false,
              "LOG_LEVEL": 30,
              "MAX_RENDER_SIZE_BYTES": 104857600,
              "MAX_STRING_LENGTH": 250,
              "NUM_PAST_SAMPLES_TRACKED": 3,
              "RANDOM_STATE": 12648430,
              "RESET_INDEX_VALUES": false,
              "ROW_SAMPLING_METHOD": "random",
              "SAMPLING_FACTOR": 0.1,
              "SAMPLING_METHOD": "random",
              "STRINGIFY_COLUMN_VALUES": true,
              "STRINGIFY_INDEX_VALUES": false
            },
            "sample_history": [],
            "sampling_time": "2023-11-05T21:09:53.356292",
            "user_variable_name": "sql_df_fkcs",
            "variable_name": "sql_df_fkcs"
          }
        },
        "dx": {
          "dashboard": {
            "multiViews": []
          },
          "fieldMetadata": {
            "index": {
              "columnPosition": 1
            },
            "job_count": {
              "columnPosition": 3,
              "width": 86.82879638671875
            },
            "median_salary": {
              "columnPosition": 4
            },
            "skill": {
              "columnPosition": 2
            }
          },
          "updated": 1699023575431,
          "views": [
            {
              "annotationRules": [],
              "chart": {},
              "chartMode": "grid",
              "confoRules": [],
              "decoration": {
                "footer": "",
                "subtitle": "",
                "title": "Table"
              },
              "facets": [],
              "filterSettings": {
                "SHOW_FILTER_PANEL": true,
                "filters": []
              },
              "id": "first-view",
              "isDefault": true,
              "type": "public",
              "userID": ""
            },
            {
              "annotationRules": [],
              "chart": {},
              "chartMode": "grid",
              "confoRules": [],
              "decoration": {
                "footer": "",
                "subtitle": "",
                "title": "Table"
              },
              "facets": [],
              "filterSettings": {
                "SHOW_FILTER_PANEL": true,
                "filters": []
              },
              "id": "first-view",
              "isDefault": true,
              "isTransitory": true,
              "type": "public",
              "userID": ""
            }
          ]
        }
      },
      "execution_count": null,
      "source": "WITH SkillSalary AS (\n  SELECT\n    keyword.element AS skill,\n    salary_year\n  FROM\n    `public_job_listings.data_nerd_jobs`,\n    UNNEST(keywords_all.list) AS keyword\n  WHERE\n    salary_year IS NOT NULL\n),\nTopSkills AS (\n  SELECT skill\n  FROM SkillSalary\n  GROUP BY skill\n  ORDER BY COUNT(*) DESC\n  LIMIT 10\n),\nMedianSalaries AS (\n  SELECT\n    skill,\n    PERCENTILE_CONT(salary_year, 0.5) OVER (PARTITION BY skill) AS median_salary,\n    COUNT(salary_year) OVER (PARTITION BY skill) AS salary_count\n  FROM\n    SkillSalary\n  WHERE\n    skill IN (SELECT skill FROM TopSkills)\n)\nSELECT\n  DISTINCT skill,\n  median_salary,\n  salary_count\nFROM\n  MedianSalaries\nORDER BY\n  median_salary DESC",
      "outputs": []
    },
    {
      "id": "17e3cedb-c7fb-4fb8-8ea8-e27b222c0710",
      "cell_type": "code",
      "metadata": {
        "noteable": {
          "cell_type": "code",
          "output_collection_id": "f2b065a0-d7de-4c9a-829d-2c71c6c3192a"
        },
        "ExecuteTime": {
          "end_time": "2023-11-05T21:09:56.258781+00:00",
          "start_time": "2023-11-05T21:09:55.813912+00:00"
        }
      },
      "execution_count": null,
      "source": "import seaborn as sns\nimport matplotlib.pyplot as plt\nsns.set(style='darkgrid')\nplt.style.use('dark_background')\n\n# Load the dataframe\ndf = sql_df_fkcs\n\n# Plotting the median salary for the top 10 skills\nplt.figure(figsize=(10, 8))\nsalary_plot = sns.barplot(x='median_salary', y='skill', data=df, palette='Blues_r', order=df.sort_values('median_salary', ascending=False)['skill'])\nplt.title('Median Salary by Skill')\nplt.xlabel('Median Salary')\nplt.ylabel('Skill')\nplt.show()",
      "outputs": []
    },
    {
      "id": "6d8ffc68-1e44-431d-ae28-e5bfc4101f77",
      "cell_type": "code",
      "metadata": {
        "noteable": {
          "cell_type": "code",
          "output_collection_id": "0c1f47e5-975e-4981-b268-0d293f5f8ba0"
        },
        "ExecuteTime": {
          "end_time": "2023-11-05T21:09:55.207069+00:00",
          "start_time": "2023-11-05T21:09:54.605197+00:00"
        }
      },
      "execution_count": null,
      "source": "import seaborn as sns\nimport matplotlib.pyplot as plt\nsns.set(style='darkgrid')\nplt.style.use('dark_background')\n\n# Assuming 'sql_df_fkcs' is the dataframe containing the relevant data\nplt.figure(figsize=(10, 8))\nbarplot = sns.barplot(x='median_salary', y='skill', data=sql_df_fkcs, palette='Blues_r', order=sql_df_fkcs.sort_values('median_salary', ascending=False).skill)\nplt.title('Median Salary for Top 10 Skills')\nplt.xlabel('Median Salary')\nplt.ylabel('Skill')\nplt.show()",
      "outputs": []
    },
    {
      "id": "af87e786-b2a4-4cf0-ab92-9b31801bc679",
      "cell_type": "code",
      "metadata": {
        "noteable": {
          "cell_type": "code",
          "output_collection_id": "ab6559e6-46c7-4165-9209-875e47d68550"
        },
        "ExecuteTime": {
          "end_time": "2023-11-05T21:09:56.901083+00:00",
          "start_time": "2023-11-05T21:09:56.425827+00:00"
        }
      },
      "execution_count": null,
      "source": "import seaborn as sns\nimport matplotlib.pyplot as plt\nimport matplotlib.ticker as mtick\nsns.set(style='darkgrid')\nplt.style.use('dark_background')\n\n# Load the dataframe\ndf = sql_df_fkcs\n\n# Plotting the median salary for the top 10 skills with modifications\nplt.figure(figsize=(10, 8))\nsalary_plot = sns.barplot(x='median_salary', y='skill', data=df, palette='Blues_r', order=df.sort_values('median_salary', ascending=False)['skill'])\n\n# Formatting the x-axis\nfmt = '${x:,.0f}'\ntick = mtick.StrMethodFormatter(fmt)\nsalary_plot.xaxis.set_major_formatter(tick)\nplt.xlim(80000, 160000)\n\n# Removing the axis labels\nsalary_plot.set(xlabel=None, ylabel=None)\n\n# Setting the title and making it bigger\nplt.title('Median Salary by Skill', fontsize=20)\n\n# Adding the count of job postings at the end of the bars\nfor p in salary_plot.patches:\n    salary_plot.annotate(f'{int(p.get_width())} postings',\n                   (p.get_width(), p.get_y() + p.get_height() / 2),\n                   ha='left', va='center',\n                   size=12, color='white',\n                   xytext=(5, 0),\n                   textcoords='offset points')\n\nplt.show()",
      "outputs": []
    },
    {
      "id": "3b651e64-c1ad-4fd4-af5f-f76b658aebe4",
      "cell_type": "code",
      "metadata": {
        "noteable": {
          "cell_type": "code",
          "output_collection_id": "3235a86e-14e3-4983-bde4-01d238db9afe"
        },
        "ExecuteTime": {
          "end_time": "2023-11-05T21:09:59.497423+00:00",
          "start_time": "2023-11-05T21:09:59.071226+00:00"
        }
      },
      "execution_count": null,
      "source": "import seaborn as sns\nimport matplotlib.pyplot as plt\nimport matplotlib.ticker as mtick\n\nsns.set(style='darkgrid')\nplt.style.use('dark_background')\n\n# Load the dataframe\ndf = sql_df_fkcs\n\n# Plotting the median salary for the top 10 skills with modifications\nplt.figure(figsize=(10, 8))\nsalary_plot = sns.barplot(x='median_salary', y='skill', data=df, palette='Blues_r', order=df.sort_values('median_salary', ascending=False)['skill'])\n\n# Formatting the x-axis with dollar sign and comma for thousands\nfmt = '${x:,.0f}'\ntick = mtick.StrMethodFormatter(fmt)\nsalary_plot.xaxis.set_major_formatter(tick)\n\n# Setting the x-axis limits\nsalary_plot.set_xlim(85000, 155000)\n\n# Removing the axis labels\nsalary_plot.set_xlabel('')\nsalary_plot.set_ylabel('')\n\n# Setting the title and making it bigger\nsalary_plot.set_title('Median Salary by Skill', fontsize=20)\n\n# Adding the count of job postings at the end of the bars in black font and making it bigger\nfor p in salary_plot.patches:\n    width = p.get_width()\n    height = p.get_height()\n    skill = df.iloc[int(p.get_y() + 0.5)]['skill']\n    count = df[df['skill'] == skill]['salary_count'].iloc[0]\n    x_position = width - 5000 if width > 90000 else width + 5000\n    y_position = p.get_y() + height / 2\n    salary_plot.annotate(f'{count} postings',\n                   (x_position, y_position),\n                   ha = 'center', va = 'center',\n                   color = 'black',\n                   size=10)\n\nplt.show()",
      "outputs": []
    },
    {
      "id": "de6d5477-9461-408a-9f9d-f18a8744c7e6",
      "cell_type": "markdown",
      "source": "## Explore Salary vs Skills\nVisualizing the how top skills relate to salary in a scatter plot",
      "metadata": {
        "noteable": {
          "cell_type": "markdown"
        }
      }
    },
    {
      "id": "2c50dbca-1aa9-4e34-aaaf-8a242ab6a846",
      "cell_type": "code",
      "metadata": {
        "noteable": {
          "assign_results_to": "sql_df_1",
          "cell_type": "sql",
          "db_connection": "@5a5b9a444479436dbc1def18003d36d0",
          "output_collection_id": "d8060046-1f08-4d46-9e3e-64a14ae71f99"
        },
        "ExecuteTime": {
          "end_time": "2023-11-05T21:10:03.940029+00:00",
          "start_time": "2023-11-05T21:10:02.371918+00:00"
        },
        "datalink": {
          "df60b38a-f4db-4ea4-a695-7241ec9516c1": {
            "applied_filters": [],
            "dataframe_info": {
              "default_index_used": true,
              "orig_num_cols": 3,
              "orig_num_rows": 219,
              "orig_size_bytes": 7008,
              "truncated_num_cols": 3,
              "truncated_num_rows": 219,
              "truncated_size_bytes": 7008,
              "truncated_string_columns": []
            },
            "display_id": "df60b38a-f4db-4ea4-a695-7241ec9516c1",
            "dx_settings": {
              "ALLOW_NOTEABLE_ATTRS": true,
              "COLUMN_SAMPLING_METHOD": "outer",
              "DB_LOCATION": ":memory:",
              "DEV_MODE": false,
              "DISPLAY_MAX_COLUMNS": 100,
              "DISPLAY_MAX_ROWS": 50000,
              "DISPLAY_MODE": "simple",
              "ENABLE_ASSIGNMENT": true,
              "ENABLE_DATALINK": true,
              "FLATTEN_COLUMN_VALUES": true,
              "FLATTEN_INDEX_VALUES": false,
              "GENERATE_DEX_METADATA": false,
              "HTML_TABLE_SCHEMA": false,
              "LOG_LEVEL": 30,
              "MAX_RENDER_SIZE_BYTES": 104857600,
              "MAX_STRING_LENGTH": 250,
              "NUM_PAST_SAMPLES_TRACKED": 3,
              "RANDOM_STATE": 12648430,
              "RESET_INDEX_VALUES": false,
              "ROW_SAMPLING_METHOD": "random",
              "SAMPLING_FACTOR": 0.1,
              "SAMPLING_METHOD": "random",
              "STRINGIFY_COLUMN_VALUES": true,
              "STRINGIFY_INDEX_VALUES": false
            },
            "sample_history": [],
            "sampling_time": "2023-11-03T15:53:14.887929",
            "user_variable_name": "sql_df_1",
            "variable_name": "sql_df_1"
          },
          "b18f1eb5-664a-4a69-b27c-0c16c0f865f0": {
            "applied_filters": [],
            "dataframe_info": {
              "default_index_used": true,
              "orig_num_cols": 3,
              "orig_num_rows": 219,
              "orig_size_bytes": 7008,
              "truncated_num_cols": 3,
              "truncated_num_rows": 219,
              "truncated_size_bytes": 7008,
              "truncated_string_columns": []
            },
            "display_id": "b18f1eb5-664a-4a69-b27c-0c16c0f865f0",
            "dx_settings": {
              "ALLOW_NOTEABLE_ATTRS": true,
              "COLUMN_SAMPLING_METHOD": "outer",
              "DB_LOCATION": ":memory:",
              "DEV_MODE": false,
              "DISPLAY_MAX_COLUMNS": 100,
              "DISPLAY_MAX_ROWS": 50000,
              "DISPLAY_MODE": "simple",
              "ENABLE_ASSIGNMENT": true,
              "ENABLE_DATALINK": true,
              "FLATTEN_COLUMN_VALUES": true,
              "FLATTEN_INDEX_VALUES": false,
              "GENERATE_DEX_METADATA": false,
              "HTML_TABLE_SCHEMA": false,
              "LOG_LEVEL": 30,
              "MAX_RENDER_SIZE_BYTES": 104857600,
              "MAX_STRING_LENGTH": 250,
              "NUM_PAST_SAMPLES_TRACKED": 3,
              "RANDOM_STATE": 12648430,
              "RESET_INDEX_VALUES": false,
              "ROW_SAMPLING_METHOD": "random",
              "SAMPLING_FACTOR": 0.1,
              "SAMPLING_METHOD": "random",
              "STRINGIFY_COLUMN_VALUES": true,
              "STRINGIFY_INDEX_VALUES": false
            },
            "sample_history": [],
            "sampling_time": "2023-11-05T21:07:50.613714",
            "user_variable_name": "sql_df_1",
            "variable_name": "sql_df_1"
          },
          "b2519af3-fab3-4ac5-b761-b3e86137fa3f": {
            "applied_filters": [],
            "dataframe_info": {
              "default_index_used": true,
              "orig_num_cols": 3,
              "orig_num_rows": 219,
              "orig_size_bytes": 7008,
              "truncated_num_cols": 3,
              "truncated_num_rows": 219,
              "truncated_size_bytes": 7008,
              "truncated_string_columns": []
            },
            "display_id": "b2519af3-fab3-4ac5-b761-b3e86137fa3f",
            "dx_settings": {
              "ALLOW_NOTEABLE_ATTRS": true,
              "COLUMN_SAMPLING_METHOD": "outer",
              "DB_LOCATION": ":memory:",
              "DEV_MODE": false,
              "DISPLAY_MAX_COLUMNS": 100,
              "DISPLAY_MAX_ROWS": 50000,
              "DISPLAY_MODE": "simple",
              "ENABLE_ASSIGNMENT": true,
              "ENABLE_DATALINK": true,
              "FLATTEN_COLUMN_VALUES": true,
              "FLATTEN_INDEX_VALUES": false,
              "GENERATE_DEX_METADATA": false,
              "HTML_TABLE_SCHEMA": false,
              "LOG_LEVEL": 30,
              "MAX_RENDER_SIZE_BYTES": 104857600,
              "MAX_STRING_LENGTH": 250,
              "NUM_PAST_SAMPLES_TRACKED": 3,
              "RANDOM_STATE": 12648430,
              "RESET_INDEX_VALUES": false,
              "ROW_SAMPLING_METHOD": "random",
              "SAMPLING_FACTOR": 0.1,
              "SAMPLING_METHOD": "random",
              "STRINGIFY_COLUMN_VALUES": true,
              "STRINGIFY_INDEX_VALUES": false
            },
            "sample_history": [],
            "sampling_time": "2023-11-05T21:08:52.515179",
            "user_variable_name": "sql_df_1",
            "variable_name": "sql_df_1"
          },
          "9cbb078e-3c53-407c-ac53-0ea480d3f737": {
            "applied_filters": [],
            "dataframe_info": {
              "default_index_used": true,
              "orig_num_cols": 3,
              "orig_num_rows": 219,
              "orig_size_bytes": 7008,
              "truncated_num_cols": 3,
              "truncated_num_rows": 219,
              "truncated_size_bytes": 7008,
              "truncated_string_columns": []
            },
            "display_id": "9cbb078e-3c53-407c-ac53-0ea480d3f737",
            "dx_settings": {
              "ALLOW_NOTEABLE_ATTRS": true,
              "COLUMN_SAMPLING_METHOD": "outer",
              "DB_LOCATION": ":memory:",
              "DEV_MODE": false,
              "DISPLAY_MAX_COLUMNS": 100,
              "DISPLAY_MAX_ROWS": 50000,
              "DISPLAY_MODE": "simple",
              "ENABLE_ASSIGNMENT": true,
              "ENABLE_DATALINK": true,
              "FLATTEN_COLUMN_VALUES": true,
              "FLATTEN_INDEX_VALUES": false,
              "GENERATE_DEX_METADATA": false,
              "HTML_TABLE_SCHEMA": false,
              "LOG_LEVEL": 30,
              "MAX_RENDER_SIZE_BYTES": 104857600,
              "MAX_STRING_LENGTH": 250,
              "NUM_PAST_SAMPLES_TRACKED": 3,
              "RANDOM_STATE": 12648430,
              "RESET_INDEX_VALUES": false,
              "ROW_SAMPLING_METHOD": "random",
              "SAMPLING_FACTOR": 0.1,
              "SAMPLING_METHOD": "random",
              "STRINGIFY_COLUMN_VALUES": true,
              "STRINGIFY_INDEX_VALUES": false
            },
            "sample_history": [],
            "sampling_time": "2023-11-05T21:10:03.779734",
            "user_variable_name": "sql_df_1",
            "variable_name": "sql_df_1"
          }
        },
        "dx": {
          "dashboard": {
            "multiViews": []
          },
          "fieldMetadata": {},
          "updated": 1699027025230,
          "views": [
            {
              "annotationRules": [],
              "chart": {},
              "chartMode": "grid",
              "confoRules": [],
              "decoration": {
                "footer": "",
                "subtitle": "",
                "title": "Table"
              },
              "facets": [],
              "filterSettings": {
                "SHOW_FILTER_PANEL": true,
                "filters": []
              },
              "id": "first-view",
              "isDefault": true,
              "type": "public",
              "userID": ""
            },
            {
              "annotationRules": [],
              "chart": {
                "facets": [],
                "metric1": "median_salary",
                "metric2": "salary_count",
                "scatterplotSize": "none"
              },
              "chartMode": "scatter",
              "confoRules": [
                {
                  "colorOpts": {
                    "color": null,
                    "cond": null,
                    "gradient": "Viridis",
                    "max": 218,
                    "min": 0,
                    "mode": "gradient",
                    "scale": "Linear",
                    "thresholdColors": "blues5",
                    "thresholdValues": [
                      43.6,
                      87.2,
                      130.79999999999998,
                      174.4
                    ]
                  },
                  "columnType": "Metric",
                  "fieldName": "index",
                  "id": "d54af840-24b3-4f42-8165-bc4a4be51896",
                  "index": 0,
                  "name": ""
                },
                {
                  "colorOpts": {
                    "color": null,
                    "cond": null,
                    "gradient": "Viridis",
                    "max": 218,
                    "min": 0,
                    "mode": "threshold",
                    "scale": "Linear",
                    "thresholdColors": "blues5",
                    "thresholdValues": [
                      43.6,
                      87.2,
                      130.79999999999998,
                      174.4
                    ]
                  },
                  "columnType": "Metric",
                  "fieldName": "index",
                  "id": "eae879dc-eaf9-461d-893c-da185de7905d",
                  "index": 0,
                  "name": ""
                },
                {
                  "colorOpts": {
                    "color": null,
                    "cond": null,
                    "gradient": "Viridis",
                    "max": 196500,
                    "min": 64400,
                    "mode": "threshold",
                    "scale": "Linear",
                    "thresholdColors": "blues5",
                    "thresholdValues": [
                      90820,
                      117240,
                      143660,
                      170080
                    ]
                  },
                  "columnType": "Metric",
                  "fieldName": "median_salary",
                  "id": "22eeccdd-411c-4df7-8e61-19d53edad083",
                  "index": 0,
                  "name": ""
                },
                {
                  "colorOpts": {
                    "color": null,
                    "cond": null,
                    "gradient": "Viridis",
                    "max": 16127,
                    "min": 1,
                    "mode": "threshold",
                    "scale": "Linear",
                    "thresholdColors": "blues5",
                    "thresholdValues": [
                      3226.2000000000003,
                      6451.400000000001,
                      9676.599999999999,
                      12901.800000000001
                    ]
                  },
                  "columnType": "Metric",
                  "fieldName": "salary_count",
                  "id": "b62135fc-d950-4c2b-9e06-e89e111688d4",
                  "index": 0,
                  "name": ""
                },
                {
                  "colorOpts": {
                    "color": null,
                    "cond": null,
                    "gradient": "Viridis",
                    "max": 16127,
                    "min": 1,
                    "mode": "gradient",
                    "scale": "Linear",
                    "thresholdColors": "blues5",
                    "thresholdValues": [
                      3226.2000000000003,
                      6451.400000000001,
                      9676.599999999999,
                      12901.800000000001
                    ]
                  },
                  "columnType": "Metric",
                  "fieldName": "salary_count",
                  "id": "68835596-a8c6-41b4-a5b6-ec4fa7697748",
                  "index": 0,
                  "name": ""
                },
                {
                  "colorOpts": {
                    "color": null,
                    "cond": null,
                    "gradient": "Viridis",
                    "max": 16127,
                    "min": 1,
                    "mode": "threshold",
                    "scale": "Linear",
                    "thresholdColors": "blues5",
                    "thresholdValues": [
                      3226.2000000000003,
                      6451.400000000001,
                      9676.599999999999,
                      12901.800000000001
                    ]
                  },
                  "columnType": "Metric",
                  "fieldName": "salary_count",
                  "id": "16326d1b-f733-43a3-80d5-82a65dfc603e",
                  "index": 0,
                  "name": ""
                }
              ],
              "decoration": {
                "footer": "",
                "subtitle": "",
                "title": "Scatterplot"
              },
              "facets": [],
              "filterSettings": {
                "SHOW_FILTER_PANEL": true,
                "filters": []
              },
              "id": "first-view",
              "isDefault": true,
              "isTransitory": true,
              "type": "public",
              "userID": ""
            },
            {
              "annotationRules": [],
              "chart": {},
              "chartMode": "empty",
              "confoRules": [],
              "decoration": {
                "footer": "",
                "subtitle": "",
                "title": "New View"
              },
              "facets": [],
              "filterSettings": {
                "SHOW_FILTER_PANEL": true,
                "filters": []
              },
              "id": "46fd661c-3b84-48b7-aaae-195f1fd96a64",
              "isDefault": false,
              "type": "public",
              "userID": ""
            },
            {
              "annotationRules": [],
              "chart": {
                "facets": []
              },
              "chartMode": "grid",
              "confoRules": [],
              "decoration": {
                "footer": "",
                "subtitle": "",
                "title": "Table"
              },
              "facets": [],
              "filterSettings": {
                "SHOW_FILTER_PANEL": true,
                "filters": []
              },
              "id": "46fd661c-3b84-48b7-aaae-195f1fd96a64",
              "isDefault": false,
              "isTransitory": true,
              "type": "public",
              "userID": ""
            }
          ]
        }
      },
      "execution_count": null,
      "source": "WITH SkillSalary AS (\n  SELECT\n    keyword.element AS skill,\n    salary_year\n  FROM\n    `public_job_listings.data_nerd_jobs`,\n    UNNEST(keywords_all.list) AS keyword\n  WHERE\n    salary_year IS NOT NULL\n),\nTopSkills AS (\n  SELECT skill\n  FROM SkillSalary\n  GROUP BY skill\n  ORDER BY COUNT(*) DESC\n--  LIMIT 10\n),\nMedianSalaries AS (\n  SELECT\n    skill,\n    PERCENTILE_CONT(salary_year, 0.5) OVER (PARTITION BY skill) AS median_salary,\n    COUNT(salary_year) OVER (PARTITION BY skill) AS salary_count\n  FROM\n    SkillSalary\n  WHERE\n    skill IN (SELECT skill FROM TopSkills)\n)\nSELECT\n  DISTINCT skill,\n  median_salary,\n  salary_count\nFROM\n  MedianSalaries\nORDER BY\n  median_salary DESC",
      "outputs": []
    },
    {
      "id": "eb9a4f54-7609-43d2-9510-159aa63bd5df",
      "cell_type": "code",
      "metadata": {
        "noteable": {
          "cell_type": "code",
          "output_collection_id": "c81dbaff-6996-44f6-b98f-24d7e22be144"
        },
        "ExecuteTime": {
          "end_time": "2023-11-05T21:10:04.473541+00:00",
          "start_time": "2023-11-05T21:10:04.263676+00:00"
        }
      },
      "execution_count": null,
      "source": "import plotly.express as px\n\n# Load the dataframe\ndf = sql_df_fkcs\n\n# Create the scatter plot\nfig = px.scatter(df, x='median_salary', y='salary_count',\n                 hover_data=['skill'],\n                 title='Scatterplot of Median Salary vs. Job Postings Count',\n                 labels={'median_salary': 'Median Salary', 'salary_count': 'Job Postings Count'},\n                 color='skill',\n                 color_continuous_scale=px.colors.sequential.Viridis)\n\n# Show the plot\nfig.show()",
      "outputs": []
    },
    {
      "id": "f3b14bdb-b542-4f5d-a1df-eae3a7c27eba",
      "cell_type": "code",
      "metadata": {
        "noteable": {
          "cell_type": "code",
          "output_collection_id": "9b447923-9b22-4ddf-8e50-12f83a7e4ab1"
        },
        "ExecuteTime": {
          "end_time": "2023-11-05T21:10:07.238431+00:00",
          "start_time": "2023-11-05T21:10:04.478641+00:00"
        }
      },
      "execution_count": null,
      "source": "!pip install -q plotly\nimport plotly.express as px\n\n# Load the dataframe\ndf = sql_df_1\n\n# Create the scatter plot\nfig = px.scatter(df, x='median_salary', y='salary_count',\n                 hover_data=['skill'],\n                 title='Median Salary vs. Job Posting Count',\n                 labels={'median_salary': 'Median Salary', 'salary_count': 'Job Posting Count'},\n                 template='plotly_dark')\n\n# Show the plot\nfig.show()",
      "outputs": []
    }
  ]
}