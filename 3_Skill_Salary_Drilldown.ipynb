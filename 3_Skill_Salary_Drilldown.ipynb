{
  "nbformat": 4,
  "nbformat_minor": 5,
  "metadata": {
    "noteable-chatgpt": {
      "create_notebook": {
        "openai_conversation_id": "c3d381a9-9cfe-583c-aa6b-1d47a890c621",
        "openai_ephemeral_user_id": "68a6b3fd-8f9e-5ba6-b122-2b0a560afdc4",
        "openai_subdivision1_iso_code": "US-AR"
      }
    },
    "kernel_info": {
      "name": "python3"
    },
    "kernelspec": {
      "display_name": "Python 3.9",
      "identifier": "legacy",
      "language": "python",
      "language_version": "3.9",
      "name": "python3"
    },
    "selected_hardware_size": "small"
  },
  "cells": [
    {
      "id": "73173896-a72d-4c1a-896c-64b0177d4661",
      "cell_type": "markdown",
      "source": "## List Tables\nExploring the tables in the 'Data Nerd Jobs' data connection.",
      "metadata": {
        "noteable": {
          "cell_type": "markdown"
        }
      }
    },
    {
      "id": "a96d10d7-85ea-4340-9b9c-9c7413ab12ab",
      "cell_type": "code",
      "metadata": {
        "noteable": {
          "assign_results_to": "sql_df_xnkv",
          "cell_type": "sql",
          "db_connection": "@5a5b9a444479436dbc1def18003d36d0",
          "output_collection_id": "917fad13-1469-4a85-9ed3-3b85c0ac6174"
        },
        "ExecuteTime": {
          "end_time": "2023-11-03T14:51:27.746310+00:00",
          "start_time": "2023-11-03T14:51:26.002082+00:00"
        },
        "datalink": {
          "d4619350-b239-4499-9505-8eafb2aa6ddb": {
            "applied_filters": [],
            "dataframe_info": {
              "default_index_used": true,
              "orig_num_cols": 3,
              "orig_num_rows": 1,
              "orig_size_bytes": 32,
              "truncated_num_cols": 3,
              "truncated_num_rows": 1,
              "truncated_size_bytes": 32,
              "truncated_string_columns": []
            },
            "display_id": "d4619350-b239-4499-9505-8eafb2aa6ddb",
            "dx_settings": {
              "ALLOW_NOTEABLE_ATTRS": true,
              "COLUMN_SAMPLING_METHOD": "outer",
              "DB_LOCATION": ":memory:",
              "DEV_MODE": false,
              "DISPLAY_MAX_COLUMNS": 100,
              "DISPLAY_MAX_ROWS": 50000,
              "DISPLAY_MODE": "simple",
              "ENABLE_ASSIGNMENT": true,
              "ENABLE_DATALINK": true,
              "FLATTEN_COLUMN_VALUES": true,
              "FLATTEN_INDEX_VALUES": false,
              "GENERATE_DEX_METADATA": false,
              "HTML_TABLE_SCHEMA": false,
              "LOG_LEVEL": 30,
              "MAX_RENDER_SIZE_BYTES": 104857600,
              "MAX_STRING_LENGTH": 250,
              "NUM_PAST_SAMPLES_TRACKED": 3,
              "RANDOM_STATE": 12648430,
              "RESET_INDEX_VALUES": false,
              "ROW_SAMPLING_METHOD": "random",
              "SAMPLING_FACTOR": 0.1,
              "SAMPLING_METHOD": "random",
              "STRINGIFY_COLUMN_VALUES": true,
              "STRINGIFY_INDEX_VALUES": false
            },
            "sample_history": [],
            "sampling_time": "2023-11-03T02:22:20.871226",
            "user_variable_name": null,
            "variable_name": "unk_dataframe_e1999474de2d435a8a20501ddd48f228"
          },
          "d51deb14-ec85-4235-acb4-a8a4d911f928": {
            "applied_filters": [],
            "dataframe_info": {
              "default_index_used": true,
              "orig_num_cols": 3,
              "orig_num_rows": 1,
              "orig_size_bytes": 32,
              "truncated_num_cols": 3,
              "truncated_num_rows": 1,
              "truncated_size_bytes": 32,
              "truncated_string_columns": []
            },
            "display_id": "d51deb14-ec85-4235-acb4-a8a4d911f928",
            "dx_settings": {
              "ALLOW_NOTEABLE_ATTRS": true,
              "COLUMN_SAMPLING_METHOD": "outer",
              "DB_LOCATION": ":memory:",
              "DEV_MODE": false,
              "DISPLAY_MAX_COLUMNS": 100,
              "DISPLAY_MAX_ROWS": 50000,
              "DISPLAY_MODE": "simple",
              "ENABLE_ASSIGNMENT": true,
              "ENABLE_DATALINK": true,
              "FLATTEN_COLUMN_VALUES": true,
              "FLATTEN_INDEX_VALUES": false,
              "GENERATE_DEX_METADATA": false,
              "HTML_TABLE_SCHEMA": false,
              "LOG_LEVEL": 30,
              "MAX_RENDER_SIZE_BYTES": 104857600,
              "MAX_STRING_LENGTH": 250,
              "NUM_PAST_SAMPLES_TRACKED": 3,
              "RANDOM_STATE": 12648430,
              "RESET_INDEX_VALUES": false,
              "ROW_SAMPLING_METHOD": "random",
              "SAMPLING_FACTOR": 0.1,
              "SAMPLING_METHOD": "random",
              "STRINGIFY_COLUMN_VALUES": true,
              "STRINGIFY_INDEX_VALUES": false
            },
            "sample_history": [],
            "sampling_time": "2023-11-03T14:51:27.584586",
            "user_variable_name": null,
            "variable_name": "unk_dataframe_f9568a2b3dcd40118b0f002df1d61549"
          }
        }
      },
      "execution_count": null,
      "source": "\\list",
      "outputs": []
    },
    {
      "id": "c41b43d7-7905-4864-b738-bf65fa62858e",
      "cell_type": "markdown",
      "source": "## Explore 'keywords_all' Column\nAnalyzing the 'keywords_all' column in the 'data_nerd_jobs' table.",
      "metadata": {
        "noteable": {
          "cell_type": "markdown"
        }
      }
    },
    {
      "id": "afdcf449-16ea-4d5f-b0e1-1088ebe22f3c",
      "cell_type": "code",
      "metadata": {
        "noteable": {
          "assign_results_to": "sql_df_mcyv",
          "cell_type": "sql",
          "db_connection": "@5a5b9a444479436dbc1def18003d36d0",
          "output_collection_id": "1d0d8461-b03f-4c40-96d5-f870088447c6"
        },
        "ExecuteTime": {
          "end_time": "2023-11-03T14:51:30.540502+00:00",
          "start_time": "2023-11-03T14:51:28.552469+00:00"
        },
        "datalink": {
          "031e87e2-db2c-4572-ab39-e89130ba1bf5": {
            "applied_filters": [],
            "dataframe_info": {
              "default_index_used": true,
              "orig_num_cols": 2,
              "orig_num_rows": 10,
              "orig_size_bytes": 240,
              "truncated_num_cols": 2,
              "truncated_num_rows": 10,
              "truncated_size_bytes": 240,
              "truncated_string_columns": []
            },
            "display_id": "031e87e2-db2c-4572-ab39-e89130ba1bf5",
            "dx_settings": {
              "ALLOW_NOTEABLE_ATTRS": true,
              "COLUMN_SAMPLING_METHOD": "outer",
              "DB_LOCATION": ":memory:",
              "DEV_MODE": false,
              "DISPLAY_MAX_COLUMNS": 100,
              "DISPLAY_MAX_ROWS": 50000,
              "DISPLAY_MODE": "simple",
              "ENABLE_ASSIGNMENT": true,
              "ENABLE_DATALINK": true,
              "FLATTEN_COLUMN_VALUES": true,
              "FLATTEN_INDEX_VALUES": false,
              "GENERATE_DEX_METADATA": false,
              "HTML_TABLE_SCHEMA": false,
              "LOG_LEVEL": 30,
              "MAX_RENDER_SIZE_BYTES": 104857600,
              "MAX_STRING_LENGTH": 250,
              "NUM_PAST_SAMPLES_TRACKED": 3,
              "RANDOM_STATE": 12648430,
              "RESET_INDEX_VALUES": false,
              "ROW_SAMPLING_METHOD": "random",
              "SAMPLING_FACTOR": 0.1,
              "SAMPLING_METHOD": "random",
              "STRINGIFY_COLUMN_VALUES": true,
              "STRINGIFY_INDEX_VALUES": false
            },
            "sample_history": [],
            "sampling_time": "2023-11-03T02:24:41.852415",
            "user_variable_name": "sql_df_mcyv",
            "variable_name": "sql_df_mcyv"
          },
          "9ecf4632-68cf-458b-9285-c84d8d5abb40": {
            "applied_filters": [],
            "dataframe_info": {
              "default_index_used": true,
              "orig_num_cols": 2,
              "orig_num_rows": 10,
              "orig_size_bytes": 240,
              "truncated_num_cols": 2,
              "truncated_num_rows": 10,
              "truncated_size_bytes": 240,
              "truncated_string_columns": []
            },
            "display_id": "9ecf4632-68cf-458b-9285-c84d8d5abb40",
            "dx_settings": {
              "ALLOW_NOTEABLE_ATTRS": true,
              "COLUMN_SAMPLING_METHOD": "outer",
              "DB_LOCATION": ":memory:",
              "DEV_MODE": false,
              "DISPLAY_MAX_COLUMNS": 100,
              "DISPLAY_MAX_ROWS": 50000,
              "DISPLAY_MODE": "simple",
              "ENABLE_ASSIGNMENT": true,
              "ENABLE_DATALINK": true,
              "FLATTEN_COLUMN_VALUES": true,
              "FLATTEN_INDEX_VALUES": false,
              "GENERATE_DEX_METADATA": false,
              "HTML_TABLE_SCHEMA": false,
              "LOG_LEVEL": 30,
              "MAX_RENDER_SIZE_BYTES": 104857600,
              "MAX_STRING_LENGTH": 250,
              "NUM_PAST_SAMPLES_TRACKED": 3,
              "RANDOM_STATE": 12648430,
              "RESET_INDEX_VALUES": false,
              "ROW_SAMPLING_METHOD": "random",
              "SAMPLING_FACTOR": 0.1,
              "SAMPLING_METHOD": "random",
              "STRINGIFY_COLUMN_VALUES": true,
              "STRINGIFY_INDEX_VALUES": false
            },
            "sample_history": [],
            "sampling_time": "2023-11-03T14:51:30.382237",
            "user_variable_name": "sql_df_mcyv",
            "variable_name": "sql_df_mcyv"
          }
        }
      },
      "execution_count": null,
      "source": "SELECT keyword.element, COUNT(*) as count\nFROM `public_job_listings.data_nerd_jobs`, UNNEST(keywords_all.list) as keyword\nGROUP BY keyword.element\nORDER BY count DESC\nLIMIT 10",
      "outputs": []
    },
    {
      "id": "1c1430c3-f004-4803-a2e6-ff1acda26b93",
      "cell_type": "code",
      "metadata": {
        "noteable": {
          "assign_results_to": "sql_df_fkcs",
          "cell_type": "sql",
          "db_connection": "@5a5b9a444479436dbc1def18003d36d0",
          "output_collection_id": "63465d87-bbac-4c40-a567-218bdebad445"
        },
        "ExecuteTime": {
          "end_time": "2023-11-03T15:07:02.553684+00:00",
          "start_time": "2023-11-03T15:07:00.310713+00:00"
        },
        "datalink": {
          "45d523d4-8d1c-424c-8238-f2122235fb4d": {
            "applied_filters": [],
            "dataframe_info": {
              "default_index_used": true,
              "orig_num_cols": 3,
              "orig_num_rows": 10,
              "orig_size_bytes": 320,
              "truncated_num_cols": 3,
              "truncated_num_rows": 10,
              "truncated_size_bytes": 320,
              "truncated_string_columns": []
            },
            "display_id": "45d523d4-8d1c-424c-8238-f2122235fb4d",
            "dx_settings": {
              "ALLOW_NOTEABLE_ATTRS": true,
              "COLUMN_SAMPLING_METHOD": "outer",
              "DB_LOCATION": ":memory:",
              "DEV_MODE": false,
              "DISPLAY_MAX_COLUMNS": 100,
              "DISPLAY_MAX_ROWS": 50000,
              "DISPLAY_MODE": "simple",
              "ENABLE_ASSIGNMENT": true,
              "ENABLE_DATALINK": true,
              "FLATTEN_COLUMN_VALUES": true,
              "FLATTEN_INDEX_VALUES": false,
              "GENERATE_DEX_METADATA": false,
              "HTML_TABLE_SCHEMA": false,
              "LOG_LEVEL": 30,
              "MAX_RENDER_SIZE_BYTES": 104857600,
              "MAX_STRING_LENGTH": 250,
              "NUM_PAST_SAMPLES_TRACKED": 3,
              "RANDOM_STATE": 12648430,
              "RESET_INDEX_VALUES": false,
              "ROW_SAMPLING_METHOD": "random",
              "SAMPLING_FACTOR": 0.1,
              "SAMPLING_METHOD": "random",
              "STRINGIFY_COLUMN_VALUES": true,
              "STRINGIFY_INDEX_VALUES": false
            },
            "sample_history": [],
            "sampling_time": "2023-11-03T03:02:55.122132",
            "user_variable_name": "sql_df_fkcs",
            "variable_name": "sql_df_fkcs"
          },
          "2ff236f8-a3b4-427a-a060-9846c9b4139e": {
            "applied_filters": [],
            "dataframe_info": {
              "default_index_used": true,
              "orig_num_cols": 3,
              "orig_num_rows": 10,
              "orig_size_bytes": 320,
              "truncated_num_cols": 3,
              "truncated_num_rows": 10,
              "truncated_size_bytes": 320,
              "truncated_string_columns": []
            },
            "display_id": "2ff236f8-a3b4-427a-a060-9846c9b4139e",
            "dx_settings": {
              "ALLOW_NOTEABLE_ATTRS": true,
              "COLUMN_SAMPLING_METHOD": "outer",
              "DB_LOCATION": ":memory:",
              "DEV_MODE": false,
              "DISPLAY_MAX_COLUMNS": 100,
              "DISPLAY_MAX_ROWS": 50000,
              "DISPLAY_MODE": "simple",
              "ENABLE_ASSIGNMENT": true,
              "ENABLE_DATALINK": true,
              "FLATTEN_COLUMN_VALUES": true,
              "FLATTEN_INDEX_VALUES": false,
              "GENERATE_DEX_METADATA": false,
              "HTML_TABLE_SCHEMA": false,
              "LOG_LEVEL": 30,
              "MAX_RENDER_SIZE_BYTES": 104857600,
              "MAX_STRING_LENGTH": 250,
              "NUM_PAST_SAMPLES_TRACKED": 3,
              "RANDOM_STATE": 12648430,
              "RESET_INDEX_VALUES": false,
              "ROW_SAMPLING_METHOD": "random",
              "SAMPLING_FACTOR": 0.1,
              "SAMPLING_METHOD": "random",
              "STRINGIFY_COLUMN_VALUES": true,
              "STRINGIFY_INDEX_VALUES": false
            },
            "sample_history": [],
            "sampling_time": "2023-11-03T14:51:32.297044",
            "user_variable_name": "sql_df_fkcs",
            "variable_name": "sql_df_fkcs"
          },
          "f1a0aec0-7c10-4b52-900b-493064dd2fae": {
            "applied_filters": [],
            "dataframe_info": {
              "default_index_used": true,
              "orig_num_cols": 2,
              "orig_num_rows": 10,
              "orig_size_bytes": 240,
              "truncated_num_cols": 2,
              "truncated_num_rows": 10,
              "truncated_size_bytes": 240,
              "truncated_string_columns": []
            },
            "display_id": "f1a0aec0-7c10-4b52-900b-493064dd2fae",
            "dx_settings": {
              "ALLOW_NOTEABLE_ATTRS": true,
              "COLUMN_SAMPLING_METHOD": "outer",
              "DB_LOCATION": ":memory:",
              "DEV_MODE": false,
              "DISPLAY_MAX_COLUMNS": 100,
              "DISPLAY_MAX_ROWS": 50000,
              "DISPLAY_MODE": "simple",
              "ENABLE_ASSIGNMENT": true,
              "ENABLE_DATALINK": true,
              "FLATTEN_COLUMN_VALUES": true,
              "FLATTEN_INDEX_VALUES": false,
              "GENERATE_DEX_METADATA": false,
              "HTML_TABLE_SCHEMA": false,
              "LOG_LEVEL": 30,
              "MAX_RENDER_SIZE_BYTES": 104857600,
              "MAX_STRING_LENGTH": 250,
              "NUM_PAST_SAMPLES_TRACKED": 3,
              "RANDOM_STATE": 12648430,
              "RESET_INDEX_VALUES": false,
              "ROW_SAMPLING_METHOD": "random",
              "SAMPLING_FACTOR": 0.1,
              "SAMPLING_METHOD": "random",
              "STRINGIFY_COLUMN_VALUES": true,
              "STRINGIFY_INDEX_VALUES": false
            },
            "sample_history": [],
            "sampling_time": "2023-11-03T15:07:02.395625",
            "user_variable_name": "sql_df_fkcs",
            "variable_name": "sql_df_fkcs"
          }
        },
        "dx": {
          "dashboard": {
            "multiViews": []
          },
          "fieldMetadata": {
            "index": {
              "columnPosition": 1
            },
            "job_count": {
              "columnPosition": 3,
              "width": 86.82879638671875
            },
            "median_salary": {
              "columnPosition": 4
            },
            "skill": {
              "columnPosition": 2
            }
          },
          "updated": 1699023575431,
          "views": [
            {
              "annotationRules": [],
              "chart": {},
              "chartMode": "grid",
              "confoRules": [],
              "decoration": {
                "footer": "",
                "subtitle": "",
                "title": "Table"
              },
              "facets": [],
              "filterSettings": {
                "SHOW_FILTER_PANEL": true,
                "filters": []
              },
              "id": "first-view",
              "isDefault": true,
              "type": "public",
              "userID": ""
            },
            {
              "annotationRules": [],
              "chart": {},
              "chartMode": "grid",
              "confoRules": [],
              "decoration": {
                "footer": "",
                "subtitle": "",
                "title": "Table"
              },
              "facets": [],
              "filterSettings": {
                "SHOW_FILTER_PANEL": true,
                "filters": []
              },
              "id": "first-view",
              "isDefault": true,
              "isTransitory": true,
              "type": "public",
              "userID": ""
            }
          ]
        }
      },
      "execution_count": null,
      "source": "WITH SkillSalary AS (\n  SELECT\n    keyword.element AS skill,\n    salary_year\n  FROM\n    `public_job_listings.data_nerd_jobs`,\n    UNNEST(keywords_all.list) AS keyword\n  WHERE\n    salary_year IS NOT NULL\n),\nMedianSalaries AS (\n  SELECT\n    skill,\n    PERCENTILE_CONT(salary_year, 0.5) OVER (PARTITION BY skill) AS median_salary\n  FROM\n    SkillSalary\n)\nSELECT\n  skill,\n  median_salary\nFROM\n  MedianSalaries\nGROUP BY\n  skill, median_salary\nORDER BY\n  median_salary DESC\nLIMIT 10",
      "outputs": []
    },
    {
      "id": "a79d5aae-b35f-438a-8b14-420489c36574",
      "cell_type": "code",
      "metadata": {
        "noteable": {
          "cell_type": "code",
          "output_collection_id": "a39edf1a-8d65-45ab-ba9a-ceaf273b21ce"
        },
        "ExecuteTime": {
          "end_time": "2023-11-03T14:56:06.027523+00:00",
          "start_time": "2023-11-03T14:56:05.650307+00:00"
        }
      },
      "execution_count": null,
      "source": "import seaborn as sns\nimport matplotlib.pyplot as plt\nimport pandas as pd\nfrom matplotlib.ticker import FuncFormatter\n\n# Set the aesthetic style of the plots\nsns.set(style='darkgrid')\nplt.style.use('dark_background')\n\n# Load the data into a pandas dataframe\ndata = {\n    'skill': ['SQL', 'Python', 'Java', 'AWS', 'R', 'Tableau', 'Excel', 'Power BI', 'SAS', 'Hadoop'],\n    'median_salary': [111524, 118225, 128591, 128591, 108344, 108344, 111524, 108344, 108344, 128591],\n    'job_count': [896, 561, 527, 527, 539, 539, 539, 539, 539, 527]\n}\ndf = pd.DataFrame(data)\n\n# Sort the dataframe by median_salary\ndf_sorted = df.sort_values('median_salary', ascending=False)\n\n# Formatter for currency\nformatter = FuncFormatter(lambda x, pos: f'${x:,.0f}')\n\n# Create the bar plot\nplt.figure(figsize=(10, 8))\nbarplot = sns.barplot(x='median_salary', y='skill', data=df_sorted, palette='Blues_r')\n\n# Set x-axis limit\nplt.xlim(105000, 130000)\n\n# Format the x-axis as currency\nbarplot.xaxis.set_major_formatter(formatter)\n\n# Add the job count values on the bars\nfor index, value in enumerate(df_sorted['job_count']):\n    plt.text(df_sorted['median_salary'].iloc[index], index, f'{value}')\n\n# Remove the labels\nplt.xlabel('')\nplt.ylabel('')\n\n# Show the plot\nplt.show()",
      "outputs": []
    }
  ]
}