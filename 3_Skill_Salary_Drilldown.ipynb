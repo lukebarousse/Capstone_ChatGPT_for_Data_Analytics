{
  "nbformat": 4,
  "nbformat_minor": 5,
  "metadata": {
    "noteable-chatgpt": {
      "create_notebook": {
        "openai_conversation_id": "c3d381a9-9cfe-583c-aa6b-1d47a890c621",
        "openai_ephemeral_user_id": "68a6b3fd-8f9e-5ba6-b122-2b0a560afdc4",
        "openai_subdivision1_iso_code": "US-AR"
      }
    },
    "kernel_info": {
      "name": "python3"
    },
    "kernelspec": {
      "display_name": "Python 3.9",
      "identifier": "legacy",
      "language": "python",
      "language_version": "3.9",
      "name": "python3"
    },
    "selected_hardware_size": "small"
  },
  "cells": [
    {
      "id": "73173896-a72d-4c1a-896c-64b0177d4661",
      "cell_type": "markdown",
      "source": "## List Tables\nExploring the tables in the 'Data Nerd Jobs' data connection.",
      "metadata": {
        "noteable": {
          "cell_type": "markdown"
        }
      }
    },
    {
      "id": "a96d10d7-85ea-4340-9b9c-9c7413ab12ab",
      "cell_type": "code",
      "metadata": {
        "noteable": {
          "assign_results_to": "sql_df_xnkv",
          "cell_type": "sql",
          "db_connection": "@5a5b9a444479436dbc1def18003d36d0",
          "output_collection_id": "94fde840-6dc6-4319-968c-e4b2333ec0be"
        },
        "ExecuteTime": {
          "end_time": "2023-11-03T02:22:21.032386+00:00",
          "start_time": "2023-11-03T02:22:19.722875+00:00"
        },
        "datalink": {
          "d4619350-b239-4499-9505-8eafb2aa6ddb": {
            "applied_filters": [],
            "dataframe_info": {
              "default_index_used": true,
              "orig_num_cols": 3,
              "orig_num_rows": 1,
              "orig_size_bytes": 32,
              "truncated_num_cols": 3,
              "truncated_num_rows": 1,
              "truncated_size_bytes": 32,
              "truncated_string_columns": []
            },
            "display_id": "d4619350-b239-4499-9505-8eafb2aa6ddb",
            "dx_settings": {
              "ALLOW_NOTEABLE_ATTRS": true,
              "COLUMN_SAMPLING_METHOD": "outer",
              "DB_LOCATION": ":memory:",
              "DEV_MODE": false,
              "DISPLAY_MAX_COLUMNS": 100,
              "DISPLAY_MAX_ROWS": 50000,
              "DISPLAY_MODE": "simple",
              "ENABLE_ASSIGNMENT": true,
              "ENABLE_DATALINK": true,
              "FLATTEN_COLUMN_VALUES": true,
              "FLATTEN_INDEX_VALUES": false,
              "GENERATE_DEX_METADATA": false,
              "HTML_TABLE_SCHEMA": false,
              "LOG_LEVEL": 30,
              "MAX_RENDER_SIZE_BYTES": 104857600,
              "MAX_STRING_LENGTH": 250,
              "NUM_PAST_SAMPLES_TRACKED": 3,
              "RANDOM_STATE": 12648430,
              "RESET_INDEX_VALUES": false,
              "ROW_SAMPLING_METHOD": "random",
              "SAMPLING_FACTOR": 0.1,
              "SAMPLING_METHOD": "random",
              "STRINGIFY_COLUMN_VALUES": true,
              "STRINGIFY_INDEX_VALUES": false
            },
            "sample_history": [],
            "sampling_time": "2023-11-03T02:22:20.871226",
            "user_variable_name": null,
            "variable_name": "unk_dataframe_e1999474de2d435a8a20501ddd48f228"
          }
        }
      },
      "execution_count": null,
      "source": "\\list",
      "outputs": []
    },
    {
      "id": "c41b43d7-7905-4864-b738-bf65fa62858e",
      "cell_type": "markdown",
      "source": "## Explore 'keywords_all' Column\nAnalyzing the 'keywords_all' column in the 'data_nerd_jobs' table.",
      "metadata": {
        "noteable": {
          "cell_type": "markdown"
        }
      }
    },
    {
      "id": "afdcf449-16ea-4d5f-b0e1-1088ebe22f3c",
      "cell_type": "code",
      "metadata": {
        "noteable": {
          "assign_results_to": "sql_df_mcyv",
          "cell_type": "sql",
          "db_connection": "@5a5b9a444479436dbc1def18003d36d0",
          "output_collection_id": "a633d120-8e13-4a53-8e8f-0a06bfce4d87"
        },
        "ExecuteTime": {
          "end_time": "2023-11-03T02:24:42.010462+00:00",
          "start_time": "2023-11-03T02:24:39.153688+00:00"
        },
        "datalink": {
          "031e87e2-db2c-4572-ab39-e89130ba1bf5": {
            "applied_filters": [],
            "dataframe_info": {
              "default_index_used": true,
              "orig_num_cols": 2,
              "orig_num_rows": 10,
              "orig_size_bytes": 240,
              "truncated_num_cols": 2,
              "truncated_num_rows": 10,
              "truncated_size_bytes": 240,
              "truncated_string_columns": []
            },
            "display_id": "031e87e2-db2c-4572-ab39-e89130ba1bf5",
            "dx_settings": {
              "ALLOW_NOTEABLE_ATTRS": true,
              "COLUMN_SAMPLING_METHOD": "outer",
              "DB_LOCATION": ":memory:",
              "DEV_MODE": false,
              "DISPLAY_MAX_COLUMNS": 100,
              "DISPLAY_MAX_ROWS": 50000,
              "DISPLAY_MODE": "simple",
              "ENABLE_ASSIGNMENT": true,
              "ENABLE_DATALINK": true,
              "FLATTEN_COLUMN_VALUES": true,
              "FLATTEN_INDEX_VALUES": false,
              "GENERATE_DEX_METADATA": false,
              "HTML_TABLE_SCHEMA": false,
              "LOG_LEVEL": 30,
              "MAX_RENDER_SIZE_BYTES": 104857600,
              "MAX_STRING_LENGTH": 250,
              "NUM_PAST_SAMPLES_TRACKED": 3,
              "RANDOM_STATE": 12648430,
              "RESET_INDEX_VALUES": false,
              "ROW_SAMPLING_METHOD": "random",
              "SAMPLING_FACTOR": 0.1,
              "SAMPLING_METHOD": "random",
              "STRINGIFY_COLUMN_VALUES": true,
              "STRINGIFY_INDEX_VALUES": false
            },
            "sample_history": [],
            "sampling_time": "2023-11-03T02:24:41.852415",
            "user_variable_name": "sql_df_mcyv",
            "variable_name": "sql_df_mcyv"
          }
        }
      },
      "execution_count": null,
      "source": "SELECT keyword.element, COUNT(*) as count\nFROM `public_job_listings.data_nerd_jobs`, UNNEST(keywords_all.list) as keyword\nGROUP BY keyword.element\nORDER BY count DESC\nLIMIT 10",
      "outputs": []
    },
    {
      "id": "0052965a-73c4-492d-9df4-5674fff4c4c0",
      "cell_type": "markdown",
      "source": "## Median Salary for Top 10 Skills\nCalculating the median salary for the top 10 skills identified previously.",
      "metadata": {
        "noteable": {
          "cell_type": "markdown"
        }
      }
    },
    {
      "id": "8c8ccd11-a622-443a-b819-dc904a0105d4",
      "cell_type": "code",
      "metadata": {
        "noteable": {
          "assign_results_to": "sql_df_qwqe",
          "cell_type": "sql",
          "db_connection": "@5a5b9a444479436dbc1def18003d36d0",
          "output_collection_id": "3d6e027a-d95a-4321-bf01-5c718ffb4b7d"
        },
        "ExecuteTime": {
          "end_time": "2023-11-03T02:39:11.073597+00:00",
          "start_time": "2023-11-03T02:39:08.519817+00:00"
        },
        "datalink": {
          "04b1da34-da65-499a-a201-ed5ece598364": {
            "applied_filters": [],
            "dataframe_info": {
              "default_index_used": true,
              "orig_num_cols": 2,
              "orig_num_rows": 9182,
              "orig_size_bytes": 220368,
              "truncated_num_cols": 2,
              "truncated_num_rows": 9182,
              "truncated_size_bytes": 220368,
              "truncated_string_columns": []
            },
            "display_id": "04b1da34-da65-499a-a201-ed5ece598364",
            "dx_settings": {
              "ALLOW_NOTEABLE_ATTRS": true,
              "COLUMN_SAMPLING_METHOD": "outer",
              "DB_LOCATION": ":memory:",
              "DEV_MODE": false,
              "DISPLAY_MAX_COLUMNS": 100,
              "DISPLAY_MAX_ROWS": 50000,
              "DISPLAY_MODE": "simple",
              "ENABLE_ASSIGNMENT": true,
              "ENABLE_DATALINK": true,
              "FLATTEN_COLUMN_VALUES": true,
              "FLATTEN_INDEX_VALUES": false,
              "GENERATE_DEX_METADATA": false,
              "HTML_TABLE_SCHEMA": false,
              "LOG_LEVEL": 30,
              "MAX_RENDER_SIZE_BYTES": 104857600,
              "MAX_STRING_LENGTH": 250,
              "NUM_PAST_SAMPLES_TRACKED": 3,
              "RANDOM_STATE": 12648430,
              "RESET_INDEX_VALUES": false,
              "ROW_SAMPLING_METHOD": "random",
              "SAMPLING_FACTOR": 0.1,
              "SAMPLING_METHOD": "random",
              "STRINGIFY_COLUMN_VALUES": true,
              "STRINGIFY_INDEX_VALUES": false
            },
            "sample_history": [],
            "sampling_time": "2023-11-03T02:39:10.899934",
            "user_variable_name": "sql_df_qwqe",
            "variable_name": "sql_df_qwqe"
          }
        }
      },
      "execution_count": null,
      "source": "WITH TopSkills AS (\n  SELECT keyword.element AS skill\n  FROM `public_job_listings.data_nerd_jobs`, UNNEST(keywords_all.list) as keyword\n  GROUP BY keyword.element\n  ORDER BY COUNT(*) DESC\n  LIMIT 10\n)\nSELECT skill,\n       PERCENTILE_CONT(salary_year, 0.5) OVER (PARTITION BY skill) AS median_salary\nFROM `public_job_listings.data_nerd_jobs`, UNNEST(keywords_all.list) as keyword\nJOIN TopSkills ON keyword.element = TopSkills.skill\nWHERE salary_year IS NOT NULL\nGROUP BY skill, salary_year\nORDER BY median_salary DESC",
      "outputs": []
    },
    {
      "id": "91b1c815-ba47-464e-ae3b-e10b8e733172",
      "cell_type": "markdown",
      "source": "## Median Salary for Top 10 Skills\nCalculating the median salary for job postings associated with the top 10 skills.",
      "metadata": {
        "noteable": {
          "cell_type": "markdown"
        }
      }
    },
    {
      "id": "feeb7dc0-aa17-4778-86fb-a4ac3d374114",
      "cell_type": "markdown",
      "source": "## Median Salary for Top 10 Skills\nCalculating the median salary for job postings associated with the top 10 skills.",
      "metadata": {
        "noteable": {
          "cell_type": "markdown"
        }
      }
    },
    {
      "id": "4ea46f52-daa3-4ddd-8d19-7e5e386126c7",
      "cell_type": "code",
      "metadata": {
        "noteable": {
          "assign_results_to": "sql_df_hxbz",
          "cell_type": "sql",
          "db_connection": "@5a5b9a444479436dbc1def18003d36d0",
          "output_collection_id": "8aed8701-c56f-4495-998e-f5f24d037239"
        },
        "ExecuteTime": {
          "end_time": "2023-11-03T02:56:42.075376+00:00",
          "start_time": "2023-11-03T02:56:41.507519+00:00"
        }
      },
      "execution_count": null,
      "source": "WITH TopSkills AS (\n  SELECT keyword.element AS skill\n  FROM `public_job_listings.data_nerd_jobs`, UNNEST(keywords_all.list) as keyword\n  GROUP BY keyword.element\n  ORDER BY COUNT(*) DESC\n  LIMIT 10\n)\nSELECT skill, PERCENTILE_CONT(salary_year, 0.5) OVER (PARTITION BY skill) AS median_salary\nFROM TopSkills\nJOIN `public_job_listings.data_nerd_jobs`, UNNEST(keywords_all.list) as keyword\nON TopSkills.skill = keyword.element\nWHERE salary_year IS NOT NULL\nGROUP BY skill, salary_year\nORDER BY median_salary DESC",
      "outputs": []
    },
    {
      "id": "a831c50a-81c1-484d-989a-3af2ae87fd6c",
      "cell_type": "code",
      "metadata": {
        "noteable": {
          "assign_results_to": "sql_df_xagi",
          "cell_type": "sql",
          "db_connection": "@5a5b9a444479436dbc1def18003d36d0",
          "output_collection_id": "cde469d4-558e-400e-b67e-83128947bf76"
        },
        "ExecuteTime": {
          "end_time": "2023-11-03T02:57:28.023340+00:00",
          "start_time": "2023-11-03T02:57:25.629499+00:00"
        },
        "datalink": {
          "227e2154-cd27-4fcc-8dee-55da65039e53": {
            "applied_filters": [],
            "dataframe_info": {
              "default_index_used": true,
              "orig_num_cols": 2,
              "orig_num_rows": 9182,
              "orig_size_bytes": 220368,
              "truncated_num_cols": 2,
              "truncated_num_rows": 9182,
              "truncated_size_bytes": 220368,
              "truncated_string_columns": []
            },
            "display_id": "227e2154-cd27-4fcc-8dee-55da65039e53",
            "dx_settings": {
              "ALLOW_NOTEABLE_ATTRS": true,
              "COLUMN_SAMPLING_METHOD": "outer",
              "DB_LOCATION": ":memory:",
              "DEV_MODE": false,
              "DISPLAY_MAX_COLUMNS": 100,
              "DISPLAY_MAX_ROWS": 50000,
              "DISPLAY_MODE": "simple",
              "ENABLE_ASSIGNMENT": true,
              "ENABLE_DATALINK": true,
              "FLATTEN_COLUMN_VALUES": true,
              "FLATTEN_INDEX_VALUES": false,
              "GENERATE_DEX_METADATA": false,
              "HTML_TABLE_SCHEMA": false,
              "LOG_LEVEL": 30,
              "MAX_RENDER_SIZE_BYTES": 104857600,
              "MAX_STRING_LENGTH": 250,
              "NUM_PAST_SAMPLES_TRACKED": 3,
              "RANDOM_STATE": 12648430,
              "RESET_INDEX_VALUES": false,
              "ROW_SAMPLING_METHOD": "random",
              "SAMPLING_FACTOR": 0.1,
              "SAMPLING_METHOD": "random",
              "STRINGIFY_COLUMN_VALUES": true,
              "STRINGIFY_INDEX_VALUES": false
            },
            "sample_history": [],
            "sampling_time": "2023-11-03T02:57:27.850724",
            "user_variable_name": "sql_df_qwqe",
            "variable_name": "sql_df_qwqe"
          }
        }
      },
      "execution_count": null,
      "source": "WITH TopSkills AS (\n  SELECT keyword.element AS skill\n  FROM `public_job_listings.data_nerd_jobs`, UNNEST(keywords_all.list) as keyword\n  GROUP BY keyword.element\n  ORDER BY COUNT(*) DESC\n  LIMIT 10\n)\nSELECT skill, PERCENTILE_CONT(salary_year, 0.5) OVER (PARTITION BY skill) AS median_salary\nFROM `public_job_listings.data_nerd_jobs`\nJOIN TopSkills ON TopSkills.skill IN UNNEST(keywords_all.list.element)\nWHERE salary_year IS NOT NULL\nGROUP BY skill, salary_year\nORDER BY median_salary DESC",
      "outputs": []
    }
  ]
}