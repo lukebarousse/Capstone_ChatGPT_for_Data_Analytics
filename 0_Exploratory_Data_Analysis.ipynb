{
  "nbformat": 4,
  "nbformat_minor": 5,
  "metadata": {
    "noteable-chatgpt": {
      "create_notebook": {
        "openai_conversation_id": "ad8bcc09-8459-57eb-af6f-85d0df4065cf",
        "openai_ephemeral_user_id": "6fdb171d-0ee3-5ff3-9a6c-8eaddf3eaf27",
        "openai_subdivision1_iso_code": "US-AR"
      }
    },
    "kernel_info": {
      "name": "python3"
    },
    "kernelspec": {
      "display_name": "Python 3.9",
      "identifier": "legacy",
      "language": "python",
      "language_version": "3.9",
      "name": "python3"
    },
    "selected_hardware_size": "small"
  },
  "cells": [
    {
      "id": "3072535b-79f7-421a-a890-c9374a2d7e5a",
      "cell_type": "code",
      "metadata": {
        "noteable": {
          "cell_type": "code"
        }
      },
      "execution_count": null,
      "source": "from google.cloud import bigquery\nclient = bigquery.Client()\ndataset_id = 'Data Nerd Jobs'\ntables = client.list_tables(dataset_id)\ntable_list = [table.table_id for table in tables]\ntable_list",
      "outputs": []
    },
    {
      "id": "1406939f-bfaa-4922-bae0-0d5e04279b71",
      "cell_type": "code",
      "metadata": {
        "jupyter": {
          "outputs_hidden": false,
          "source_hidden": false
        },
        "noteable": {
          "cell_type": "code"
        }
      },
      "execution_count": null,
      "source": "",
      "outputs": []
    }
  ]
}