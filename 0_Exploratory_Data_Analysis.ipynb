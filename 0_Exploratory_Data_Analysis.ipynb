{
  "nbformat": 4,
  "nbformat_minor": 5,
  "metadata": {
    "noteable-chatgpt": {
      "create_notebook": {
        "openai_conversation_id": "ec36fdb3-f33a-5030-8016-a666ab988560",
        "openai_ephemeral_user_id": "6fdb171d-0ee3-5ff3-9a6c-8eaddf3eaf27",
        "openai_subdivision1_iso_code": "US-AR"
      }
    },
    "kernel_info": {
      "name": "python3"
    },
    "kernelspec": {
      "display_name": "Python 3.9",
      "identifier": "legacy",
      "language": "python",
      "language_version": "3.9",
      "name": "python3"
    },
    "selected_hardware_size": "small"
  },
  "cells": [
    {
      "id": "6756516a-1f67-44b7-961d-94ae8e5b31ca",
      "cell_type": "code",
      "metadata": {
        "jupyter": {
          "outputs_hidden": false,
          "source_hidden": false
        },
        "noteable": {
          "cell_type": "code"
        }
      },
      "execution_count": null,
      "source": "",
      "outputs": []
    },
    {
      "id": "05352318-8354-412a-bbea-c778ff61ed47",
      "cell_type": "markdown",
      "source": "## List Tables in Data Nerd Jobs Database\nWe'll use BigQuery syntax to list all tables in the 'Data Nerd Jobs' database.",
      "metadata": {
        "noteable": {
          "cell_type": "markdown"
        }
      }
    },
    {
      "id": "3512bb3f-7e45-4f15-9620-e5f2112d7070",
      "cell_type": "code",
      "metadata": {
        "noteable": {
          "assign_results_to": "sql_df_xhsf",
          "cell_type": "sql",
          "db_connection": "@5a5b9a444479436dbc1def18003d36d0",
          "output_collection_id": "1619ad1f-0faf-441a-93e4-00c6fd36b3e7"
        },
        "ExecuteTime": {
          "end_time": "2023-10-26T22:08:54.896538+00:00",
          "start_time": "2023-10-26T22:08:53.316425+00:00"
        },
        "datalink": {
          "5aab34a7-5735-4783-ac68-18814ddc36e3": {
            "applied_filters": [],
            "dataframe_info": {
              "default_index_used": false,
              "orig_num_cols": 1,
              "orig_num_rows": 0,
              "orig_size_bytes": 0,
              "truncated_num_cols": 1,
              "truncated_num_rows": 0,
              "truncated_size_bytes": 0,
              "truncated_string_columns": []
            },
            "display_id": "5aab34a7-5735-4783-ac68-18814ddc36e3",
            "dx_settings": {
              "ALLOW_NOTEABLE_ATTRS": true,
              "COLUMN_SAMPLING_METHOD": "outer",
              "DB_LOCATION": ":memory:",
              "DEV_MODE": false,
              "DISPLAY_MAX_COLUMNS": 100,
              "DISPLAY_MAX_ROWS": 50000,
              "DISPLAY_MODE": "simple",
              "ENABLE_ASSIGNMENT": true,
              "ENABLE_DATALINK": true,
              "FLATTEN_COLUMN_VALUES": true,
              "FLATTEN_INDEX_VALUES": false,
              "GENERATE_DEX_METADATA": false,
              "HTML_TABLE_SCHEMA": false,
              "LOG_LEVEL": 30,
              "MAX_RENDER_SIZE_BYTES": 104857600,
              "MAX_STRING_LENGTH": 250,
              "NUM_PAST_SAMPLES_TRACKED": 3,
              "RANDOM_STATE": 12648430,
              "RESET_INDEX_VALUES": false,
              "ROW_SAMPLING_METHOD": "random",
              "SAMPLING_FACTOR": 0.1,
              "SAMPLING_METHOD": "random",
              "STRINGIFY_COLUMN_VALUES": true,
              "STRINGIFY_INDEX_VALUES": false
            },
            "sample_history": [],
            "sampling_time": "2023-10-26T22:08:12.273964",
            "user_variable_name": "sql_df_xhsf",
            "variable_name": "sql_df_xhsf"
          },
          "3256d909-9d52-4a4d-a2da-ab757cf0ae0e": {
            "applied_filters": [],
            "dataframe_info": {
              "default_index_used": false,
              "orig_num_cols": 14,
              "orig_num_rows": 0,
              "orig_size_bytes": 0,
              "truncated_num_cols": 14,
              "truncated_num_rows": 0,
              "truncated_size_bytes": 0,
              "truncated_string_columns": []
            },
            "display_id": "3256d909-9d52-4a4d-a2da-ab757cf0ae0e",
            "dx_settings": {
              "ALLOW_NOTEABLE_ATTRS": true,
              "COLUMN_SAMPLING_METHOD": "outer",
              "DB_LOCATION": ":memory:",
              "DEV_MODE": false,
              "DISPLAY_MAX_COLUMNS": 100,
              "DISPLAY_MAX_ROWS": 50000,
              "DISPLAY_MODE": "simple",
              "ENABLE_ASSIGNMENT": true,
              "ENABLE_DATALINK": true,
              "FLATTEN_COLUMN_VALUES": true,
              "FLATTEN_INDEX_VALUES": false,
              "GENERATE_DEX_METADATA": false,
              "HTML_TABLE_SCHEMA": false,
              "LOG_LEVEL": 30,
              "MAX_RENDER_SIZE_BYTES": 104857600,
              "MAX_STRING_LENGTH": 250,
              "NUM_PAST_SAMPLES_TRACKED": 3,
              "RANDOM_STATE": 12648430,
              "RESET_INDEX_VALUES": false,
              "ROW_SAMPLING_METHOD": "random",
              "SAMPLING_FACTOR": 0.1,
              "SAMPLING_METHOD": "random",
              "STRINGIFY_COLUMN_VALUES": true,
              "STRINGIFY_INDEX_VALUES": false
            },
            "sample_history": [],
            "sampling_time": "2023-10-26T22:08:54.735942",
            "user_variable_name": "sql_df_xhsf",
            "variable_name": "sql_df_xhsf"
          }
        }
      },
      "execution_count": null,
      "source": "SELECT * FROM `INFORMATION_SCHEMA.TABLES` WHERE table_catalog = '' AND table_schema = '';",
      "outputs": []
    },
    {
      "id": "7856d66d-bcb1-4cd7-aa44-2e84bb147289",
      "cell_type": "code",
      "metadata": {
        "noteable": {
          "assign_results_to": "sql_df_1",
          "cell_type": "sql",
          "db_connection": "@5a5b9a444479436dbc1def18003d36d0",
          "output_collection_id": "3f38ec85-7c49-4002-9ea2-62b2fdcf2bbc"
        },
        "ExecuteTime": {
          "end_time": "2023-10-26T22:20:36.947799+00:00",
          "start_time": "2023-10-26T22:20:35.560679+00:00"
        },
        "datalink": {
          "507a23a7-d8bf-4ff0-9b14-51aea3132232": {
            "applied_filters": [],
            "dataframe_info": {
              "default_index_used": true,
              "orig_num_cols": 3,
              "orig_num_rows": 1,
              "orig_size_bytes": 32,
              "truncated_num_cols": 3,
              "truncated_num_rows": 1,
              "truncated_size_bytes": 32,
              "truncated_string_columns": []
            },
            "display_id": "507a23a7-d8bf-4ff0-9b14-51aea3132232",
            "dx_settings": {
              "ALLOW_NOTEABLE_ATTRS": true,
              "COLUMN_SAMPLING_METHOD": "outer",
              "DB_LOCATION": ":memory:",
              "DEV_MODE": false,
              "DISPLAY_MAX_COLUMNS": 100,
              "DISPLAY_MAX_ROWS": 50000,
              "DISPLAY_MODE": "simple",
              "ENABLE_ASSIGNMENT": true,
              "ENABLE_DATALINK": true,
              "FLATTEN_COLUMN_VALUES": true,
              "FLATTEN_INDEX_VALUES": false,
              "GENERATE_DEX_METADATA": false,
              "HTML_TABLE_SCHEMA": false,
              "LOG_LEVEL": 30,
              "MAX_RENDER_SIZE_BYTES": 104857600,
              "MAX_STRING_LENGTH": 250,
              "NUM_PAST_SAMPLES_TRACKED": 3,
              "RANDOM_STATE": 12648430,
              "RESET_INDEX_VALUES": false,
              "ROW_SAMPLING_METHOD": "random",
              "SAMPLING_FACTOR": 0.1,
              "SAMPLING_METHOD": "random",
              "STRINGIFY_COLUMN_VALUES": true,
              "STRINGIFY_INDEX_VALUES": false
            },
            "sample_history": [],
            "sampling_time": "2023-10-26T22:20:36.789943",
            "user_variable_name": null,
            "variable_name": "unk_dataframe_b463e3d7069a465ea1c5ff6660929a88"
          }
        }
      },
      "execution_count": null,
      "source": "-- Execute this cell to return the list of tables\n-- and views within the default schema of this database\n-- (Use \\help to learn more options)\n\n\\list",
      "outputs": []
    },
    {
      "id": "f776eb8c-5e8c-4318-bfd1-a99975f1661e",
      "cell_type": "markdown",
      "source": "## List Tables in Data Nerd Jobs Database\nLet's find out what tables are available in the 'Data Nerd Jobs' BigQuery database.",
      "metadata": {
        "noteable": {
          "cell_type": "markdown"
        }
      }
    },
    {
      "id": "d986d438-792a-43ac-8a69-1e3ec57e4104",
      "cell_type": "code",
      "metadata": {
        "noteable": {
          "assign_results_to": "sql_df_szqu",
          "cell_type": "sql",
          "db_connection": "@5a5b9a444479436dbc1def18003d36d0",
          "output_collection_id": "170c65fa-f136-4b35-bba5-8da657dab152"
        },
        "ExecuteTime": {
          "end_time": "2023-10-26T22:22:47.267461+00:00",
          "start_time": "2023-10-26T22:22:47.046089+00:00"
        }
      },
      "execution_count": null,
      "source": "\\show tables",
      "outputs": []
    }
  ]
}