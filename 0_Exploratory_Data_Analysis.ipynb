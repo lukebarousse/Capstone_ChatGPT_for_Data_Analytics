{
  "nbformat": 4,
  "nbformat_minor": 5,
  "metadata": {
    "noteable-chatgpt": {
      "create_notebook": {
        "openai_conversation_id": "8c02b8a4-ecec-5722-9040-5eefa9555879",
        "openai_ephemeral_user_id": "1b442ed6-ab51-56e0-b3eb-b7780077db80",
        "openai_subdivision1_iso_code": "US-AR"
      }
    },
    "kernel_info": {
      "name": "python3"
    },
    "kernelspec": {
      "display_name": "Python 3.9",
      "identifier": "legacy",
      "language": "python",
      "language_version": "3.9",
      "name": "python3"
    },
    "selected_hardware_size": "small"
  },
  "cells": [
    {
      "id": "17037a4d-3940-48d0-af4b-1acfa0da2f21",
      "cell_type": "code",
      "metadata": {
        "jupyter": {
          "outputs_hidden": false,
          "source_hidden": false
        },
        "noteable": {
          "cell_type": "code"
        }
      },
      "execution_count": null,
      "source": "",
      "outputs": []
    },
    {
      "id": "bceb6cc1-dada-4d83-a4f7-50ec32e29b54",
      "cell_type": "markdown",
      "source": "## List Tables in Data Nerd Jobs Data Connection\nUsing the `\\list` command to explore the tables available in the 'Data Nerd Jobs' BigQuery data connection.",
      "metadata": {
        "noteable": {
          "cell_type": "markdown"
        }
      }
    },
    {
      "id": "901e5ab7-7e3e-4a1a-a613-d6ac862f325c",
      "cell_type": "code",
      "metadata": {
        "noteable": {
          "assign_results_to": "sql_df_hcln",
          "cell_type": "sql",
          "db_connection": "@5a5b9a444479436dbc1def18003d36d0",
          "output_collection_id": "74994d93-3695-4315-a820-165e49377395"
        },
        "ExecuteTime": {
          "end_time": "2023-10-27T15:47:45.445052+00:00",
          "start_time": "2023-10-27T15:47:43.710542+00:00"
        },
        "datalink": {
          "bf45de45-b210-45d6-85ff-28070a25c1aa": {
            "applied_filters": [],
            "dataframe_info": {
              "default_index_used": true,
              "orig_num_cols": 3,
              "orig_num_rows": 1,
              "orig_size_bytes": 32,
              "truncated_num_cols": 3,
              "truncated_num_rows": 1,
              "truncated_size_bytes": 32,
              "truncated_string_columns": []
            },
            "display_id": "bf45de45-b210-45d6-85ff-28070a25c1aa",
            "dx_settings": {
              "ALLOW_NOTEABLE_ATTRS": true,
              "COLUMN_SAMPLING_METHOD": "outer",
              "DB_LOCATION": ":memory:",
              "DEV_MODE": false,
              "DISPLAY_MAX_COLUMNS": 100,
              "DISPLAY_MAX_ROWS": 50000,
              "DISPLAY_MODE": "simple",
              "ENABLE_ASSIGNMENT": true,
              "ENABLE_DATALINK": true,
              "FLATTEN_COLUMN_VALUES": true,
              "FLATTEN_INDEX_VALUES": false,
              "GENERATE_DEX_METADATA": false,
              "HTML_TABLE_SCHEMA": false,
              "LOG_LEVEL": 30,
              "MAX_RENDER_SIZE_BYTES": 104857600,
              "MAX_STRING_LENGTH": 250,
              "NUM_PAST_SAMPLES_TRACKED": 3,
              "RANDOM_STATE": 12648430,
              "RESET_INDEX_VALUES": false,
              "ROW_SAMPLING_METHOD": "random",
              "SAMPLING_FACTOR": 0.1,
              "SAMPLING_METHOD": "random",
              "STRINGIFY_COLUMN_VALUES": true,
              "STRINGIFY_INDEX_VALUES": false
            },
            "sample_history": [],
            "sampling_time": "2023-10-27T15:47:45.283624",
            "user_variable_name": null,
            "variable_name": "unk_dataframe_fac1609fc818476fa94d16ac7c4ffd8d"
          }
        }
      },
      "execution_count": null,
      "source": "\\list",
      "outputs": []
    },
    {
      "id": "c8058106-4052-4368-8da5-431f7669a07f",
      "cell_type": "markdown",
      "source": "## Basic Statistics on data_nerd_jobs Table\nRunning a SQL query to fetch some basic statistics about the `data_nerd_jobs` table.",
      "metadata": {
        "noteable": {
          "cell_type": "markdown"
        }
      }
    },
    {
      "id": "bdc9e817-b8e1-43a3-ad02-89ff4f672a87",
      "cell_type": "code",
      "metadata": {
        "noteable": {
          "assign_results_to": "sql_df_rkrj",
          "cell_type": "sql",
          "db_connection": "@5a5b9a444479436dbc1def18003d36d0",
          "output_collection_id": "6626464a-3f1c-4b29-91bc-e3f4a8a6a69d"
        },
        "ExecuteTime": {
          "end_time": "2023-10-27T15:57:57.870097+00:00",
          "start_time": "2023-10-27T15:57:52.422930+00:00"
        },
        "datalink": {
          "76bb0bad-ab7e-4123-bfb9-0ae718b6c070": {
            "applied_filters": [],
            "dataframe_info": {
              "default_index_used": true,
              "orig_num_cols": 2,
              "orig_num_rows": 1,
              "orig_size_bytes": 24,
              "truncated_num_cols": 2,
              "truncated_num_rows": 1,
              "truncated_size_bytes": 24,
              "truncated_string_columns": []
            },
            "display_id": "76bb0bad-ab7e-4123-bfb9-0ae718b6c070",
            "dx_settings": {
              "ALLOW_NOTEABLE_ATTRS": true,
              "COLUMN_SAMPLING_METHOD": "outer",
              "DB_LOCATION": ":memory:",
              "DEV_MODE": false,
              "DISPLAY_MAX_COLUMNS": 100,
              "DISPLAY_MAX_ROWS": 50000,
              "DISPLAY_MODE": "simple",
              "ENABLE_ASSIGNMENT": true,
              "ENABLE_DATALINK": true,
              "FLATTEN_COLUMN_VALUES": true,
              "FLATTEN_INDEX_VALUES": false,
              "GENERATE_DEX_METADATA": false,
              "HTML_TABLE_SCHEMA": false,
              "LOG_LEVEL": 30,
              "MAX_RENDER_SIZE_BYTES": 104857600,
              "MAX_STRING_LENGTH": 250,
              "NUM_PAST_SAMPLES_TRACKED": 3,
              "RANDOM_STATE": 12648430,
              "RESET_INDEX_VALUES": false,
              "ROW_SAMPLING_METHOD": "random",
              "SAMPLING_FACTOR": 0.1,
              "SAMPLING_METHOD": "random",
              "STRINGIFY_COLUMN_VALUES": true,
              "STRINGIFY_INDEX_VALUES": false
            },
            "sample_history": [],
            "sampling_time": "2023-10-27T15:57:57.711913",
            "user_variable_name": "sql_df_rkrj",
            "variable_name": "sql_df_rkrj"
          }
        }
      },
      "execution_count": null,
      "source": "-- Corrected Query for Basic Statistics\nSELECT COUNT(*) as total_rows,\nCOUNT(DISTINCT job_id) as unique_jobs\nFROM public_job_listings.data_nerd_jobs",
      "outputs": []
    },
    {
      "id": "f6b2ea14-2d0b-4de5-a6f5-c400163a3b84",
      "cell_type": "code",
      "metadata": {
        "noteable": {
          "assign_results_to": "sql_df_pmyd",
          "cell_type": "sql",
          "db_connection": "@5a5b9a444479436dbc1def18003d36d0",
          "output_collection_id": "a5759ea5-7878-427d-96f7-b1cf45f26102"
        },
        "ExecuteTime": {
          "end_time": "2023-10-27T15:58:50.944779+00:00",
          "start_time": "2023-10-27T15:58:49.067944+00:00"
        },
        "datalink": {
          "c27b2264-8652-4c7a-9ea8-6ad62bdc2f60": {
            "applied_filters": [],
            "dataframe_info": {
              "default_index_used": true,
              "orig_num_cols": 45,
              "orig_num_rows": 1,
              "orig_size_bytes": 354,
              "truncated_num_cols": 45,
              "truncated_num_rows": 1,
              "truncated_size_bytes": 354,
              "truncated_string_columns": [
                "job_id",
                "job_description"
              ]
            },
            "display_id": "c27b2264-8652-4c7a-9ea8-6ad62bdc2f60",
            "dx_settings": {
              "ALLOW_NOTEABLE_ATTRS": true,
              "COLUMN_SAMPLING_METHOD": "outer",
              "DB_LOCATION": ":memory:",
              "DEV_MODE": false,
              "DISPLAY_MAX_COLUMNS": 100,
              "DISPLAY_MAX_ROWS": 50000,
              "DISPLAY_MODE": "simple",
              "ENABLE_ASSIGNMENT": true,
              "ENABLE_DATALINK": true,
              "FLATTEN_COLUMN_VALUES": true,
              "FLATTEN_INDEX_VALUES": false,
              "GENERATE_DEX_METADATA": false,
              "HTML_TABLE_SCHEMA": false,
              "LOG_LEVEL": 30,
              "MAX_RENDER_SIZE_BYTES": 104857600,
              "MAX_STRING_LENGTH": 250,
              "NUM_PAST_SAMPLES_TRACKED": 3,
              "RANDOM_STATE": 12648430,
              "RESET_INDEX_VALUES": false,
              "ROW_SAMPLING_METHOD": "random",
              "SAMPLING_FACTOR": 0.1,
              "SAMPLING_METHOD": "random",
              "STRINGIFY_COLUMN_VALUES": true,
              "STRINGIFY_INDEX_VALUES": false
            },
            "sample_history": [],
            "sampling_time": "2023-10-27T15:58:50.771627",
            "user_variable_name": "sql_df_jvgj",
            "variable_name": "sql_df_jvgj"
          }
        }
      },
      "execution_count": null,
      "source": "SELECT *\nFROM public_job_listings.data_nerd_jobs\nLIMIT 1",
      "outputs": []
    }
  ]
}