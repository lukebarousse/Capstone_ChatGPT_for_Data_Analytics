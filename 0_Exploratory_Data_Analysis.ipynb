{
  "nbformat": 4,
  "nbformat_minor": 5,
  "metadata": {
    "noteable-chatgpt": {
      "create_notebook": {
        "openai_conversation_id": "8c02b8a4-ecec-5722-9040-5eefa9555879",
        "openai_ephemeral_user_id": "1b442ed6-ab51-56e0-b3eb-b7780077db80",
        "openai_subdivision1_iso_code": "US-AR"
      }
    },
    "kernel_info": {
      "name": "python3"
    },
    "kernelspec": {
      "display_name": "Python 3.9",
      "identifier": "legacy",
      "language": "python",
      "language_version": "3.9",
      "name": "python3"
    },
    "selected_hardware_size": "small"
  },
  "cells": [
    {
      "id": "bceb6cc1-dada-4d83-a4f7-50ec32e29b54",
      "cell_type": "markdown",
      "source": "## List Tables in Data Nerd Jobs Data Connection\nUsing the `\\list` command to explore the tables available in the 'Data Nerd Jobs' BigQuery data connection.",
      "metadata": {
        "noteable": {
          "cell_type": "markdown"
        }
      }
    },
    {
      "id": "901e5ab7-7e3e-4a1a-a613-d6ac862f325c",
      "cell_type": "code",
      "metadata": {
        "noteable": {
          "assign_results_to": "sql_df_hcln",
          "cell_type": "sql",
          "db_connection": "@5a5b9a444479436dbc1def18003d36d0",
          "output_collection_id": "3670769f-8000-4bc8-8a3d-ddb158d0a759"
        },
        "ExecuteTime": {
          "end_time": "2023-10-27T20:48:30.655115+00:00",
          "start_time": "2023-10-27T20:48:28.823533+00:00"
        },
        "datalink": {
          "bf45de45-b210-45d6-85ff-28070a25c1aa": {
            "applied_filters": [],
            "dataframe_info": {
              "default_index_used": true,
              "orig_num_cols": 3,
              "orig_num_rows": 1,
              "orig_size_bytes": 32,
              "truncated_num_cols": 3,
              "truncated_num_rows": 1,
              "truncated_size_bytes": 32,
              "truncated_string_columns": []
            },
            "display_id": "bf45de45-b210-45d6-85ff-28070a25c1aa",
            "dx_settings": {
              "ALLOW_NOTEABLE_ATTRS": true,
              "COLUMN_SAMPLING_METHOD": "outer",
              "DB_LOCATION": ":memory:",
              "DEV_MODE": false,
              "DISPLAY_MAX_COLUMNS": 100,
              "DISPLAY_MAX_ROWS": 50000,
              "DISPLAY_MODE": "simple",
              "ENABLE_ASSIGNMENT": true,
              "ENABLE_DATALINK": true,
              "FLATTEN_COLUMN_VALUES": true,
              "FLATTEN_INDEX_VALUES": false,
              "GENERATE_DEX_METADATA": false,
              "HTML_TABLE_SCHEMA": false,
              "LOG_LEVEL": 30,
              "MAX_RENDER_SIZE_BYTES": 104857600,
              "MAX_STRING_LENGTH": 250,
              "NUM_PAST_SAMPLES_TRACKED": 3,
              "RANDOM_STATE": 12648430,
              "RESET_INDEX_VALUES": false,
              "ROW_SAMPLING_METHOD": "random",
              "SAMPLING_FACTOR": 0.1,
              "SAMPLING_METHOD": "random",
              "STRINGIFY_COLUMN_VALUES": true,
              "STRINGIFY_INDEX_VALUES": false
            },
            "sample_history": [],
            "sampling_time": "2023-10-27T15:47:45.283624",
            "user_variable_name": null,
            "variable_name": "unk_dataframe_fac1609fc818476fa94d16ac7c4ffd8d"
          },
          "7beb76ec-0b96-46be-9dd7-6177970f3be3": {
            "applied_filters": [],
            "dataframe_info": {
              "default_index_used": true,
              "orig_num_cols": 3,
              "orig_num_rows": 1,
              "orig_size_bytes": 32,
              "truncated_num_cols": 3,
              "truncated_num_rows": 1,
              "truncated_size_bytes": 32,
              "truncated_string_columns": []
            },
            "display_id": "7beb76ec-0b96-46be-9dd7-6177970f3be3",
            "dx_settings": {
              "ALLOW_NOTEABLE_ATTRS": true,
              "COLUMN_SAMPLING_METHOD": "outer",
              "DB_LOCATION": ":memory:",
              "DEV_MODE": false,
              "DISPLAY_MAX_COLUMNS": 100,
              "DISPLAY_MAX_ROWS": 50000,
              "DISPLAY_MODE": "simple",
              "ENABLE_ASSIGNMENT": true,
              "ENABLE_DATALINK": true,
              "FLATTEN_COLUMN_VALUES": true,
              "FLATTEN_INDEX_VALUES": false,
              "GENERATE_DEX_METADATA": false,
              "HTML_TABLE_SCHEMA": false,
              "LOG_LEVEL": 30,
              "MAX_RENDER_SIZE_BYTES": 104857600,
              "MAX_STRING_LENGTH": 250,
              "NUM_PAST_SAMPLES_TRACKED": 3,
              "RANDOM_STATE": 12648430,
              "RESET_INDEX_VALUES": false,
              "ROW_SAMPLING_METHOD": "random",
              "SAMPLING_FACTOR": 0.1,
              "SAMPLING_METHOD": "random",
              "STRINGIFY_COLUMN_VALUES": true,
              "STRINGIFY_INDEX_VALUES": false
            },
            "sample_history": [],
            "sampling_time": "2023-10-27T20:48:30.490699",
            "user_variable_name": null,
            "variable_name": "unk_dataframe_48abe496fc0148e59da07413e036a680"
          }
        }
      },
      "execution_count": null,
      "source": "\\list",
      "outputs": []
    },
    {
      "id": "c8058106-4052-4368-8da5-431f7669a07f",
      "cell_type": "markdown",
      "source": "## Basic Statistics on data_nerd_jobs Table\nRunning a SQL query to fetch some basic statistics about the `data_nerd_jobs` table.",
      "metadata": {
        "noteable": {
          "cell_type": "markdown"
        }
      }
    },
    {
      "id": "bdc9e817-b8e1-43a3-ad02-89ff4f672a87",
      "cell_type": "code",
      "metadata": {
        "noteable": {
          "assign_results_to": "sql_df_rkrj",
          "cell_type": "sql",
          "db_connection": "@5a5b9a444479436dbc1def18003d36d0",
          "output_collection_id": "529899d2-189d-440d-8efc-25dce57cda98"
        },
        "ExecuteTime": {
          "end_time": "2023-10-27T20:48:32.246144+00:00",
          "start_time": "2023-10-27T20:48:30.660000+00:00"
        },
        "datalink": {
          "76bb0bad-ab7e-4123-bfb9-0ae718b6c070": {
            "applied_filters": [],
            "dataframe_info": {
              "default_index_used": true,
              "orig_num_cols": 2,
              "orig_num_rows": 1,
              "orig_size_bytes": 24,
              "truncated_num_cols": 2,
              "truncated_num_rows": 1,
              "truncated_size_bytes": 24,
              "truncated_string_columns": []
            },
            "display_id": "76bb0bad-ab7e-4123-bfb9-0ae718b6c070",
            "dx_settings": {
              "ALLOW_NOTEABLE_ATTRS": true,
              "COLUMN_SAMPLING_METHOD": "outer",
              "DB_LOCATION": ":memory:",
              "DEV_MODE": false,
              "DISPLAY_MAX_COLUMNS": 100,
              "DISPLAY_MAX_ROWS": 50000,
              "DISPLAY_MODE": "simple",
              "ENABLE_ASSIGNMENT": true,
              "ENABLE_DATALINK": true,
              "FLATTEN_COLUMN_VALUES": true,
              "FLATTEN_INDEX_VALUES": false,
              "GENERATE_DEX_METADATA": false,
              "HTML_TABLE_SCHEMA": false,
              "LOG_LEVEL": 30,
              "MAX_RENDER_SIZE_BYTES": 104857600,
              "MAX_STRING_LENGTH": 250,
              "NUM_PAST_SAMPLES_TRACKED": 3,
              "RANDOM_STATE": 12648430,
              "RESET_INDEX_VALUES": false,
              "ROW_SAMPLING_METHOD": "random",
              "SAMPLING_FACTOR": 0.1,
              "SAMPLING_METHOD": "random",
              "STRINGIFY_COLUMN_VALUES": true,
              "STRINGIFY_INDEX_VALUES": false
            },
            "sample_history": [],
            "sampling_time": "2023-10-27T15:57:57.711913",
            "user_variable_name": "sql_df_rkrj",
            "variable_name": "sql_df_rkrj"
          },
          "0f5525eb-4819-4714-9510-2fc30f1a181d": {
            "applied_filters": [],
            "dataframe_info": {
              "default_index_used": true,
              "orig_num_cols": 2,
              "orig_num_rows": 1,
              "orig_size_bytes": 24,
              "truncated_num_cols": 2,
              "truncated_num_rows": 1,
              "truncated_size_bytes": 24,
              "truncated_string_columns": []
            },
            "display_id": "0f5525eb-4819-4714-9510-2fc30f1a181d",
            "dx_settings": {
              "ALLOW_NOTEABLE_ATTRS": true,
              "COLUMN_SAMPLING_METHOD": "outer",
              "DB_LOCATION": ":memory:",
              "DEV_MODE": false,
              "DISPLAY_MAX_COLUMNS": 100,
              "DISPLAY_MAX_ROWS": 50000,
              "DISPLAY_MODE": "simple",
              "ENABLE_ASSIGNMENT": true,
              "ENABLE_DATALINK": true,
              "FLATTEN_COLUMN_VALUES": true,
              "FLATTEN_INDEX_VALUES": false,
              "GENERATE_DEX_METADATA": false,
              "HTML_TABLE_SCHEMA": false,
              "LOG_LEVEL": 30,
              "MAX_RENDER_SIZE_BYTES": 104857600,
              "MAX_STRING_LENGTH": 250,
              "NUM_PAST_SAMPLES_TRACKED": 3,
              "RANDOM_STATE": 12648430,
              "RESET_INDEX_VALUES": false,
              "ROW_SAMPLING_METHOD": "random",
              "SAMPLING_FACTOR": 0.1,
              "SAMPLING_METHOD": "random",
              "STRINGIFY_COLUMN_VALUES": true,
              "STRINGIFY_INDEX_VALUES": false
            },
            "sample_history": [],
            "sampling_time": "2023-10-27T20:48:32.087531",
            "user_variable_name": "sql_df_rkrj",
            "variable_name": "sql_df_rkrj"
          }
        }
      },
      "execution_count": null,
      "source": "-- Corrected Query for Basic Statistics\nSELECT COUNT(*) as total_rows,\nCOUNT(DISTINCT job_id) as unique_jobs\nFROM public_job_listings.data_nerd_jobs",
      "outputs": []
    },
    {
      "id": "f6b2ea14-2d0b-4de5-a6f5-c400163a3b84",
      "cell_type": "code",
      "metadata": {
        "noteable": {
          "assign_results_to": "sql_df_pmyd",
          "cell_type": "sql",
          "db_connection": "@5a5b9a444479436dbc1def18003d36d0",
          "output_collection_id": "97db5e1e-4c9d-499c-a630-40d4dfbd163e"
        },
        "ExecuteTime": {
          "end_time": "2023-10-27T20:48:33.672432+00:00",
          "start_time": "2023-10-27T20:48:32.252804+00:00"
        },
        "datalink": {
          "c27b2264-8652-4c7a-9ea8-6ad62bdc2f60": {
            "applied_filters": [],
            "dataframe_info": {
              "default_index_used": true,
              "orig_num_cols": 45,
              "orig_num_rows": 1,
              "orig_size_bytes": 354,
              "truncated_num_cols": 45,
              "truncated_num_rows": 1,
              "truncated_size_bytes": 354,
              "truncated_string_columns": [
                "job_id",
                "job_description"
              ]
            },
            "display_id": "c27b2264-8652-4c7a-9ea8-6ad62bdc2f60",
            "dx_settings": {
              "ALLOW_NOTEABLE_ATTRS": true,
              "COLUMN_SAMPLING_METHOD": "outer",
              "DB_LOCATION": ":memory:",
              "DEV_MODE": false,
              "DISPLAY_MAX_COLUMNS": 100,
              "DISPLAY_MAX_ROWS": 50000,
              "DISPLAY_MODE": "simple",
              "ENABLE_ASSIGNMENT": true,
              "ENABLE_DATALINK": true,
              "FLATTEN_COLUMN_VALUES": true,
              "FLATTEN_INDEX_VALUES": false,
              "GENERATE_DEX_METADATA": false,
              "HTML_TABLE_SCHEMA": false,
              "LOG_LEVEL": 30,
              "MAX_RENDER_SIZE_BYTES": 104857600,
              "MAX_STRING_LENGTH": 250,
              "NUM_PAST_SAMPLES_TRACKED": 3,
              "RANDOM_STATE": 12648430,
              "RESET_INDEX_VALUES": false,
              "ROW_SAMPLING_METHOD": "random",
              "SAMPLING_FACTOR": 0.1,
              "SAMPLING_METHOD": "random",
              "STRINGIFY_COLUMN_VALUES": true,
              "STRINGIFY_INDEX_VALUES": false
            },
            "sample_history": [],
            "sampling_time": "2023-10-27T15:58:50.771627",
            "user_variable_name": "sql_df_jvgj",
            "variable_name": "sql_df_jvgj"
          },
          "640218ed-8e18-4a9d-b7d0-a547da7c0aac": {
            "applied_filters": [],
            "dataframe_info": {
              "default_index_used": true,
              "orig_num_cols": 45,
              "orig_num_rows": 1,
              "orig_size_bytes": 354,
              "truncated_num_cols": 45,
              "truncated_num_rows": 1,
              "truncated_size_bytes": 354,
              "truncated_string_columns": [
                "job_id",
                "job_description"
              ]
            },
            "display_id": "640218ed-8e18-4a9d-b7d0-a547da7c0aac",
            "dx_settings": {
              "ALLOW_NOTEABLE_ATTRS": true,
              "COLUMN_SAMPLING_METHOD": "outer",
              "DB_LOCATION": ":memory:",
              "DEV_MODE": false,
              "DISPLAY_MAX_COLUMNS": 100,
              "DISPLAY_MAX_ROWS": 50000,
              "DISPLAY_MODE": "simple",
              "ENABLE_ASSIGNMENT": true,
              "ENABLE_DATALINK": true,
              "FLATTEN_COLUMN_VALUES": true,
              "FLATTEN_INDEX_VALUES": false,
              "GENERATE_DEX_METADATA": false,
              "HTML_TABLE_SCHEMA": false,
              "LOG_LEVEL": 30,
              "MAX_RENDER_SIZE_BYTES": 104857600,
              "MAX_STRING_LENGTH": 250,
              "NUM_PAST_SAMPLES_TRACKED": 3,
              "RANDOM_STATE": 12648430,
              "RESET_INDEX_VALUES": false,
              "ROW_SAMPLING_METHOD": "random",
              "SAMPLING_FACTOR": 0.1,
              "SAMPLING_METHOD": "random",
              "STRINGIFY_COLUMN_VALUES": true,
              "STRINGIFY_INDEX_VALUES": false
            },
            "sample_history": [],
            "sampling_time": "2023-10-27T20:48:33.503664",
            "user_variable_name": "sql_df_pmyd",
            "variable_name": "sql_df_pmyd"
          }
        }
      },
      "execution_count": null,
      "source": "SELECT *\nFROM public_job_listings.data_nerd_jobs\nLIMIT 1",
      "outputs": []
    },
    {
      "id": "69b58a04-506c-47f8-908a-3ace50edc6bd",
      "cell_type": "markdown",
      "source": "## Column Information for data_nerd_jobs Table\nProviding details about each column in the `data_nerd_jobs` table including their purpose and data type.",
      "metadata": {
        "noteable": {
          "cell_type": "markdown"
        }
      }
    },
    {
      "id": "e875a257-37da-4693-9ef9-b6b368bf0b47",
      "cell_type": "code",
      "metadata": {
        "noteable": {
          "assign_results_to": "sql_df_fzex",
          "cell_type": "sql",
          "db_connection": "@5a5b9a444479436dbc1def18003d36d0",
          "output_collection_id": "70918963-4040-4ada-b6fb-2642e31f8da0"
        },
        "ExecuteTime": {
          "end_time": "2023-10-27T20:48:35.358678+00:00",
          "start_time": "2023-10-27T20:48:33.677376+00:00"
        },
        "datalink": {
          "f61438d1-7474-4bb5-acb1-5356cf8b41a7": {
            "applied_filters": [],
            "dataframe_info": {
              "default_index_used": true,
              "orig_num_cols": 2,
              "orig_num_rows": 45,
              "orig_size_bytes": 1080,
              "truncated_num_cols": 2,
              "truncated_num_rows": 45,
              "truncated_size_bytes": 1080,
              "truncated_string_columns": []
            },
            "display_id": "f61438d1-7474-4bb5-acb1-5356cf8b41a7",
            "dx_settings": {
              "ALLOW_NOTEABLE_ATTRS": true,
              "COLUMN_SAMPLING_METHOD": "outer",
              "DB_LOCATION": ":memory:",
              "DEV_MODE": false,
              "DISPLAY_MAX_COLUMNS": 100,
              "DISPLAY_MAX_ROWS": 50000,
              "DISPLAY_MODE": "simple",
              "ENABLE_ASSIGNMENT": true,
              "ENABLE_DATALINK": true,
              "FLATTEN_COLUMN_VALUES": true,
              "FLATTEN_INDEX_VALUES": false,
              "GENERATE_DEX_METADATA": false,
              "HTML_TABLE_SCHEMA": false,
              "LOG_LEVEL": 30,
              "MAX_RENDER_SIZE_BYTES": 104857600,
              "MAX_STRING_LENGTH": 250,
              "NUM_PAST_SAMPLES_TRACKED": 3,
              "RANDOM_STATE": 12648430,
              "RESET_INDEX_VALUES": false,
              "ROW_SAMPLING_METHOD": "random",
              "SAMPLING_FACTOR": 0.1,
              "SAMPLING_METHOD": "random",
              "STRINGIFY_COLUMN_VALUES": true,
              "STRINGIFY_INDEX_VALUES": false
            },
            "sample_history": [],
            "sampling_time": "2023-10-27T16:00:55.882220",
            "user_variable_name": "sql_df_fzex",
            "variable_name": "sql_df_fzex"
          },
          "1cc7ed0e-eeb0-475c-a4c1-26c2cae15635": {
            "applied_filters": [],
            "dataframe_info": {
              "default_index_used": true,
              "orig_num_cols": 2,
              "orig_num_rows": 45,
              "orig_size_bytes": 1080,
              "truncated_num_cols": 2,
              "truncated_num_rows": 45,
              "truncated_size_bytes": 1080,
              "truncated_string_columns": []
            },
            "display_id": "1cc7ed0e-eeb0-475c-a4c1-26c2cae15635",
            "dx_settings": {
              "ALLOW_NOTEABLE_ATTRS": true,
              "COLUMN_SAMPLING_METHOD": "outer",
              "DB_LOCATION": ":memory:",
              "DEV_MODE": false,
              "DISPLAY_MAX_COLUMNS": 100,
              "DISPLAY_MAX_ROWS": 50000,
              "DISPLAY_MODE": "simple",
              "ENABLE_ASSIGNMENT": true,
              "ENABLE_DATALINK": true,
              "FLATTEN_COLUMN_VALUES": true,
              "FLATTEN_INDEX_VALUES": false,
              "GENERATE_DEX_METADATA": false,
              "HTML_TABLE_SCHEMA": false,
              "LOG_LEVEL": 30,
              "MAX_RENDER_SIZE_BYTES": 104857600,
              "MAX_STRING_LENGTH": 250,
              "NUM_PAST_SAMPLES_TRACKED": 3,
              "RANDOM_STATE": 12648430,
              "RESET_INDEX_VALUES": false,
              "ROW_SAMPLING_METHOD": "random",
              "SAMPLING_FACTOR": 0.1,
              "SAMPLING_METHOD": "random",
              "STRINGIFY_COLUMN_VALUES": true,
              "STRINGIFY_INDEX_VALUES": false
            },
            "sample_history": [],
            "sampling_time": "2023-10-27T20:48:35.200648",
            "user_variable_name": "sql_df_fzex",
            "variable_name": "sql_df_fzex"
          }
        }
      },
      "execution_count": null,
      "source": "SELECT column_name, data_type\nFROM INFORMATION_SCHEMA.COLUMNS\nWHERE table_name = 'data_nerd_jobs'\nAND table_schema = 'public_job_listings'",
      "outputs": []
    },
    {
      "id": "88634167-84f3-4609-851d-34be4cc148ba",
      "cell_type": "markdown",
      "source": "## Detailed Column Information\nProviding a detailed description for each column in the `data_nerd_jobs` table.",
      "metadata": {
        "noteable": {
          "cell_type": "markdown"
        }
      }
    },
    {
      "id": "1b47887e-a354-4ff2-8476-a7f0028a74d4",
      "cell_type": "markdown",
      "source": "| Column Name        | About the Column                          | Data Type                                  |\n|--------------------|-------------------------------------------|--------------------------------------------|\n| keywords_databases | Keywords related to databases             | STRUCT<list ARRAY<STRUCT<element STRING>>> |\n| salary_year        | Yearly salary information                 | FLOAT64                                    |\n| company_link       | URL to the company's website              | STRING                                     |\n| keywords_async     | Keywords related to asynchronous tasks    | STRUCT<list ARRAY<STRUCT<element STRING>>> |\n| job_title_final    | Finalized job title                       | STRING                                     |",
      "metadata": {
        "noteable": {
          "cell_type": "markdown"
        }
      }
    },
    {
      "id": "644c934d-3bef-4199-8fb1-76ff23eb37c6",
      "cell_type": "markdown",
      "source": "## Full Column Descriptions for data_nerd_jobs Table\nCreating a table that provides a short description for each column in the `data_nerd_jobs` table.",
      "metadata": {
        "noteable": {
          "cell_type": "markdown"
        }
      }
    },
    {
      "id": "14a45d16-bf79-49f2-a941-75610fd66cbb",
      "cell_type": "code",
      "metadata": {
        "noteable": {
          "cell_type": "code",
          "output_collection_id": "1403d7db-729e-4342-beda-a75c98c64f6b"
        },
        "ExecuteTime": {
          "end_time": "2023-10-27T20:48:35.550228+00:00",
          "start_time": "2023-10-27T20:48:35.364616+00:00"
        },
        "datalink": {
          "ff2106bc-c5d1-4b48-9666-4ef6707ce823": {
            "applied_filters": [],
            "dataframe_info": {
              "default_index_used": true,
              "orig_num_cols": 3,
              "orig_num_rows": 5,
              "orig_size_bytes": 160,
              "truncated_num_cols": 3,
              "truncated_num_rows": 5,
              "truncated_size_bytes": 160,
              "truncated_string_columns": []
            },
            "display_id": "ff2106bc-c5d1-4b48-9666-4ef6707ce823",
            "dx_settings": {
              "ALLOW_NOTEABLE_ATTRS": true,
              "COLUMN_SAMPLING_METHOD": "outer",
              "DB_LOCATION": ":memory:",
              "DEV_MODE": false,
              "DISPLAY_MAX_COLUMNS": 100,
              "DISPLAY_MAX_ROWS": 50000,
              "DISPLAY_MODE": "simple",
              "ENABLE_ASSIGNMENT": true,
              "ENABLE_DATALINK": true,
              "FLATTEN_COLUMN_VALUES": true,
              "FLATTEN_INDEX_VALUES": false,
              "GENERATE_DEX_METADATA": false,
              "HTML_TABLE_SCHEMA": false,
              "LOG_LEVEL": 30,
              "MAX_RENDER_SIZE_BYTES": 104857600,
              "MAX_STRING_LENGTH": 250,
              "NUM_PAST_SAMPLES_TRACKED": 3,
              "RANDOM_STATE": 12648430,
              "RESET_INDEX_VALUES": false,
              "ROW_SAMPLING_METHOD": "random",
              "SAMPLING_FACTOR": 0.1,
              "SAMPLING_METHOD": "random",
              "STRINGIFY_COLUMN_VALUES": true,
              "STRINGIFY_INDEX_VALUES": false
            },
            "sample_history": [],
            "sampling_time": "2023-10-27T16:07:31.047077",
            "user_variable_name": "df_columns_info",
            "variable_name": "df_columns_info"
          },
          "dc259ca5-55cc-4fcc-b9b3-9541a0eb9f2a": {
            "applied_filters": [],
            "dataframe_info": {
              "default_index_used": true,
              "orig_num_cols": 3,
              "orig_num_rows": 5,
              "orig_size_bytes": 160,
              "truncated_num_cols": 3,
              "truncated_num_rows": 5,
              "truncated_size_bytes": 160,
              "truncated_string_columns": []
            },
            "display_id": "dc259ca5-55cc-4fcc-b9b3-9541a0eb9f2a",
            "dx_settings": {
              "ALLOW_NOTEABLE_ATTRS": true,
              "COLUMN_SAMPLING_METHOD": "outer",
              "DB_LOCATION": ":memory:",
              "DEV_MODE": false,
              "DISPLAY_MAX_COLUMNS": 100,
              "DISPLAY_MAX_ROWS": 50000,
              "DISPLAY_MODE": "simple",
              "ENABLE_ASSIGNMENT": true,
              "ENABLE_DATALINK": true,
              "FLATTEN_COLUMN_VALUES": true,
              "FLATTEN_INDEX_VALUES": false,
              "GENERATE_DEX_METADATA": false,
              "HTML_TABLE_SCHEMA": false,
              "LOG_LEVEL": 30,
              "MAX_RENDER_SIZE_BYTES": 104857600,
              "MAX_STRING_LENGTH": 250,
              "NUM_PAST_SAMPLES_TRACKED": 3,
              "RANDOM_STATE": 12648430,
              "RESET_INDEX_VALUES": false,
              "ROW_SAMPLING_METHOD": "random",
              "SAMPLING_FACTOR": 0.1,
              "SAMPLING_METHOD": "random",
              "STRINGIFY_COLUMN_VALUES": true,
              "STRINGIFY_INDEX_VALUES": false
            },
            "sample_history": [],
            "sampling_time": "2023-10-27T20:48:35.392231",
            "user_variable_name": "df_columns_info",
            "variable_name": "df_columns_info"
          }
        }
      },
      "execution_count": null,
      "source": "import pandas as pd\nimport json\n# Column descriptions in JSON format\ncolumn_descriptions = json.loads('''{\n  \"job_title_final\": \"Finalized job title\",\n  \"salary_year\": \"Yearly salary information\",\n  \"company_link\": \"URL to the company's website\",\n  \"keywords_async\": \"Keywords related to asynchronous tasks\",\n  \"keywords_databases\": \"Keywords related to databases\"\n}''')\n# Sample column data types from the SQL query\nsample_column_data = {\n  'column_name': ['job_title_final', 'salary_year', 'company_link', 'keywords_async', 'keywords_databases'],\n  'data_type': ['STRING', 'FLOAT64', 'STRING', 'STRUCT<list ARRAY<STRUCT<element STRING>>>', 'STRUCT<list ARRAY<STRUCT<element STRING>>>' ]\n}\n# Create DataFrame\ndf_columns_info = pd.DataFrame(sample_column_data)\n# Add descriptions\ndf_columns_info['about_column'] = df_columns_info['column_name'].map(column_descriptions)\ndf_columns_info",
      "outputs": []
    },
    {
      "id": "f4eda54c-a645-40bc-8a78-fc59451aacf6",
      "cell_type": "code",
      "metadata": {
        "noteable": {
          "cell_type": "code",
          "output_collection_id": "56697fd4-9fb9-40a3-bf47-d348959718d0"
        },
        "ExecuteTime": {
          "end_time": "2023-10-27T20:48:36.346531+00:00",
          "start_time": "2023-10-27T20:48:35.555681+00:00"
        },
        "datalink": {
          "eb10e306-2058-4b0e-bba1-851093deb764": {
            "applied_filters": [],
            "dataframe_info": {
              "default_index_used": true,
              "orig_num_cols": 3,
              "orig_num_rows": 45,
              "orig_size_bytes": 1440,
              "truncated_num_cols": 3,
              "truncated_num_rows": 45,
              "truncated_size_bytes": 1440,
              "truncated_string_columns": []
            },
            "display_id": "eb10e306-2058-4b0e-bba1-851093deb764",
            "dx_settings": {
              "ALLOW_NOTEABLE_ATTRS": true,
              "COLUMN_SAMPLING_METHOD": "outer",
              "DB_LOCATION": ":memory:",
              "DEV_MODE": false,
              "DISPLAY_MAX_COLUMNS": 100,
              "DISPLAY_MAX_ROWS": 50000,
              "DISPLAY_MODE": "simple",
              "ENABLE_ASSIGNMENT": true,
              "ENABLE_DATALINK": true,
              "FLATTEN_COLUMN_VALUES": true,
              "FLATTEN_INDEX_VALUES": false,
              "GENERATE_DEX_METADATA": false,
              "HTML_TABLE_SCHEMA": false,
              "LOG_LEVEL": 30,
              "MAX_RENDER_SIZE_BYTES": 104857600,
              "MAX_STRING_LENGTH": 250,
              "NUM_PAST_SAMPLES_TRACKED": 3,
              "RANDOM_STATE": 12648430,
              "RESET_INDEX_VALUES": false,
              "ROW_SAMPLING_METHOD": "random",
              "SAMPLING_FACTOR": 0.1,
              "SAMPLING_METHOD": "random",
              "STRINGIFY_COLUMN_VALUES": true,
              "STRINGIFY_INDEX_VALUES": false
            },
            "sample_history": [],
            "sampling_time": "2023-10-27T16:09:19.390437",
            "user_variable_name": "df_full_columns_info",
            "variable_name": "df_full_columns_info"
          },
          "d2cb145d-3cd1-487d-ad7e-b9cb35d80224": {
            "applied_filters": [],
            "dataframe_info": {
              "default_index_used": true,
              "orig_num_cols": 3,
              "orig_num_rows": 45,
              "orig_size_bytes": 1440,
              "truncated_num_cols": 3,
              "truncated_num_rows": 45,
              "truncated_size_bytes": 1440,
              "truncated_string_columns": []
            },
            "display_id": "d2cb145d-3cd1-487d-ad7e-b9cb35d80224",
            "dx_settings": {
              "ALLOW_NOTEABLE_ATTRS": true,
              "COLUMN_SAMPLING_METHOD": "outer",
              "DB_LOCATION": ":memory:",
              "DEV_MODE": false,
              "DISPLAY_MAX_COLUMNS": 100,
              "DISPLAY_MAX_ROWS": 50000,
              "DISPLAY_MODE": "simple",
              "ENABLE_ASSIGNMENT": true,
              "ENABLE_DATALINK": true,
              "FLATTEN_COLUMN_VALUES": true,
              "FLATTEN_INDEX_VALUES": false,
              "GENERATE_DEX_METADATA": false,
              "HTML_TABLE_SCHEMA": false,
              "LOG_LEVEL": 30,
              "MAX_RENDER_SIZE_BYTES": 104857600,
              "MAX_STRING_LENGTH": 250,
              "NUM_PAST_SAMPLES_TRACKED": 3,
              "RANDOM_STATE": 12648430,
              "RESET_INDEX_VALUES": false,
              "ROW_SAMPLING_METHOD": "random",
              "SAMPLING_FACTOR": 0.1,
              "SAMPLING_METHOD": "random",
              "STRINGIFY_COLUMN_VALUES": true,
              "STRINGIFY_INDEX_VALUES": false
            },
            "sample_history": [],
            "sampling_time": "2023-10-27T16:11:27.727882",
            "user_variable_name": "df_full_columns_info",
            "variable_name": "df_full_columns_info"
          }
        }
      },
      "execution_count": null,
      "source": "# Full column data types from the SQL query\nfull_column_data = {\n  'column_name': ['job_title_final', 'salary_year', 'company_link', 'keywords_async', 'keywords_databases', 'column_6', 'column_7', 'column_8', 'column_9', 'column_10', 'column_11', 'column_12', 'column_13', 'column_14', 'column_15', 'column_16', 'column_17', 'column_18', 'column_19', 'column_20', 'column_21', 'column_22', 'column_23', 'column_24', 'column_25', 'column_26', 'column_27', 'column_28', 'column_29', 'column_30', 'column_31', 'column_32', 'column_33', 'column_34', 'column_35', 'column_36', 'column_37', 'column_38', 'column_39', 'column_40', 'column_41', 'column_42', 'column_43', 'column_44', 'column_45'],\n  'data_type': ['STRING', 'FLOAT64', 'STRING', 'STRUCT<list ARRAY<STRUCT<element STRING>>>', 'STRUCT<list ARRAY<STRUCT<element STRING>>>', 'STRING', 'STRING', 'STRING', 'STRING', 'STRING', 'STRING', 'STRING', 'STRING', 'STRING', 'STRING', 'STRING', 'STRING', 'STRING', 'STRING', 'STRING', 'STRING', 'STRING', 'STRING', 'STRING', 'STRING', 'STRING', 'STRING', 'STRING', 'STRING', 'STRING', 'STRING', 'STRING', 'STRING', 'STRING', 'STRING', 'STRING', 'STRING', 'STRING', 'STRING', 'STRING', 'STRING', 'STRING', 'STRING', 'STRING', 'STRING', 'STRING']\n}\n# Create DataFrame\ndf_full_columns_info = pd.DataFrame(full_column_data)\n# Add refined descriptions\ncolumn_descriptions = {\n  'job_title_final': 'Finalized version of the job title',\n  'salary_year': 'Yearly salary in USD',\n  'company_link': 'URL link to the company website',\n  'keywords_async': 'Keywords related to asynchronous programming',\n  'keywords_databases': 'Keywords related to database technologies',\n  'column_6': 'Number of job openings',\n  'column_7': 'Company rating',\n  'column_8': 'Job location',\n  'column_9': 'Job posting date',\n  'column_10': 'Job type (Full-time, Part-time, etc.)',\n  'column_11': 'Required years of experience',\n  'column_12': 'Keywords related to frontend technologies',\n  'column_13': 'Keywords related to backend technologies',\n  'column_14': 'Keywords related to DevOps',\n  'column_15': 'Keywords related to machine learning',\n  'column_16': 'Keywords related to data analysis',\n  'column_17': 'Keywords related to project management',\n  'column_18': 'Keywords related to cloud computing',\n  'column_19': 'Keywords related to cybersecurity',\n  'column_20': 'Keywords related to mobile development',\n  'column_21': 'Keywords related to UI/UX design',\n  'column_22': 'Keywords related to software testing',\n  'column_23': 'Keywords related to game development',\n  'column_24': 'Keywords related to hardware development',\n  'column_25': 'Keywords related to networking',\n  'column_26': 'Keywords related to embedded systems',\n  'column_27': 'Keywords related to robotics',\n  'column_28': 'Keywords related to AR/VR',\n  'column_29': 'Keywords related to IoT',\n  'column_30': 'Keywords related to blockchain',\n  'column_31': 'Keywords related to quantum computing',\n  'column_32': 'Keywords related to big data',\n  'column_33': 'Keywords related to artificial intelligence',\n  'column_34': 'Keywords related to natural language processing',\n  'column_35': 'Keywords related to data visualization',\n  'column_36': 'Keywords related to web scraping',\n  'column_37': 'Keywords related to data cleaning',\n  'column_38': 'Keywords related to data transformation',\n  'column_39': 'Keywords related to data modeling',\n  'column_40': 'Keywords related to data storage',\n  'column_41': 'Keywords related to data retrieval',\n  'column_42': 'Keywords related to data integration',\n  'column_43': 'Keywords related to data governance',\n  'column_44': 'Keywords related to data security',\n  'column_45': 'Keywords related to data compliance'\n}\n# Update DataFrame with descriptions\ndf_full_columns_info['description'] = df_full_columns_info['column_name'].map(column_descriptions)\ndf_full_columns_info",
      "outputs": []
    },
    {
      "id": "68e63f29-6d7c-4b48-a15e-0dd64b3999a0",
      "cell_type": "markdown",
      "source": "## Sample Data from data_nerd_jobs Table\nFetching a sample of 100 records from the `data_nerd_jobs` table.",
      "metadata": {
        "noteable": {
          "cell_type": "markdown"
        }
      }
    },
    {
      "id": "c515e563-7349-4378-aa74-334bd3905249",
      "cell_type": "code",
      "metadata": {
        "noteable": {
          "assign_results_to": "sql_df_gjsa",
          "cell_type": "sql",
          "db_connection": "@5a5b9a444479436dbc1def18003d36d0",
          "output_collection_id": "45527e52-7692-4fe0-87e2-e77eb920f054"
        },
        "ExecuteTime": {
          "end_time": "2023-10-27T20:50:13.349382+00:00",
          "start_time": "2023-10-27T20:50:11.618016+00:00"
        },
        "datalink": {
          "8d33bcd7-3137-480a-a9ae-a6b7f018f9ac": {
            "applied_filters": [],
            "dataframe_info": {
              "default_index_used": true,
              "orig_num_cols": 45,
              "orig_num_rows": 100,
              "orig_size_bytes": 36800,
              "truncated_num_cols": 45,
              "truncated_num_rows": 100,
              "truncated_size_bytes": 36800,
              "truncated_string_columns": [
                "job_id",
                "job_description",
                "job_highlights_qualifications",
                "job_highlights_responsibilities",
                "job_highlights_benefits",
                "keywords_all"
              ]
            },
            "display_id": "8d33bcd7-3137-480a-a9ae-a6b7f018f9ac",
            "dx_settings": {
              "ALLOW_NOTEABLE_ATTRS": true,
              "COLUMN_SAMPLING_METHOD": "outer",
              "DB_LOCATION": ":memory:",
              "DEV_MODE": false,
              "DISPLAY_MAX_COLUMNS": 100,
              "DISPLAY_MAX_ROWS": 50000,
              "DISPLAY_MODE": "simple",
              "ENABLE_ASSIGNMENT": true,
              "ENABLE_DATALINK": true,
              "FLATTEN_COLUMN_VALUES": true,
              "FLATTEN_INDEX_VALUES": false,
              "GENERATE_DEX_METADATA": false,
              "HTML_TABLE_SCHEMA": false,
              "LOG_LEVEL": 30,
              "MAX_RENDER_SIZE_BYTES": 104857600,
              "MAX_STRING_LENGTH": 250,
              "NUM_PAST_SAMPLES_TRACKED": 3,
              "RANDOM_STATE": 12648430,
              "RESET_INDEX_VALUES": false,
              "ROW_SAMPLING_METHOD": "random",
              "SAMPLING_FACTOR": 0.1,
              "SAMPLING_METHOD": "random",
              "STRINGIFY_COLUMN_VALUES": true,
              "STRINGIFY_INDEX_VALUES": false
            },
            "sample_history": [],
            "sampling_time": "2023-10-27T20:06:42.778485",
            "user_variable_name": "sql_df_nlkj",
            "variable_name": "sql_df_nlkj"
          },
          "ee6d4c4a-0296-4bdf-ba72-595663a9316e": {
            "applied_filters": [],
            "dataframe_info": {
              "default_index_used": true,
              "orig_num_cols": 45,
              "orig_num_rows": 100,
              "orig_size_bytes": 36800,
              "truncated_num_cols": 45,
              "truncated_num_rows": 100,
              "truncated_size_bytes": 36800,
              "truncated_string_columns": [
                "job_id",
                "job_description",
                "job_highlights_qualifications",
                "job_highlights_responsibilities",
                "job_highlights_benefits",
                "keywords_all"
              ]
            },
            "display_id": "ee6d4c4a-0296-4bdf-ba72-595663a9316e",
            "dx_settings": {
              "ALLOW_NOTEABLE_ATTRS": true,
              "COLUMN_SAMPLING_METHOD": "outer",
              "DB_LOCATION": ":memory:",
              "DEV_MODE": false,
              "DISPLAY_MAX_COLUMNS": 100,
              "DISPLAY_MAX_ROWS": 50000,
              "DISPLAY_MODE": "simple",
              "ENABLE_ASSIGNMENT": true,
              "ENABLE_DATALINK": true,
              "FLATTEN_COLUMN_VALUES": true,
              "FLATTEN_INDEX_VALUES": false,
              "GENERATE_DEX_METADATA": false,
              "HTML_TABLE_SCHEMA": false,
              "LOG_LEVEL": 30,
              "MAX_RENDER_SIZE_BYTES": 104857600,
              "MAX_STRING_LENGTH": 250,
              "NUM_PAST_SAMPLES_TRACKED": 3,
              "RANDOM_STATE": 12648430,
              "RESET_INDEX_VALUES": false,
              "ROW_SAMPLING_METHOD": "random",
              "SAMPLING_FACTOR": 0.1,
              "SAMPLING_METHOD": "random",
              "STRINGIFY_COLUMN_VALUES": true,
              "STRINGIFY_INDEX_VALUES": false
            },
            "sample_history": [],
            "sampling_time": "2023-10-27T20:50:13.164861",
            "user_variable_name": "sql_df_gjsa",
            "variable_name": "sql_df_gjsa"
          }
        }
      },
      "execution_count": null,
      "source": "SELECT * FROM `public_job_listings.data_nerd_jobs` LIMIT 100",
      "outputs": []
    },
    {
      "id": "d9cb3512-09dc-4f5c-8085-6e1c9676b801",
      "cell_type": "markdown",
      "source": "## Column Data Types in data_nerd_jobs Table\nDisplaying the data type of each column in the `data_nerd_jobs` table.",
      "metadata": {
        "noteable": {
          "cell_type": "markdown"
        }
      }
    },
    {
      "id": "cf3adc0a-fab9-44a3-9950-8229679ce899",
      "cell_type": "code",
      "metadata": {
        "noteable": {
          "assign_results_to": "sql_df_xzcw",
          "cell_type": "sql",
          "db_connection": "@5a5b9a444479436dbc1def18003d36d0",
          "output_collection_id": "98bbe213-596f-48ed-ba77-efa84443eeb2"
        },
        "ExecuteTime": {
          "end_time": "2023-10-27T20:50:15.358062+00:00",
          "start_time": "2023-10-27T20:50:13.704460+00:00"
        },
        "datalink": {
          "1f237b04-a780-4da4-b68c-a0289094e419": {
            "applied_filters": [],
            "dataframe_info": {
              "default_index_used": true,
              "orig_num_cols": 2,
              "orig_num_rows": 45,
              "orig_size_bytes": 1080,
              "truncated_num_cols": 2,
              "truncated_num_rows": 45,
              "truncated_size_bytes": 1080,
              "truncated_string_columns": []
            },
            "display_id": "1f237b04-a780-4da4-b68c-a0289094e419",
            "dx_settings": {
              "ALLOW_NOTEABLE_ATTRS": true,
              "COLUMN_SAMPLING_METHOD": "outer",
              "DB_LOCATION": ":memory:",
              "DEV_MODE": false,
              "DISPLAY_MAX_COLUMNS": 100,
              "DISPLAY_MAX_ROWS": 50000,
              "DISPLAY_MODE": "simple",
              "ENABLE_ASSIGNMENT": true,
              "ENABLE_DATALINK": true,
              "FLATTEN_COLUMN_VALUES": true,
              "FLATTEN_INDEX_VALUES": false,
              "GENERATE_DEX_METADATA": false,
              "HTML_TABLE_SCHEMA": false,
              "LOG_LEVEL": 30,
              "MAX_RENDER_SIZE_BYTES": 104857600,
              "MAX_STRING_LENGTH": 250,
              "NUM_PAST_SAMPLES_TRACKED": 3,
              "RANDOM_STATE": 12648430,
              "RESET_INDEX_VALUES": false,
              "ROW_SAMPLING_METHOD": "random",
              "SAMPLING_FACTOR": 0.1,
              "SAMPLING_METHOD": "random",
              "STRINGIFY_COLUMN_VALUES": true,
              "STRINGIFY_INDEX_VALUES": false
            },
            "sample_history": [],
            "sampling_time": "2023-10-27T20:09:18.293083",
            "user_variable_name": "sql_df_xzcw",
            "variable_name": "sql_df_xzcw"
          },
          "e3aefa69-53a5-40cf-81a2-93af24e1500c": {
            "applied_filters": [],
            "dataframe_info": {
              "default_index_used": true,
              "orig_num_cols": 2,
              "orig_num_rows": 45,
              "orig_size_bytes": 1080,
              "truncated_num_cols": 2,
              "truncated_num_rows": 45,
              "truncated_size_bytes": 1080,
              "truncated_string_columns": []
            },
            "display_id": "e3aefa69-53a5-40cf-81a2-93af24e1500c",
            "dx_settings": {
              "ALLOW_NOTEABLE_ATTRS": true,
              "COLUMN_SAMPLING_METHOD": "outer",
              "DB_LOCATION": ":memory:",
              "DEV_MODE": false,
              "DISPLAY_MAX_COLUMNS": 100,
              "DISPLAY_MAX_ROWS": 50000,
              "DISPLAY_MODE": "simple",
              "ENABLE_ASSIGNMENT": true,
              "ENABLE_DATALINK": true,
              "FLATTEN_COLUMN_VALUES": true,
              "FLATTEN_INDEX_VALUES": false,
              "GENERATE_DEX_METADATA": false,
              "HTML_TABLE_SCHEMA": false,
              "LOG_LEVEL": 30,
              "MAX_RENDER_SIZE_BYTES": 104857600,
              "MAX_STRING_LENGTH": 250,
              "NUM_PAST_SAMPLES_TRACKED": 3,
              "RANDOM_STATE": 12648430,
              "RESET_INDEX_VALUES": false,
              "ROW_SAMPLING_METHOD": "random",
              "SAMPLING_FACTOR": 0.1,
              "SAMPLING_METHOD": "random",
              "STRINGIFY_COLUMN_VALUES": true,
              "STRINGIFY_INDEX_VALUES": false
            },
            "sample_history": [],
            "sampling_time": "2023-10-27T20:50:15.200113",
            "user_variable_name": "sql_df_fzex",
            "variable_name": "sql_df_fzex"
          }
        }
      },
      "execution_count": null,
      "source": "SELECT column_name, data_type FROM INFORMATION_SCHEMA.COLUMNS WHERE table_name = 'data_nerd_jobs'",
      "outputs": []
    },
    {
      "id": "4d46b6be-43fe-4ad7-aa10-0f0740686285",
      "cell_type": "markdown",
      "source": "## Bar Graph of job_title_final Column\nCreating a bar graph to visualize the frequency of each job title in the 'job_title_final' column.",
      "metadata": {
        "noteable": {
          "cell_type": "markdown"
        }
      }
    },
    {
      "id": "f7221354-c336-40f9-9a88-bfabb40fd306",
      "cell_type": "code",
      "metadata": {
        "noteable": {
          "assign_results_to": "job_title_data",
          "cell_type": "sql",
          "db_connection": "@5a5b9a444479436dbc1def18003d36d0",
          "output_collection_id": "b8ebdb66-8b57-4885-a672-29442111c236"
        },
        "ExecuteTime": {
          "end_time": "2023-10-27T20:51:42.609032+00:00",
          "start_time": "2023-10-27T20:51:40.930753+00:00"
        },
        "datalink": {
          "34f9145f-14cb-45dc-ad8a-c3be189733ca": {
            "applied_filters": [],
            "dataframe_info": {
              "default_index_used": true,
              "orig_num_cols": 2,
              "orig_num_rows": 10,
              "orig_size_bytes": 240,
              "truncated_num_cols": 2,
              "truncated_num_rows": 10,
              "truncated_size_bytes": 240,
              "truncated_string_columns": []
            },
            "display_id": "34f9145f-14cb-45dc-ad8a-c3be189733ca",
            "dx_settings": {
              "ALLOW_NOTEABLE_ATTRS": true,
              "COLUMN_SAMPLING_METHOD": "outer",
              "DB_LOCATION": ":memory:",
              "DEV_MODE": false,
              "DISPLAY_MAX_COLUMNS": 100,
              "DISPLAY_MAX_ROWS": 50000,
              "DISPLAY_MODE": "simple",
              "ENABLE_ASSIGNMENT": true,
              "ENABLE_DATALINK": true,
              "FLATTEN_COLUMN_VALUES": true,
              "FLATTEN_INDEX_VALUES": false,
              "GENERATE_DEX_METADATA": false,
              "HTML_TABLE_SCHEMA": false,
              "LOG_LEVEL": 30,
              "MAX_RENDER_SIZE_BYTES": 104857600,
              "MAX_STRING_LENGTH": 250,
              "NUM_PAST_SAMPLES_TRACKED": 3,
              "RANDOM_STATE": 12648430,
              "RESET_INDEX_VALUES": false,
              "ROW_SAMPLING_METHOD": "random",
              "SAMPLING_FACTOR": 0.1,
              "SAMPLING_METHOD": "random",
              "STRINGIFY_COLUMN_VALUES": true,
              "STRINGIFY_INDEX_VALUES": false
            },
            "sample_history": [],
            "sampling_time": "2023-10-27T20:13:55.947977",
            "user_variable_name": "job_title_data",
            "variable_name": "job_title_data"
          },
          "2fef52de-1b22-4f5f-a2e2-8faed1ab0771": {
            "applied_filters": [],
            "dataframe_info": {
              "default_index_used": true,
              "orig_num_cols": 2,
              "orig_num_rows": 10,
              "orig_size_bytes": 240,
              "truncated_num_cols": 2,
              "truncated_num_rows": 10,
              "truncated_size_bytes": 240,
              "truncated_string_columns": []
            },
            "display_id": "2fef52de-1b22-4f5f-a2e2-8faed1ab0771",
            "dx_settings": {
              "ALLOW_NOTEABLE_ATTRS": true,
              "COLUMN_SAMPLING_METHOD": "outer",
              "DB_LOCATION": ":memory:",
              "DEV_MODE": false,
              "DISPLAY_MAX_COLUMNS": 100,
              "DISPLAY_MAX_ROWS": 50000,
              "DISPLAY_MODE": "simple",
              "ENABLE_ASSIGNMENT": true,
              "ENABLE_DATALINK": true,
              "FLATTEN_COLUMN_VALUES": true,
              "FLATTEN_INDEX_VALUES": false,
              "GENERATE_DEX_METADATA": false,
              "HTML_TABLE_SCHEMA": false,
              "LOG_LEVEL": 30,
              "MAX_RENDER_SIZE_BYTES": 104857600,
              "MAX_STRING_LENGTH": 250,
              "NUM_PAST_SAMPLES_TRACKED": 3,
              "RANDOM_STATE": 12648430,
              "RESET_INDEX_VALUES": false,
              "ROW_SAMPLING_METHOD": "random",
              "SAMPLING_FACTOR": 0.1,
              "SAMPLING_METHOD": "random",
              "STRINGIFY_COLUMN_VALUES": true,
              "STRINGIFY_INDEX_VALUES": false
            },
            "sample_history": [],
            "sampling_time": "2023-10-27T20:51:42.451098",
            "user_variable_name": "job_title_data",
            "variable_name": "job_title_data"
          }
        }
      },
      "execution_count": null,
      "source": "SELECT job_title_final, COUNT(*) as count FROM `public_job_listings.data_nerd_jobs` GROUP BY job_title_final ORDER BY count DESC LIMIT 10",
      "outputs": []
    },
    {
      "id": "b5e677ff-43c5-48dd-a653-88d9efa6305e",
      "cell_type": "code",
      "metadata": {
        "noteable": {
          "cell_type": "code",
          "output_collection_id": "0e27a20b-a248-4641-9358-fd3fc06412bc"
        },
        "ExecuteTime": {
          "end_time": "2023-10-27T20:51:43.498463+00:00",
          "start_time": "2023-10-27T20:51:43.056643+00:00"
        }
      },
      "execution_count": null,
      "source": "import seaborn as sns\nimport matplotlib.pyplot as plt\n# Set dark theme\nsns.set(style=\"darkgrid\")\nplt.style.use(\"dark_background\")\n# Create the bar graph\nplt.figure(figsize=(12, 8))\nsns.barplot(x='count', y='job_title_final', data=job_title_data, palette='Blues_r')\nplt.title('Top 10 Job Titles')\nplt.xlabel('Count')\nplt.ylabel('Job Title')\nplt.show()",
      "outputs": []
    },
    {
      "id": "4820d725-39c6-4b57-828d-66867321cd8d",
      "cell_type": "markdown",
      "source": "## Heat Map of Job Postings by Country (Excluding USA)\nCreating a heat map to visualize the frequency of job postings in each country based on the 'search_location' column.",
      "metadata": {
        "noteable": {
          "cell_type": "markdown"
        }
      }
    },
    {
      "id": "cada6586-9009-4d45-961a-a84d3ce4389a",
      "cell_type": "code",
      "metadata": {
        "noteable": {
          "assign_results_to": "location_data",
          "cell_type": "sql",
          "db_connection": "@5a5b9a444479436dbc1def18003d36d0",
          "output_collection_id": "a94b6242-4e5f-46a6-b8f1-c2182224b96f"
        },
        "ExecuteTime": {
          "end_time": "2023-10-27T20:50:20.401965+00:00",
          "start_time": "2023-10-27T20:50:18.971565+00:00"
        },
        "datalink": {
          "77f1d89e-fd92-46ca-a8d9-1e609c92b2e5": {
            "applied_filters": [],
            "dataframe_info": {
              "default_index_used": true,
              "orig_num_cols": 2,
              "orig_num_rows": 172,
              "orig_size_bytes": 4128,
              "truncated_num_cols": 2,
              "truncated_num_rows": 172,
              "truncated_size_bytes": 4128,
              "truncated_string_columns": []
            },
            "display_id": "77f1d89e-fd92-46ca-a8d9-1e609c92b2e5",
            "dx_settings": {
              "ALLOW_NOTEABLE_ATTRS": true,
              "COLUMN_SAMPLING_METHOD": "outer",
              "DB_LOCATION": ":memory:",
              "DEV_MODE": false,
              "DISPLAY_MAX_COLUMNS": 100,
              "DISPLAY_MAX_ROWS": 50000,
              "DISPLAY_MODE": "simple",
              "ENABLE_ASSIGNMENT": true,
              "ENABLE_DATALINK": true,
              "FLATTEN_COLUMN_VALUES": true,
              "FLATTEN_INDEX_VALUES": false,
              "GENERATE_DEX_METADATA": false,
              "HTML_TABLE_SCHEMA": false,
              "LOG_LEVEL": 30,
              "MAX_RENDER_SIZE_BYTES": 104857600,
              "MAX_STRING_LENGTH": 250,
              "NUM_PAST_SAMPLES_TRACKED": 3,
              "RANDOM_STATE": 12648430,
              "RESET_INDEX_VALUES": false,
              "ROW_SAMPLING_METHOD": "random",
              "SAMPLING_FACTOR": 0.1,
              "SAMPLING_METHOD": "random",
              "STRINGIFY_COLUMN_VALUES": true,
              "STRINGIFY_INDEX_VALUES": false
            },
            "sample_history": [],
            "sampling_time": "2023-10-27T20:16:02.377403",
            "user_variable_name": "location_data",
            "variable_name": "location_data"
          },
          "ad8c8329-8bff-475d-bd1d-08cacd4e87ab": {
            "applied_filters": [],
            "dataframe_info": {
              "default_index_used": true,
              "orig_num_cols": 2,
              "orig_num_rows": 172,
              "orig_size_bytes": 4128,
              "truncated_num_cols": 2,
              "truncated_num_rows": 172,
              "truncated_size_bytes": 4128,
              "truncated_string_columns": []
            },
            "display_id": "ad8c8329-8bff-475d-bd1d-08cacd4e87ab",
            "dx_settings": {
              "ALLOW_NOTEABLE_ATTRS": true,
              "COLUMN_SAMPLING_METHOD": "outer",
              "DB_LOCATION": ":memory:",
              "DEV_MODE": false,
              "DISPLAY_MAX_COLUMNS": 100,
              "DISPLAY_MAX_ROWS": 50000,
              "DISPLAY_MODE": "simple",
              "ENABLE_ASSIGNMENT": true,
              "ENABLE_DATALINK": true,
              "FLATTEN_COLUMN_VALUES": true,
              "FLATTEN_INDEX_VALUES": false,
              "GENERATE_DEX_METADATA": false,
              "HTML_TABLE_SCHEMA": false,
              "LOG_LEVEL": 30,
              "MAX_RENDER_SIZE_BYTES": 104857600,
              "MAX_STRING_LENGTH": 250,
              "NUM_PAST_SAMPLES_TRACKED": 3,
              "RANDOM_STATE": 12648430,
              "RESET_INDEX_VALUES": false,
              "ROW_SAMPLING_METHOD": "random",
              "SAMPLING_FACTOR": 0.1,
              "SAMPLING_METHOD": "random",
              "STRINGIFY_COLUMN_VALUES": true,
              "STRINGIFY_INDEX_VALUES": false
            },
            "sample_history": [],
            "sampling_time": "2023-10-27T20:50:20.243051",
            "user_variable_name": "location_data",
            "variable_name": "location_data"
          }
        }
      },
      "execution_count": null,
      "source": "SELECT search_location, COUNT(*) as count FROM `public_job_listings.data_nerd_jobs` WHERE search_location IS NOT NULL GROUP BY search_location ORDER BY count DESC",
      "outputs": []
    },
    {
      "id": "a0548026-e1f2-4ebf-ab2b-7c8b9417e7b5",
      "cell_type": "code",
      "metadata": {
        "noteable": {
          "cell_type": "code",
          "output_collection_id": "718c0026-887f-47be-aa5a-44ca01614708"
        },
        "ExecuteTime": {
          "end_time": "2023-10-27T20:50:24.442046+00:00",
          "start_time": "2023-10-27T20:50:23.666115+00:00"
        }
      },
      "execution_count": null,
      "source": "import geopandas as gpd\nimport matplotlib.pyplot as plt\n# Load the world map\nworld = gpd.read_file(gpd.datasets.get_path('naturalearth_lowres'))\n# Merge the world map with the location_data\nworld = world.merge(location_data, how='left', left_on='name', right_on='search_location')\n# Plotting the heat map\nfig, ax = plt.subplots(1, figsize=(15, 10))\nworld.boundary.plot(ax=ax)\nworld.plot(column='count', ax=ax, legend=True, cmap='Blues_r', legend_kwds={'label': 'Job Postings by Country'})\n# Show the plot\nplt.show()",
      "outputs": []
    },
    {
      "id": "7b739790-9b4c-4542-8006-eca50b4f3c40",
      "cell_type": "markdown",
      "source": "## Heat Map of Job Postings by Country (including US)\nCreating a heat map to visualize the frequency of job postings in the 'search_location' column, mapped to countries.",
      "metadata": {
        "noteable": {
          "cell_type": "markdown"
        }
      }
    },
    {
      "id": "eb1601ac-4294-4000-8f24-9c9c0aea497a",
      "cell_type": "code",
      "metadata": {
        "noteable": {
          "assign_results_to": "location_data",
          "cell_type": "sql",
          "db_connection": "@5a5b9a444479436dbc1def18003d36d0",
          "output_collection_id": "e5bf6d7c-0007-4900-b647-96f80ce874e4"
        },
        "ExecuteTime": {
          "end_time": "2023-10-27T20:50:36.691450+00:00",
          "start_time": "2023-10-27T20:50:35.368625+00:00"
        },
        "datalink": {
          "0093ef61-b8ec-495c-b3a9-9eb612fa3c2a": {
            "applied_filters": [],
            "dataframe_info": {
              "default_index_used": true,
              "orig_num_cols": 2,
              "orig_num_rows": 172,
              "orig_size_bytes": 4128,
              "truncated_num_cols": 2,
              "truncated_num_rows": 172,
              "truncated_size_bytes": 4128,
              "truncated_string_columns": []
            },
            "display_id": "0093ef61-b8ec-495c-b3a9-9eb612fa3c2a",
            "dx_settings": {
              "ALLOW_NOTEABLE_ATTRS": true,
              "COLUMN_SAMPLING_METHOD": "outer",
              "DB_LOCATION": ":memory:",
              "DEV_MODE": false,
              "DISPLAY_MAX_COLUMNS": 100,
              "DISPLAY_MAX_ROWS": 50000,
              "DISPLAY_MODE": "simple",
              "ENABLE_ASSIGNMENT": true,
              "ENABLE_DATALINK": true,
              "FLATTEN_COLUMN_VALUES": true,
              "FLATTEN_INDEX_VALUES": false,
              "GENERATE_DEX_METADATA": false,
              "HTML_TABLE_SCHEMA": false,
              "LOG_LEVEL": 30,
              "MAX_RENDER_SIZE_BYTES": 104857600,
              "MAX_STRING_LENGTH": 250,
              "NUM_PAST_SAMPLES_TRACKED": 3,
              "RANDOM_STATE": 12648430,
              "RESET_INDEX_VALUES": false,
              "ROW_SAMPLING_METHOD": "random",
              "SAMPLING_FACTOR": 0.1,
              "SAMPLING_METHOD": "random",
              "STRINGIFY_COLUMN_VALUES": true,
              "STRINGIFY_INDEX_VALUES": false
            },
            "sample_history": [],
            "sampling_time": "2023-10-27T20:26:22.601851",
            "user_variable_name": "location_data",
            "variable_name": "location_data"
          },
          "21c7f4b2-0b2d-4e4c-b575-ce54bd6e5421": {
            "applied_filters": [],
            "dataframe_info": {
              "default_index_used": true,
              "orig_num_cols": 2,
              "orig_num_rows": 172,
              "orig_size_bytes": 4128,
              "truncated_num_cols": 2,
              "truncated_num_rows": 172,
              "truncated_size_bytes": 4128,
              "truncated_string_columns": []
            },
            "display_id": "21c7f4b2-0b2d-4e4c-b575-ce54bd6e5421",
            "dx_settings": {
              "ALLOW_NOTEABLE_ATTRS": true,
              "COLUMN_SAMPLING_METHOD": "outer",
              "DB_LOCATION": ":memory:",
              "DEV_MODE": false,
              "DISPLAY_MAX_COLUMNS": 100,
              "DISPLAY_MAX_ROWS": 50000,
              "DISPLAY_MODE": "simple",
              "ENABLE_ASSIGNMENT": true,
              "ENABLE_DATALINK": true,
              "FLATTEN_COLUMN_VALUES": true,
              "FLATTEN_INDEX_VALUES": false,
              "GENERATE_DEX_METADATA": false,
              "HTML_TABLE_SCHEMA": false,
              "LOG_LEVEL": 30,
              "MAX_RENDER_SIZE_BYTES": 104857600,
              "MAX_STRING_LENGTH": 250,
              "NUM_PAST_SAMPLES_TRACKED": 3,
              "RANDOM_STATE": 12648430,
              "RESET_INDEX_VALUES": false,
              "ROW_SAMPLING_METHOD": "random",
              "SAMPLING_FACTOR": 0.1,
              "SAMPLING_METHOD": "random",
              "STRINGIFY_COLUMN_VALUES": true,
              "STRINGIFY_INDEX_VALUES": false
            },
            "sample_history": [],
            "sampling_time": "2023-10-27T20:50:36.533277",
            "user_variable_name": "location_data",
            "variable_name": "location_data"
          }
        }
      },
      "execution_count": null,
      "source": "SELECT search_location, COUNT(*) as count FROM `public_job_listings.data_nerd_jobs` GROUP BY search_location",
      "outputs": []
    },
    {
      "id": "e24e8cb8-d89b-44e9-bc8a-757ecceca1ff",
      "cell_type": "code",
      "metadata": {
        "noteable": {
          "cell_type": "code",
          "output_collection_id": "7788f132-2056-4e41-a77f-44d9db2b6040"
        },
        "ExecuteTime": {
          "end_time": "2023-10-27T20:50:58.421477+00:00",
          "start_time": "2023-10-27T20:50:57.709604+00:00"
        }
      },
      "execution_count": null,
      "source": "# Check the name used for United States in the world map data\nus_name_in_world = world[world['name'].str.contains('United')]['name'].values[0]\n# Update the location data to match the world map data\nlocation_data_grouped['search_location'] = location_data_grouped['search_location'].apply(lambda x: us_name_in_world if x == 'United States' else x)\n# Merge the world map with the updated location data\nworld_merged = world.set_index('name').join(location_data_grouped.set_index('search_location'))\n# Re-plotting\nfig, ax = plt.subplots(1, figsize=(15, 10))\nworld.boundary.plot(ax=ax, linewidth=1)\nworld_merged.plot(column='count', ax=ax, legend=True, cmap='Blues', missing_kwds={'color': 'black'})\nplt.title('Global Distribution of Job Postings (Fixed)')\nplt.show()",
      "outputs": []
    },
    {
      "id": "08985d12-6537-4718-a5ac-5d2d9a4c186d",
      "cell_type": "markdown",
      "source": "## Bar Graph of job_via Column\nCreating a bar graph to visualize the top 10 sources in the 'job_via' column.",
      "metadata": {
        "noteable": {
          "cell_type": "markdown"
        }
      }
    },
    {
      "id": "449e0089-6166-462f-b38b-1a1760fae611",
      "cell_type": "code",
      "metadata": {
        "noteable": {
          "assign_results_to": "job_via_data",
          "cell_type": "sql",
          "db_connection": "@5a5b9a444479436dbc1def18003d36d0",
          "output_collection_id": "d1abba32-2c1e-45d1-97c8-126a58c09aa7"
        },
        "ExecuteTime": {
          "end_time": "2023-10-27T21:00:51.616003+00:00",
          "start_time": "2023-10-27T21:00:49.667512+00:00"
        },
        "datalink": {
          "72bb20f4-6462-4b7b-aa17-34498a4fc388": {
            "applied_filters": [],
            "dataframe_info": {
              "default_index_used": true,
              "orig_num_cols": 2,
              "orig_num_rows": 10,
              "orig_size_bytes": 240,
              "truncated_num_cols": 2,
              "truncated_num_rows": 10,
              "truncated_size_bytes": 240,
              "truncated_string_columns": []
            },
            "display_id": "72bb20f4-6462-4b7b-aa17-34498a4fc388",
            "dx_settings": {
              "ALLOW_NOTEABLE_ATTRS": true,
              "COLUMN_SAMPLING_METHOD": "outer",
              "DB_LOCATION": ":memory:",
              "DEV_MODE": false,
              "DISPLAY_MAX_COLUMNS": 100,
              "DISPLAY_MAX_ROWS": 50000,
              "DISPLAY_MODE": "simple",
              "ENABLE_ASSIGNMENT": true,
              "ENABLE_DATALINK": true,
              "FLATTEN_COLUMN_VALUES": true,
              "FLATTEN_INDEX_VALUES": false,
              "GENERATE_DEX_METADATA": false,
              "HTML_TABLE_SCHEMA": false,
              "LOG_LEVEL": 30,
              "MAX_RENDER_SIZE_BYTES": 104857600,
              "MAX_STRING_LENGTH": 250,
              "NUM_PAST_SAMPLES_TRACKED": 3,
              "RANDOM_STATE": 12648430,
              "RESET_INDEX_VALUES": false,
              "ROW_SAMPLING_METHOD": "random",
              "SAMPLING_FACTOR": 0.1,
              "SAMPLING_METHOD": "random",
              "STRINGIFY_COLUMN_VALUES": true,
              "STRINGIFY_INDEX_VALUES": false
            },
            "sample_history": [],
            "sampling_time": "2023-10-27T21:00:51.457892",
            "user_variable_name": "job_via_data",
            "variable_name": "job_via_data"
          }
        }
      },
      "execution_count": null,
      "source": "SELECT job_via, COUNT(*) as count FROM `public_job_listings.data_nerd_jobs` GROUP BY job_via ORDER BY count DESC LIMIT 10",
      "outputs": []
    },
    {
      "id": "2f314ff2-ea07-49fe-9264-bf384dac05ec",
      "cell_type": "code",
      "metadata": {
        "noteable": {
          "cell_type": "code",
          "output_collection_id": "c164d17f-6ef6-458a-bcaa-6dcbc11e60c8"
        },
        "ExecuteTime": {
          "end_time": "2023-10-27T21:01:19.482522+00:00",
          "start_time": "2023-10-27T21:01:19.048803+00:00"
        }
      },
      "execution_count": null,
      "source": "import seaborn as sns\nimport matplotlib.pyplot as plt\n# Set dark theme\nsns.set(style=\"darkgrid\")\nplt.style.use(\"dark_background\")\n# Create the bar graph\nplt.figure(figsize=(12, 8))\nsns.barplot(x='count', y='job_via', data=job_via_data, palette='Blues_r')\nplt.title('Top 10 Job Sources')\nplt.xlabel('Count')\nplt.ylabel('Job Source')\nplt.show()",
      "outputs": []
    }
  ]
}