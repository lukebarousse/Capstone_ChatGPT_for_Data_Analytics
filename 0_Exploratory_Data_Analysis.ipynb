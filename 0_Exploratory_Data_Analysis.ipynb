{
  "nbformat": 4,
  "nbformat_minor": 5,
  "metadata": {
    "noteable-chatgpt": {
      "create_notebook": {
        "openai_conversation_id": "ec36fdb3-f33a-5030-8016-a666ab988560",
        "openai_ephemeral_user_id": "6fdb171d-0ee3-5ff3-9a6c-8eaddf3eaf27",
        "openai_subdivision1_iso_code": "US-AR"
      }
    },
    "kernel_info": {
      "name": "python3"
    },
    "kernelspec": {
      "display_name": "Python 3.9",
      "identifier": "legacy",
      "language": "python",
      "language_version": "3.9",
      "name": "python3"
    },
    "selected_hardware_size": "small"
  },
  "cells": [
    {
      "id": "6756516a-1f67-44b7-961d-94ae8e5b31ca",
      "cell_type": "code",
      "metadata": {
        "jupyter": {
          "outputs_hidden": false,
          "source_hidden": false
        },
        "noteable": {
          "cell_type": "code"
        }
      },
      "execution_count": null,
      "source": "",
      "outputs": []
    },
    {
      "id": "172277b4-27a6-44a5-ada4-a5bd907ac6bb",
      "cell_type": "markdown",
      "source": "## SQL Query to Data Nerd Jobs Database\nLet's run a SQL query to fetch data from the 'Data Nerd Jobs' BigQuery database.",
      "metadata": {
        "noteable": {
          "cell_type": "markdown"
        }
      }
    },
    {
      "id": "ebfa9d3c-4c6b-4a36-8af1-f8d59e4c3404",
      "cell_type": "code",
      "metadata": {
        "noteable": {
          "assign_results_to": "sql_df_oruw",
          "cell_type": "sql",
          "db_connection": "@5a5b9a444479436dbc1def18003d36d0",
          "output_collection_id": "384bbfd3-3455-4fb1-b95e-e73eb123043e"
        },
        "ExecuteTime": {
          "end_time": "2023-10-26T21:45:10.770058+00:00",
          "start_time": "2023-10-26T21:45:08.753155+00:00"
        }
      },
      "execution_count": null,
      "source": "SELECT * FROM `your_table` LIMIT 10;",
      "outputs": []
    },
    {
      "id": "8d1e9ae9-c0b1-4a34-bd23-7959f7b0e573",
      "cell_type": "markdown",
      "source": "## List Tables in Data Nerd Jobs Database\nQuery to list all tables available in the 'Data Nerd Jobs' BigQuery database.",
      "metadata": {
        "noteable": {
          "cell_type": "markdown"
        }
      }
    },
    {
      "id": "04c4a370-053b-477f-b251-602f16ab3a43",
      "cell_type": "code",
      "metadata": {
        "noteable": {
          "assign_results_to": "sql_df_tmqw",
          "cell_type": "sql",
          "db_connection": "@5a5b9a444479436dbc1def18003d36d0",
          "output_collection_id": "6c2d116f-cb0d-458e-8449-4fef75dfd81b"
        },
        "ExecuteTime": {
          "end_time": "2023-10-26T21:47:02.848599+00:00",
          "start_time": "2023-10-26T21:47:02.297205+00:00"
        }
      },
      "execution_count": null,
      "source": "SHOW TABLES;",
      "outputs": []
    }
  ]
}