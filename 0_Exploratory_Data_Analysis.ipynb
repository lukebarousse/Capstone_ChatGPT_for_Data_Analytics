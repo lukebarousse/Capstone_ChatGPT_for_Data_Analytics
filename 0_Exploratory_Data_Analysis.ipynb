{
  "nbformat": 4,
  "nbformat_minor": 5,
  "metadata": {
    "noteable-chatgpt": {
      "create_notebook": {
        "openai_conversation_id": "8c02b8a4-ecec-5722-9040-5eefa9555879",
        "openai_ephemeral_user_id": "1b442ed6-ab51-56e0-b3eb-b7780077db80",
        "openai_subdivision1_iso_code": "US-AR"
      }
    },
    "kernel_info": {
      "name": "python3"
    },
    "kernelspec": {
      "display_name": "Python 3.9",
      "identifier": "legacy",
      "language": "python",
      "language_version": "3.9",
      "name": "python3"
    },
    "selected_hardware_size": "small"
  },
  "cells": [
    {
      "id": "17037a4d-3940-48d0-af4b-1acfa0da2f21",
      "cell_type": "code",
      "metadata": {
        "jupyter": {
          "outputs_hidden": false,
          "source_hidden": false
        },
        "noteable": {
          "cell_type": "code"
        }
      },
      "execution_count": null,
      "source": "",
      "outputs": []
    }
  ]
}