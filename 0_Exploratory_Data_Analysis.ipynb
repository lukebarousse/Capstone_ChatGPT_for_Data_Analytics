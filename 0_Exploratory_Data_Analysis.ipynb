{
  "nbformat": 4,
  "nbformat_minor": 5,
  "metadata": {
    "noteable-chatgpt": {
      "create_notebook": {
        "openai_conversation_id": "ad8bcc09-8459-57eb-af6f-85d0df4065cf",
        "openai_ephemeral_user_id": "6fdb171d-0ee3-5ff3-9a6c-8eaddf3eaf27",
        "openai_subdivision1_iso_code": "US-AR"
      }
    },
    "kernel_info": {
      "name": "python3"
    },
    "kernelspec": {
      "display_name": "Python 3.9",
      "identifier": "legacy",
      "language": "python",
      "language_version": "3.9",
      "name": "python3"
    },
    "selected_hardware_size": "small"
  },
  "cells": [
    {
      "id": "218f031e-e945-4534-9474-3ffa78255daf",
      "cell_type": "markdown",
      "source": "## List Tables in BigQuery Database\nExploring tables in the 'Data Nerd Jobs' BigQuery database.",
      "metadata": {
        "noteable": {
          "cell_type": "markdown"
        }
      }
    },
    {
      "id": "79b007fe-2880-4f86-b72f-51cfa7b6d9fd",
      "cell_type": "code",
      "metadata": {
        "noteable": {
          "assign_results_to": "sql_df_izwn",
          "cell_type": "sql",
          "db_connection": "@5a5b9a444479436dbc1def18003d36d0"
        }
      },
      "execution_count": null,
      "source": "SHOW TABLES;",
      "outputs": []
    }
  ]
}