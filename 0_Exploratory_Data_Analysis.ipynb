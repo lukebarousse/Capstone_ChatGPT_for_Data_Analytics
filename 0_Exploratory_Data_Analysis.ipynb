{
  "nbformat": 4,
  "nbformat_minor": 5,
  "metadata": {
    "noteable-chatgpt": {
      "create_notebook": {
        "openai_conversation_id": "ec36fdb3-f33a-5030-8016-a666ab988560",
        "openai_ephemeral_user_id": "6fdb171d-0ee3-5ff3-9a6c-8eaddf3eaf27",
        "openai_subdivision1_iso_code": "US-AR"
      }
    },
    "kernel_info": {
      "name": "python3"
    },
    "kernelspec": {
      "display_name": "Python 3.9",
      "identifier": "legacy",
      "language": "python",
      "language_version": "3.9",
      "name": "python3"
    },
    "selected_hardware_size": "small"
  },
  "cells": [
    {
      "id": "6756516a-1f67-44b7-961d-94ae8e5b31ca",
      "cell_type": "code",
      "metadata": {
        "jupyter": {
          "outputs_hidden": false,
          "source_hidden": false
        },
        "noteable": {
          "cell_type": "code"
        }
      },
      "execution_count": null,
      "source": "",
      "outputs": []
    },
    {
      "id": "172277b4-27a6-44a5-ada4-a5bd907ac6bb",
      "cell_type": "markdown",
      "source": "## SQL Query to Data Nerd Jobs Database\nLet's run a SQL query to fetch data from the 'Data Nerd Jobs' BigQuery database.",
      "metadata": {
        "noteable": {
          "cell_type": "markdown"
        }
      }
    },
    {
      "id": "ebfa9d3c-4c6b-4a36-8af1-f8d59e4c3404",
      "cell_type": "code",
      "metadata": {
        "noteable": {
          "assign_results_to": "sql_df_oruw",
          "cell_type": "sql",
          "db_connection": "@5a5b9a444479436dbc1def18003d36d0",
          "output_collection_id": "384bbfd3-3455-4fb1-b95e-e73eb123043e"
        },
        "ExecuteTime": {
          "end_time": "2023-10-26T21:45:10.770058+00:00",
          "start_time": "2023-10-26T21:45:08.753155+00:00"
        }
      },
      "execution_count": null,
      "source": "SELECT * FROM `your_table` LIMIT 10;",
      "outputs": []
    },
    {
      "id": "8d1e9ae9-c0b1-4a34-bd23-7959f7b0e573",
      "cell_type": "markdown",
      "source": "## List Tables in Data Nerd Jobs Database\nQuery to list all tables available in the 'Data Nerd Jobs' BigQuery database.",
      "metadata": {
        "noteable": {
          "cell_type": "markdown"
        }
      }
    },
    {
      "id": "04c4a370-053b-477f-b251-602f16ab3a43",
      "cell_type": "code",
      "metadata": {
        "noteable": {
          "assign_results_to": "sql_df_tmqw",
          "cell_type": "sql",
          "db_connection": "@5a5b9a444479436dbc1def18003d36d0",
          "output_collection_id": "b91ff6e6-6df5-47f3-ad69-7e900391c753"
        },
        "ExecuteTime": {
          "end_time": "2023-10-26T21:47:57.655401+00:00",
          "start_time": "2023-10-26T21:47:57.074070+00:00"
        }
      },
      "execution_count": null,
      "source": "SELECT * FROM `your_project_id.your_dataset_id.INFORMATION_SCHEMA.TABLES`;",
      "outputs": []
    },
    {
      "id": "c30db5d5-b28a-46cc-93c0-d32f8dde5602",
      "cell_type": "markdown",
      "source": "## List Tables in Data Nerd Jobs Database\nWe'll use BigQuery syntax to find out what tables are available in the 'Data Nerd Jobs' database.",
      "metadata": {
        "noteable": {
          "cell_type": "markdown"
        }
      }
    },
    {
      "id": "f104573c-e966-4235-8b38-a89642152d50",
      "cell_type": "code",
      "metadata": {
        "noteable": {
          "assign_results_to": "sql_df_roqw",
          "cell_type": "sql",
          "db_connection": "@5a5b9a444479436dbc1def18003d36d0",
          "output_collection_id": "1d624e41-f91a-4357-93e0-53d52d933bd1"
        },
        "ExecuteTime": {
          "end_time": "2023-10-26T21:52:13.718601+00:00",
          "start_time": "2023-10-26T21:52:13.142474+00:00"
        }
      },
      "execution_count": null,
      "source": "SHOW TABLES IN `@5a5b9a444479436dbc1def18003d36d0`;",
      "outputs": []
    },
    {
      "id": "998e2625-50a6-4412-9dc1-568225923a68",
      "cell_type": "markdown",
      "source": "## List Tables in BigQuery Database\nLet's find out what tables are available in the 'Data Nerd Jobs' BigQuery database.",
      "metadata": {
        "noteable": {
          "cell_type": "markdown"
        }
      }
    },
    {
      "id": "c96d4c53-8603-4f78-81d2-39e7b9648ba3",
      "cell_type": "code",
      "metadata": {
        "noteable": {
          "assign_results_to": "sql_df_fkod",
          "cell_type": "sql",
          "db_connection": "@5a5b9a444479436dbc1def18003d36d0",
          "output_collection_id": "a43b9942-baa9-4307-a60e-a8067428e396"
        },
        "ExecuteTime": {
          "end_time": "2023-10-26T21:55:12.059298+00:00",
          "start_time": "2023-10-26T21:55:11.542996+00:00"
        }
      },
      "execution_count": null,
      "source": "SHOW TABLES;",
      "outputs": []
    }
  ]
}