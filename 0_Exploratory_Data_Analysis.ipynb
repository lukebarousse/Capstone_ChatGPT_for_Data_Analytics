{
  "nbformat": 4,
  "nbformat_minor": 5,
  "metadata": {
    "noteable-chatgpt": {
      "create_notebook": {
        "openai_conversation_id": "ec36fdb3-f33a-5030-8016-a666ab988560",
        "openai_ephemeral_user_id": "6fdb171d-0ee3-5ff3-9a6c-8eaddf3eaf27",
        "openai_subdivision1_iso_code": "US-AR"
      }
    },
    "kernel_info": {
      "name": "python3"
    },
    "kernelspec": {
      "display_name": "Python 3.9",
      "identifier": "legacy",
      "language": "python",
      "language_version": "3.9",
      "name": "python3"
    },
    "selected_hardware_size": "small"
  },
  "cells": [
    {
      "id": "6756516a-1f67-44b7-961d-94ae8e5b31ca",
      "cell_type": "code",
      "metadata": {
        "jupyter": {
          "outputs_hidden": false,
          "source_hidden": false
        },
        "noteable": {
          "cell_type": "code"
        }
      },
      "execution_count": null,
      "source": "",
      "outputs": []
    },
    {
      "id": "172277b4-27a6-44a5-ada4-a5bd907ac6bb",
      "cell_type": "markdown",
      "source": "## SQL Query to Data Nerd Jobs Database\nLet's run a SQL query to fetch data from the 'Data Nerd Jobs' BigQuery database.",
      "metadata": {
        "noteable": {
          "cell_type": "markdown"
        }
      }
    },
    {
      "id": "ebfa9d3c-4c6b-4a36-8af1-f8d59e4c3404",
      "cell_type": "code",
      "metadata": {
        "noteable": {
          "assign_results_to": "sql_df_oruw",
          "cell_type": "sql",
          "db_connection": "@5a5b9a444479436dbc1def18003d36d0"
        }
      },
      "execution_count": null,
      "source": "SELECT * FROM `your_table` LIMIT 10;",
      "outputs": []
    }
  ]
}