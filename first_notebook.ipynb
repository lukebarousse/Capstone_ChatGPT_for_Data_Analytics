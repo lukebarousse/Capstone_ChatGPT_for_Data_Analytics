{
  "nbformat": 4,
  "nbformat_minor": 5,
  "metadata": {
    "kernel_info": {
      "name": "python3.9-noteable"
    },
    "kernelspec": {
      "display_name": "Python 3.9 (Noteable)",
      "identifier": "noteable",
      "language": "python",
      "language_version": "3.9",
      "name": "python3.9-noteable"
    },
    "selected_hardware_size": "small"
  },
  "cells": [
    {
      "id": "eda6845b",
      "cell_type": "code",
      "metadata": {
        "noteable": {
          "output_collection_id": "a26fc9d4-4efb-4228-bf46-1847eed5aea3"
        },
        "ExecuteTime": {
          "end_time": "2023-10-25T21:28:57.851781+00:00",
          "start_time": "2023-10-25T21:28:57.695791+00:00"
        }
      },
      "execution_count": null,
      "source": "print(\"hello world\")",
      "outputs": []
    },
    {
      "id": "6fa62479-50a8-4766-a024-0d1585d93fad",
      "cell_type": "code",
      "metadata": {
        "jupyter": {
          "outputs_hidden": false,
          "source_hidden": false
        },
        "noteable": {
          "cell_type": "code",
          "output_collection_id": "4915683d-4192-424c-9937-037e10174fad"
        },
        "ExecuteTime": {
          "end_time": "2023-10-25T22:15:02.016696+00:00",
          "start_time": "2023-10-25T22:15:01.862951+00:00"
        }
      },
      "execution_count": null,
      "source": "df = \"hello\"",
      "outputs": []
    },
    {
      "id": "ac42cfeb-ddcb-4704-976d-bc03f7f424dc",
      "cell_type": "code",
      "metadata": {
        "noteable": {
          "assign_results_to": "sql_df_1",
          "cell_type": "sql",
          "db_connection": "@5a5b9a444479436dbc1def18003d36d0",
          "output_collection_id": "6e4c8c97-aeba-468f-a90b-f8aa65b1cf97"
        },
        "ExecuteTime": {
          "end_time": "2023-10-25T22:16:33.947929+00:00",
          "start_time": "2023-10-25T22:16:32.206984+00:00"
        },
        "datalink": {
          "42b95593-334b-45eb-b5d0-875f88d4f393": {
            "applied_filters": [],
            "dataframe_info": {
              "default_index_used": true,
              "orig_num_cols": 3,
              "orig_num_rows": 1,
              "orig_size_bytes": 32,
              "truncated_num_cols": 3,
              "truncated_num_rows": 1,
              "truncated_size_bytes": 32,
              "truncated_string_columns": []
            },
            "display_id": "42b95593-334b-45eb-b5d0-875f88d4f393",
            "dx_settings": {
              "ALLOW_NOTEABLE_ATTRS": true,
              "COLUMN_SAMPLING_METHOD": "outer",
              "DB_LOCATION": ":memory:",
              "DEV_MODE": false,
              "DISPLAY_MAX_COLUMNS": 100,
              "DISPLAY_MAX_ROWS": 50000,
              "DISPLAY_MODE": "simple",
              "ENABLE_ASSIGNMENT": true,
              "ENABLE_DATALINK": true,
              "FLATTEN_COLUMN_VALUES": true,
              "FLATTEN_INDEX_VALUES": false,
              "GENERATE_DEX_METADATA": false,
              "HTML_TABLE_SCHEMA": false,
              "LOG_LEVEL": 30,
              "MAX_RENDER_SIZE_BYTES": 104857600,
              "MAX_STRING_LENGTH": 250,
              "NUM_PAST_SAMPLES_TRACKED": 3,
              "RANDOM_STATE": 12648430,
              "RESET_INDEX_VALUES": false,
              "ROW_SAMPLING_METHOD": "random",
              "SAMPLING_FACTOR": 0.1,
              "SAMPLING_METHOD": "random",
              "STRINGIFY_COLUMN_VALUES": true,
              "STRINGIFY_INDEX_VALUES": false
            },
            "sample_history": [],
            "sampling_time": "2023-10-25T22:16:33.785363",
            "user_variable_name": null,
            "variable_name": "unk_dataframe_ac9a040f39b943ecbc2425ea74c9a90c"
          }
        }
      },
      "execution_count": null,
      "source": "-- Execute this cell to return the list of tables\n-- and views within the default schema of this database\n-- (Use \\help to learn more options)\n\n\\list",
      "outputs": []
    },
    {
      "id": "c4016175-8ff5-4718-8187-a7aefc1c8e53",
      "cell_type": "code",
      "metadata": {
        "noteable": {
          "assign_results_to": "sql_df_2",
          "cell_type": "sql",
          "db_connection": "@5a5b9a444479436dbc1def18003d36d0",
          "output_collection_id": "0babe007-e137-4638-8978-4a51df6208ed"
        },
        "ExecuteTime": {
          "end_time": "2023-10-25T22:18:00.030139+00:00",
          "start_time": "2023-10-25T22:17:59.652291+00:00"
        }
      },
      "execution_count": null,
      "source": "-- Edit the table or view name below and execute this cell\n-- to return the definition of the relation\n-- (Use \\help to learn more options)\n\n\\describe public_job_listings.data_nerd_jobs",
      "outputs": []
    },
    {
      "id": "5acb1549-270e-48df-8035-2a05e880bf40",
      "cell_type": "code",
      "metadata": {
        "noteable": {
          "assign_results_to": "sql_df_3",
          "cell_type": "sql",
          "db_connection": "@5a5b9a444479436dbc1def18003d36d0",
          "output_collection_id": "c08dced9-3a16-43dc-90a7-41648d270470"
        },
        "ExecuteTime": {
          "end_time": "2023-10-25T22:18:34.257312+00:00",
          "start_time": "2023-10-25T22:18:33.877557+00:00"
        }
      },
      "execution_count": null,
      "source": "-- Edit the table or view name below and execute this cell\n-- to return the definition of the relation\n-- (Use \\help to learn more options)\n\n\\describe data_nerd_jobs",
      "outputs": []
    }
  ]
}