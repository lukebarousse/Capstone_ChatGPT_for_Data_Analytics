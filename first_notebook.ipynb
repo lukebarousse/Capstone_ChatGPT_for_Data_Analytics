{
  "nbformat": 4,
  "nbformat_minor": 5,
  "metadata": {
    "kernel_info": {
      "name": "python3.9-noteable"
    },
    "kernelspec": {
      "display_name": "Python 3.9 (Noteable)",
      "identifier": "noteable",
      "language": "python",
      "language_version": "3.9",
      "name": "python3.9-noteable"
    },
    "selected_hardware_size": "small"
  },
  "cells": [
    {
      "id": "eda6845b",
      "cell_type": "code",
      "metadata": {
        "noteable": {
          "output_collection_id": "a26fc9d4-4efb-4228-bf46-1847eed5aea3"
        },
        "ExecuteTime": {
          "end_time": "2023-10-25T21:28:57.851781+00:00",
          "start_time": "2023-10-25T21:28:57.695791+00:00"
        }
      },
      "execution_count": null,
      "source": "print(\"hello world\")",
      "outputs": []
    }
  ]
}